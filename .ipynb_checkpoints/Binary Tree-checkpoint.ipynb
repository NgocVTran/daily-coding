{
 "cells": [
  {
   "cell_type": "code",
   "execution_count": 1,
   "metadata": {},
   "outputs": [],
   "source": [
    "# Definition for a binary tree node.\n",
    "class TreeNode:\n",
    "    def __init__(self, val=0, left=None, right=None):\n",
    "        self.val = val\n",
    "        self.left = left\n",
    "        self.right = right"
   ]
  },
  {
   "cell_type": "code",
   "execution_count": null,
   "metadata": {},
   "outputs": [],
   "source": []
  },
  {
   "cell_type": "code",
   "execution_count": 7,
   "metadata": {},
   "outputs": [],
   "source": [
    "def BST_Insert(root, node):     # root --> root of tree or subtree!\n",
    "    if root.val is None:\n",
    "        root = node             # beginning of tree\n",
    "    else:\n",
    "        if root.val > node.val:     # go to left\n",
    "            if root.left is None:\n",
    "                root.left = node\n",
    "            else:\n",
    "                BST_Insert(root.left, node)\n",
    "\n",
    "        if root.val < node.val:    # go to right\n",
    "            if root.right is None:\n",
    "                root.right = node\n",
    "            else:\n",
    "                BST_Insert(root.right, node)"
   ]
  },
  {
   "cell_type": "code",
   "execution_count": 8,
   "metadata": {},
   "outputs": [],
   "source": [
    "r = TreeNode(4)\n",
    "# left\n",
    "a = TreeNode(2)\n",
    "b = TreeNode(1)\n",
    "c = TreeNode(3)\n",
    "# right\n",
    "d = TreeNode(8)\n",
    "e = TreeNode(6)\n",
    "f = TreeNode(10)\n",
    "\n",
    "BST_Insert(r, a)\n",
    "BST_Insert(r, b)\n",
    "BST_Insert(r, c)\n",
    "BST_Insert(r, d)\n",
    "BST_Insert(r, e)\n",
    "BST_Insert(r, f)"
   ]
  },
  {
   "cell_type": "code",
   "execution_count": 9,
   "metadata": {},
   "outputs": [],
   "source": [
    "def BST_size(root, count = 0):\n",
    "    if root is None:\n",
    "        return count\n",
    "\n",
    "    return BST_size(root.left, BST_size(root.right, count + 1))"
   ]
  },
  {
   "cell_type": "code",
   "execution_count": 10,
   "metadata": {},
   "outputs": [
    {
     "data": {
      "text/plain": [
       "7"
      ]
     },
     "execution_count": 10,
     "metadata": {},
     "output_type": "execute_result"
    }
   ],
   "source": [
    "BST_size(r)"
   ]
  },
  {
   "cell_type": "code",
   "execution_count": null,
   "metadata": {},
   "outputs": [],
   "source": []
  }
 ],
 "metadata": {
  "kernelspec": {
   "display_name": "Python 3",
   "language": "python",
   "name": "python3"
  },
  "language_info": {
   "codemirror_mode": {
    "name": "ipython",
    "version": 3
   },
   "file_extension": ".py",
   "mimetype": "text/x-python",
   "name": "python",
   "nbconvert_exporter": "python",
   "pygments_lexer": "ipython3",
   "version": "3.7.5"
  }
 },
 "nbformat": 4,
 "nbformat_minor": 4
}
