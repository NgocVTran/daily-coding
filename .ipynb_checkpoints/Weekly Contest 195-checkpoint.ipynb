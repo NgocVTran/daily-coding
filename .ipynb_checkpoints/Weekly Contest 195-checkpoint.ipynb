{
 "cells": [
  {
   "cell_type": "markdown",
   "metadata": {},
   "source": [
    "5448. Path Crossing\n",
    "User Accepted:1328\n",
    "User Tried:1718\n",
    "Total Accepted:1778\n",
    "Total Submissions:3072\n",
    "Difficulty:Easy\n",
    "Given a string path, where path[i] = 'N', 'S', 'E' or 'W', each representing moving one unit north, south, east, or west, respectively. You start at the origin (0, 0) on a 2D plane and walk on the path specified by path.\n",
    "\n",
    "Return True if the path crosses itself at any point, that is, if at any time you are on a location you've previously visited. Return False otherwise.\n",
    "\n",
    " \n",
    "\n",
    "Example 1:\n",
    "\n",
    "\n",
    "\n",
    "Input: path = \"NES\"\n",
    "Output: false \n",
    "Explanation: Notice that the path doesn't cross any point more than once.\n",
    "Example 2:\n",
    "\n",
    "\n",
    "\n",
    "Input: path = \"NESWW\"\n",
    "Output: true\n",
    "Explanation: Notice that the path visits the origin twice."
   ]
  },
  {
   "cell_type": "code",
   "execution_count": 33,
   "metadata": {},
   "outputs": [],
   "source": [
    "path = \"NES\"\n",
    "# path = \"NESWW\""
   ]
  },
  {
   "cell_type": "code",
   "execution_count": null,
   "metadata": {},
   "outputs": [],
   "source": []
  },
  {
   "cell_type": "code",
   "execution_count": 9,
   "metadata": {},
   "outputs": [],
   "source": []
  },
  {
   "cell_type": "code",
   "execution_count": 3,
   "metadata": {},
   "outputs": [],
   "source": [
    "start = (0,0)"
   ]
  },
  {
   "cell_type": "code",
   "execution_count": 7,
   "metadata": {},
   "outputs": [
    {
     "data": {
      "text/plain": [
       "1"
      ]
     },
     "execution_count": 7,
     "metadata": {},
     "output_type": "execute_result"
    }
   ],
   "source": [
    "start[0]+1"
   ]
  },
  {
   "cell_type": "code",
   "execution_count": 8,
   "metadata": {},
   "outputs": [
    {
     "data": {
      "text/plain": [
       "(0, 0)"
      ]
     },
     "execution_count": 8,
     "metadata": {},
     "output_type": "execute_result"
    }
   ],
   "source": [
    "start"
   ]
  },
  {
   "cell_type": "code",
   "execution_count": 25,
   "metadata": {},
   "outputs": [],
   "source": [
    "visited = []"
   ]
  },
  {
   "cell_type": "code",
   "execution_count": 26,
   "metadata": {},
   "outputs": [],
   "source": [
    "current = [0,0]\n",
    "visited.append(current)"
   ]
  },
  {
   "cell_type": "code",
   "execution_count": 27,
   "metadata": {},
   "outputs": [],
   "source": [
    "for p in path:\n",
    "    if p == \"N\":\n",
    "        current = [current[0], current[1]+1]\n",
    "        visited.append(current)\n",
    "    if p == \"S\":\n",
    "        current = [current[0], current[1]-1]\n",
    "        visited.append(current)\n",
    "    if p == \"W\":\n",
    "        current = [current[0]-1, current[1]]\n",
    "        visited.append(current)\n",
    "    if p == \"E\":\n",
    "        current = [current[0]+1, current[1]]\n",
    "        visited.append(current)\n"
   ]
  },
  {
   "cell_type": "code",
   "execution_count": 28,
   "metadata": {},
   "outputs": [
    {
     "data": {
      "text/plain": [
       "[[0, 0], [0, 1], [1, 1], [1, 0], [0, 0], [-1, 0]]"
      ]
     },
     "execution_count": 28,
     "metadata": {},
     "output_type": "execute_result"
    }
   ],
   "source": [
    "visited"
   ]
  },
  {
   "cell_type": "code",
   "execution_count": 30,
   "metadata": {},
   "outputs": [],
   "source": [
    "if [0,2] in visited:\n",
    "    print(\"in\")"
   ]
  },
  {
   "cell_type": "code",
   "execution_count": 31,
   "metadata": {},
   "outputs": [],
   "source": [
    "def isPathCrossing(path):\n",
    "    visited = []\n",
    "    \n",
    "    current = [0,0]\n",
    "    visited.append(current)\n",
    "    \n",
    "    for p in path:\n",
    "        if p == \"N\":\n",
    "            current = [current[0], current[1]+1]\n",
    "            if current in visited:\n",
    "                return True\n",
    "            else:\n",
    "                visited.append(current)\n",
    "        if p == \"S\":\n",
    "            current = [current[0], current[1]-1]\n",
    "            if current in visited:\n",
    "                return True\n",
    "            else:\n",
    "                visited.append(current)\n",
    "        if p == \"W\":\n",
    "            current = [current[0]-1, current[1]]\n",
    "            if current in visited:\n",
    "                return True\n",
    "            else:\n",
    "                visited.append(current)\n",
    "        if p == \"E\":\n",
    "            current = [current[0]+1, current[1]]\n",
    "            if current in visited:\n",
    "                return True\n",
    "            else:\n",
    "                visited.append(current)\n",
    "\n",
    "    return False"
   ]
  },
  {
   "cell_type": "code",
   "execution_count": 35,
   "metadata": {},
   "outputs": [],
   "source": [
    "path = \"NESWW\""
   ]
  },
  {
   "cell_type": "code",
   "execution_count": 36,
   "metadata": {},
   "outputs": [
    {
     "data": {
      "text/plain": [
       "True"
      ]
     },
     "execution_count": 36,
     "metadata": {},
     "output_type": "execute_result"
    }
   ],
   "source": [
    "isPathCrossing(path)"
   ]
  },
  {
   "cell_type": "code",
   "execution_count": null,
   "metadata": {},
   "outputs": [],
   "source": []
  },
  {
   "cell_type": "code",
   "execution_count": null,
   "metadata": {},
   "outputs": [],
   "source": []
  },
  {
   "cell_type": "code",
   "execution_count": null,
   "metadata": {},
   "outputs": [],
   "source": [
    "# 5449. Check If Array Pairs Are Divisible by k"
   ]
  },
  {
   "cell_type": "code",
   "execution_count": null,
   "metadata": {},
   "outputs": [],
   "source": [
    "class Solution:\n",
    "    def canArrange(self, arr: List[int], k: int) -> bool:\n",
    "        if sum(arr)%k == 0:\n",
    "            return True\n",
    "        else: \n",
    "            return False"
   ]
  },
  {
   "cell_type": "code",
   "execution_count": 37,
   "metadata": {},
   "outputs": [],
   "source": [
    "def canArrange(arr):\n",
    "    if sum(arr)%k == 0:\n",
    "        return True\n",
    "    else: \n",
    "        return False"
   ]
  },
  {
   "cell_type": "code",
   "execution_count": null,
   "metadata": {},
   "outputs": [],
   "source": []
  },
  {
   "cell_type": "code",
   "execution_count": null,
   "metadata": {},
   "outputs": [],
   "source": []
  },
  {
   "cell_type": "code",
   "execution_count": 90,
   "metadata": {},
   "outputs": [],
   "source": [
    "def n_length_combo(lst, n): \n",
    "    if n == 0: \n",
    "        return [[]] \n",
    "    l =[] \n",
    "    for i in range(0, len(lst)): \n",
    "        m = lst[i] \n",
    "        remLst = lst[i + 1:] \n",
    "        for p in n_length_combo(remLst, n-1): \n",
    "            l.append([m]+p) \n",
    "            \n",
    "    return l "
   ]
  },
  {
   "cell_type": "code",
   "execution_count": 91,
   "metadata": {},
   "outputs": [
    {
     "data": {
      "text/plain": [
       "[[3, 5], [3, 6], [3, 7], [5, 6], [5, 7], [6, 7]]"
      ]
     },
     "execution_count": 91,
     "metadata": {},
     "output_type": "execute_result"
    }
   ],
   "source": [
    "n_length_combo([3,5,6,7], 2)"
   ]
  },
  {
   "cell_type": "code",
   "execution_count": 64,
   "metadata": {},
   "outputs": [],
   "source": [
    "# nums = [3,5,6,7]\n",
    "# target = 9\n",
    "\n",
    "nums = [3,3,6,8]\n",
    "target = 10"
   ]
  },
  {
   "cell_type": "code",
   "execution_count": 65,
   "metadata": {},
   "outputs": [
    {
     "data": {
      "text/plain": [
       "[3, 3, 6, 8]"
      ]
     },
     "execution_count": 65,
     "metadata": {},
     "output_type": "execute_result"
    }
   ],
   "source": [
    "smaller_nr = [n for n in nums if n<target]\n",
    "smaller_nr"
   ]
  },
  {
   "cell_type": "code",
   "execution_count": 80,
   "metadata": {},
   "outputs": [],
   "source": [
    "result = []"
   ]
  },
  {
   "cell_type": "code",
   "execution_count": 81,
   "metadata": {},
   "outputs": [],
   "source": [
    "for i in range(len(smaller_nr)+1):\n",
    "    lst = n_length_combo(smaller_nr, i)\n",
    "    for l in lst:\n",
    "        if l and ((min(l)+ max(l))<=target):\n",
    "            result.append(l)"
   ]
  },
  {
   "cell_type": "code",
   "execution_count": 82,
   "metadata": {},
   "outputs": [
    {
     "data": {
      "text/plain": [
       "[[3], [3], [3, 3], [3, 6], [3, 6], [3, 3, 6]]"
      ]
     },
     "execution_count": 82,
     "metadata": {},
     "output_type": "execute_result"
    }
   ],
   "source": [
    "result"
   ]
  },
  {
   "cell_type": "code",
   "execution_count": 83,
   "metadata": {},
   "outputs": [
    {
     "data": {
      "text/plain": [
       "6"
      ]
     },
     "execution_count": 83,
     "metadata": {},
     "output_type": "execute_result"
    }
   ],
   "source": [
    "len(result)"
   ]
  },
  {
   "cell_type": "code",
   "execution_count": null,
   "metadata": {},
   "outputs": [],
   "source": []
  }
 ],
 "metadata": {
  "kernelspec": {
   "display_name": "Python 3",
   "language": "python",
   "name": "python3"
  },
  "language_info": {
   "codemirror_mode": {
    "name": "ipython",
    "version": 3
   },
   "file_extension": ".py",
   "mimetype": "text/x-python",
   "name": "python",
   "nbconvert_exporter": "python",
   "pygments_lexer": "ipython3",
   "version": "3.7.5"
  }
 },
 "nbformat": 4,
 "nbformat_minor": 4
}
