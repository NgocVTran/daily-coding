{
 "cells": [
  {
   "cell_type": "markdown",
   "metadata": {},
   "source": [
    "Input: prices = [8,4,6,2,3]\n",
    "Output: [4,2,4,2,3]\n",
    "\n",
    "\n",
    "Explanation: \n",
    "\n",
    "For item 0 with price[0]=8 you will receive a discount equivalent to prices[1]=4, therefore, the final price you will pay is 8 - 4 = 4. \n",
    "\n",
    "For item 1 with price[1]=4 you will receive a discount equivalent to prices[3]=2, therefore, the final price you will pay is 4 - 2 = 2. \n",
    "\n",
    "For item 2 with price[2]=6 you will receive a discount equivalent to prices[3]=2, therefore, the final price you will pay is 6 - 2 = 4. \n",
    "\n",
    "For items 3 and 4 you will not receive any discount at all."
   ]
  },
  {
   "cell_type": "code",
   "execution_count": null,
   "metadata": {},
   "outputs": [],
   "source": [
    "# prices = [8,4,6,2,3] # [4,2,4,2,3]\n",
    "# prices = [1,2,3,4,5]\n",
    "# prices = [10,1,1,6]\n",
    "prices = [4,7,1,9,4,8,8,9,4] # [3,6,1,5,0,0,4,5,4]"
   ]
  },
  {
   "cell_type": "code",
   "execution_count": null,
   "metadata": {},
   "outputs": [],
   "source": []
  },
  {
   "cell_type": "code",
   "execution_count": null,
   "metadata": {},
   "outputs": [],
   "source": [
    "result = []\n",
    "\n",
    "i = 0\n",
    "n = len(prices)\n",
    "\n",
    "\n",
    "while i<n:\n",
    "    \n",
    "    for j in range(i+1, len(prices)):\n",
    "        b = False        \n",
    "        if prices[j]<=prices[i]:\n",
    "            print(i,j)\n",
    "            result.append(prices[i] - prices[j])\n",
    "            b = True\n",
    "            break\n",
    "    if b==False:\n",
    "        result.append(prices[i])\n",
    "        \n",
    "    i = i+1"
   ]
  },
  {
   "cell_type": "code",
   "execution_count": null,
   "metadata": {},
   "outputs": [],
   "source": [
    "result"
   ]
  },
  {
   "cell_type": "code",
   "execution_count": null,
   "metadata": {},
   "outputs": [],
   "source": [
    "m = len(result)\n",
    "m"
   ]
  },
  {
   "cell_type": "code",
   "execution_count": null,
   "metadata": {},
   "outputs": [],
   "source": [
    "result = result + prices[m:]\n",
    "result"
   ]
  },
  {
   "cell_type": "code",
   "execution_count": null,
   "metadata": {},
   "outputs": [],
   "source": []
  },
  {
   "cell_type": "code",
   "execution_count": null,
   "metadata": {},
   "outputs": [],
   "source": [
    "# arr = [3,2,2,4,3]\n",
    "# target = 3\n",
    "# # Output: 2 - [[3], [3]]\n",
    "\n",
    "# arr = [3, 3, 9, 8, 4, 5, 7, 10]\n",
    "arr = [3, 3, 1,1, 8, 4, 5, 7, 10]\n",
    "target = 15"
   ]
  },
  {
   "cell_type": "code",
   "execution_count": null,
   "metadata": {},
   "outputs": [],
   "source": [
    "import itertools\n",
    "numbers = [1, 2, 3, 7, 7, 9, 10]"
   ]
  },
  {
   "cell_type": "code",
   "execution_count": null,
   "metadata": {},
   "outputs": [],
   "source": [
    "result = []\n",
    "for i in range(len(numbers), 0, -1):\n",
    "    for seq in itertools.combinations(numbers, i):\n",
    "        if sum(seq) == 10:\n",
    "            result.append(seq)\n",
    "print(result)"
   ]
  },
  {
   "cell_type": "code",
   "execution_count": null,
   "metadata": {},
   "outputs": [],
   "source": [
    "def get_partial(arr, target):\n",
    "    i = 0\n",
    "    partial = []\n",
    "    \n",
    "    while i<len(arr):\n",
    "        \n",
    "        if arr[i]<=target:\n",
    "            partial.append(arr[i])\n",
    "            target = target - arr[i]\n",
    "            \n",
    "        i = i+1\n",
    "    \n",
    "    print(partial)\n",
    "    return partial"
   ]
  },
  {
   "cell_type": "code",
   "execution_count": null,
   "metadata": {},
   "outputs": [],
   "source": [
    "get_partial(arr, target)"
   ]
  },
  {
   "cell_type": "code",
   "execution_count": null,
   "metadata": {},
   "outputs": [],
   "source": [
    "for i in range(len(arr)):\n",
    "    remaining = arr[i+1:]\n",
    "    get_partial(remaining, target)"
   ]
  },
  {
   "cell_type": "code",
   "execution_count": 20,
   "metadata": {},
   "outputs": [],
   "source": [
    "arr = [3, 3, 1,1, 8, 4, 5, 7, 10]\n",
    "target = 15"
   ]
  },
  {
   "cell_type": "code",
   "execution_count": 21,
   "metadata": {},
   "outputs": [],
   "source": [
    "partial = []"
   ]
  },
  {
   "cell_type": "code",
   "execution_count": 22,
   "metadata": {},
   "outputs": [],
   "source": [
    "s = sum(partial)"
   ]
  },
  {
   "cell_type": "code",
   "execution_count": 23,
   "metadata": {},
   "outputs": [],
   "source": [
    "def minSumOfLengths(numbers, target):\n",
    "    # check if the partial sum is equals to target\n",
    "    if s == target:\n",
    "        print(\"sum(%s)=%s\" % (partial, target))\n",
    "#         result.append(partial)\n",
    "    if s >= target:\n",
    "        return  # if we reach the number why bother to continue\n",
    "\n",
    "    for i in range(len(numbers)):\n",
    "        n = numbers[i]\n",
    "        partial = partial + [n]\n",
    "        remaining = numbers[i + 1:]\n",
    "        \n",
    "        minSumOfLengths(remaining, target)\n",
    "    return result"
   ]
  },
  {
   "cell_type": "code",
   "execution_count": 24,
   "metadata": {},
   "outputs": [
    {
     "ename": "UnboundLocalError",
     "evalue": "local variable 'partial' referenced before assignment",
     "output_type": "error",
     "traceback": [
      "\u001b[0;31m---------------------------------------------------------------------------\u001b[0m",
      "\u001b[0;31mUnboundLocalError\u001b[0m                         Traceback (most recent call last)",
      "\u001b[0;32m<ipython-input-24-325e9eb584a6>\u001b[0m in \u001b[0;36m<module>\u001b[0;34m\u001b[0m\n\u001b[0;32m----> 1\u001b[0;31m \u001b[0mresult\u001b[0m \u001b[0;34m=\u001b[0m \u001b[0mminSumOfLengths\u001b[0m\u001b[0;34m(\u001b[0m\u001b[0marr\u001b[0m\u001b[0;34m,\u001b[0m \u001b[0mtarget\u001b[0m\u001b[0;34m)\u001b[0m\u001b[0;34m\u001b[0m\u001b[0;34m\u001b[0m\u001b[0m\n\u001b[0m",
      "\u001b[0;32m<ipython-input-23-2b0d91cafdba>\u001b[0m in \u001b[0;36mminSumOfLengths\u001b[0;34m(numbers, target)\u001b[0m\n\u001b[1;32m      9\u001b[0m     \u001b[0;32mfor\u001b[0m \u001b[0mi\u001b[0m \u001b[0;32min\u001b[0m \u001b[0mrange\u001b[0m\u001b[0;34m(\u001b[0m\u001b[0mlen\u001b[0m\u001b[0;34m(\u001b[0m\u001b[0mnumbers\u001b[0m\u001b[0;34m)\u001b[0m\u001b[0;34m)\u001b[0m\u001b[0;34m:\u001b[0m\u001b[0;34m\u001b[0m\u001b[0;34m\u001b[0m\u001b[0m\n\u001b[1;32m     10\u001b[0m         \u001b[0mn\u001b[0m \u001b[0;34m=\u001b[0m \u001b[0mnumbers\u001b[0m\u001b[0;34m[\u001b[0m\u001b[0mi\u001b[0m\u001b[0;34m]\u001b[0m\u001b[0;34m\u001b[0m\u001b[0;34m\u001b[0m\u001b[0m\n\u001b[0;32m---> 11\u001b[0;31m         \u001b[0mpartial\u001b[0m \u001b[0;34m=\u001b[0m \u001b[0mpartial\u001b[0m \u001b[0;34m+\u001b[0m \u001b[0;34m[\u001b[0m\u001b[0mn\u001b[0m\u001b[0;34m]\u001b[0m\u001b[0;34m\u001b[0m\u001b[0;34m\u001b[0m\u001b[0m\n\u001b[0m\u001b[1;32m     12\u001b[0m         \u001b[0mremaining\u001b[0m \u001b[0;34m=\u001b[0m \u001b[0mnumbers\u001b[0m\u001b[0;34m[\u001b[0m\u001b[0mi\u001b[0m \u001b[0;34m+\u001b[0m \u001b[0;36m1\u001b[0m\u001b[0;34m:\u001b[0m\u001b[0;34m]\u001b[0m\u001b[0;34m\u001b[0m\u001b[0;34m\u001b[0m\u001b[0m\n\u001b[1;32m     13\u001b[0m \u001b[0;34m\u001b[0m\u001b[0m\n",
      "\u001b[0;31mUnboundLocalError\u001b[0m: local variable 'partial' referenced before assignment"
     ]
    }
   ],
   "source": [
    "result = minSumOfLengths(arr, target)"
   ]
  },
  {
   "cell_type": "code",
   "execution_count": 11,
   "metadata": {},
   "outputs": [
    {
     "data": {
      "text/plain": [
       "[]"
      ]
     },
     "execution_count": 11,
     "metadata": {},
     "output_type": "execute_result"
    }
   ],
   "source": [
    "result"
   ]
  },
  {
   "cell_type": "code",
   "execution_count": 29,
   "metadata": {},
   "outputs": [],
   "source": [
    "result = []"
   ]
  },
  {
   "cell_type": "code",
   "execution_count": 30,
   "metadata": {},
   "outputs": [],
   "source": [
    "def subset_sum(numbers, target, partial=[]):\n",
    "    s = sum(partial)\n",
    "\n",
    "    # check if the partial sum is equals to target\n",
    "    if s == target:\n",
    "        print(\"sum(%s)=%s\" % (partial, target))\n",
    "        result.append(partial)\n",
    "        \n",
    "    if s >= target:\n",
    "        return  # if we reach the number why bother to continue\n",
    "\n",
    "    for i in range(len(numbers)):\n",
    "        n = numbers[i]\n",
    "        remaining = numbers[i + 1:]\n",
    "        subset_sum(remaining, target, partial + [n])\n",
    "    \n"
   ]
  },
  {
   "cell_type": "code",
   "execution_count": 31,
   "metadata": {},
   "outputs": [
    {
     "name": "stdout",
     "output_type": "stream",
     "text": [
      "sum([3, 3, 1, 1, 7])=15\n",
      "sum([3, 3, 1, 8])=15\n",
      "sum([3, 3, 1, 8])=15\n",
      "sum([3, 3, 4, 5])=15\n",
      "sum([3, 1, 1, 10])=15\n",
      "sum([3, 1, 4, 7])=15\n",
      "sum([3, 1, 4, 7])=15\n",
      "sum([3, 8, 4])=15\n",
      "sum([3, 5, 7])=15\n",
      "sum([3, 1, 1, 10])=15\n",
      "sum([3, 1, 4, 7])=15\n",
      "sum([3, 1, 4, 7])=15\n",
      "sum([3, 8, 4])=15\n",
      "sum([3, 5, 7])=15\n",
      "sum([1, 1, 8, 5])=15\n",
      "sum([1, 4, 10])=15\n",
      "sum([1, 4, 10])=15\n",
      "sum([8, 7])=15\n",
      "sum([5, 10])=15\n"
     ]
    }
   ],
   "source": [
    "subset_sum(arr,target)"
   ]
  },
  {
   "cell_type": "code",
   "execution_count": 32,
   "metadata": {},
   "outputs": [
    {
     "data": {
      "text/plain": [
       "[[3, 3, 1, 1, 7],\n",
       " [3, 3, 1, 8],\n",
       " [3, 3, 1, 8],\n",
       " [3, 3, 4, 5],\n",
       " [3, 1, 1, 10],\n",
       " [3, 1, 4, 7],\n",
       " [3, 1, 4, 7],\n",
       " [3, 8, 4],\n",
       " [3, 5, 7],\n",
       " [3, 1, 1, 10],\n",
       " [3, 1, 4, 7],\n",
       " [3, 1, 4, 7],\n",
       " [3, 8, 4],\n",
       " [3, 5, 7],\n",
       " [1, 1, 8, 5],\n",
       " [1, 4, 10],\n",
       " [1, 4, 10],\n",
       " [8, 7],\n",
       " [5, 10]]"
      ]
     },
     "execution_count": 32,
     "metadata": {},
     "output_type": "execute_result"
    }
   ],
   "source": [
    "result"
   ]
  },
  {
   "cell_type": "code",
   "execution_count": null,
   "metadata": {},
   "outputs": [],
   "source": []
  },
  {
   "cell_type": "code",
   "execution_count": null,
   "metadata": {},
   "outputs": [],
   "source": [
    "def solve(candidates, target, result, unique, i = 0, current=[]):\n",
    "    if target == 0:\n",
    "        temp = [i for i in current]\n",
    "        temp1 = temp\n",
    "        temp.sort()\n",
    "        temp = tuple(temp)\n",
    "        if temp not in unique:\n",
    "            unique[temp] = 1\n",
    "            result.append(temp1)\n",
    "        return\n",
    "    if target <0:\n",
    "         return\n",
    "    for x in range(i,len(candidates)):\n",
    "        current.append(candidates[x])\n",
    "        solve(candidates,target-candidates[x],result,unique,i,current)\n",
    "        current.pop(len(current)-1)"
   ]
  },
  {
   "cell_type": "code",
   "execution_count": null,
   "metadata": {},
   "outputs": [],
   "source": [
    "def combinationSum(candidates, target):\n",
    "    result = []\n",
    "    unique={}\n",
    "#     candidates = list(set(candidates))\n",
    "    solve(candidates,target,result,unique)\n",
    "    return result"
   ]
  },
  {
   "cell_type": "code",
   "execution_count": null,
   "metadata": {},
   "outputs": [],
   "source": [
    "combinationSum([2,3,6,7,8],10)"
   ]
  },
  {
   "cell_type": "code",
   "execution_count": null,
   "metadata": {},
   "outputs": [],
   "source": [
    "arr = [3,2,2,4,3]\n",
    "target = 3"
   ]
  },
  {
   "cell_type": "code",
   "execution_count": null,
   "metadata": {},
   "outputs": [],
   "source": []
  },
  {
   "cell_type": "code",
   "execution_count": null,
   "metadata": {},
   "outputs": [],
   "source": [
    "combinationSum(arr, target)"
   ]
  },
  {
   "cell_type": "code",
   "execution_count": null,
   "metadata": {},
   "outputs": [],
   "source": []
  },
  {
   "cell_type": "code",
   "execution_count": null,
   "metadata": {},
   "outputs": [],
   "source": []
  },
  {
   "cell_type": "code",
   "execution_count": null,
   "metadata": {},
   "outputs": [],
   "source": []
  },
  {
   "cell_type": "code",
   "execution_count": null,
   "metadata": {},
   "outputs": [],
   "source": []
  },
  {
   "cell_type": "code",
   "execution_count": null,
   "metadata": {},
   "outputs": [],
   "source": [
    "class Solution(object):\n",
    "    def combinationSum(self, candidates, target):\n",
    "        result = []\n",
    "        unique={}\n",
    "        candidates = list(set(candidates))\n",
    "        self.solve(candidates,target,result,unique)\n",
    "        return result\n",
    "    \n",
    "    def solve(self,candidates,target,result,unique,i = 0,current=[]):\n",
    "        if target == 0:\n",
    "            temp = [i for i in current]\n",
    "            temp1 = temp\n",
    "            temp.sort()\n",
    "            temp = tuple(temp)\n",
    "            if temp not in unique:\n",
    "                unique[temp] = 1\n",
    "                result.append(temp1)\n",
    "            return\n",
    "        if target <0:\n",
    "             return\n",
    "        for x in range(i,len(candidates)):\n",
    "            current.append(candidates[x])\n",
    "            self.solve(candidates,target-candidates[x],result,unique,i,current)\n",
    "            current.pop(len(current)-1)"
   ]
  },
  {
   "cell_type": "code",
   "execution_count": null,
   "metadata": {},
   "outputs": [],
   "source": [
    "ob1 = Solution()\n",
    "print(ob1.combinationSum([2,3,6,7,8],10))"
   ]
  },
  {
   "cell_type": "code",
   "execution_count": null,
   "metadata": {},
   "outputs": [],
   "source": []
  },
  {
   "cell_type": "code",
   "execution_count": null,
   "metadata": {},
   "outputs": [],
   "source": []
  }
 ],
 "metadata": {
  "kernelspec": {
   "display_name": "Python 3",
   "language": "python",
   "name": "python3"
  },
  "language_info": {
   "codemirror_mode": {
    "name": "ipython",
    "version": 3
   },
   "file_extension": ".py",
   "mimetype": "text/x-python",
   "name": "python",
   "nbconvert_exporter": "python",
   "pygments_lexer": "ipython3",
   "version": "3.7.5"
  }
 },
 "nbformat": 4,
 "nbformat_minor": 4
}
