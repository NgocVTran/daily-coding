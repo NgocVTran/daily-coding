{
 "cells": [
  {
   "cell_type": "markdown",
   "metadata": {},
   "source": [
    "5432. Average Salary Excluding the Minimum and Maximum Salary\n",
    "Given an array of unique integers salary where salary[i] is the salary of the employee i.\n",
    "\n",
    "Return the average salary of employees excluding the minimum and maximum salary.\n",
    "\n",
    " \n",
    "\n",
    "Example 1:\n",
    "\n",
    "Input: salary = [4000,3000,1000,2000]\n",
    "Output: 2500.00000\n",
    "Explanation: Minimum salary and maximum salary are 1000 and 4000 respectively.\n",
    "Average salary excluding minimum and maximum salary is (2000+3000)/2= 2500\n",
    "Example 2:\n",
    "\n",
    "Input: salary = [1000,2000,3000]\n",
    "Output: 2000.00000\n",
    "Explanation: Minimum salary and maximum salary are 1000 and 3000 respectively.\n",
    "Average salary excluding minimum and maximum salary is (2000)/1= 2000\n",
    "Example 3:\n",
    "\n",
    "Input: salary = [6000,5000,4000,3000,2000,1000]\n",
    "Output: 3500.00000\n",
    "Example 4:\n",
    "\n",
    "Input: salary = [8000,9000,2000,3000,6000,1000]\n",
    "Output: 4750.00000"
   ]
  },
  {
   "cell_type": "code",
   "execution_count": 6,
   "metadata": {},
   "outputs": [],
   "source": [
    "# Input: \n",
    "salary = [4000,3000,1000,2000,1000]\n",
    "# Output: 2500.00000"
   ]
  },
  {
   "cell_type": "code",
   "execution_count": 7,
   "metadata": {},
   "outputs": [
    {
     "data": {
      "text/plain": [
       "1000"
      ]
     },
     "execution_count": 7,
     "metadata": {},
     "output_type": "execute_result"
    }
   ],
   "source": [
    "current_min = min(salary)\n",
    "current_min"
   ]
  },
  {
   "cell_type": "code",
   "execution_count": 8,
   "metadata": {},
   "outputs": [],
   "source": [
    "while current_min in salary:\n",
    "    salary.pop(salary.index(current_min))"
   ]
  },
  {
   "cell_type": "code",
   "execution_count": 9,
   "metadata": {},
   "outputs": [
    {
     "data": {
      "text/plain": [
       "[4000, 3000, 2000]"
      ]
     },
     "execution_count": 9,
     "metadata": {},
     "output_type": "execute_result"
    }
   ],
   "source": [
    "salary"
   ]
  },
  {
   "cell_type": "code",
   "execution_count": 10,
   "metadata": {},
   "outputs": [
    {
     "data": {
      "text/plain": [
       "4000"
      ]
     },
     "execution_count": 10,
     "metadata": {},
     "output_type": "execute_result"
    }
   ],
   "source": [
    "current_max = max(salary)\n",
    "current_max"
   ]
  },
  {
   "cell_type": "code",
   "execution_count": 11,
   "metadata": {},
   "outputs": [],
   "source": [
    "current_min = min(salary)\n",
    "while current_min in salary:\n",
    "    salary.pop(salary.index(current_min))\n",
    "current_max = max(salary)\n",
    "while current_max in salary:\n",
    "    salary.pop(salary.index(current_max))"
   ]
  },
  {
   "cell_type": "code",
   "execution_count": 12,
   "metadata": {},
   "outputs": [
    {
     "data": {
      "text/plain": [
       "[3000, 2000]"
      ]
     },
     "execution_count": 12,
     "metadata": {},
     "output_type": "execute_result"
    }
   ],
   "source": [
    "salary"
   ]
  },
  {
   "cell_type": "code",
   "execution_count": 13,
   "metadata": {},
   "outputs": [
    {
     "data": {
      "text/plain": [
       "2500.0"
      ]
     },
     "execution_count": 13,
     "metadata": {},
     "output_type": "execute_result"
    }
   ],
   "source": [
    "result = sum(salary) / len(salary)\n",
    "result"
   ]
  },
  {
   "cell_type": "code",
   "execution_count": null,
   "metadata": {},
   "outputs": [],
   "source": []
  },
  {
   "cell_type": "code",
   "execution_count": null,
   "metadata": {},
   "outputs": [],
   "source": []
  },
  {
   "cell_type": "code",
   "execution_count": null,
   "metadata": {},
   "outputs": [],
   "source": []
  },
  {
   "cell_type": "code",
   "execution_count": null,
   "metadata": {},
   "outputs": [],
   "source": []
  },
  {
   "cell_type": "code",
   "execution_count": null,
   "metadata": {},
   "outputs": [],
   "source": []
  },
  {
   "cell_type": "markdown",
   "metadata": {},
   "source": [
    "5433. The kth Factor of n\n",
    "User Accepted:4138\n",
    "User Tried:4185\n",
    "Total Accepted:4187\n",
    "Total Submissions:5468\n",
    "Difficulty:Medium\n",
    "Given two positive integers n and k.\n",
    "\n",
    "A factor of an integer n is defined as an integer i where n % i == 0.\n",
    "\n",
    "Consider a list of all factors of n sorted in ascending order, return the kth factor in this list or return -1 if n has less than k factors.\n",
    "\n",
    " \n",
    "\n",
    "Example 1:\n",
    "\n",
    "Input: n = 12, k = 3\n",
    "Output: 3\n",
    "Explanation: Factors list is [1, 2, 3, 4, 6, 12], the 3rd factor is 3.\n",
    "Example 2:\n",
    "\n",
    "Input: n = 7, k = 2\n",
    "Output: 7\n",
    "Explanation: Factors list is [1, 7], the 2nd factor is 7.\n",
    "Example 3:\n",
    "\n",
    "Input: n = 4, k = 4\n",
    "Output: -1\n",
    "Explanation: Factors list is [1, 2, 4], there is only 3 factors. We should return -1.\n",
    "Example 4:\n",
    "\n",
    "Input: n = 1, k = 1\n",
    "Output: 1\n",
    "Explanation: Factors list is [1], the 1st factor is 1.\n",
    "Example 5:\n",
    "\n",
    "Input: n = 1000, k = 3\n",
    "Output: 4\n",
    "Explanation: Factors list is [1, 2, 4, 5, 8, 10, 20, 25, 40, 50, 100, 125, 200, 250, 500, 1000]."
   ]
  },
  {
   "cell_type": "code",
   "execution_count": 44,
   "metadata": {},
   "outputs": [],
   "source": [
    "def factors(n, k):    \n",
    "    result = set()\n",
    "    for i in range(1, int(n ** 0.5) + 1):\n",
    "        div, mod = divmod(n, i)\n",
    "        if mod == 0:\n",
    "            result |= {i, div}\n",
    "            \n",
    "    print(sorted(result))\n",
    "    \n",
    "    if k>len(result):\n",
    "        return -1\n",
    "    else:\n",
    "        return list(sorted(result))[k-1]"
   ]
  },
  {
   "cell_type": "code",
   "execution_count": 38,
   "metadata": {},
   "outputs": [
    {
     "name": "stdout",
     "output_type": "stream",
     "text": [
      "[1, 2, 3, 4, 6, 12]\n"
     ]
    },
    {
     "data": {
      "text/plain": [
       "3"
      ]
     },
     "execution_count": 38,
     "metadata": {},
     "output_type": "execute_result"
    }
   ],
   "source": [
    "factors(12, 3)"
   ]
  },
  {
   "cell_type": "code",
   "execution_count": 39,
   "metadata": {},
   "outputs": [
    {
     "name": "stdout",
     "output_type": "stream",
     "text": [
      "[1, 7]\n"
     ]
    },
    {
     "data": {
      "text/plain": [
       "7"
      ]
     },
     "execution_count": 39,
     "metadata": {},
     "output_type": "execute_result"
    }
   ],
   "source": [
    "factors(7, 2)"
   ]
  },
  {
   "cell_type": "code",
   "execution_count": 40,
   "metadata": {},
   "outputs": [
    {
     "name": "stdout",
     "output_type": "stream",
     "text": [
      "[1, 2, 4]\n"
     ]
    },
    {
     "data": {
      "text/plain": [
       "-1"
      ]
     },
     "execution_count": 40,
     "metadata": {},
     "output_type": "execute_result"
    }
   ],
   "source": [
    "factors(4, 4)"
   ]
  },
  {
   "cell_type": "code",
   "execution_count": 41,
   "metadata": {},
   "outputs": [
    {
     "name": "stdout",
     "output_type": "stream",
     "text": [
      "[1]\n"
     ]
    },
    {
     "data": {
      "text/plain": [
       "1"
      ]
     },
     "execution_count": 41,
     "metadata": {},
     "output_type": "execute_result"
    }
   ],
   "source": [
    "factors(1, 1)"
   ]
  },
  {
   "cell_type": "code",
   "execution_count": 42,
   "metadata": {},
   "outputs": [
    {
     "name": "stdout",
     "output_type": "stream",
     "text": [
      "[1, 2, 4, 5, 8, 10, 20, 25, 40, 50, 100, 125, 200, 250, 500, 1000]\n"
     ]
    },
    {
     "data": {
      "text/plain": [
       "4"
      ]
     },
     "execution_count": 42,
     "metadata": {},
     "output_type": "execute_result"
    }
   ],
   "source": [
    "factors(1000, 3)"
   ]
  },
  {
   "cell_type": "code",
   "execution_count": 45,
   "metadata": {},
   "outputs": [
    {
     "name": "stdout",
     "output_type": "stream",
     "text": [
      "[1, 2, 3, 4, 6, 8, 12, 24]\n"
     ]
    },
    {
     "data": {
      "text/plain": [
       "8"
      ]
     },
     "execution_count": 45,
     "metadata": {},
     "output_type": "execute_result"
    }
   ],
   "source": [
    "factors(24, 6)"
   ]
  },
  {
   "cell_type": "code",
   "execution_count": null,
   "metadata": {},
   "outputs": [],
   "source": []
  },
  {
   "cell_type": "code",
   "execution_count": null,
   "metadata": {},
   "outputs": [],
   "source": []
  },
  {
   "cell_type": "code",
   "execution_count": null,
   "metadata": {},
   "outputs": [],
   "source": []
  },
  {
   "cell_type": "code",
   "execution_count": 119,
   "metadata": {},
   "outputs": [],
   "source": [
    "# # Input: \n",
    "# nums = [1,1,0,0,1,1,1,0,1]\n",
    "# # Output: 4\n",
    "\n",
    "# nums = [1,1,0,1]\n",
    "# # Output: 3\n",
    "\n",
    "nums = [0,0,1,1] # 2"
   ]
  },
  {
   "cell_type": "code",
   "execution_count": 214,
   "metadata": {},
   "outputs": [],
   "source": [
    "st = \"\"\n",
    "for n in nums:\n",
    "    st = st + str(n)"
   ]
  },
  {
   "cell_type": "code",
   "execution_count": 215,
   "metadata": {},
   "outputs": [
    {
     "data": {
      "text/plain": [
       "'1001111100000011101111101111111101100011001111111111111100001111011'"
      ]
     },
     "execution_count": 215,
     "metadata": {},
     "output_type": "execute_result"
    }
   ],
   "source": [
    "st"
   ]
  },
  {
   "cell_type": "code",
   "execution_count": 216,
   "metadata": {},
   "outputs": [
    {
     "data": {
      "text/plain": [
       "['1',\n",
       " '',\n",
       " '11111',\n",
       " '',\n",
       " '',\n",
       " '',\n",
       " '',\n",
       " '',\n",
       " '111',\n",
       " '11111',\n",
       " '11111111',\n",
       " '11',\n",
       " '',\n",
       " '',\n",
       " '11',\n",
       " '',\n",
       " '11111111111111',\n",
       " '',\n",
       " '',\n",
       " '',\n",
       " '1111',\n",
       " '11']"
      ]
     },
     "execution_count": 216,
     "metadata": {},
     "output_type": "execute_result"
    }
   ],
   "source": [
    "splt = st.split(\"0\")\n",
    "splt"
   ]
  },
  {
   "cell_type": "code",
   "execution_count": 218,
   "metadata": {},
   "outputs": [
    {
     "data": {
      "text/plain": [
       "[1, 0, 5, 0, 0, 0, 0, 0, 3, 5, 8, 2, 0, 0, 2, 0, 14, 0, 0, 0, 4, 2]"
      ]
     },
     "execution_count": 218,
     "metadata": {},
     "output_type": "execute_result"
    }
   ],
   "source": [
    "[len(s) for s in splt]"
   ]
  },
  {
   "cell_type": "code",
   "execution_count": null,
   "metadata": {},
   "outputs": [],
   "source": []
  },
  {
   "cell_type": "code",
   "execution_count": 123,
   "metadata": {},
   "outputs": [],
   "source": [
    "# st2 = \"1100011101\""
   ]
  },
  {
   "cell_type": "code",
   "execution_count": 124,
   "metadata": {},
   "outputs": [],
   "source": [
    "# splt = st2.split(\"0\")\n",
    "# splt"
   ]
  },
  {
   "cell_type": "code",
   "execution_count": 125,
   "metadata": {},
   "outputs": [],
   "source": [
    "# for ite,s in enumerate(splt):\n",
    "#     print(ite)\n",
    "#     if (not splt[ite]) and (not splt[ite+1]):\n",
    "#         print(ite, \"empty\")"
   ]
  },
  {
   "cell_type": "code",
   "execution_count": 126,
   "metadata": {},
   "outputs": [
    {
     "data": {
      "text/plain": [
       "['11']"
      ]
     },
     "execution_count": 126,
     "metadata": {},
     "output_type": "execute_result"
    }
   ],
   "source": [
    "[s for s in splt if s]"
   ]
  },
  {
   "cell_type": "code",
   "execution_count": 138,
   "metadata": {},
   "outputs": [
    {
     "name": "stdout",
     "output_type": "stream",
     "text": [
      "2\n"
     ]
    }
   ],
   "source": [
    "for s in splt:\n",
    "    if s:\n",
    "        print(len(s))"
   ]
  },
  {
   "cell_type": "code",
   "execution_count": null,
   "metadata": {},
   "outputs": [],
   "source": []
  },
  {
   "cell_type": "code",
   "execution_count": 66,
   "metadata": {},
   "outputs": [],
   "source": [
    "i = 0\n",
    "longest = 0\n",
    "\n",
    "while i<len(splt)-1:\n",
    "    \n",
    "    if splt[i] and splt[i+1]:\n",
    "        if len(splt[i]) + len(splt[i+1]) > longest:\n",
    "            longest = len(splt[i]) + len(splt[i+1])\n",
    "    \n",
    "    i = i+1"
   ]
  },
  {
   "cell_type": "code",
   "execution_count": 67,
   "metadata": {},
   "outputs": [
    {
     "data": {
      "text/plain": [
       "3"
      ]
     },
     "execution_count": 67,
     "metadata": {},
     "output_type": "execute_result"
    }
   ],
   "source": [
    "longest"
   ]
  },
  {
   "cell_type": "code",
   "execution_count": 221,
   "metadata": {},
   "outputs": [],
   "source": [
    "def longestSubarray(nums):\n",
    "    st = \"\"\n",
    "    for n in nums:\n",
    "        st = st + str(n)\n",
    "    \n",
    "    \n",
    "    splt = st.split(\"0\")\n",
    "    if len(splt) == 1:\n",
    "        return len(nums)-1\n",
    "    else:\n",
    "        in_splt = [s for s in splt if s]\n",
    "        if len(in_splt) == 0:\n",
    "            return 0\n",
    "        \n",
    "        if len(in_splt) == 1:\n",
    "            return len(in_splt[0])\n",
    "        \n",
    "        longest = len(in_splt[0])\n",
    "\n",
    "    i = 0\n",
    "    # longest = len(splt[0])\n",
    "    print(longest, splt)\n",
    "    while i<len(splt)-1:\n",
    "        # print(longest, splt)\n",
    "        if splt[i] and splt[i+1]:\n",
    "            \n",
    "            if len(splt[i]) + len(splt[i+1]) > longest:\n",
    "                longest = len(splt[i]) + len(splt[i+1])\n",
    "        if splt[i]:\n",
    "            if len(splt[i]) > longest:\n",
    "                longest = len(splt[i])\n",
    "        i = i+1\n",
    "\n",
    "    return longest"
   ]
  },
  {
   "cell_type": "code",
   "execution_count": 222,
   "metadata": {},
   "outputs": [],
   "source": [
    "# nums = [1,1,0,0,1,1,1,0,1]\n",
    "# # Output: 4\n",
    "\n",
    "# nums = [1,1,1] # 2\n",
    "# nums = [1,0,0,0,0] # 1\n",
    "# nums = [0,0,1,1] # 2\n",
    "\n",
    "# nums = [0,1,1,1,0,0,1,1,0] # 3\n",
    "# nums = [0,0,0]\n",
    "\n",
    "nums = [1,0,0,1,1,1,1,1,0,0,0,0,0,0,1,1,1,0,1,1,1,1,1,0,1,1,1,1,1,1,1,1,0,1,1,0,0,0,1,1,0,0,1,1,1,1,1,1,1,1,1,1,1,1,1,1,0,0,0,0,1,1,1,1,0,1,1]"
   ]
  },
  {
   "cell_type": "code",
   "execution_count": 223,
   "metadata": {},
   "outputs": [
    {
     "data": {
      "text/plain": [
       "67"
      ]
     },
     "execution_count": 223,
     "metadata": {},
     "output_type": "execute_result"
    }
   ],
   "source": [
    "len(nums)"
   ]
  },
  {
   "cell_type": "code",
   "execution_count": 224,
   "metadata": {},
   "outputs": [
    {
     "name": "stdout",
     "output_type": "stream",
     "text": [
      "1 ['1', '', '11111', '', '', '', '', '', '111', '11111', '11111111', '11', '', '', '11', '', '11111111111111', '', '', '', '1111', '11']\n"
     ]
    },
    {
     "data": {
      "text/plain": [
       "14"
      ]
     },
     "execution_count": 224,
     "metadata": {},
     "output_type": "execute_result"
    }
   ],
   "source": [
    "longestSubarray(nums)"
   ]
  },
  {
   "cell_type": "code",
   "execution_count": null,
   "metadata": {},
   "outputs": [],
   "source": []
  },
  {
   "cell_type": "code",
   "execution_count": null,
   "metadata": {},
   "outputs": [],
   "source": []
  },
  {
   "cell_type": "code",
   "execution_count": 196,
   "metadata": {},
   "outputs": [
    {
     "data": {
      "text/plain": [
       "0"
      ]
     },
     "execution_count": 196,
     "metadata": {},
     "output_type": "execute_result"
    }
   ],
   "source": [
    "len([])"
   ]
  },
  {
   "cell_type": "code",
   "execution_count": 157,
   "metadata": {},
   "outputs": [
    {
     "data": {
      "text/plain": [
       "1"
      ]
     },
     "execution_count": 157,
     "metadata": {},
     "output_type": "execute_result"
    }
   ],
   "source": [
    "len(\"111\".split(\"0\"))"
   ]
  },
  {
   "cell_type": "code",
   "execution_count": null,
   "metadata": {},
   "outputs": [],
   "source": []
  },
  {
   "cell_type": "code",
   "execution_count": null,
   "metadata": {},
   "outputs": [],
   "source": []
  },
  {
   "cell_type": "markdown",
   "metadata": {},
   "source": [
    "5435. Parallel Courses II\n",
    "User Accepted:645\n",
    "User Tried:1800\n",
    "Total Accepted:714\n",
    "Total Submissions:4021\n",
    "Difficulty:Hard\n",
    "Given the integer n representing the number of courses at some university labeled from 1 to n, and the array dependencies where dependencies[i] = [xi, yi]  represents a prerequisite relationship, that is, the course xi must be taken before the course yi.  Also, you are given the integer k.\n",
    "\n",
    "In one semester you can take at most k courses as long as you have taken all the prerequisites for the courses you are taking.\n",
    "\n",
    "Return the minimum number of semesters to take all courses. It is guaranteed that you can take all courses in some way.\n",
    "\n",
    " \n",
    "\n",
    "Example 1:\n",
    "\n",
    "\n",
    "\n",
    "Input: n = 4, dependencies = [[2,1],[3,1],[1,4]], k = 2\n",
    "Output: 3 \n",
    "Explanation: The figure above represents the given graph. In this case we can take courses 2 and 3 in the first semester, then take course 1 in the second semester and finally take course 4 in the third semester.\n",
    "Example 2:\n",
    "\n",
    "\n",
    "\n",
    "Input: n = 5, dependencies = [[2,1],[3,1],[4,1],[1,5]], k = 2\n",
    "Output: 4 \n",
    "Explanation: The figure above represents the given graph. In this case one optimal way to take all courses is: take courses 2 and 3 in the first semester and take course 4 in the second semester, then take course 1 in the third semester and finally take course 5 in the fourth semester.\n",
    "Example 3:\n",
    "\n",
    "Input: n = 11, dependencies = [], k = 2\n",
    "Output: 6"
   ]
  },
  {
   "cell_type": "code",
   "execution_count": null,
   "metadata": {},
   "outputs": [],
   "source": []
  },
  {
   "cell_type": "code",
   "execution_count": null,
   "metadata": {},
   "outputs": [],
   "source": []
  },
  {
   "cell_type": "code",
   "execution_count": null,
   "metadata": {},
   "outputs": [],
   "source": []
  },
  {
   "cell_type": "code",
   "execution_count": null,
   "metadata": {},
   "outputs": [],
   "source": []
  }
 ],
 "metadata": {
  "kernelspec": {
   "display_name": "Python 3",
   "language": "python",
   "name": "python3"
  },
  "language_info": {
   "codemirror_mode": {
    "name": "ipython",
    "version": 3
   },
   "file_extension": ".py",
   "mimetype": "text/x-python",
   "name": "python",
   "nbconvert_exporter": "python",
   "pygments_lexer": "ipython3",
   "version": "3.7.5"
  }
 },
 "nbformat": 4,
 "nbformat_minor": 4
}
