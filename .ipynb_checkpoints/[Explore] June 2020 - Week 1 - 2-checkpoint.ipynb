{
 "cells": [
  {
   "cell_type": "code",
   "execution_count": null,
   "metadata": {},
   "outputs": [],
   "source": []
  },
  {
   "cell_type": "code",
   "execution_count": null,
   "metadata": {},
   "outputs": [],
   "source": []
  },
  {
   "cell_type": "code",
   "execution_count": 1,
   "metadata": {},
   "outputs": [],
   "source": [
    "class ListNode:\n",
    "    def __init__(self, data, next = None):\n",
    "        self.val = data\n",
    "        self.next = next"
   ]
  },
  {
   "cell_type": "code",
   "execution_count": null,
   "metadata": {},
   "outputs": [],
   "source": [
    "def make_list(elements):\n",
    "   head = ListNode(elements[0])\n",
    "   for element in elements[1:]:\n",
    "      ptr = head\n",
    "      while ptr.next:\n",
    "         ptr = ptr.next\n",
    "      ptr.next = ListNode(element)\n",
    "   return head\n",
    "def print_list(head):\n",
    "   ptr = head\n",
    "   print('[', end = \"\")\n",
    "   while ptr:\n",
    "      print(ptr.val, end = \", \")\n",
    "      ptr = ptr.next\n",
    "   print(']')\n",
    "class Solution(object):\n",
    "   def deleteNode(self, node, data):\n",
    "      \"\"\"\n",
    "      :type node: ListNode\n",
    "      :rtype: void Do not return anything, modify node in-place instead.\n",
    "      \"\"\"\n",
    "      while node.val is not data:\n",
    "         node = node.next\n",
    "      node.val = node.next.val\n",
    "      node.next = node.next.next\n",
    "head = make_list([1,3,5,7,9])\n",
    "ob1 = Solution()\n",
    "ob1.deleteNode(head, 3)\n",
    "print_list(head)"
   ]
  },
  {
   "cell_type": "code",
   "execution_count": null,
   "metadata": {},
   "outputs": [],
   "source": []
  },
  {
   "cell_type": "code",
   "execution_count": null,
   "metadata": {},
   "outputs": [],
   "source": []
  },
  {
   "cell_type": "code",
   "execution_count": null,
   "metadata": {},
   "outputs": [],
   "source": []
  }
 ],
 "metadata": {
  "kernelspec": {
   "display_name": "Python 3",
   "language": "python",
   "name": "python3"
  },
  "language_info": {
   "codemirror_mode": {
    "name": "ipython",
    "version": 3
   },
   "file_extension": ".py",
   "mimetype": "text/x-python",
   "name": "python",
   "nbconvert_exporter": "python",
   "pygments_lexer": "ipython3",
   "version": "3.7.5"
  }
 },
 "nbformat": 4,
 "nbformat_minor": 4
}
