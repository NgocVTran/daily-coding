{
 "cells": [
  {
   "cell_type": "markdown",
   "metadata": {},
   "source": [
    "Given an array A of strings made only from lowercase letters, return a list of all characters that show up in all strings within the list (including duplicates).  For example, if a character occurs 3 times in all strings but not 4 times, you need to include that character three times in the final answer.\n",
    "\n",
    "You may return the answer in any order.\n",
    "\n",
    " \n",
    "\n",
    "Example 1:\n",
    "\n",
    "Input: [\"bella\",\"label\",\"roller\"]\n",
    "Output: [\"e\",\"l\",\"l\"]\n",
    "Example 2:\n",
    "\n",
    "Input: [\"cool\",\"lock\",\"cook\"]\n",
    "Output: [\"c\",\"o\"]"
   ]
  },
  {
   "cell_type": "code",
   "execution_count": 79,
   "metadata": {},
   "outputs": [],
   "source": [
    "# Input:\n",
    "A = [\"bella\",\"label\",\"roller\"]\n",
    "# Output: [\"e\",\"l\",\"l\"]"
   ]
  },
  {
   "cell_type": "code",
   "execution_count": 44,
   "metadata": {},
   "outputs": [],
   "source": [
    "# dict = {w:A[0].count(w) for w in A[0]}   \n",
    "# dict"
   ]
  },
  {
   "cell_type": "code",
   "execution_count": 45,
   "metadata": {},
   "outputs": [],
   "source": [
    "list_of_dict = []"
   ]
  },
  {
   "cell_type": "code",
   "execution_count": 46,
   "metadata": {},
   "outputs": [],
   "source": [
    "for word in A:\n",
    "    dict = {char:word.count(char) for char in word}\n",
    "    list_of_dict.append(dict)"
   ]
  },
  {
   "cell_type": "code",
   "execution_count": 47,
   "metadata": {},
   "outputs": [
    {
     "data": {
      "text/plain": [
       "[{'b': 1, 'e': 1, 'l': 2, 'a': 1},\n",
       " {'l': 2, 'a': 1, 'b': 1, 'e': 1},\n",
       " {'r': 2, 'o': 1, 'l': 2, 'e': 1},\n",
       " {'z': 1}]"
      ]
     },
     "execution_count": 47,
     "metadata": {},
     "output_type": "execute_result"
    }
   ],
   "source": [
    "list_of_dict"
   ]
  },
  {
   "cell_type": "code",
   "execution_count": 48,
   "metadata": {},
   "outputs": [],
   "source": [
    "def similar_dict(d1, d2):\n",
    "    similar_char = [char for char in d1 if char in d2]\n",
    "    sim_dict = {}\n",
    "    for s in similar_char:\n",
    "        sim_dict[s] = min(d1.get(s), d2.get(s))\n",
    "    return sim_dict"
   ]
  },
  {
   "cell_type": "code",
   "execution_count": 49,
   "metadata": {},
   "outputs": [
    {
     "data": {
      "text/plain": [
       "{'b': 1, 'e': 1, 'l': 2, 'a': 1}"
      ]
     },
     "execution_count": 49,
     "metadata": {},
     "output_type": "execute_result"
    }
   ],
   "source": [
    "similar_dict(list_of_dict[0], list_of_dict[1])"
   ]
  },
  {
   "cell_type": "code",
   "execution_count": 50,
   "metadata": {},
   "outputs": [
    {
     "name": "stdout",
     "output_type": "stream",
     "text": [
      "{'b': 1, 'e': 1, 'l': 2, 'a': 1}\n",
      "{'b': 1, 'e': 1, 'l': 2, 'a': 1}\n",
      "{'e': 1, 'l': 2}\n",
      "{}\n"
     ]
    }
   ],
   "source": [
    "sim = {w:A[0].count(w) for w in A[0]}\n",
    "for lst in list_of_dict:\n",
    "    sim = similar_dict(sim, lst)\n",
    "    print(sim)"
   ]
  },
  {
   "cell_type": "code",
   "execution_count": 51,
   "metadata": {},
   "outputs": [
    {
     "data": {
      "text/plain": [
       "{}"
      ]
     },
     "execution_count": 51,
     "metadata": {},
     "output_type": "execute_result"
    }
   ],
   "source": [
    "sim"
   ]
  },
  {
   "cell_type": "code",
   "execution_count": 52,
   "metadata": {},
   "outputs": [],
   "source": [
    "result = []\n",
    "for s in sim:\n",
    "    result = result + [s]*sim[s]"
   ]
  },
  {
   "cell_type": "code",
   "execution_count": 53,
   "metadata": {},
   "outputs": [
    {
     "data": {
      "text/plain": [
       "[]"
      ]
     },
     "execution_count": 53,
     "metadata": {},
     "output_type": "execute_result"
    }
   ],
   "source": [
    "result"
   ]
  },
  {
   "cell_type": "code",
   "execution_count": 54,
   "metadata": {},
   "outputs": [],
   "source": [
    "def commonChars(A):\n",
    "    list_of_dict = []\n",
    "    \n",
    "    for word in A:\n",
    "        dict = {char:word.count(char) for char in word}\n",
    "        list_of_dict.append(dict)\n",
    "    \n",
    "    sim = {w:A[0].count(w) for w in A[0]}\n",
    "    for lst in list_of_dict:\n",
    "        sim = similar_dict(sim, lst)\n",
    "\n",
    "    result = []\n",
    "    for s in sim:\n",
    "        result = result + [s]*sim[s]\n",
    "        \n",
    "    return result"
   ]
  },
  {
   "cell_type": "code",
   "execution_count": 57,
   "metadata": {},
   "outputs": [
    {
     "data": {
      "text/plain": [
       "['e', 'l', 'l']"
      ]
     },
     "execution_count": 57,
     "metadata": {},
     "output_type": "execute_result"
    }
   ],
   "source": [
    "commonChars(A)"
   ]
  },
  {
   "cell_type": "markdown",
   "metadata": {},
   "source": [
    "### solution"
   ]
  },
  {
   "cell_type": "code",
   "execution_count": 69,
   "metadata": {},
   "outputs": [],
   "source": [
    "element = []\n",
    "for ele in A[0]:\n",
    "    if all(ele in x for x in A[1:]):\n",
    "        element.append(ele)"
   ]
  },
  {
   "cell_type": "code",
   "execution_count": 70,
   "metadata": {},
   "outputs": [
    {
     "data": {
      "text/plain": [
       "['e', 'l', 'l']"
      ]
     },
     "execution_count": 70,
     "metadata": {},
     "output_type": "execute_result"
    }
   ],
   "source": [
    "element"
   ]
  },
  {
   "cell_type": "code",
   "execution_count": 75,
   "metadata": {},
   "outputs": [],
   "source": [
    "freq = {}\n",
    "\n",
    "for word in A:\n",
    "    for char in word:\n",
    "        if char in element:\n",
    "            if char in freq:\n",
    "                freq[char] = min(freq[char], word.count(char))\n",
    "            else:\n",
    "                freq[char] = word.count(char)"
   ]
  },
  {
   "cell_type": "code",
   "execution_count": 76,
   "metadata": {},
   "outputs": [
    {
     "data": {
      "text/plain": [
       "{'e': 1, 'l': 2}"
      ]
     },
     "execution_count": 76,
     "metadata": {},
     "output_type": "execute_result"
    }
   ],
   "source": [
    "freq"
   ]
  },
  {
   "cell_type": "code",
   "execution_count": 77,
   "metadata": {},
   "outputs": [],
   "source": [
    "result = []\n",
    "for f in freq:\n",
    "    result = result + [f]*freq[f]"
   ]
  },
  {
   "cell_type": "code",
   "execution_count": 78,
   "metadata": {},
   "outputs": [
    {
     "data": {
      "text/plain": [
       "['e', 'l', 'l']"
      ]
     },
     "execution_count": 78,
     "metadata": {},
     "output_type": "execute_result"
    }
   ],
   "source": [
    "result"
   ]
  },
  {
   "cell_type": "markdown",
   "metadata": {},
   "source": [
    "### fastest"
   ]
  },
  {
   "cell_type": "code",
   "execution_count": 90,
   "metadata": {},
   "outputs": [],
   "source": [
    "# Input:\n",
    "# A = [\"bella\",\"label\",\"roller\"]\n",
    "# # Output: [\"e\",\"l\",\"l\"]\n",
    "\n",
    "A = [\"cool\",\"lock\",\"cook\"]\n",
    "# [\"c\",\"o\"]"
   ]
  },
  {
   "cell_type": "code",
   "execution_count": 91,
   "metadata": {},
   "outputs": [
    {
     "name": "stdout",
     "output_type": "stream",
     "text": [
      "ele = c\n",
      "lock\n",
      "lok\n",
      "cook\n",
      "ook\n",
      "['c']\n",
      "\n",
      "ele = o\n",
      "lok\n",
      "lk\n",
      "ook\n",
      "ok\n",
      "['c', 'o']\n",
      "\n"
     ]
    },
    {
     "data": {
      "text/plain": [
       "['c', 'o']"
      ]
     },
     "execution_count": 91,
     "metadata": {},
     "output_type": "execute_result"
    }
   ],
   "source": [
    "res = []\n",
    "\n",
    "for ele in A[0]:\n",
    "    # if a char in first word, and this char is in another words in A\n",
    "    # then remove it from another words in A\n",
    "    # add it to result list\n",
    "    if all(ele in x for x in A[1:]):\n",
    "        print(\"ele =\", ele)\n",
    "        for i in range(1, len(A)):\n",
    "            print(A[i])\n",
    "            A[i] = A[i].replace(ele,\"\", 1) # count=1\n",
    "            print(A[i])\n",
    "        res.append(ele)\n",
    "        print(res)\n",
    "        print()\n",
    "res"
   ]
  },
  {
   "cell_type": "code",
   "execution_count": null,
   "metadata": {},
   "outputs": [],
   "source": []
  },
  {
   "cell_type": "code",
   "execution_count": null,
   "metadata": {},
   "outputs": [],
   "source": [
    "def commonChars(A):\n",
    "    return"
   ]
  }
 ],
 "metadata": {
  "kernelspec": {
   "display_name": "Python 3",
   "language": "python",
   "name": "python3"
  },
  "language_info": {
   "codemirror_mode": {
    "name": "ipython",
    "version": 3
   },
   "file_extension": ".py",
   "mimetype": "text/x-python",
   "name": "python",
   "nbconvert_exporter": "python",
   "pygments_lexer": "ipython3",
   "version": "3.7.5"
  }
 },
 "nbformat": 4,
 "nbformat_minor": 4
}
