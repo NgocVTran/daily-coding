{
 "cells": [
  {
   "cell_type": "markdown",
   "metadata": {},
   "source": [
    "In a list of songs, the i-th song has a duration of time[i] seconds. \n",
    "\n",
    "Return the number of pairs of songs for which their total duration in seconds is divisible by 60.  Formally, we want the number of indices i, j such that i < j with (time[i] + time[j]) % 60 == 0.\n",
    "\n",
    " \n",
    "\n",
    "Example 1:\n",
    "\n",
    "Input: [30,20,150,100,40]\n",
    "Output: 3\n",
    "Explanation: Three pairs have a total duration divisible by 60:\n",
    "(time[0] = 30, time[2] = 150): total duration 180\n",
    "(time[1] = 20, time[3] = 100): total duration 120\n",
    "(time[1] = 20, time[4] = 40): total duration 60\n",
    "Example 2:\n",
    "\n",
    "Input: [60,60,60]\n",
    "Output: 3\n",
    "Explanation: All three pairs have a total duration of 120, which is divisible by 60."
   ]
  },
  {
   "cell_type": "code",
   "execution_count": 153,
   "metadata": {},
   "outputs": [],
   "source": [
    "time = [30,20,150,100,40]\n",
    "# time = [60,60,60]\n",
    "# time = [20,40]"
   ]
  },
  {
   "cell_type": "code",
   "execution_count": 146,
   "metadata": {},
   "outputs": [
    {
     "data": {
      "text/plain": [
       "[20, 40]"
      ]
     },
     "execution_count": 146,
     "metadata": {},
     "output_type": "execute_result"
    }
   ],
   "source": [
    "reduce = sorted([i%60 for i in time])\n",
    "reduce"
   ]
  },
  {
   "cell_type": "code",
   "execution_count": 123,
   "metadata": {},
   "outputs": [],
   "source": [
    "i = 0\n",
    "j = len(reduce)-1"
   ]
  },
  {
   "cell_type": "code",
   "execution_count": 124,
   "metadata": {},
   "outputs": [],
   "source": [
    "# failed\n",
    "count = 0\n",
    "while (i<=j):\n",
    "    if reduce[i]+reduce[j] > 60:\n",
    "        j = j-1\n",
    "    if (reduce[i]+reduce[j] < 60) and (reduce[i]+reduce[j] % 60)!=0:\n",
    "        i = i+1\n",
    "    if (reduce[i]+reduce[j]) % 60 == 0:\n",
    "        count = count+1\n",
    "        i = i+1"
   ]
  },
  {
   "cell_type": "code",
   "execution_count": 125,
   "metadata": {},
   "outputs": [
    {
     "data": {
      "text/plain": [
       "3"
      ]
     },
     "execution_count": 125,
     "metadata": {},
     "output_type": "execute_result"
    }
   ],
   "source": [
    "count"
   ]
  },
  {
   "cell_type": "code",
   "execution_count": null,
   "metadata": {},
   "outputs": [],
   "source": []
  },
  {
   "cell_type": "code",
   "execution_count": null,
   "metadata": {},
   "outputs": [],
   "source": []
  },
  {
   "cell_type": "code",
   "execution_count": 177,
   "metadata": {},
   "outputs": [],
   "source": [
    "# Ideal:\n",
    "# create a dict - hashmap store complement of number\n",
    "# i.e if num= 20 -> complement = 40\n",
    "# for loop to check, if num is already in complement dict or not\n",
    "# if it's not, add it to dict\n",
    "# else if it already exists, return this counplt with sum = 60s, in this case, incrase counting val 'ans' by 1"
   ]
  },
  {
   "cell_type": "code",
   "execution_count": 154,
   "metadata": {},
   "outputs": [],
   "source": [
    "# solution\n",
    "time = [30,20,150,100,40]\n",
    "# time = [60,60,60]\n",
    "# time = [20,40]"
   ]
  },
  {
   "cell_type": "code",
   "execution_count": 172,
   "metadata": {
    "scrolled": true
   },
   "outputs": [],
   "source": [
    "seen = {i:0 for i in range(60)}"
   ]
  },
  {
   "cell_type": "code",
   "execution_count": 173,
   "metadata": {},
   "outputs": [],
   "source": [
    "ans = 0"
   ]
  },
  {
   "cell_type": "code",
   "execution_count": 174,
   "metadata": {},
   "outputs": [
    {
     "name": "stdout",
     "output_type": "stream",
     "text": [
      "30 30 seen thieu = 0 30 seen= 0 ans = 0\n",
      "30 30 seen thieu = 1 30 seen= 1 ans = 0\n",
      "\n",
      "20 40 seen thieu = 0 20 seen= 0 ans = 0\n",
      "20 40 seen thieu = 0 20 seen= 1 ans = 0\n",
      "\n",
      "150 30 seen thieu = 1 30 seen= 1 ans = 0\n",
      "150 30 seen thieu = 2 30 seen= 2 ans = 1\n",
      "\n",
      "100 20 seen thieu = 1 40 seen= 0 ans = 1\n",
      "100 20 seen thieu = 1 40 seen= 1 ans = 2\n",
      "\n",
      "40 20 seen thieu = 1 40 seen= 1 ans = 2\n",
      "40 20 seen thieu = 1 40 seen= 2 ans = 3\n",
      "\n"
     ]
    }
   ],
   "source": [
    "for i in time:\n",
    "    print(i, -i%60, \"seen thieu =\", seen[-i%60], i%60, \"seen=\", seen[i%60], \"ans =\", ans)\n",
    "    ans += seen[-i%60]\n",
    "    seen[i%60] += 1\n",
    "    print(i, -i%60, \"seen thieu =\", seen[-i%60], i%60, \"seen=\", seen[i%60], \"ans =\", ans)\n",
    "    print()"
   ]
  },
  {
   "cell_type": "code",
   "execution_count": 175,
   "metadata": {},
   "outputs": [
    {
     "data": {
      "text/plain": [
       "3"
      ]
     },
     "execution_count": 175,
     "metadata": {},
     "output_type": "execute_result"
    }
   ],
   "source": [
    "ans"
   ]
  },
  {
   "cell_type": "code",
   "execution_count": 151,
   "metadata": {},
   "outputs": [
    {
     "data": {
      "text/plain": [
       "1"
      ]
     },
     "execution_count": 151,
     "metadata": {},
     "output_type": "execute_result"
    }
   ],
   "source": [
    "seen[40]"
   ]
  },
  {
   "cell_type": "code",
   "execution_count": 152,
   "metadata": {},
   "outputs": [
    {
     "data": {
      "text/plain": [
       "1"
      ]
     },
     "execution_count": 152,
     "metadata": {},
     "output_type": "execute_result"
    }
   ],
   "source": [
    "seen[20]"
   ]
  },
  {
   "cell_type": "code",
   "execution_count": 176,
   "metadata": {},
   "outputs": [],
   "source": [
    "# # hashmap\n",
    "# class Solution:\n",
    "#     def numPairsDivisibleBy60(self, time: List[int]) -> int:\n",
    "#         seen = {i:0 for i in range(60)}\n",
    "#         ans = 0\n",
    "        \n",
    "#         for i in time:\n",
    "#             ans += seen[-i%60]\n",
    "#             seen[i%60] += 1\n",
    "        \n",
    "#         return ans\n"
   ]
  },
  {
   "cell_type": "code",
   "execution_count": null,
   "metadata": {},
   "outputs": [],
   "source": []
  },
  {
   "cell_type": "code",
   "execution_count": null,
   "metadata": {},
   "outputs": [],
   "source": []
  }
 ],
 "metadata": {
  "kernelspec": {
   "display_name": "Python 3",
   "language": "python",
   "name": "python3"
  },
  "language_info": {
   "codemirror_mode": {
    "name": "ipython",
    "version": 3
   },
   "file_extension": ".py",
   "mimetype": "text/x-python",
   "name": "python",
   "nbconvert_exporter": "python",
   "pygments_lexer": "ipython3",
   "version": "3.7.5"
  }
 },
 "nbformat": 4,
 "nbformat_minor": 4
}
