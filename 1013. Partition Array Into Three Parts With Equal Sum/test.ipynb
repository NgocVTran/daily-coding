{
 "cells": [
  {
   "cell_type": "markdown",
   "metadata": {},
   "source": [
    "Given an array A of integers, return true if and only if we can partition the array into three non-empty parts with equal sums.\n",
    "\n",
    "Formally, we can partition the array if we can find indexes i+1 < j with (A[0] + A[1] + ... + A[i] == A[i+1] + A[i+2] + ... + A[j-1] == A[j] + A[j-1] + ... + A[A.length - 1])\n",
    "\n",
    " \n",
    "\n",
    "Example 1:\n",
    "\n",
    "Input: A = [0,2,1,-6,6,-7,9,1,2,0,1]\n",
    "Output: true\n",
    "Explanation: 0 + 2 + 1 = -6 + 6 - 7 + 9 + 1 = 2 + 0 + 1\n",
    "Example 2:\n",
    "\n",
    "Input: A = [0,2,1,-6,6,7,9,-1,2,0,1]\n",
    "Output: false\n",
    "Example 3:\n",
    "\n",
    "Input: A = [3,3,6,5,-2,2,5,1,-9,4]\n",
    "Output: true\n",
    "Explanation: 3 + 3 = 6 = 5 - 2 + 2 + 5 + 1 - 9 + 4\n",
    " \n",
    "\n",
    "Constraints:\n",
    "\n",
    "3 <= A.length <= 50000\n",
    "-10^4 <= A[i] <= 10^4"
   ]
  },
  {
   "cell_type": "code",
   "execution_count": 11,
   "metadata": {},
   "outputs": [],
   "source": [
    "def canThreePartsEqualSum(A):\n",
    "    S = sum(A)\n",
    "    if S % 3 != 0: \n",
    "        return False\n",
    "    \n",
    "    goal = S//3\n",
    "    cumulative, partition = 0, 0\n",
    "    for a in A[:-1]:\n",
    "        cumulative += a\n",
    "        if cumulative == goal:\n",
    "            if partition == 1: \n",
    "                return True\n",
    "            cumulative, partition = 0, 1\n",
    "            \n",
    "    return False"
   ]
  },
  {
   "cell_type": "code",
   "execution_count": 12,
   "metadata": {},
   "outputs": [],
   "source": [
    "A = [0,2,1,-6,6,-7,9,1,2,0,1]\n",
    "# Output: true\n",
    "# Explanation: 0 + 2 + 1 = -6 + 6 - 7 + 9 + 1 = 2 + 0 + 1"
   ]
  },
  {
   "cell_type": "code",
   "execution_count": 13,
   "metadata": {},
   "outputs": [
    {
     "data": {
      "text/plain": [
       "True"
      ]
     },
     "execution_count": 13,
     "metadata": {},
     "output_type": "execute_result"
    }
   ],
   "source": [
    "canThreePartsEqualSum(A)"
   ]
  },
  {
   "cell_type": "code",
   "execution_count": null,
   "metadata": {},
   "outputs": [],
   "source": []
  },
  {
   "cell_type": "code",
   "execution_count": null,
   "metadata": {},
   "outputs": [],
   "source": []
  }
 ],
 "metadata": {
  "kernelspec": {
   "display_name": "Python 3",
   "language": "python",
   "name": "python3"
  },
  "language_info": {
   "codemirror_mode": {
    "name": "ipython",
    "version": 3
   },
   "file_extension": ".py",
   "mimetype": "text/x-python",
   "name": "python",
   "nbconvert_exporter": "python",
   "pygments_lexer": "ipython3",
   "version": "3.7.5"
  }
 },
 "nbformat": 4,
 "nbformat_minor": 4
}
