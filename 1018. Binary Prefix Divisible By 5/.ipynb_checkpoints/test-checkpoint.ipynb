{
 "cells": [
  {
   "cell_type": "markdown",
   "metadata": {},
   "source": [
    "Given an array A of 0s and 1s, consider N_i: the i-th subarray from A[0] to A[i] interpreted as a binary number (from most-significant-bit to least-significant-bit.)\n",
    "\n",
    "Return a list of booleans answer, where answer[i] is true if and only if N_i is divisible by 5.\n",
    "\n",
    "Example 1:\n",
    "\n",
    "Input: [0,1,1]\n",
    "Output: [true,false,false]\n",
    "Explanation: \n",
    "The input numbers in binary are 0, 01, 011; which are 0, 1, and 3 in base-10.  Only the first number is divisible by 5, so answer[0] is true.\n",
    "Example 2:\n",
    "\n",
    "Input: [1,1,1]\n",
    "Output: [false,false,false]\n",
    "Example 3:\n",
    "\n",
    "Input: [0,1,1,1,1,1]\n",
    "Output: [true,false,false,false,true,false]\n",
    "Example 4:\n",
    "\n",
    "Input: [1,1,1,0,1]\n",
    "Output: [false,false,false,false,false]"
   ]
  },
  {
   "cell_type": "code",
   "execution_count": 22,
   "metadata": {},
   "outputs": [],
   "source": [
    "def prefixesDivBy5(A):\n",
    "    s = \"\"\n",
    "    result = []\n",
    "    for a in A:\n",
    "        s = s + str(a)\n",
    "        total = sum(int(c) * (2 ** i) for i, c in enumerate(s[::-1]))\n",
    "        if total%5 == 0:\n",
    "            result.append(True)\n",
    "        else:\n",
    "            result.append(False)\n",
    "    \n",
    "    return result"
   ]
  },
  {
   "cell_type": "code",
   "execution_count": 2,
   "metadata": {},
   "outputs": [
    {
     "ename": "SyntaxError",
     "evalue": "invalid syntax (<ipython-input-2-114011710644>, line 3)",
     "output_type": "error",
     "traceback": [
      "\u001b[0;36m  File \u001b[0;32m\"<ipython-input-2-114011710644>\"\u001b[0;36m, line \u001b[0;32m3\u001b[0m\n\u001b[0;31m    return (lambda n: [ (n:=2*n+i)%5==0 for i in A ])(0)\u001b[0m\n\u001b[0m                          ^\u001b[0m\n\u001b[0;31mSyntaxError\u001b[0m\u001b[0;31m:\u001b[0m invalid syntax\n"
     ]
    }
   ],
   "source": [
    "# another solution\n",
    "def prefixesDivBy5(A):\n",
    "    return (lambda n: [ (n:=2*n+i)%5==0 for i in A ])(0)"
   ]
  },
  {
   "cell_type": "code",
   "execution_count": 23,
   "metadata": {},
   "outputs": [],
   "source": [
    "A = [0,1,1]\n",
    "# Output: [true,false,false]\n",
    "\n",
    "# A = [1,1,1]\n",
    "# # Output: [false,false,false]"
   ]
  },
  {
   "cell_type": "code",
   "execution_count": 24,
   "metadata": {},
   "outputs": [
    {
     "data": {
      "text/plain": [
       "[True, False, False]"
      ]
     },
     "execution_count": 24,
     "metadata": {},
     "output_type": "execute_result"
    }
   ],
   "source": [
    "prefixesDivBy5(A)"
   ]
  },
  {
   "cell_type": "code",
   "execution_count": 15,
   "metadata": {},
   "outputs": [
    {
     "name": "stdout",
     "output_type": "stream",
     "text": [
      "0\n"
     ]
    }
   ],
   "source": [
    "# sum(int(c) * (2 ** i) for i, c in enumerate(s[::-1]))"
   ]
  },
  {
   "cell_type": "code",
   "execution_count": null,
   "metadata": {},
   "outputs": [],
   "source": [
    "def prefixesDivBy5(self, A, N=0):\n",
    "    return [(N := (N*2+a)%5) == 0 for a in A]"
   ]
  },
  {
   "cell_type": "code",
   "execution_count": null,
   "metadata": {},
   "outputs": [],
   "source": [
    "class Solution:\n",
    "    def prefixesDivBy5(self, A: List[int]) -> List[bool]:\n",
    "        return (lambda n: [ (n:=2*n+i)%5==0 for i in A ])(0)"
   ]
  },
  {
   "cell_type": "code",
   "execution_count": null,
   "metadata": {},
   "outputs": [],
   "source": []
  },
  {
   "cell_type": "code",
   "execution_count": null,
   "metadata": {},
   "outputs": [],
   "source": []
  }
 ],
 "metadata": {
  "kernelspec": {
   "display_name": "Python 3",
   "language": "python",
   "name": "python3"
  },
  "language_info": {
   "codemirror_mode": {
    "name": "ipython",
    "version": 3
   },
   "file_extension": ".py",
   "mimetype": "text/x-python",
   "name": "python",
   "nbconvert_exporter": "python",
   "pygments_lexer": "ipython3",
   "version": "3.7.5"
  }
 },
 "nbformat": 4,
 "nbformat_minor": 4
}
