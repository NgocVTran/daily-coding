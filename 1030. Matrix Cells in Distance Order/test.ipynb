{
 "cells": [
  {
   "cell_type": "markdown",
   "metadata": {},
   "source": [
    "We are given a matrix with R rows and C columns has cells with integer coordinates (r, c), where 0 <= r < R and 0 <= c < C.\n",
    "\n",
    "Additionally, we are given a cell in that matrix with coordinates (r0, c0).\n",
    "\n",
    "Return the coordinates of all cells in the matrix, sorted by their distance from (r0, c0) from smallest distance to largest distance.  Here, the distance between two cells (r1, c1) and (r2, c2) is the Manhattan distance, |r1 - r2| + |c1 - c2|.  (You may return the answer in any order that satisfies this condition.)\n",
    "\n",
    " \n",
    "\n",
    "Example 1:\n",
    "\n",
    "Input: R = 1, C = 2, r0 = 0, c0 = 0\n",
    "Output: [[0,0],[0,1]]\n",
    "Explanation: The distances from (r0, c0) to other cells are: [0,1]\n",
    "Example 2:\n",
    "\n",
    "Input: R = 2, C = 2, r0 = 0, c0 = 1\n",
    "Output: [[0,1],[0,0],[1,1],[1,0]]\n",
    "Explanation: The distances from (r0, c0) to other cells are: [0,1,1,2]\n",
    "The answer [[0,1],[1,1],[0,0],[1,0]] would also be accepted as correct.\n",
    "Example 3:\n",
    "\n",
    "Input: R = 2, C = 3, r0 = 1, c0 = 2\n",
    "Output: [[1,2],[0,2],[1,1],[0,1],[1,0],[0,0]]\n",
    "Explanation: The distances from (r0, c0) to other cells are: [0,1,1,2,2,3]\n",
    "There are other answers that would also be accepted as correct, such as [[1,2],[1,1],[0,2],[1,0],[0,1],[0,0]]."
   ]
  },
  {
   "cell_type": "code",
   "execution_count": 1,
   "metadata": {},
   "outputs": [],
   "source": [
    "# Input: \n",
    "R = 2\n",
    "C = 2\n",
    "r0 = 0\n",
    "c0 = 1\n",
    "# Output: [[0,1],[0,0],[1,1],[1,0]]"
   ]
  },
  {
   "cell_type": "code",
   "execution_count": null,
   "metadata": {},
   "outputs": [],
   "source": []
  },
  {
   "cell_type": "code",
   "execution_count": 3,
   "metadata": {},
   "outputs": [],
   "source": [
    "dct = {}"
   ]
  },
  {
   "cell_type": "code",
   "execution_count": 23,
   "metadata": {},
   "outputs": [
    {
     "name": "stdout",
     "output_type": "stream",
     "text": [
      "0 0\n",
      "0 1\n",
      "1 0\n",
      "1 1\n"
     ]
    }
   ],
   "source": [
    "for r in range(R):\n",
    "    for c in range(C):\n",
    "        print(r,c)\n",
    "        dct[(r,c)] = abs(r-r0) + abs(c-c0)"
   ]
  },
  {
   "cell_type": "code",
   "execution_count": 24,
   "metadata": {},
   "outputs": [
    {
     "data": {
      "text/plain": [
       "{(0, 0): 1, (0, 1): 0, (1, 0): 2, (1, 1): 1}"
      ]
     },
     "execution_count": 24,
     "metadata": {},
     "output_type": "execute_result"
    }
   ],
   "source": [
    "dct"
   ]
  },
  {
   "cell_type": "code",
   "execution_count": 30,
   "metadata": {},
   "outputs": [
    {
     "data": {
      "text/plain": [
       "[((0, 1), 0), ((0, 0), 1), ((1, 1), 1), ((1, 0), 2)]"
      ]
     },
     "execution_count": 30,
     "metadata": {},
     "output_type": "execute_result"
    }
   ],
   "source": [
    "sort = sorted(dct.items(), key=lambda x: x[1])\n",
    "sort"
   ]
  },
  {
   "cell_type": "code",
   "execution_count": 35,
   "metadata": {},
   "outputs": [
    {
     "data": {
      "text/plain": [
       "[[0, 1], [0, 0], [1, 1], [1, 0]]"
      ]
     },
     "execution_count": 35,
     "metadata": {},
     "output_type": "execute_result"
    }
   ],
   "source": [
    "[[i,j] for ((i,j), _) in sort]"
   ]
  },
  {
   "cell_type": "code",
   "execution_count": null,
   "metadata": {},
   "outputs": [],
   "source": []
  },
  {
   "cell_type": "code",
   "execution_count": 36,
   "metadata": {},
   "outputs": [],
   "source": [
    "def allCellsDistOrder(R, C, r0, c0):\n",
    "    dct = {}\n",
    "    for r in range(R):\n",
    "        for c in range(C):\n",
    "            dct[(r,c)] = abs(r-r0) + abs(c-c0)\n",
    "            \n",
    "    sort = sorted(dct.items(), key=lambda x: x[1])\n",
    "    return [[i,j] for ((i,j), _) in sort]"
   ]
  },
  {
   "cell_type": "code",
   "execution_count": 37,
   "metadata": {},
   "outputs": [
    {
     "name": "stdout",
     "output_type": "stream",
     "text": [
      "0 0\n",
      "0 1\n",
      "1 0\n",
      "1 1\n"
     ]
    },
    {
     "data": {
      "text/plain": [
       "[[0, 1], [0, 0], [1, 1], [1, 0]]"
      ]
     },
     "execution_count": 37,
     "metadata": {},
     "output_type": "execute_result"
    }
   ],
   "source": [
    "allCellsDistOrder(R, C, r0, c0)"
   ]
  },
  {
   "cell_type": "code",
   "execution_count": null,
   "metadata": {},
   "outputs": [],
   "source": [
    "# sorted((coords_list), key = getKey)"
   ]
  }
 ],
 "metadata": {
  "kernelspec": {
   "display_name": "Python 3",
   "language": "python",
   "name": "python3"
  },
  "language_info": {
   "codemirror_mode": {
    "name": "ipython",
    "version": 3
   },
   "file_extension": ".py",
   "mimetype": "text/x-python",
   "name": "python",
   "nbconvert_exporter": "python",
   "pygments_lexer": "ipython3",
   "version": "3.7.5"
  }
 },
 "nbformat": 4,
 "nbformat_minor": 4
}
