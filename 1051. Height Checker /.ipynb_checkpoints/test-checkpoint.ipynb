{
 "cells": [
  {
   "cell_type": "markdown",
   "metadata": {},
   "source": [
    "Students are asked to stand in non-decreasing order of heights for an annual photo.\n",
    "\n",
    "Return the minimum number of students that must move in order for all students to be standing in non-decreasing order of height.\n",
    "\n",
    "Notice that when a group of students is selected they can reorder in any possible way between themselves and the non selected students remain on their seats.\n",
    "\n",
    " \n",
    "\n",
    "Example 1:\n",
    "\n",
    "Input: heights = [1,1,4,2,1,3]\n",
    "Output: 3\n",
    "Explanation: \n",
    "Current array : [1,1,4,2,1,3]\n",
    "Target array  : [1,1,1,2,3,4]\n",
    "On index 2 (0-based) we have 4 vs 1 so we have to move this student.\n",
    "On index 4 (0-based) we have 1 vs 3 so we have to move this student.\n",
    "On index 5 (0-based) we have 3 vs 4 so we have to move this student.\n",
    "Example 2:\n",
    "\n",
    "Input: heights = [5,1,2,3,4]\n",
    "Output: 5\n",
    "Example 3:\n",
    "\n",
    "Input: heights = [1,2,3,4,5]\n",
    "Output: 0"
   ]
  },
  {
   "cell_type": "code",
   "execution_count": 5,
   "metadata": {},
   "outputs": [],
   "source": [
    "# heights = [1,1,4,2,1,3] # 3\n",
    "# heights = [4,3,2,7,8,2,3,1]"
   ]
  },
  {
   "cell_type": "code",
   "execution_count": 2,
   "metadata": {},
   "outputs": [
    {
     "data": {
      "text/plain": [
       "[1, 2, 2, 3, 3, 4, 7, 8]"
      ]
     },
     "execution_count": 2,
     "metadata": {},
     "output_type": "execute_result"
    }
   ],
   "source": [
    "h = sorted(heights)\n",
    "h"
   ]
  },
  {
   "cell_type": "code",
   "execution_count": 3,
   "metadata": {},
   "outputs": [],
   "source": [
    "count = 0\n",
    "for i in range(len(h)):\n",
    "    if h[i] != heights[i]:\n",
    "        count += 1"
   ]
  },
  {
   "cell_type": "code",
   "execution_count": 4,
   "metadata": {},
   "outputs": [
    {
     "data": {
      "text/plain": [
       "7"
      ]
     },
     "execution_count": 4,
     "metadata": {},
     "output_type": "execute_result"
    }
   ],
   "source": [
    "count"
   ]
  },
  {
   "cell_type": "markdown",
   "metadata": {},
   "source": [
    "### new way to sort array!! WRONG\n",
    "with Two Pointer\n",
    "\n",
    "and can return the min number of move"
   ]
  },
  {
   "cell_type": "code",
   "execution_count": 74,
   "metadata": {},
   "outputs": [],
   "source": [
    "# heights = [1,1,4,2,1,3] # 3\n",
    "heights = [5,1,2,3,4] # 3"
   ]
  },
  {
   "cell_type": "code",
   "execution_count": 6,
   "metadata": {},
   "outputs": [],
   "source": [
    "count = 0"
   ]
  },
  {
   "cell_type": "code",
   "execution_count": 11,
   "metadata": {},
   "outputs": [],
   "source": [
    "i = 0\n",
    "j = len(heights)-1"
   ]
  },
  {
   "cell_type": "code",
   "execution_count": 12,
   "metadata": {},
   "outputs": [
    {
     "name": "stdout",
     "output_type": "stream",
     "text": [
      "\n",
      "\n",
      "\n",
      "\n",
      "[1, 3, 2, 2, 8, 3, 7, 4]\n",
      "i= 4 j= 7 8 4\n",
      "i= 4 j= 6 4 7\n",
      "\n",
      "\n",
      "\n",
      "\n"
     ]
    }
   ],
   "source": [
    "while (i<=j):\n",
    "    if heights[i] > heights[j]:\n",
    "        print(heights)\n",
    "        print(\"i=\",i, \"j=\", j, heights[i], heights[j])\n",
    "        heights[i], heights[j] = heights[j], heights[i]\n",
    "        count = count+1\n",
    "        j = j-1\n",
    "        print(\"i=\",i, \"j=\", j, heights[i], heights[j])\n",
    "    else:\n",
    "        i = i+1\n",
    "    print()"
   ]
  },
  {
   "cell_type": "code",
   "execution_count": 13,
   "metadata": {},
   "outputs": [
    {
     "data": {
      "text/plain": [
       "[1, 3, 2, 2, 4, 3, 7, 8]"
      ]
     },
     "execution_count": 13,
     "metadata": {},
     "output_type": "execute_result"
    }
   ],
   "source": [
    "heights"
   ]
  },
  {
   "cell_type": "code",
   "execution_count": 10,
   "metadata": {},
   "outputs": [
    {
     "data": {
      "text/plain": [
       "3"
      ]
     },
     "execution_count": 10,
     "metadata": {},
     "output_type": "execute_result"
    }
   ],
   "source": [
    "count"
   ]
  },
  {
   "cell_type": "code",
   "execution_count": null,
   "metadata": {},
   "outputs": [],
   "source": []
  }
 ],
 "metadata": {
  "kernelspec": {
   "display_name": "Python 3",
   "language": "python",
   "name": "python3"
  },
  "language_info": {
   "codemirror_mode": {
    "name": "ipython",
    "version": 3
   },
   "file_extension": ".py",
   "mimetype": "text/x-python",
   "name": "python",
   "nbconvert_exporter": "python",
   "pygments_lexer": "ipython3",
   "version": "3.7.5"
  }
 },
 "nbformat": 4,
 "nbformat_minor": 4
}
