{
 "cells": [
  {
   "cell_type": "markdown",
   "metadata": {},
   "source": [
    "Given a fixed length array arr of integers, duplicate each occurrence of zero, shifting the remaining elements to the right.\n",
    "\n",
    "Note that elements beyond the length of the original array are not written.\n",
    "\n",
    "Do the above modifications to the input array in place, do not return anything from your function.\n",
    "\n",
    " \n",
    "\n",
    "Example 1:\n",
    "\n",
    "Input: [1,0,2,3,0,4,5,0]\n",
    "Output: null\n",
    "Explanation: After calling your function, the input array is modified to: [1,0,0,2,3,0,0,4]\n",
    "Example 2:\n",
    "\n",
    "Input: [1,2,3]\n",
    "Output: null\n",
    "Explanation: After calling your function, the input array is modified to: [1,2,3]\n",
    " \n",
    "\n",
    "Note:\n",
    "\n",
    "1 <= arr.length <= 10000\n",
    "0 <= arr[i] <= 9"
   ]
  },
  {
   "cell_type": "code",
   "execution_count": 2,
   "metadata": {},
   "outputs": [],
   "source": [
    "arr = [1,0,2,3,0,4,5,0]\n",
    "# [1,0,0,2,3,0,0,4]\n",
    "\n",
    "# arr = [1,2,3]\n",
    "# # [1,2,3]"
   ]
  },
  {
   "cell_type": "code",
   "execution_count": 4,
   "metadata": {},
   "outputs": [],
   "source": [
    "result = []\n",
    "\n",
    "for a in arr:\n",
    "    result.append(a)\n",
    "    if a == 0:\n",
    "        result.append(0)"
   ]
  },
  {
   "cell_type": "code",
   "execution_count": 6,
   "metadata": {},
   "outputs": [
    {
     "data": {
      "text/plain": [
       "[1, 0, 0, 2, 3, 0, 0, 4]"
      ]
     },
     "execution_count": 6,
     "metadata": {},
     "output_type": "execute_result"
    }
   ],
   "source": [
    "result[:len(arr)]"
   ]
  },
  {
   "cell_type": "code",
   "execution_count": 7,
   "metadata": {},
   "outputs": [],
   "source": [
    "for i in range(len(arr)):\n",
    "    arr[i] = result[i]"
   ]
  },
  {
   "cell_type": "code",
   "execution_count": 8,
   "metadata": {},
   "outputs": [
    {
     "data": {
      "text/plain": [
       "[1, 0, 0, 2, 3, 0, 0, 4]"
      ]
     },
     "execution_count": 8,
     "metadata": {},
     "output_type": "execute_result"
    }
   ],
   "source": [
    "arr"
   ]
  },
  {
   "cell_type": "code",
   "execution_count": null,
   "metadata": {},
   "outputs": [],
   "source": []
  },
  {
   "cell_type": "code",
   "execution_count": 134,
   "metadata": {},
   "outputs": [],
   "source": [
    "# try another solution\n",
    "arr = [1,0,2,3,0,4,5,0]\n",
    "# [1,0,0,2,3,0,0,4]\n",
    "\n",
    "# arr = [1,2,3]\n",
    "# # [1,2,3]"
   ]
  },
  {
   "cell_type": "code",
   "execution_count": 135,
   "metadata": {},
   "outputs": [
    {
     "name": "stdout",
     "output_type": "stream",
     "text": [
      "[1, 0, 0, 2, 3, 0, 4, 5]\n",
      "[1, 0, 0, 2, 3, 0, 0, 4]\n"
     ]
    }
   ],
   "source": [
    "i = 0\n",
    "\n",
    "while i<len(arr)-1:\n",
    "    if arr[i] == 0:\n",
    "        for j in range(len(arr)-1,i+1, -1):\n",
    "            arr[j] = arr[j-1]\n",
    "        arr[i+1] = 0\n",
    "        i = i+1\n",
    "        print(arr)\n",
    "    i = i+1\n"
   ]
  },
  {
   "cell_type": "code",
   "execution_count": 119,
   "metadata": {},
   "outputs": [
    {
     "data": {
      "text/plain": [
       "[1, 0, 2, 3, 0, 4, 5, 0]"
      ]
     },
     "execution_count": 119,
     "metadata": {},
     "output_type": "execute_result"
    }
   ],
   "source": [
    "arr"
   ]
  },
  {
   "cell_type": "code",
   "execution_count": 123,
   "metadata": {},
   "outputs": [],
   "source": [
    "for j in range(len(arr)-1,2, -1):\n",
    "    arr[j] = arr[j-1]"
   ]
  },
  {
   "cell_type": "code",
   "execution_count": 124,
   "metadata": {},
   "outputs": [
    {
     "data": {
      "text/plain": [
       "[1, 0, 2, 2, 3, 0, 4, 5]"
      ]
     },
     "execution_count": 124,
     "metadata": {},
     "output_type": "execute_result"
    }
   ],
   "source": [
    "arr"
   ]
  },
  {
   "cell_type": "code",
   "execution_count": null,
   "metadata": {},
   "outputs": [],
   "source": []
  },
  {
   "cell_type": "code",
   "execution_count": 88,
   "metadata": {},
   "outputs": [
    {
     "data": {
      "text/plain": [
       "[1, 0, 2, 3, 0, 4, 5, 0]"
      ]
     },
     "execution_count": 88,
     "metadata": {},
     "output_type": "execute_result"
    }
   ],
   "source": [
    "arr"
   ]
  },
  {
   "cell_type": "code",
   "execution_count": 89,
   "metadata": {},
   "outputs": [],
   "source": [
    "i = 0\n",
    "\n",
    "while i<len(arr)-1:\n",
    "    if arr[i]==0:\n",
    "        rest_list = arr[i:]\n",
    "        l = len(arr[i:])\n",
    "        arr[i+1:] = rest_list[:l-1]\n",
    "        i = i+1\n",
    "    i = i+1"
   ]
  },
  {
   "cell_type": "code",
   "execution_count": 90,
   "metadata": {},
   "outputs": [
    {
     "data": {
      "text/plain": [
       "[1, 0, 0, 2, 3, 0, 0, 4]"
      ]
     },
     "execution_count": 90,
     "metadata": {},
     "output_type": "execute_result"
    }
   ],
   "source": [
    "arr"
   ]
  },
  {
   "cell_type": "code",
   "execution_count": null,
   "metadata": {},
   "outputs": [],
   "source": []
  },
  {
   "cell_type": "code",
   "execution_count": 1,
   "metadata": {},
   "outputs": [],
   "source": [
    "def duplicateZeros(arr):\n",
    "    start = 0\n",
    "    end = len(arr) - 1\n",
    "    _len = end  # Keeping array length\n",
    "    is_edge_case = False\n",
    "    while start <= end:\n",
    "        # Edge Case for extra zero \n",
    "        if arr[start] == 0 and start == end:\n",
    "            arr[_len] = 0\n",
    "            end -= 1\n",
    "            is_edge_case = True\n",
    "            break\n",
    "        # Normal Case \t\n",
    "        if arr[start] == 0:\n",
    "            end -= 1\n",
    "        start += 1\n",
    "\n",
    "    # Get the last index  \n",
    "    last_idx = _len if not is_edge_case else _len-1\n",
    "    for val in reversed(arr[:end + 1]):\n",
    "        arr[last_idx] = val\n",
    "        if val == 0:\n",
    "            last_idx -= 1\n",
    "            arr[last_idx] = 0\n",
    "        last_idx -= 1\n",
    "    return"
   ]
  },
  {
   "cell_type": "code",
   "execution_count": null,
   "metadata": {},
   "outputs": [],
   "source": []
  },
  {
   "cell_type": "code",
   "execution_count": null,
   "metadata": {},
   "outputs": [],
   "source": []
  }
 ],
 "metadata": {
  "kernelspec": {
   "display_name": "Python 3",
   "language": "python",
   "name": "python3"
  },
  "language_info": {
   "codemirror_mode": {
    "name": "ipython",
    "version": 3
   },
   "file_extension": ".py",
   "mimetype": "text/x-python",
   "name": "python",
   "nbconvert_exporter": "python",
   "pygments_lexer": "ipython3",
   "version": "3.7.5"
  }
 },
 "nbformat": 4,
 "nbformat_minor": 4
}
