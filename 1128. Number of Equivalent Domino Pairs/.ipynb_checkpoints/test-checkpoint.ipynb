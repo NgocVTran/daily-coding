{
 "cells": [
  {
   "cell_type": "markdown",
   "metadata": {},
   "source": [
    "Given a list of dominoes, dominoes[i] = [a, b] is equivalent to dominoes[j] = [c, d] if and only if either (a==c and b==d), or (a==d and b==c) - that is, one domino can be rotated to be equal to another domino.\n",
    "\n",
    "Return the number of pairs (i, j) for which 0 <= i < j < dominoes.length, and dominoes[i] is equivalent to dominoes[j].\n",
    "\n",
    " \n",
    "\n",
    "Example 1:\n",
    "\n",
    "Input: dominoes = [[1,2],[2,1],[3,4],[5,6]]\n",
    "Output: 1\n",
    " \n",
    "\n",
    "Constraints:\n",
    "\n",
    "1 <= dominoes.length <= 40000\n",
    "1 <= dominoes[i][j] <= 9"
   ]
  },
  {
   "cell_type": "code",
   "execution_count": 65,
   "metadata": {},
   "outputs": [],
   "source": [
    "def numEquivDominoPairs(dominoes):\n",
    "\n",
    "    sort_dom = []\n",
    "    for d in dominoes:\n",
    "        sort_dom.append([min(d[0],d[1]), max(d[0],d[1])])\n",
    "        \n",
    "    count = {}\n",
    "    for sd in sort_dom:\n",
    "        t = tuple(sd)\n",
    "        if t in count:\n",
    "            count[t] += 1\n",
    "        else:\n",
    "            count[t] = 1\n",
    "    \n",
    "    summ = 0\n",
    "    for k,v in count.items():\n",
    "        if v > 1:\n",
    "            summ += (v-1)*v//2\n",
    "    return summ"
   ]
  },
  {
   "cell_type": "code",
   "execution_count": 70,
   "metadata": {},
   "outputs": [],
   "source": [
    "# better syntax\n",
    "def numEquivDominoPairs(dominoes):\n",
    "    maps = {}\n",
    "    count = 0\n",
    "    for i in dominoes:\n",
    "        if (i[0],i[1]) not in maps and  (i[1],i[0]) not in maps:\n",
    "            maps[(i[0],i[1])] = 1\n",
    "        else:\n",
    "            if (i[0],i[1]) in maps:\n",
    "                maps[(i[0],i[1])] += 1\n",
    "            else:\n",
    "                maps[(i[1],i[0])] += 1\n",
    "    count = 0\n",
    "    for i in maps:\n",
    "        if maps[i] >= 2:\n",
    "            count += maps[i] * (maps[i]-1)//2\n",
    "    return count"
   ]
  },
  {
   "cell_type": "code",
   "execution_count": 71,
   "metadata": {},
   "outputs": [],
   "source": [
    "# dominoes = [[1,2],[2,1],[3,4],[5,6]]\n",
    "# # Output: 1\n",
    "\n",
    "# dominoes = [[1,2],[1,2],[1,1],[1,2],[2,2]]\n",
    "# # Output: 3\n",
    "\n",
    "dominoes = [[2,1],[1,2],[1,2],[1,2],[2,1],[1,1],[1,2],[2,2]]\n",
    "# Output = 15"
   ]
  },
  {
   "cell_type": "code",
   "execution_count": 72,
   "metadata": {},
   "outputs": [
    {
     "data": {
      "text/plain": [
       "15"
      ]
     },
     "execution_count": 72,
     "metadata": {},
     "output_type": "execute_result"
    }
   ],
   "source": [
    "numEquivDominoPairs(dominoes)"
   ]
  },
  {
   "cell_type": "code",
   "execution_count": 52,
   "metadata": {},
   "outputs": [],
   "source": [
    "sort_dom = []\n",
    "for d in dominoes:\n",
    "    sort_dom.append([min(d[0],d[1]), max(d[0],d[1])])"
   ]
  },
  {
   "cell_type": "code",
   "execution_count": 53,
   "metadata": {},
   "outputs": [
    {
     "data": {
      "text/plain": [
       "[[1, 2], [1, 2], [1, 2], [1, 2], [1, 2], [1, 1], [1, 2], [2, 2]]"
      ]
     },
     "execution_count": 53,
     "metadata": {},
     "output_type": "execute_result"
    }
   ],
   "source": [
    "sort_dom"
   ]
  },
  {
   "cell_type": "code",
   "execution_count": 54,
   "metadata": {},
   "outputs": [
    {
     "data": {
      "text/plain": [
       "6"
      ]
     },
     "execution_count": 54,
     "metadata": {},
     "output_type": "execute_result"
    }
   ],
   "source": [
    "sort_dom.count([1,2])"
   ]
  },
  {
   "cell_type": "code",
   "execution_count": 55,
   "metadata": {},
   "outputs": [
    {
     "name": "stdout",
     "output_type": "stream",
     "text": [
      "(1, 2)\n",
      "(1, 2)\n",
      "ok\n",
      "(1, 2)\n",
      "ok\n",
      "(1, 2)\n",
      "ok\n",
      "(1, 2)\n",
      "ok\n",
      "(1, 1)\n",
      "(1, 2)\n",
      "ok\n",
      "(2, 2)\n"
     ]
    }
   ],
   "source": [
    "count = {}\n",
    "for sd in sort_dom:\n",
    "    print(tuple(sd))\n",
    "    if tuple(sd) in count:\n",
    "        print(\"ok\")\n",
    "        count[tuple(sd)] += 1\n",
    "    else:\n",
    "        count[tuple(sd)] = 1"
   ]
  },
  {
   "cell_type": "code",
   "execution_count": 56,
   "metadata": {},
   "outputs": [
    {
     "data": {
      "text/plain": [
       "{(1, 2): 6, (1, 1): 1, (2, 2): 1}"
      ]
     },
     "execution_count": 56,
     "metadata": {},
     "output_type": "execute_result"
    }
   ],
   "source": [
    "count"
   ]
  },
  {
   "cell_type": "code",
   "execution_count": 20,
   "metadata": {},
   "outputs": [
    {
     "data": {
      "text/plain": [
       "True"
      ]
     },
     "execution_count": 20,
     "metadata": {},
     "output_type": "execute_result"
    }
   ],
   "source": [
    "(1,2) in count"
   ]
  },
  {
   "cell_type": "code",
   "execution_count": null,
   "metadata": {},
   "outputs": [],
   "source": [
    "# # from here I got math form of how many pairs can be generated from a number of v\n",
    "# 2 - 1\n",
    "# 3 - 3\n",
    "# 4 - 6\n",
    "# 5 - 10\n",
    "# 6 - 15\n",
    "# 7 - sum(list(range(1,v)))"
   ]
  },
  {
   "cell_type": "code",
   "execution_count": null,
   "metadata": {},
   "outputs": [],
   "source": []
  }
 ],
 "metadata": {
  "kernelspec": {
   "display_name": "Python 3",
   "language": "python",
   "name": "python3"
  },
  "language_info": {
   "codemirror_mode": {
    "name": "ipython",
    "version": 3
   },
   "file_extension": ".py",
   "mimetype": "text/x-python",
   "name": "python",
   "nbconvert_exporter": "python",
   "pygments_lexer": "ipython3",
   "version": "3.7.5"
  }
 },
 "nbformat": 4,
 "nbformat_minor": 4
}
