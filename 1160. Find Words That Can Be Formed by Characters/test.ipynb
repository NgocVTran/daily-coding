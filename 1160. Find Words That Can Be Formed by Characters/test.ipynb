{
 "cells": [
  {
   "cell_type": "markdown",
   "metadata": {},
   "source": [
    "You are given an array of strings words and a string chars.\n",
    "\n",
    "A string is good if it can be formed by characters from chars (each character can only be used once).\n",
    "\n",
    "Return the sum of lengths of all good strings in words.\n",
    "\n",
    " \n",
    "\n",
    "Example 1:\n",
    "\n",
    "Input: words = [\"cat\",\"bt\",\"hat\",\"tree\"], chars = \"atach\"\n",
    "Output: 6\n",
    "Explanation: \n",
    "The strings that can be formed are \"cat\" and \"hat\" so the answer is 3 + 3 = 6.\n",
    "Example 2:\n",
    "\n",
    "Input: words = [\"hello\",\"world\",\"leetcode\"], chars = \"welldonehoneyr\"\n",
    "Output: 10\n",
    "Explanation: \n",
    "The strings that can be formed are \"hello\" and \"world\" so the answer is 5 + 5 = 10."
   ]
  },
  {
   "cell_type": "code",
   "execution_count": 46,
   "metadata": {},
   "outputs": [],
   "source": [
    "#words = [\"cat\",\"bt\",\"hat\",\"tree\"]\n",
    "words = [\"hello\",\"world\",\"leetcode\"]"
   ]
  },
  {
   "cell_type": "code",
   "execution_count": 47,
   "metadata": {},
   "outputs": [],
   "source": [
    "# chars = \"atach\"\n",
    "chars = \"welldonehoneyr\""
   ]
  },
  {
   "cell_type": "markdown",
   "metadata": {},
   "source": [
    "#### characters in chars is not repeatable"
   ]
  },
  {
   "cell_type": "code",
   "execution_count": 58,
   "metadata": {},
   "outputs": [],
   "source": [
    "dict = {}"
   ]
  },
  {
   "cell_type": "code",
   "execution_count": 59,
   "metadata": {},
   "outputs": [],
   "source": [
    "for c in chars:\n",
    "    dict.update({\n",
    "        c: chars.count(c)\n",
    "    })"
   ]
  },
  {
   "cell_type": "code",
   "execution_count": 60,
   "metadata": {},
   "outputs": [
    {
     "data": {
      "text/plain": [
       "{'w': 1, 'e': 3, 'l': 2, 'd': 1, 'o': 2, 'n': 2, 'h': 1, 'y': 1, 'r': 1}"
      ]
     },
     "execution_count": 60,
     "metadata": {},
     "output_type": "execute_result"
    }
   ],
   "source": [
    "dict"
   ]
  },
  {
   "cell_type": "code",
   "execution_count": null,
   "metadata": {},
   "outputs": [],
   "source": []
  },
  {
   "cell_type": "code",
   "execution_count": 61,
   "metadata": {},
   "outputs": [
    {
     "data": {
      "text/plain": [
       "[['e', 'h', 'l', 'o'],\n",
       " ['d', 'l', 'o', 'r', 'w'],\n",
       " ['c', 'd', 'e', 'l', 'o', 't']]"
      ]
     },
     "execution_count": 61,
     "metadata": {},
     "output_type": "execute_result"
    }
   ],
   "source": [
    "order_words = [sorted(set(i)) for i in words]\n",
    "order_words"
   ]
  },
  {
   "cell_type": "code",
   "execution_count": 62,
   "metadata": {},
   "outputs": [
    {
     "data": {
      "text/plain": [
       "['d', 'e', 'h', 'l', 'n', 'o', 'r', 'w', 'y']"
      ]
     },
     "execution_count": 62,
     "metadata": {},
     "output_type": "execute_result"
    }
   ],
   "source": [
    "chars_set = list(sorted(set(chars)))\n",
    "chars_set"
   ]
  },
  {
   "cell_type": "code",
   "execution_count": null,
   "metadata": {},
   "outputs": [],
   "source": []
  },
  {
   "cell_type": "code",
   "execution_count": 63,
   "metadata": {},
   "outputs": [],
   "source": [
    "result = []"
   ]
  },
  {
   "cell_type": "code",
   "execution_count": 64,
   "metadata": {},
   "outputs": [
    {
     "name": "stdout",
     "output_type": "stream",
     "text": [
      "['e', 'h', 'l', 'o'] 4\n",
      "w= ['e', 'h', 'l', 'o']\n",
      "['d', 'l', 'o', 'r', 'w'] 5\n",
      "w= ['d', 'l', 'o', 'r', 'w']\n",
      "['c', 'd', 'e', 'l', 'o', 't'] 6\n"
     ]
    }
   ],
   "source": [
    "for ite,w in enumerate(order_words):\n",
    "    i = 0\n",
    "    j = 0\n",
    "    \n",
    "    print(w, len(w))\n",
    "    while (i<len(w)) and (j<len(chars_set)):\n",
    "        if (w[i] == chars_set[j]) and (words[ite].count(w[i])<=dict.get(w[i])):\n",
    "            i = i+1\n",
    "        j = j+1\n",
    "    if i == len(w):\n",
    "        print(\"w=\", w)\n",
    "        result.append(words[ite])"
   ]
  },
  {
   "cell_type": "code",
   "execution_count": 65,
   "metadata": {},
   "outputs": [
    {
     "data": {
      "text/plain": [
       "['hello', 'world']"
      ]
     },
     "execution_count": 65,
     "metadata": {},
     "output_type": "execute_result"
    }
   ],
   "source": [
    "result"
   ]
  },
  {
   "cell_type": "code",
   "execution_count": 66,
   "metadata": {},
   "outputs": [
    {
     "data": {
      "text/plain": [
       "10"
      ]
     },
     "execution_count": 66,
     "metadata": {},
     "output_type": "execute_result"
    }
   ],
   "source": [
    "sum([len(r) for r in result])"
   ]
  },
  {
   "cell_type": "code",
   "execution_count": null,
   "metadata": {},
   "outputs": [],
   "source": []
  },
  {
   "cell_type": "code",
   "execution_count": null,
   "metadata": {},
   "outputs": [],
   "source": []
  },
  {
   "cell_type": "code",
   "execution_count": 68,
   "metadata": {},
   "outputs": [
    {
     "data": {
      "text/plain": [
       "{'w': 1, 'e': 3, 'l': 2, 'd': 1, 'o': 2, 'n': 2, 'h': 1, 'y': 1, 'r': 1}"
      ]
     },
     "execution_count": 68,
     "metadata": {},
     "output_type": "execute_result"
    }
   ],
   "source": [
    "# other solution\n",
    "temp = dict.copy()\n",
    "temp"
   ]
  },
  {
   "cell_type": "code",
   "execution_count": 70,
   "metadata": {},
   "outputs": [
    {
     "data": {
      "text/plain": [
       "['hello', 'world', 'leetcode']"
      ]
     },
     "execution_count": 70,
     "metadata": {},
     "output_type": "execute_result"
    }
   ],
   "source": [
    "words"
   ]
  },
  {
   "cell_type": "code",
   "execution_count": 71,
   "metadata": {},
   "outputs": [
    {
     "data": {
      "text/plain": [
       "'welldonehoneyr'"
      ]
     },
     "execution_count": 71,
     "metadata": {},
     "output_type": "execute_result"
    }
   ],
   "source": [
    "chars"
   ]
  },
  {
   "cell_type": "code",
   "execution_count": 69,
   "metadata": {},
   "outputs": [],
   "source": [
    "length = 0"
   ]
  },
  {
   "cell_type": "code",
   "execution_count": 74,
   "metadata": {},
   "outputs": [],
   "source": [
    "for w in words:\n",
    "    found = 0 \n",
    "    for char in w:\n",
    "        if not (char in dict and dict[char]>0):\n",
    "            found = 1\n",
    "            break\n",
    "        else:\n",
    "            dict[char] -= 1\n",
    "\n",
    "    if(found == 0):\n",
    "        length += len(w)\n",
    "\n",
    "    dict = temp.copy()\n",
    "\n",
    "# return length"
   ]
  },
  {
   "cell_type": "code",
   "execution_count": 75,
   "metadata": {},
   "outputs": [
    {
     "data": {
      "text/plain": [
       "10"
      ]
     },
     "execution_count": 75,
     "metadata": {},
     "output_type": "execute_result"
    }
   ],
   "source": [
    "length"
   ]
  },
  {
   "cell_type": "code",
   "execution_count": null,
   "metadata": {},
   "outputs": [],
   "source": []
  },
  {
   "cell_type": "code",
   "execution_count": null,
   "metadata": {},
   "outputs": [],
   "source": []
  }
 ],
 "metadata": {
  "kernelspec": {
   "display_name": "Python 3",
   "language": "python",
   "name": "python3"
  },
  "language_info": {
   "codemirror_mode": {
    "name": "ipython",
    "version": 3
   },
   "file_extension": ".py",
   "mimetype": "text/x-python",
   "name": "python",
   "nbconvert_exporter": "python",
   "pygments_lexer": "ipython3",
   "version": "3.7.5"
  }
 },
 "nbformat": 4,
 "nbformat_minor": 4
}
