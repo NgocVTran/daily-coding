{
 "cells": [
  {
   "cell_type": "markdown",
   "metadata": {},
   "source": [
    "Let's define a function f(s) over a non-empty string s, which calculates the frequency of the smallest character in s. For example, if s = \"dcce\" then f(s) = 2 because the smallest character is \"c\" and its frequency is 2.\n",
    "\n",
    "Now, given string arrays queries and words, return an integer array answer, where each answer[i] is the number of words such that f(queries[i]) < f(W), where W is a word in words.\n",
    "\n",
    " \n",
    "\n",
    "Example 1:\n",
    "\n",
    "Input: queries = [\"cbd\"], words = [\"zaaaz\"]\n",
    "Output: [1]\n",
    "Explanation: On the first query we have f(\"cbd\") = 1, f(\"zaaaz\") = 3 so f(\"cbd\") < f(\"zaaaz\").\n",
    "Example 2:\n",
    "\n",
    "Input: queries = [\"bbb\",\"cc\"], words = [\"a\",\"aa\",\"aaa\",\"aaaa\"]\n",
    "Output: [1,2]\n",
    "Explanation: On the first query only f(\"bbb\") < f(\"aaaa\"). On the second query both f(\"aaa\") and f(\"aaaa\") are both > f(\"cc\")."
   ]
  },
  {
   "cell_type": "code",
   "execution_count": 1,
   "metadata": {},
   "outputs": [],
   "source": [
    "# Input: \n",
    "queries = [\"bbb\",\"cc\"]\n",
    "words = [\"a\",\"aa\",\"aaa\",\"aaaa\"]\n",
    "# Output: [1,2]"
   ]
  },
  {
   "cell_type": "code",
   "execution_count": null,
   "metadata": {},
   "outputs": [],
   "source": []
  },
  {
   "cell_type": "code",
   "execution_count": 5,
   "metadata": {},
   "outputs": [],
   "source": [
    "def f(st):\n",
    "    smallest = ord(st[0])\n",
    "    for char in st:\n",
    "        if ord(char)<smallest:\n",
    "            smallest = ord(char)\n",
    "    return st.count(chr(smallest))"
   ]
  },
  {
   "cell_type": "code",
   "execution_count": 9,
   "metadata": {},
   "outputs": [
    {
     "data": {
      "text/plain": [
       "3"
      ]
     },
     "execution_count": 9,
     "metadata": {},
     "output_type": "execute_result"
    }
   ],
   "source": [
    "# f(\"cbd\") # 1\n",
    "# f(\"dcce\") # 2\n",
    "f(\"bbb\") # 3"
   ]
  },
  {
   "cell_type": "code",
   "execution_count": 10,
   "metadata": {},
   "outputs": [
    {
     "data": {
      "text/plain": [
       "[3, 2]"
      ]
     },
     "execution_count": 10,
     "metadata": {},
     "output_type": "execute_result"
    }
   ],
   "source": [
    "query_len = [f(q) for q in queries]\n",
    "query_len"
   ]
  },
  {
   "cell_type": "code",
   "execution_count": 11,
   "metadata": {},
   "outputs": [
    {
     "data": {
      "text/plain": [
       "[1, 2, 3, 4]"
      ]
     },
     "execution_count": 11,
     "metadata": {},
     "output_type": "execute_result"
    }
   ],
   "source": [
    "word_len = [f(w) for w in words]\n",
    "word_len"
   ]
  },
  {
   "cell_type": "code",
   "execution_count": 13,
   "metadata": {},
   "outputs": [],
   "source": [
    "result = []\n",
    "\n",
    "for ql in query_len:\n",
    "    result.append(len([wl for wl in word_len if wl>ql]))"
   ]
  },
  {
   "cell_type": "code",
   "execution_count": 14,
   "metadata": {},
   "outputs": [
    {
     "data": {
      "text/plain": [
       "[1, 2]"
      ]
     },
     "execution_count": 14,
     "metadata": {},
     "output_type": "execute_result"
    }
   ],
   "source": [
    "result"
   ]
  },
  {
   "cell_type": "code",
   "execution_count": null,
   "metadata": {},
   "outputs": [],
   "source": []
  },
  {
   "cell_type": "code",
   "execution_count": null,
   "metadata": {},
   "outputs": [],
   "source": []
  },
  {
   "cell_type": "code",
   "execution_count": 15,
   "metadata": {},
   "outputs": [],
   "source": [
    "def numSmallerByFrequency(queries, words):\n",
    "\n",
    "    query_len = [f(q) for q in queries]\n",
    "    word_len = [f(w) for w in words]\n",
    "\n",
    "    result = []\n",
    "\n",
    "    for ql in query_len:\n",
    "        result.append(len([wl for wl in word_len if wl>ql]))\n",
    "\n",
    "    return result"
   ]
  },
  {
   "cell_type": "code",
   "execution_count": null,
   "metadata": {},
   "outputs": [],
   "source": []
  },
  {
   "cell_type": "markdown",
   "metadata": {},
   "source": [
    "### solution - binary search O(log n)"
   ]
  },
  {
   "cell_type": "code",
   "execution_count": 16,
   "metadata": {},
   "outputs": [],
   "source": [
    "# try to optimize it\n",
    "# Input: \n",
    "queries = [\"bbb\",\"cc\"]\n",
    "words = [\"a\",\"aa\",\"aaa\",\"aaaa\"]\n",
    "# Output: [1,2]"
   ]
  },
  {
   "cell_type": "code",
   "execution_count": 18,
   "metadata": {},
   "outputs": [
    {
     "data": {
      "text/plain": [
       "[3, 2]"
      ]
     },
     "execution_count": 18,
     "metadata": {},
     "output_type": "execute_result"
    }
   ],
   "source": [
    "query_len = [f(q) for q in queries]\n",
    "query_len"
   ]
  },
  {
   "cell_type": "code",
   "execution_count": 19,
   "metadata": {},
   "outputs": [
    {
     "data": {
      "text/plain": [
       "[1, 2, 3, 4]"
      ]
     },
     "execution_count": 19,
     "metadata": {},
     "output_type": "execute_result"
    }
   ],
   "source": [
    "word_len = sorted([f(w) for w in words])\n",
    "word_len"
   ]
  },
  {
   "cell_type": "code",
   "execution_count": 21,
   "metadata": {},
   "outputs": [],
   "source": [
    "# Function to return the count of elements \n",
    "# from the array which are greater than k \n",
    "def countGreater(arr, k): \n",
    "    n = len(arr)\n",
    "    l = 0\n",
    "    r = n - 1\n",
    "  \n",
    "    # Stores the index of the left most element \n",
    "    # from the array which is greater than k \n",
    "    leftGreater = n \n",
    "  \n",
    "    # Finds number of elements greater than k \n",
    "    while (l <= r): \n",
    "        m = int(l + (r - l) / 2) \n",
    "  \n",
    "        # If mid element is greater than \n",
    "        # k update leftGreater and r \n",
    "        if (arr[m] > k): \n",
    "            leftGreater = m \n",
    "            r = m - 1\n",
    "  \n",
    "        # If mid element is less than \n",
    "        # or equal to k update l \n",
    "        else: \n",
    "            l = m + 1\n",
    "  \n",
    "    # Return the count of elements  \n",
    "    # greater than k \n",
    "    return (n - leftGreater) "
   ]
  },
  {
   "cell_type": "code",
   "execution_count": 24,
   "metadata": {},
   "outputs": [],
   "source": [
    "result = []\n",
    "\n",
    "for q in query_len:\n",
    "    result.append(countGreater(word_len, q))"
   ]
  },
  {
   "cell_type": "code",
   "execution_count": 25,
   "metadata": {},
   "outputs": [
    {
     "data": {
      "text/plain": [
       "[1, 2]"
      ]
     },
     "execution_count": 25,
     "metadata": {},
     "output_type": "execute_result"
    }
   ],
   "source": [
    "result"
   ]
  },
  {
   "cell_type": "code",
   "execution_count": null,
   "metadata": {},
   "outputs": [],
   "source": []
  }
 ],
 "metadata": {
  "kernelspec": {
   "display_name": "Python 3",
   "language": "python",
   "name": "python3"
  },
  "language_info": {
   "codemirror_mode": {
    "name": "ipython",
    "version": 3
   },
   "file_extension": ".py",
   "mimetype": "text/x-python",
   "name": "python",
   "nbconvert_exporter": "python",
   "pygments_lexer": "ipython3",
   "version": "3.7.5"
  }
 },
 "nbformat": 4,
 "nbformat_minor": 4
}
