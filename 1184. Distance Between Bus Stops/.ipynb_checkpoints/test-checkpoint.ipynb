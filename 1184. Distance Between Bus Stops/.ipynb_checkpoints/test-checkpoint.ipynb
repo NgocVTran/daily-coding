{
 "cells": [
  {
   "cell_type": "markdown",
   "metadata": {},
   "source": [
    "A bus has n stops numbered from 0 to n - 1 that form a circle. We know the distance between all pairs of neighboring stops where distance[i] is the distance between the stops number i and (i + 1) % n.\n",
    "\n",
    "The bus goes along both directions i.e. clockwise and counterclockwise.\n",
    "\n",
    "Return the shortest distance between the given start and destination stops.\n",
    "\n",
    "\n",
    "Input: distance = [1,2,3,4], start = 0, destination = 1\n",
    "Output: 1\n",
    "Explanation: Distance between 0 and 1 is 1 or 9, minimum is 1.\n",
    "\n",
    "\n",
    "Input: distance = [1,2,3,4], start = 0, destination = 2\n",
    "Output: 3\n",
    "Explanation: Distance between 0 and 2 is 3 or 7, minimum is 3.\n",
    "\n",
    "\n",
    "Input: distance = [1,2,3,4], start = 0, destination = 3\n",
    "Output: 4\n",
    "Explanation: Distance between 0 and 3 is 6 or 4, minimum is 4.\n",
    " \n",
    "\n",
    "Constraints:\n",
    "\n",
    "1 <= n <= 10^4\n",
    "distance.length == n\n",
    "0 <= start, destination < n\n",
    "0 <= distance[i] <= 10^4"
   ]
  },
  {
   "cell_type": "code",
   "execution_count": 6,
   "metadata": {},
   "outputs": [],
   "source": [
    "# distance = [1,2,3,4]\n",
    "# start = 0\n",
    "# destination = 1\n",
    "# # 1\n",
    "\n",
    "distance = [1,2,3,4] \n",
    "start = 0\n",
    "destination = 2\n",
    "# Output: 3"
   ]
  },
  {
   "cell_type": "code",
   "execution_count": 12,
   "metadata": {},
   "outputs": [
    {
     "data": {
      "text/plain": [
       "10"
      ]
     },
     "execution_count": 12,
     "metadata": {},
     "output_type": "execute_result"
    }
   ],
   "source": [
    "sum(distance)"
   ]
  },
  {
   "cell_type": "code",
   "execution_count": 13,
   "metadata": {},
   "outputs": [
    {
     "data": {
      "text/plain": [
       "[1, 2, 3]"
      ]
     },
     "execution_count": 13,
     "metadata": {},
     "output_type": "execute_result"
    }
   ],
   "source": [
    "distance[start:destination]"
   ]
  },
  {
   "cell_type": "code",
   "execution_count": null,
   "metadata": {},
   "outputs": [],
   "source": []
  },
  {
   "cell_type": "code",
   "execution_count": 19,
   "metadata": {},
   "outputs": [],
   "source": [
    "def distanceBetweenBusStops(distance, start, destination):\n",
    "    if start>destination:\n",
    "        start,destination = destination,start\n",
    "    \n",
    "    return min(sum(distance[start:destination]), sum(distance)-sum(distance[start:destination]))"
   ]
  },
  {
   "cell_type": "code",
   "execution_count": 22,
   "metadata": {},
   "outputs": [],
   "source": [
    "distance = [1,2,3,4]\n",
    "start = 0\n",
    "destination = 3\n",
    "# 4\n",
    "\n",
    "# distance = [7,10,1,12,11,14,5,0]\n",
    "# start = 7\n",
    "# destination = 2"
   ]
  },
  {
   "cell_type": "code",
   "execution_count": 23,
   "metadata": {},
   "outputs": [
    {
     "data": {
      "text/plain": [
       "4"
      ]
     },
     "execution_count": 23,
     "metadata": {},
     "output_type": "execute_result"
    }
   ],
   "source": [
    "distanceBetweenBusStops(distance, start, destination)"
   ]
  },
  {
   "cell_type": "code",
   "execution_count": null,
   "metadata": {},
   "outputs": [],
   "source": []
  }
 ],
 "metadata": {
  "kernelspec": {
   "display_name": "Python 3",
   "language": "python",
   "name": "python3"
  },
  "language_info": {
   "codemirror_mode": {
    "name": "ipython",
    "version": 3
   },
   "file_extension": ".py",
   "mimetype": "text/x-python",
   "name": "python",
   "nbconvert_exporter": "python",
   "pygments_lexer": "ipython3",
   "version": "3.7.5"
  }
 },
 "nbformat": 4,
 "nbformat_minor": 4
}
