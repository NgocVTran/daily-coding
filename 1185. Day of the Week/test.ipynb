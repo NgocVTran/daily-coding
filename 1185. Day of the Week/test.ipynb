{
 "cells": [
  {
   "cell_type": "code",
   "execution_count": null,
   "metadata": {},
   "outputs": [],
   "source": []
  },
  {
   "cell_type": "markdown",
   "metadata": {},
   "source": [
    "### simple apply the math form"
   ]
  },
  {
   "cell_type": "code",
   "execution_count": null,
   "metadata": {},
   "outputs": [],
   "source": [
    "class Solution:\n",
    "    def dayOfTheWeek(day, month, year):\n",
    "        # 1 January 1971 = Friday\n",
    "        day_weekday = {0:\"Thursday\", 1:\"Friday\", 2:\"Saturday\", 3:\"Sunday\", 4:\"Monday\", 5:\"Tuesday\", 6:\"Wednesday\"}\n",
    "        # Converse to sum of day and mod by 7\n",
    "        sum = 0\n",
    "        while year > 1970 or month > 0 or day > 0:\n",
    "            while day > 0:\n",
    "                sum += day\n",
    "                day = 0\n",
    "                month -= 1\n",
    "                if month == 0:\n",
    "                    year -= 1\n",
    "            while month > 0:\n",
    "                if month == 1 or month == 3 or month == 5 or month == 7 or month == 8 or month == 10 or month == 12:\n",
    "                    sum += 31\n",
    "                    month -= 1\n",
    "                elif month == 4 or month == 6 or month == 9 or month == 11:\n",
    "                    sum += 30\n",
    "                    month -= 1\n",
    "                elif month == 2:\n",
    "                    if year%4 == 0:\n",
    "                        sum += 29\n",
    "                        month -= 1\n",
    "                    else:\n",
    "                        sum += 28\n",
    "                        month -= 1\n",
    "                if month == 0:\n",
    "                    year -= 1\n",
    "            while year > 1970 and month == 0 and day == 0:\n",
    "                if year%4 == 0:\n",
    "                    sum += 366\n",
    "                    year -= 1\n",
    "                else:\n",
    "                    sum += 365\n",
    "                    year -= 1\n",
    "        return day_weekday[sum%7]"
   ]
  },
  {
   "cell_type": "code",
   "execution_count": null,
   "metadata": {},
   "outputs": [],
   "source": []
  },
  {
   "cell_type": "code",
   "execution_count": null,
   "metadata": {},
   "outputs": [],
   "source": []
  }
 ],
 "metadata": {
  "kernelspec": {
   "display_name": "Python 3",
   "language": "python",
   "name": "python3"
  },
  "language_info": {
   "codemirror_mode": {
    "name": "ipython",
    "version": 3
   },
   "file_extension": ".py",
   "mimetype": "text/x-python",
   "name": "python",
   "nbconvert_exporter": "python",
   "pygments_lexer": "ipython3",
   "version": "3.7.5"
  }
 },
 "nbformat": 4,
 "nbformat_minor": 4
}
