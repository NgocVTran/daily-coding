{
 "cells": [
  {
   "cell_type": "markdown",
   "metadata": {},
   "source": [
    "Given an array of distinct integers arr, find all pairs of elements with the minimum absolute difference of any two elements. \n",
    "\n",
    "Return a list of pairs in ascending order(with respect to pairs), each pair [a, b] follows\n",
    "\n",
    "a, b are from arr\n",
    "a < b\n",
    "b - a equals to the minimum absolute difference of any two elements in arr\n",
    " \n",
    "\n",
    "Example 1:\n",
    "\n",
    "Input: arr = [4,2,1,3]\n",
    "Output: [[1,2],[2,3],[3,4]]\n",
    "Explanation: The minimum absolute difference is 1. List all pairs with difference equal to 1 in ascending order.\n",
    "Example 2:\n",
    "\n",
    "Input: arr = [1,3,6,10,15]\n",
    "Output: [[1,3]]\n",
    "Example 3:\n",
    "\n",
    "Input: arr = [3,8,-10,23,19,-4,-14,27]\n",
    "Output: [[-14,-10],[19,23],[23,27]]"
   ]
  },
  {
   "cell_type": "code",
   "execution_count": 18,
   "metadata": {},
   "outputs": [],
   "source": [
    "# arr = [4,2,1,3] #[[1,2],[2,3],[3,4]]\n",
    "# arr = [1,3,6,10,15] # [[1,3]]\n",
    "arr = [3,8,-10,23,19,-4,-14,27] # [[-14,-10],[19,23],[23,27]]"
   ]
  },
  {
   "cell_type": "code",
   "execution_count": 19,
   "metadata": {},
   "outputs": [
    {
     "data": {
      "text/plain": [
       "[-14, -10, -4, 3, 8, 19, 23, 27]"
      ]
     },
     "execution_count": 19,
     "metadata": {},
     "output_type": "execute_result"
    }
   ],
   "source": [
    "sort = sorted(arr)\n",
    "sort"
   ]
  },
  {
   "cell_type": "code",
   "execution_count": 20,
   "metadata": {},
   "outputs": [],
   "source": [
    "min = sort[-1] - sort[0]\n",
    "for i in range(len(sort)-1):\n",
    "    if min > abs(sort[i] - sort[i+1]):\n",
    "        min = abs(sort[i] - sort[i+1])\n",
    "        result = []\n",
    "        \n",
    "    if min == abs(sort[i] - sort[i+1]):\n",
    "        result.append([sort[i],sort[i+1]])"
   ]
  },
  {
   "cell_type": "code",
   "execution_count": 21,
   "metadata": {},
   "outputs": [
    {
     "data": {
      "text/plain": [
       "[[-14, -10], [19, 23], [23, 27]]"
      ]
     },
     "execution_count": 21,
     "metadata": {},
     "output_type": "execute_result"
    }
   ],
   "source": [
    "result"
   ]
  },
  {
   "cell_type": "code",
   "execution_count": null,
   "metadata": {},
   "outputs": [],
   "source": []
  },
  {
   "cell_type": "code",
   "execution_count": null,
   "metadata": {},
   "outputs": [],
   "source": []
  },
  {
   "cell_type": "code",
   "execution_count": null,
   "metadata": {},
   "outputs": [],
   "source": []
  },
  {
   "cell_type": "code",
   "execution_count": null,
   "metadata": {},
   "outputs": [],
   "source": []
  },
  {
   "cell_type": "code",
   "execution_count": null,
   "metadata": {},
   "outputs": [],
   "source": []
  }
 ],
 "metadata": {
  "kernelspec": {
   "display_name": "Python 3",
   "language": "python",
   "name": "python3"
  },
  "language_info": {
   "codemirror_mode": {
    "name": "ipython",
    "version": 3
   },
   "file_extension": ".py",
   "mimetype": "text/x-python",
   "name": "python",
   "nbconvert_exporter": "python",
   "pygments_lexer": "ipython3",
   "version": "3.7.5"
  }
 },
 "nbformat": 4,
 "nbformat_minor": 4
}
