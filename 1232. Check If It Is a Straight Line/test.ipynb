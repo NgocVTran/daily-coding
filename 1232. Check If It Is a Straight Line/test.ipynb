{
 "cells": [
  {
   "cell_type": "markdown",
   "metadata": {},
   "source": [
    "You are given an array coordinates, coordinates[i] = [x, y], where [x, y] represents the coordinate of a point. Check if these points make a straight line in the XY plane."
   ]
  },
  {
   "cell_type": "code",
   "execution_count": 32,
   "metadata": {},
   "outputs": [],
   "source": [
    "def checkStraightLine(coordinates):\n",
    "    if len(coordinates) < 3:\n",
    "        return True\n",
    "    \n",
    "    x1,y1 = coordinates[0]\n",
    "    x2,y2 = coordinates[1]\n",
    "    \n",
    "    if x1 == x2:\n",
    "        lines_x = [c[0] for c in coordinates]\n",
    "        if len(set(lines_x))>1:\n",
    "            return False\n",
    "        else:\n",
    "            return True\n",
    "    else:\n",
    "        a = (y1-y2)/(x1-x2)\n",
    "        b = (x1*y2 - x2*y1)/(x1-x2)\n",
    "    \n",
    "        for c in coordinates[2:]:\n",
    "            if a*c[0] + b != c[1]:\n",
    "                return False\n",
    "        return True"
   ]
  },
  {
   "cell_type": "code",
   "execution_count": 33,
   "metadata": {},
   "outputs": [],
   "source": [
    "# coordinates = [[1,2],[2,3],[3,4],[4,5],[5,6],[6,7]]\n",
    "# # Output: true\n",
    "\n",
    "# coordinates = [[1,1],[2,2],[3,4],[4,5],[5,6],[7,7]]\n",
    "# # Output: false\n",
    "\n",
    "# coordinates = [[0,0],[0,1],[0,-1]] # True\n",
    "\n",
    "coordinates = [[1,2],[2,3],[3,4],[4,5],[5,6],[6,7],[1,8]] # false"
   ]
  },
  {
   "cell_type": "code",
   "execution_count": 34,
   "metadata": {},
   "outputs": [
    {
     "data": {
      "text/plain": [
       "False"
      ]
     },
     "execution_count": 34,
     "metadata": {},
     "output_type": "execute_result"
    }
   ],
   "source": [
    "checkStraightLine(coordinates)"
   ]
  },
  {
   "cell_type": "code",
   "execution_count": null,
   "metadata": {},
   "outputs": [],
   "source": []
  },
  {
   "cell_type": "code",
   "execution_count": null,
   "metadata": {},
   "outputs": [],
   "source": []
  },
  {
   "cell_type": "code",
   "execution_count": null,
   "metadata": {},
   "outputs": [],
   "source": []
  },
  {
   "cell_type": "code",
   "execution_count": null,
   "metadata": {},
   "outputs": [],
   "source": []
  }
 ],
 "metadata": {
  "kernelspec": {
   "display_name": "Python 3",
   "language": "python",
   "name": "python3"
  },
  "language_info": {
   "codemirror_mode": {
    "name": "ipython",
    "version": 3
   },
   "file_extension": ".py",
   "mimetype": "text/x-python",
   "name": "python",
   "nbconvert_exporter": "python",
   "pygments_lexer": "ipython3",
   "version": "3.7.5"
  }
 },
 "nbformat": 4,
 "nbformat_minor": 4
}
