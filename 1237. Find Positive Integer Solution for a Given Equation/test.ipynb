{
 "cells": [
  {
   "cell_type": "markdown",
   "metadata": {},
   "source": [
    "Given a function  f(x, y) and a value z, return all positive integer pairs x and y where f(x,y) == z.\n",
    "\n",
    "The function is constantly increasing, i.e.:\n",
    "\n",
    "f(x, y) < f(x + 1, y)\n",
    "f(x, y) < f(x, y + 1)\n",
    "The function interface is defined like this: \n",
    "\n",
    "interface CustomFunction {\n",
    "public:\n",
    "  // Returns positive integer f(x, y) for any given positive integer x and y.\n",
    "  int f(int x, int y);\n",
    "};\n",
    "For custom testing purposes you're given an integer function_id and a target z as input, where function_id represent one function from an secret internal list, on the examples you'll know only two functions from the list.  \n",
    "\n",
    "You may return the solutions in any order.\n",
    "\n",
    " \n",
    "\n",
    "Example 1:\n",
    "\n",
    "Input: function_id = 1, z = 5\n",
    "Output: [[1,4],[2,3],[3,2],[4,1]]\n",
    "Explanation: function_id = 1 means that f(x, y) = x + y\n",
    "Example 2:\n",
    "\n",
    "Input: function_id = 2, z = 5\n",
    "Output: [[1,5],[5,1]]\n",
    "Explanation: function_id = 2 means that f(x, y) = x * y\n",
    " \n",
    "\n",
    "Constraints:\n",
    "\n",
    "1 <= function_id <= 9\n",
    "1 <= z <= 100\n",
    "It's guaranteed that the solutions of f(x, y) == z will be on the range 1 <= x, y <= 1000\n",
    "It's also guaranteed that f(x, y) will fit in 32 bit signed integer if 1 <= x, y <= 1000"
   ]
  },
  {
   "cell_type": "code",
   "execution_count": 1,
   "metadata": {},
   "outputs": [],
   "source": [
    "def findSolution(customfunction, z):\n",
    "    start = 1\n",
    "    end =1000\n",
    "    list_ = []\n",
    "    while( start <=1000 and  1 <= end):\n",
    "        if(customfunction.f(start,end) > z):\n",
    "            end -=1\n",
    "        elif(customfunction.f(start,end) < z):\n",
    "            start +=1\n",
    "        else:\n",
    "            list_.append([start,end])\n",
    "            start +=1\n",
    "            end -=1\n",
    "\n",
    "    return list_ \n",
    "        "
   ]
  },
  {
   "cell_type": "code",
   "execution_count": null,
   "metadata": {},
   "outputs": [],
   "source": []
  },
  {
   "cell_type": "code",
   "execution_count": null,
   "metadata": {},
   "outputs": [],
   "source": []
  },
  {
   "cell_type": "code",
   "execution_count": null,
   "metadata": {},
   "outputs": [],
   "source": []
  }
 ],
 "metadata": {
  "kernelspec": {
   "display_name": "Python 3",
   "language": "python",
   "name": "python3"
  },
  "language_info": {
   "codemirror_mode": {
    "name": "ipython",
    "version": 3
   },
   "file_extension": ".py",
   "mimetype": "text/x-python",
   "name": "python",
   "nbconvert_exporter": "python",
   "pygments_lexer": "ipython3",
   "version": "3.7.5"
  }
 },
 "nbformat": 4,
 "nbformat_minor": 4
}
