{
 "cells": [
  {
   "cell_type": "markdown",
   "metadata": {},
   "source": [
    "Given a 2D grid of size m x n and an integer k. You need to shift the grid k times.\n",
    "\n",
    "In one shift operation:\n",
    "\n",
    "Element at grid[i][j] moves to grid[i][j + 1].\n",
    "Element at grid[i][n - 1] moves to grid[i + 1][0].\n",
    "Element at grid[m - 1][n - 1] moves to grid[0][0].\n",
    "Return the 2D grid after applying shift operation k times.\n",
    "\n",
    " \n",
    "\n",
    "Example 1:\n",
    "\n",
    "\n",
    "Input: grid = [[1,2,3],[4,5,6],[7,8,9]], k = 1\n",
    "Output: [[9,1,2],[3,4,5],[6,7,8]]\n",
    "Example 2:\n",
    "\n",
    "\n",
    "Input: grid = [[3,8,1,9],[19,7,2,5],[4,6,11,10],[12,0,21,13]], k = 4\n",
    "Output: [[12,0,21,13],[3,8,1,9],[19,7,2,5],[4,6,11,10]]\n",
    "Example 3:\n",
    "\n",
    "Input: grid = [[1,2,3],[4,5,6],[7,8,9]], k = 9\n",
    "Output: [[1,2,3],[4,5,6],[7,8,9]]"
   ]
  },
  {
   "cell_type": "code",
   "execution_count": 41,
   "metadata": {},
   "outputs": [],
   "source": [
    "# # Input: \n",
    "# grid = [[1,2,3],[4,5,6],[7,8,9]]\n",
    "# k = 1\n",
    "# # Output: [[9,1,2],[3,4,5],[6,7,8]]\n",
    "\n",
    "# grid = [[3,8,1,9],[19,7,2,5],[4,6,11,10],[12,0,21,13]]\n",
    "# k = 4\n",
    "# # Output: [[12,0,21,13],[3,8,1,9],[19,7,2,5],[4,6,11,10]]\n",
    "\n",
    "# grid = [[1,2,3],[4,5,6],[7,8,9]]\n",
    "# k = 9\n",
    "# # Output: [[1,2,3],[4,5,6],[7,8,9]]\n",
    "\n",
    "# grid = [[1],[2],[3],[4],[7],[6],[5]]\n",
    "# k = 23\n",
    "# # Output: [[6],[5],[1],[2],[3],[4],[7]]"
   ]
  },
  {
   "cell_type": "code",
   "execution_count": 52,
   "metadata": {},
   "outputs": [
    {
     "data": {
      "text/plain": [
       "1"
      ]
     },
     "execution_count": 52,
     "metadata": {},
     "output_type": "execute_result"
    }
   ],
   "source": [
    "col = len(grid[0])\n",
    "col"
   ]
  },
  {
   "cell_type": "code",
   "execution_count": 61,
   "metadata": {},
   "outputs": [
    {
     "data": {
      "text/plain": [
       "[1, 2, 3, 4, 7, 6, 5]"
      ]
     },
     "execution_count": 61,
     "metadata": {},
     "output_type": "execute_result"
    }
   ],
   "source": [
    "flat = []\n",
    "for g in grid:\n",
    "    flat = flat + g\n",
    "flat"
   ]
  },
  {
   "cell_type": "code",
   "execution_count": 62,
   "metadata": {},
   "outputs": [],
   "source": [
    "l = len(flat)"
   ]
  },
  {
   "cell_type": "code",
   "execution_count": 63,
   "metadata": {},
   "outputs": [
    {
     "data": {
      "text/plain": [
       "[1, 2, 3, 4, 7]"
      ]
     },
     "execution_count": 63,
     "metadata": {},
     "output_type": "execute_result"
    }
   ],
   "source": [
    "flat[:-k%l]"
   ]
  },
  {
   "cell_type": "code",
   "execution_count": 64,
   "metadata": {},
   "outputs": [
    {
     "data": {
      "text/plain": [
       "[6, 5]"
      ]
     },
     "execution_count": 64,
     "metadata": {},
     "output_type": "execute_result"
    }
   ],
   "source": [
    "flat[-k%l:]"
   ]
  },
  {
   "cell_type": "code",
   "execution_count": 66,
   "metadata": {},
   "outputs": [
    {
     "data": {
      "text/plain": [
       "[6, 5, 1, 2, 3, 4, 7]"
      ]
     },
     "execution_count": 66,
     "metadata": {},
     "output_type": "execute_result"
    }
   ],
   "source": [
    "flat = flat[-k%l:] + flat[:-k%l]\n",
    "flat"
   ]
  },
  {
   "cell_type": "code",
   "execution_count": null,
   "metadata": {},
   "outputs": [],
   "source": []
  },
  {
   "cell_type": "code",
   "execution_count": 67,
   "metadata": {},
   "outputs": [],
   "source": [
    "result = []"
   ]
  },
  {
   "cell_type": "code",
   "execution_count": 68,
   "metadata": {},
   "outputs": [
    {
     "name": "stdout",
     "output_type": "stream",
     "text": [
      "0 [6]\n",
      "1 [5]\n",
      "2 [1]\n",
      "3 [2]\n",
      "4 [3]\n",
      "5 [4]\n",
      "6 [7]\n"
     ]
    }
   ],
   "source": [
    "for i in range(0,len(flat), col):\n",
    "    print(i, flat[i:i+col])\n",
    "    result.append(flat[i:i+col])"
   ]
  },
  {
   "cell_type": "code",
   "execution_count": 36,
   "metadata": {},
   "outputs": [
    {
     "data": {
      "text/plain": [
       "[[9, 1, 2], [3, 4, 5], [6, 7, 8]]"
      ]
     },
     "execution_count": 36,
     "metadata": {},
     "output_type": "execute_result"
    }
   ],
   "source": [
    "result"
   ]
  },
  {
   "cell_type": "code",
   "execution_count": 78,
   "metadata": {},
   "outputs": [],
   "source": [
    "# another syntax\n",
    "s = []\n",
    "for i in range(len(flat)):\n",
    "    s.append(flat[i*col:(i+1)*col])"
   ]
  },
  {
   "cell_type": "code",
   "execution_count": 79,
   "metadata": {},
   "outputs": [
    {
     "data": {
      "text/plain": [
       "[[6], [5], [1], [2], [3], [4], [7]]"
      ]
     },
     "execution_count": 79,
     "metadata": {},
     "output_type": "execute_result"
    }
   ],
   "source": [
    "s"
   ]
  },
  {
   "cell_type": "code",
   "execution_count": null,
   "metadata": {},
   "outputs": [],
   "source": []
  },
  {
   "cell_type": "code",
   "execution_count": 73,
   "metadata": {},
   "outputs": [],
   "source": [
    "def shiftGrid(grid, k):\n",
    "    col = len(grid[0])\n",
    "\n",
    "    flat = []\n",
    "    for g in grid:\n",
    "        flat = flat + g\n",
    "    l = len(flat)\n",
    "    flat = flat[-k%l:] + flat[:-k%l]\n",
    "\n",
    "    result = []\n",
    "    for i in range(0,len(flat), col):\n",
    "        result.append(flat[i:i+col])\n",
    "\n",
    "    return result"
   ]
  },
  {
   "cell_type": "code",
   "execution_count": 74,
   "metadata": {},
   "outputs": [
    {
     "data": {
      "text/plain": [
       "[[6], [5], [1], [2], [3], [4], [7]]"
      ]
     },
     "execution_count": 74,
     "metadata": {},
     "output_type": "execute_result"
    }
   ],
   "source": [
    "shiftGrid(grid,k)"
   ]
  },
  {
   "cell_type": "code",
   "execution_count": 75,
   "metadata": {},
   "outputs": [],
   "source": [
    "grid = [[1],[2],[3],[4],[7],[6],[5]]\n",
    "k = 23\n",
    "# Output: [[6],[5],[1],[2],[3],[4],[7]]"
   ]
  },
  {
   "cell_type": "code",
   "execution_count": 76,
   "metadata": {},
   "outputs": [
    {
     "data": {
      "text/plain": [
       "[[6], [5], [1], [2], [3], [4], [7]]"
      ]
     },
     "execution_count": 76,
     "metadata": {},
     "output_type": "execute_result"
    }
   ],
   "source": [
    "shiftGrid(grid,k)"
   ]
  },
  {
   "cell_type": "code",
   "execution_count": null,
   "metadata": {},
   "outputs": [],
   "source": []
  },
  {
   "cell_type": "code",
   "execution_count": null,
   "metadata": {},
   "outputs": [],
   "source": []
  },
  {
   "cell_type": "code",
   "execution_count": null,
   "metadata": {},
   "outputs": [],
   "source": []
  }
 ],
 "metadata": {
  "kernelspec": {
   "display_name": "Python 3",
   "language": "python",
   "name": "python3"
  },
  "language_info": {
   "codemirror_mode": {
    "name": "ipython",
    "version": 3
   },
   "file_extension": ".py",
   "mimetype": "text/x-python",
   "name": "python",
   "nbconvert_exporter": "python",
   "pygments_lexer": "ipython3",
   "version": "3.7.5"
  }
 },
 "nbformat": 4,
 "nbformat_minor": 4
}
