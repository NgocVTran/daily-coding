{
 "cells": [
  {
   "cell_type": "markdown",
   "metadata": {},
   "source": [
    "Tic-tac-toe is played by two players A and B on a 3 x 3 grid.\n",
    "\n",
    "Here are the rules of Tic-Tac-Toe:\n",
    "\n",
    "Players take turns placing characters into empty squares (\" \").\n",
    "The first player A always places \"X\" characters, while the second player B always places \"O\" characters.\n",
    "\"X\" and \"O\" characters are always placed into empty squares, never on filled ones.\n",
    "The game ends when there are 3 of the same (non-empty) character filling any row, column, or diagonal.\n",
    "The game also ends if all squares are non-empty.\n",
    "No more moves can be played if the game is over.\n",
    "Given an array moves where each element is another array of size 2 corresponding to the row and column of the grid where they mark their respective character in the order in which A and B play.\n",
    "\n",
    "Return the winner of the game if it exists (A or B), in case the game ends in a draw return \"Draw\", if there are still movements to play return \"Pending\".\n",
    "\n",
    "You can assume that moves is valid (It follows the rules of Tic-Tac-Toe), the grid is initially empty and A will play first.\n",
    "\n",
    " \n",
    "\n",
    "Example 1:\n",
    "\n",
    "Input: moves = [[0,0],[2,0],[1,1],[2,1],[2,2]]\n",
    "Output: \"A\"\n",
    "Explanation: \"A\" wins, he always plays first.\n",
    "\"X  \"    \"X  \"    \"X  \"    \"X  \"    \"X  \"\n",
    "\"   \" -> \"   \" -> \" X \" -> \" X \" -> \" X \"\n",
    "\"   \"    \"O  \"    \"O  \"    \"OO \"    \"OOX\"\n",
    "Example 2:\n",
    "\n",
    "Input: moves = [[0,0],[1,1],[0,1],[0,2],[1,0],[2,0]]\n",
    "Output: \"B\"\n",
    "Explanation: \"B\" wins.\n",
    "\"X  \"    \"X  \"    \"XX \"    \"XXO\"    \"XXO\"    \"XXO\"\n",
    "\"   \" -> \" O \" -> \" O \" -> \" O \" -> \"XO \" -> \"XO \" \n",
    "\"   \"    \"   \"    \"   \"    \"   \"    \"   \"    \"O  \"\n",
    "Example 3:\n",
    "\n",
    "Input: moves = [[0,0],[1,1],[2,0],[1,0],[1,2],[2,1],[0,1],[0,2],[2,2]]\n",
    "Output: \"Draw\"\n",
    "Explanation: The game ends in a draw since there are no moves to make.\n",
    "\"XXO\"\n",
    "\"OOX\"\n",
    "\"XOX\"\n",
    "Example 4:\n",
    "\n",
    "Input: moves = [[0,0],[1,1]]\n",
    "Output: \"Pending\"\n",
    "Explanation: The game has not finished yet.\n",
    "\"X  \"\n",
    "\" O \"\n",
    "\"   \""
   ]
  },
  {
   "cell_type": "code",
   "execution_count": 208,
   "metadata": {},
   "outputs": [],
   "source": [
    "# moves = [[0,0],[2,0],[1,1],[2,1],[2,2]] # A\n",
    "# moves = [[2,0],[1,1],[0,2],[2,1],[1,2],[1,0],[0,0],[0,1]] # B\n",
    "moves = [[0,0],[1,1],[2,0],[1,0],[1,2],[2,1],[0,1],[0,2],[2,2]]# Draw"
   ]
  },
  {
   "cell_type": "code",
   "execution_count": 209,
   "metadata": {},
   "outputs": [
    {
     "data": {
      "text/plain": [
       "[['', '', ''], ['', '', ''], ['', '', '']]"
      ]
     },
     "execution_count": 209,
     "metadata": {},
     "output_type": "execute_result"
    }
   ],
   "source": [
    "board = [[\"\", \"\", \"\"], [\"\", \"\", \"\"], [\"\", \"\", \"\"]]\n",
    "board"
   ]
  },
  {
   "cell_type": "code",
   "execution_count": 210,
   "metadata": {},
   "outputs": [
    {
     "data": {
      "text/plain": [
       "''"
      ]
     },
     "execution_count": 210,
     "metadata": {},
     "output_type": "execute_result"
    }
   ],
   "source": [
    "board[0][0]"
   ]
  },
  {
   "cell_type": "code",
   "execution_count": 211,
   "metadata": {},
   "outputs": [],
   "source": [
    "# board[0][0] = \"A\"\n",
    "# board"
   ]
  },
  {
   "cell_type": "code",
   "execution_count": 212,
   "metadata": {},
   "outputs": [],
   "source": [
    "for ite,m in enumerate(moves):\n",
    "    if ite%2 == 0:\n",
    "        board[m[0]][m[1]] = \"A\"\n",
    "    else:\n",
    "        board[m[0]][m[1]] = \"B\""
   ]
  },
  {
   "cell_type": "code",
   "execution_count": 213,
   "metadata": {},
   "outputs": [
    {
     "data": {
      "text/plain": [
       "[['A', 'A', 'B'], ['B', 'B', 'A'], ['A', 'B', 'A']]"
      ]
     },
     "execution_count": 213,
     "metadata": {},
     "output_type": "execute_result"
    }
   ],
   "source": [
    "board"
   ]
  },
  {
   "cell_type": "code",
   "execution_count": 215,
   "metadata": {},
   "outputs": [
    {
     "name": "stdout",
     "output_type": "stream",
     "text": [
      "B\n",
      "A\n",
      "A\n"
     ]
    }
   ],
   "source": [
    "# check col\n",
    "for col in range(3):\n",
    "    print(board[col][moves[-1][1]])\n",
    "#     print(board[r][moves[-1][0]])"
   ]
  },
  {
   "cell_type": "code",
   "execution_count": 200,
   "metadata": {},
   "outputs": [
    {
     "name": "stdout",
     "output_type": "stream",
     "text": [
      "A\n",
      "B\n",
      "\n"
     ]
    }
   ],
   "source": [
    "# check row\n",
    "for r in range(3):\n",
    "    print(board[moves[-1][0]][r])"
   ]
  },
  {
   "cell_type": "code",
   "execution_count": 186,
   "metadata": {},
   "outputs": [
    {
     "data": {
      "text/plain": [
       "[0, 1]"
      ]
     },
     "execution_count": 186,
     "metadata": {},
     "output_type": "execute_result"
    }
   ],
   "source": [
    "moves[-1]"
   ]
  },
  {
   "cell_type": "code",
   "execution_count": null,
   "metadata": {},
   "outputs": [],
   "source": []
  },
  {
   "cell_type": "code",
   "execution_count": null,
   "metadata": {},
   "outputs": [],
   "source": []
  },
  {
   "cell_type": "code",
   "execution_count": 61,
   "metadata": {},
   "outputs": [
    {
     "name": "stdout",
     "output_type": "stream",
     "text": [
      "0\n",
      "1\n",
      "2\n"
     ]
    }
   ],
   "source": []
  },
  {
   "cell_type": "code",
   "execution_count": 63,
   "metadata": {},
   "outputs": [
    {
     "name": "stdout",
     "output_type": "stream",
     "text": [
      "B\n",
      "B\n",
      "A\n"
     ]
    }
   ],
   "source": [
    "for r in range(3):\n",
    "    if \n",
    "    print(board[moves[-1][0]][r])\n"
   ]
  },
  {
   "cell_type": "code",
   "execution_count": null,
   "metadata": {},
   "outputs": [],
   "source": []
  },
  {
   "cell_type": "code",
   "execution_count": 216,
   "metadata": {},
   "outputs": [],
   "source": [
    "def tictactor(moves):\n",
    "    board = [[\"\", \"\", \"\"], [\"\", \"\", \"\"], [\"\", \"\", \"\"]]\n",
    "    # fill board\n",
    "    for ite,m in enumerate(moves):\n",
    "        if ite%2 == 0:\n",
    "            board[m[0]][m[1]] = \"A\"\n",
    "        else:\n",
    "            board[m[0]][m[1]] = \"B\"\n",
    "    \n",
    "    must_win = board[moves[-1][0]][moves[-1][1]]\n",
    "    print(must_win)\n",
    "\n",
    "    # check row\n",
    "    check_row = True\n",
    "    for r in range(3):\n",
    "        if board[moves[-1][0]][r] != must_win:\n",
    "            check_row = False\n",
    "            break\n",
    "    print(check_row)\n",
    "    \n",
    "    # check col\n",
    "    check_col = True\n",
    "    for c in range(3):\n",
    "        if board[c][moves[-1][1]] != must_win:\n",
    "            check_col = False\n",
    "            break\n",
    "    print(check_col)\n",
    "    \n",
    "    # check diagonal 1\n",
    "    check_diag1 = True\n",
    "    for c in range(3):\n",
    "        if board[c][c] != must_win:\n",
    "            check_diag1 = False\n",
    "            break\n",
    "    print(check_diag1)\n",
    "    \n",
    "    # check diagonal 2\n",
    "    check_diag2 = True\n",
    "    for c in range(3):\n",
    "        if board[c][2-c] != must_win:\n",
    "            check_diag2 = False\n",
    "            break\n",
    "    print(check_diag2)\n",
    "    \n",
    "    if check_row or check_col or check_diag1 or check_diag2:\n",
    "        return must_win\n",
    "    \n",
    "    print(board)\n",
    "\n",
    "    # check draw or pending\n",
    "    if len(moves)<9:\n",
    "        return \"Pending\"\n",
    "    else:\n",
    "        return \"Draw\""
   ]
  },
  {
   "cell_type": "code",
   "execution_count": 225,
   "metadata": {},
   "outputs": [],
   "source": [
    "moves = [[0,0],[2,0],[1,1],[2,1],[2,2]] # A\n",
    "# moves = [[0,0],[1,1],[0,1],[0,2],[1,0],[2,0]] # B\n",
    "# moves = [[0,0],[1,1],[2,0],[1,0],[1,2],[2,1],[0,1],[0,2],[2,2]] # Draw\n",
    "# moves = [[0,0],[1,1]] # Pending\n",
    "\n",
    "# moves = [[2,0],[1,1],[0,2],[2,1],[1,2],[1,0],[0,0],[0,1]] # B"
   ]
  },
  {
   "cell_type": "code",
   "execution_count": 226,
   "metadata": {},
   "outputs": [
    {
     "name": "stdout",
     "output_type": "stream",
     "text": [
      "A\n",
      "False\n",
      "False\n",
      "True\n",
      "False\n"
     ]
    },
    {
     "data": {
      "text/plain": [
       "'A'"
      ]
     },
     "execution_count": 226,
     "metadata": {},
     "output_type": "execute_result"
    }
   ],
   "source": [
    "tictactor(moves)"
   ]
  },
  {
   "cell_type": "code",
   "execution_count": null,
   "metadata": {},
   "outputs": [],
   "source": [
    "['A', 'B', 'A'] \n",
    "['B', 'B', 'A']\n",
    "['A', 'B', '']"
   ]
  },
  {
   "cell_type": "code",
   "execution_count": null,
   "metadata": {},
   "outputs": [],
   "source": []
  },
  {
   "cell_type": "code",
   "execution_count": null,
   "metadata": {},
   "outputs": [],
   "source": []
  },
  {
   "cell_type": "code",
   "execution_count": null,
   "metadata": {},
   "outputs": [],
   "source": []
  },
  {
   "cell_type": "code",
   "execution_count": null,
   "metadata": {},
   "outputs": [],
   "source": []
  },
  {
   "cell_type": "code",
   "execution_count": null,
   "metadata": {},
   "outputs": [],
   "source": []
  },
  {
   "cell_type": "code",
   "execution_count": null,
   "metadata": {},
   "outputs": [],
   "source": []
  }
 ],
 "metadata": {
  "kernelspec": {
   "display_name": "Python 3",
   "language": "python",
   "name": "python3"
  },
  "language_info": {
   "codemirror_mode": {
    "name": "ipython",
    "version": 3
   },
   "file_extension": ".py",
   "mimetype": "text/x-python",
   "name": "python",
   "nbconvert_exporter": "python",
   "pygments_lexer": "ipython3",
   "version": "3.7.5"
  }
 },
 "nbformat": 4,
 "nbformat_minor": 4
}
