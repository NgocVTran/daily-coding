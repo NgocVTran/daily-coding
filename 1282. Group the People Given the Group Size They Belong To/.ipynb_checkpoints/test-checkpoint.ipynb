{
 "cells": [
  {
   "cell_type": "markdown",
   "metadata": {},
   "source": [
    "There are n people that are split into some unknown number of groups. Each person is labeled with a unique ID from 0 to n - 1.\n",
    "\n",
    "You are given an integer array groupSizes, where groupSizes[i] is the size of the group that person i is in. For example, if groupSizes[1] = 3, then person 1 must be in a group of size 3.\n",
    "\n",
    "Return a list of groups such that each person i is in a group of size groupSizes[i].\n",
    "\n",
    "Each person should appear in exactly one group, and every person must be in a group. If there are multiple answers, return any of them. It is guaranteed that there will be at least one valid solution for the given input.\n",
    "\n",
    " \n",
    "\n",
    "Example 1:\n",
    "\n",
    "Input: groupSizes = [3,3,3,3,3,1,3]\n",
    "Output: [[5],[0,1,2],[3,4,6]]\n",
    "Explanation: \n",
    "The first group is [5]. The size is 1, and groupSizes[5] = 1.\n",
    "The second group is [0,1,2]. The size is 3, and groupSizes[0] = groupSizes[1] = groupSizes[2] = 3.\n",
    "The third group is [3,4,6]. The size is 3, and groupSizes[3] = groupSizes[4] = groupSizes[6] = 3.\n",
    "Other possible solutions are [[2,1,6],[5],[0,4,3]] and [[5],[0,6,2],[4,3,1]].\n",
    "Example 2:\n",
    "\n",
    "Input: groupSizes = [2,1,3,3,3,2]\n",
    "Output: [[1],[0,5],[2,3,4]]"
   ]
  },
  {
   "cell_type": "code",
   "execution_count": 39,
   "metadata": {},
   "outputs": [],
   "source": [
    "def groupThePeople(groupSizes):\n",
    "    dct = {}\n",
    "    for ite,nr in enumerate(groupSizes):\n",
    "        if nr in dct:\n",
    "            dct[nr].append(ite)\n",
    "        else:\n",
    "            dct[nr] = [ite]\n",
    "t\n",
    "    result = []\n",
    "    for k,v in dct.items():\n",
    "        for i in range(len(v)//k):\n",
    "#             print(v)\n",
    "            result.append(v[i*k:i*k+k])\n",
    "    \n",
    "    \n",
    "    return result"
   ]
  },
  {
   "cell_type": "code",
   "execution_count": 53,
   "metadata": {},
   "outputs": [],
   "source": [
    "def groupThePeople(groupSizes):\n",
    "    dct = {}\n",
    "    result = []\n",
    "    for ite,nr in enumerate(groupSizes):\n",
    "        if nr in dct:\n",
    "            dct[nr].append(ite)\n",
    "        else:\n",
    "            dct[nr] = [ite]\n",
    "        if len(dct[nr]) == nr:\n",
    "            result += [dct[nr]]\n",
    "            dct[nr] = []\n",
    "    return result"
   ]
  },
  {
   "cell_type": "code",
   "execution_count": 54,
   "metadata": {},
   "outputs": [],
   "source": [
    "groupSizes = [3,3,3,3,3,1,3]\n",
    "# Output: [[5],[0,1,2],[3,4,6]]\n",
    "\n",
    "# groupSizes = [2,1,3,3,3,2]\n",
    "# # Output: [[1],[0,5],[2,3,4]]"
   ]
  },
  {
   "cell_type": "code",
   "execution_count": 55,
   "metadata": {},
   "outputs": [
    {
     "data": {
      "text/plain": [
       "[[0, 1, 2], [5], [3, 4, 6]]"
      ]
     },
     "execution_count": 55,
     "metadata": {},
     "output_type": "execute_result"
    }
   ],
   "source": [
    "groupThePeople(groupSizes)"
   ]
  },
  {
   "cell_type": "code",
   "execution_count": 45,
   "metadata": {},
   "outputs": [],
   "source": [
    "# v = [0, 1, 2, 3, 4, 6]\n",
    "# k = 3"
   ]
  },
  {
   "cell_type": "code",
   "execution_count": 46,
   "metadata": {},
   "outputs": [
    {
     "name": "stdout",
     "output_type": "stream",
     "text": [
      "0\n",
      "[0, 1, 2]\n",
      "1\n",
      "[3, 4, 6]\n"
     ]
    }
   ],
   "source": [
    "# for i in range(len(v)//k):\n",
    "#     print(i)\n",
    "#     print(v[i*k:i*k+k])"
   ]
  },
  {
   "cell_type": "code",
   "execution_count": null,
   "metadata": {},
   "outputs": [],
   "source": []
  },
  {
   "cell_type": "code",
   "execution_count": null,
   "metadata": {},
   "outputs": [],
   "source": []
  }
 ],
 "metadata": {
  "kernelspec": {
   "display_name": "Python 3",
   "language": "python",
   "name": "python3"
  },
  "language_info": {
   "codemirror_mode": {
    "name": "ipython",
    "version": 3
   },
   "file_extension": ".py",
   "mimetype": "text/x-python",
   "name": "python",
   "nbconvert_exporter": "python",
   "pygments_lexer": "ipython3",
   "version": "3.7.5"
  }
 },
 "nbformat": 4,
 "nbformat_minor": 4
}
