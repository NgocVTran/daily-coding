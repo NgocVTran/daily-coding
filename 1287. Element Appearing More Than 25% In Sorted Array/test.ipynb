{
 "cells": [
  {
   "cell_type": "markdown",
   "metadata": {},
   "source": [
    "Given an integer array sorted in non-decreasing order, there is exactly one integer in the array that occurs more than 25% of the time.\n",
    "\n",
    "Return that integer.\n",
    "\n",
    " \n",
    "\n",
    "Example 1:\n",
    "\n",
    "Input: arr = [1,2,2,6,6,6,6,7,10]\n",
    "Output: 6"
   ]
  },
  {
   "cell_type": "code",
   "execution_count": 1,
   "metadata": {},
   "outputs": [],
   "source": [
    "arr = [1,2,2,6,6,6,6,7,10] # 6"
   ]
  },
  {
   "cell_type": "code",
   "execution_count": 3,
   "metadata": {},
   "outputs": [
    {
     "data": {
      "text/plain": [
       "{1: 0.1111111111111111,\n",
       " 2: 0.2222222222222222,\n",
       " 6: 0.4444444444444444,\n",
       " 7: 0.1111111111111111,\n",
       " 10: 0.1111111111111111}"
      ]
     },
     "execution_count": 3,
     "metadata": {},
     "output_type": "execute_result"
    }
   ],
   "source": [
    "dict = {x:arr.count(x)/len(arr) for x in arr}\n",
    "dict"
   ]
  },
  {
   "cell_type": "code",
   "execution_count": null,
   "metadata": {},
   "outputs": [],
   "source": []
  },
  {
   "cell_type": "code",
   "execution_count": 4,
   "metadata": {},
   "outputs": [],
   "source": [
    "def findSpecialInteger(arr):\n",
    "    for k,v in dict.items():\n",
    "        if v>0.25:\n",
    "            return k"
   ]
  },
  {
   "cell_type": "code",
   "execution_count": 5,
   "metadata": {},
   "outputs": [
    {
     "data": {
      "text/plain": [
       "6"
      ]
     },
     "execution_count": 5,
     "metadata": {},
     "output_type": "execute_result"
    }
   ],
   "source": [
    "findSpecialInteger(arr)"
   ]
  },
  {
   "cell_type": "code",
   "execution_count": null,
   "metadata": {},
   "outputs": [],
   "source": []
  },
  {
   "cell_type": "markdown",
   "metadata": {},
   "source": [
    "Divide ranges into 4, as we have one element more than 25% of times. Pick one element from each range.\n",
    "Range search that element and pick element from largest range.\n",
    "\n",
    "We will use \"Find First and Last Position of Element in Sorted Array\" logic to get the range for each search element from each range."
   ]
  },
  {
   "cell_type": "code",
   "execution_count": 56,
   "metadata": {},
   "outputs": [],
   "source": [
    "def findSpecialInteger(arr):\n",
    "    if len(arr)==1:\n",
    "        return arr[0]\n",
    "\n",
    "    length = len(arr)\n",
    "    \n",
    "    firstThreeQuarters = [arr[length//4], arr[length//2], arr[3*length//4]]\n",
    "\n",
    "    for elem in firstThreeQuarters:\n",
    "        pos = firstOccurrence(arr, elem)\n",
    "        \n",
    "        if (arr[pos + length// 4] == elem):\n",
    "            return elem\n",
    "    return -1;\n",
    "\n",
    "# find the first occur of element in arr\n",
    "def firstOccurrence(arr, target):\n",
    "    start = 0\n",
    "    end = len(arr) - 1;\n",
    "    while (start < end):\n",
    "        mid = start + (end - start)//2\n",
    "        if (target > arr[mid]):\n",
    "            start = mid + 1\n",
    "        else:\n",
    "            end = mid\n",
    "    return end;"
   ]
  },
  {
   "cell_type": "code",
   "execution_count": 57,
   "metadata": {},
   "outputs": [
    {
     "name": "stdout",
     "output_type": "stream",
     "text": [
      "2\n",
      "2 4\n",
      "2 2\n",
      "2 1\n",
      "2 0\n",
      "6\n",
      "6 4\n",
      "6 2\n",
      "6 3\n"
     ]
    },
    {
     "data": {
      "text/plain": [
       "6"
      ]
     },
     "execution_count": 57,
     "metadata": {},
     "output_type": "execute_result"
    }
   ],
   "source": [
    "findSpecialInteger(arr)"
   ]
  },
  {
   "cell_type": "code",
   "execution_count": 17,
   "metadata": {},
   "outputs": [],
   "source": [
    "length = len(arr)"
   ]
  },
  {
   "cell_type": "code",
   "execution_count": 19,
   "metadata": {},
   "outputs": [
    {
     "data": {
      "text/plain": [
       "[2, 6, 6]"
      ]
     },
     "execution_count": 19,
     "metadata": {},
     "output_type": "execute_result"
    }
   ],
   "source": [
    "firstThreeQuarters = [arr[length//4], arr[length//2], arr[3*length//4]]\n",
    "firstThreeQuarters"
   ]
  },
  {
   "cell_type": "code",
   "execution_count": null,
   "metadata": {},
   "outputs": [],
   "source": []
  }
 ],
 "metadata": {
  "kernelspec": {
   "display_name": "Python 3",
   "language": "python",
   "name": "python3"
  },
  "language_info": {
   "codemirror_mode": {
    "name": "ipython",
    "version": 3
   },
   "file_extension": ".py",
   "mimetype": "text/x-python",
   "name": "python",
   "nbconvert_exporter": "python",
   "pygments_lexer": "ipython3",
   "version": "3.7.5"
  }
 },
 "nbformat": 4,
 "nbformat_minor": 4
}
