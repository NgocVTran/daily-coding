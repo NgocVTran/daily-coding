{
 "cells": [
  {
   "cell_type": "markdown",
   "metadata": {},
   "source": [
    "Given a string s formed by digits ('0' - '9') and '#' . We want to map s to English lowercase characters as follows:\n",
    "\n",
    "Characters ('a' to 'i') are represented by ('1' to '9') respectively.\n",
    "Characters ('j' to 'z') are represented by ('10#' to '26#') respectively. \n",
    "Return the string formed after mapping.\n",
    "\n",
    "It's guaranteed that a unique mapping will always exist.\n",
    "\n",
    " \n",
    "\n",
    "Example 1:\n",
    "\n",
    "Input: s = \"10#11#12\"\n",
    "Output: \"jkab\"\n",
    "Explanation: \"j\" -> \"10#\" , \"k\" -> \"11#\" , \"a\" -> \"1\" , \"b\" -> \"2\".\n",
    "Example 2:\n",
    "\n",
    "Input: s = \"1326#\"\n",
    "Output: \"acz\"\n",
    "Example 3:\n",
    "\n",
    "Input: s = \"25#\"\n",
    "Output: \"y\"\n",
    "Example 4:\n",
    "\n",
    "Input: s = \"12345678910#11#12#13#14#15#16#17#18#19#20#21#22#23#24#25#26#\"\n",
    "Output: \"abcdefghijklmnopqrstuvwxyz\""
   ]
  },
  {
   "cell_type": "code",
   "execution_count": 38,
   "metadata": {},
   "outputs": [],
   "source": [
    "def freqAlphabets(s):\n",
    "    dct = {\n",
    "        \"a\":\"1\", \"b\":\"2\", \"c\":\"3\", \"d\":\"4\", \"e\": \"5\", \"f\":\"6\", \"g\":\"7\", \"h\":\"8\", \"i\":\"9\",\n",
    "        \"j\":\"10#\", \"k\":\"11#\", \"l\":\"12#\", \"m\":\"13#\", \"n\":\"14#\", \"o\":\"15#\", \"p\":\"16#\",\n",
    "        \"q\":\"17#\", \"r\":\"18#\", \"s\":\"19#\", \"t\":\"20#\", \"u\":\"21#\", \"v\":\"22#\", \"w\":\"23#\", \n",
    "        \"x\":\"24#\", \"y\":\"25#\", \"z\":\"26#\",\n",
    "    }\n",
    "    # inv_dict = {v: k for k, v in dct.items()}\n",
    "    inv_dict = {\n",
    "        '1': 'a', '2': 'b', '3': 'c', '4': 'd', '5': 'e', '6': 'f', '7': 'g', '8': 'h', '9': 'i', \n",
    "        '10#': 'j', '11#': 'k', '12#': 'l', '13#': 'm', '14#': 'n', '15#': 'o', '16#': 'p', \n",
    "        '17#': 'q', '18#': 'r', '19#': 's', '20#': 't', '21#': 'u', '22#': 'v', '23#': 'w', \n",
    "        '24#': 'x', '25#': 'y', '26#': 'z'}\n",
    "    \n",
    "    i = 0\n",
    "    result = \"\"\n",
    "    s = s + \"111\"\n",
    "    while i < len(s)-3:\n",
    "        if s[i+2] == \"#\":\n",
    "            result = result + inv_dict[s[i:i+3]]\n",
    "            i = i+3\n",
    "        else:\n",
    "            result = result + inv_dict[s[i]]\n",
    "            i = i+1\n",
    "    return result"
   ]
  },
  {
   "cell_type": "code",
   "execution_count": 39,
   "metadata": {},
   "outputs": [],
   "source": [
    "# s = \"10#11#12\"\n",
    "# # Output: \"jkab\"\n",
    "\n",
    "# s = \"1326#\"\n",
    "# # Output: \"acz\"\n",
    "\n",
    "# s = \"25#\"\n",
    "# # Output: \"y\"\n",
    "\n",
    "# s = \"12345678910#11#12#13#14#15#16#17#18#19#20#21#22#23#24#25#26#\"\n",
    "# # Output: \"abcdefghijklmnopqrstuvwxyz\"\n",
    "\n",
    "s = \"11#\""
   ]
  },
  {
   "cell_type": "code",
   "execution_count": 40,
   "metadata": {},
   "outputs": [
    {
     "data": {
      "text/plain": [
       "'k'"
      ]
     },
     "execution_count": 40,
     "metadata": {},
     "output_type": "execute_result"
    }
   ],
   "source": [
    "freqAlphabets(s)"
   ]
  },
  {
   "cell_type": "code",
   "execution_count": null,
   "metadata": {},
   "outputs": [],
   "source": []
  },
  {
   "cell_type": "code",
   "execution_count": null,
   "metadata": {},
   "outputs": [],
   "source": []
  },
  {
   "cell_type": "code",
   "execution_count": null,
   "metadata": {},
   "outputs": [],
   "source": []
  }
 ],
 "metadata": {
  "kernelspec": {
   "display_name": "Python 3",
   "language": "python",
   "name": "python3"
  },
  "language_info": {
   "codemirror_mode": {
    "name": "ipython",
    "version": 3
   },
   "file_extension": ".py",
   "mimetype": "text/x-python",
   "name": "python",
   "nbconvert_exporter": "python",
   "pygments_lexer": "ipython3",
   "version": "3.7.5"
  }
 },
 "nbformat": 4,
 "nbformat_minor": 4
}
