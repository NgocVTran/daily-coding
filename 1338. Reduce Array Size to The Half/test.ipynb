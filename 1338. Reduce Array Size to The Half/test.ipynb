{
 "cells": [
  {
   "cell_type": "markdown",
   "metadata": {},
   "source": [
    "Given an array arr.  You can choose a set of integers and remove all the occurrences of these integers in the array.\n",
    "\n",
    "Return the minimum size of the set so that at least half of the integers of the array are removed.\n",
    "\n",
    " \n",
    "\n",
    "Example 1:\n",
    "\n",
    "Input: arr = [3,3,3,3,5,5,5,2,2,7]\n",
    "Output: 2\n",
    "Explanation: Choosing {3,7} will make the new array [5,5,5,2,2] which has size 5 (i.e equal to half of the size of the old array).\n",
    "Possible sets of size 2 are {3,5},{3,2},{5,2}.\n",
    "Choosing set {2,7} is not possible as it will make the new array [3,3,3,3,5,5,5] which has size greater than half of the size of the old array.\n",
    "Example 2:\n",
    "\n",
    "Input: arr = [7,7,7,7,7,7]\n",
    "Output: 1\n",
    "Explanation: The only possible set you can choose is {7}. This will make the new array empty.\n",
    "Example 3:\n",
    "\n",
    "Input: arr = [1,9]\n",
    "Output: 1\n",
    "Example 4:\n",
    "\n",
    "Input: arr = [1000,1000,3,7]\n",
    "Output: 1\n",
    "Example 5:\n",
    "\n",
    "Input: arr = [1,2,3,4,5,6,7,8,9,10]\n",
    "Output: 5\n",
    " \n",
    "\n",
    "Constraints:\n",
    "\n",
    "1 <= arr.length <= 10^5\n",
    "arr.length is even.\n",
    "1 <= arr[i] <= 10^5"
   ]
  },
  {
   "cell_type": "code",
   "execution_count": 111,
   "metadata": {},
   "outputs": [],
   "source": [
    "def minSetSize(arr):\n",
    "    count = {}\n",
    "    for nr in arr:\n",
    "        if nr in count:\n",
    "            count[nr] += 1\n",
    "        else:\n",
    "            count[nr] = 1\n",
    "    \n",
    "    sort = sorted(count.values(), reverse=True)\n",
    "    if len(sort) == 1:\n",
    "        return 1\n",
    "    \n",
    "    total = 0\n",
    "    nr_of_set = 0\n",
    "    for s in sort:\n",
    "        print(total)\n",
    "        if total>=len(arr)//2:\n",
    "            return nr_of_set\n",
    "        else:\n",
    "            total += s\n",
    "            nr_of_set += 1"
   ]
  },
  {
   "cell_type": "code",
   "execution_count": 112,
   "metadata": {},
   "outputs": [],
   "source": [
    "arr = [3,3,3,3,5,5,5,2,2,7]\n",
    "# Output: 2\n",
    "    \n",
    "# arr = [7,7,7,7,7,7]\n",
    "# # Output: 1\n",
    "    \n",
    "# arr = [1,9]\n",
    "# # Output: 1\n",
    "    \n",
    "# arr = [1000,1000,3,7]\n",
    "# # Output: 1\n",
    "    \n",
    "# arr = [1,2,3,4,5,6,7,8,9,10]\n",
    "# # Output: 5"
   ]
  },
  {
   "cell_type": "code",
   "execution_count": 113,
   "metadata": {},
   "outputs": [
    {
     "name": "stdout",
     "output_type": "stream",
     "text": [
      "0\n",
      "4\n",
      "7\n"
     ]
    },
    {
     "data": {
      "text/plain": [
       "2"
      ]
     },
     "execution_count": 113,
     "metadata": {},
     "output_type": "execute_result"
    }
   ],
   "source": [
    "minSetSize(arr)"
   ]
  },
  {
   "cell_type": "code",
   "execution_count": 84,
   "metadata": {},
   "outputs": [
    {
     "data": {
      "text/plain": [
       "1"
      ]
     },
     "execution_count": 84,
     "metadata": {},
     "output_type": "execute_result"
    }
   ],
   "source": [
    "len(arr) % 3"
   ]
  },
  {
   "cell_type": "code",
   "execution_count": null,
   "metadata": {},
   "outputs": [],
   "source": []
  },
  {
   "cell_type": "code",
   "execution_count": null,
   "metadata": {},
   "outputs": [],
   "source": []
  }
 ],
 "metadata": {
  "kernelspec": {
   "display_name": "Python 3",
   "language": "python",
   "name": "python3"
  },
  "language_info": {
   "codemirror_mode": {
    "name": "ipython",
    "version": 3
   },
   "file_extension": ".py",
   "mimetype": "text/x-python",
   "name": "python",
   "nbconvert_exporter": "python",
   "pygments_lexer": "ipython3",
   "version": "3.7.5"
  }
 },
 "nbformat": 4,
 "nbformat_minor": 4
}
