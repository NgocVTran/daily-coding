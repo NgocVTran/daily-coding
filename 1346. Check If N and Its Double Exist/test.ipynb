{
 "cells": [
  {
   "cell_type": "markdown",
   "metadata": {},
   "source": [
    "Given an array arr of integers, check if there exists two integers N and M such that N is the double of M ( i.e. N = 2 * M).\n",
    "\n",
    "More formally check if there exists two indices i and j such that :\n",
    "\n",
    "i != j\n",
    "0 <= i, j < arr.length\n",
    "arr[i] == 2 * arr[j]\n",
    " \n",
    "\n",
    "Example 1:\n",
    "\n",
    "Input: arr = [10,2,5,3]\n",
    "Output: true\n",
    "Explanation: N = 10 is the double of M = 5,that is, 10 = 2 * 5.\n",
    "Example 2:\n",
    "\n",
    "Input: arr = [7,1,14,11]\n",
    "Output: true\n",
    "Explanation: N = 14 is the double of M = 7,that is, 14 = 2 * 7.\n",
    "Example 3:\n",
    "\n",
    "Input: arr = [3,1,7,11]\n",
    "Output: false\n",
    "Explanation: In this case does not exist N and M, such that N = 2 * M."
   ]
  },
  {
   "cell_type": "code",
   "execution_count": null,
   "metadata": {},
   "outputs": [],
   "source": []
  },
  {
   "cell_type": "code",
   "execution_count": 56,
   "metadata": {},
   "outputs": [],
   "source": [
    "# arr = [10,20,5,3] # true\n",
    "# arr = [3,1,7,11] # false\n",
    "# arr = [10,2,5,3] # true\n",
    "arr = [-2,0,10,-19,4,6,-8] # false\n",
    "# arr = [0,0] # true"
   ]
  },
  {
   "cell_type": "code",
   "execution_count": 57,
   "metadata": {},
   "outputs": [
    {
     "data": {
      "text/plain": [
       "{-2: 1, 0: 1, 10: 1, -19: 1, 4: 1, 6: 1, -8: 1}"
      ]
     },
     "execution_count": 57,
     "metadata": {},
     "output_type": "execute_result"
    }
   ],
   "source": [
    "dict = {x:arr.count(x) for x in arr}\n",
    "dict"
   ]
  },
  {
   "cell_type": "code",
   "execution_count": 58,
   "metadata": {},
   "outputs": [],
   "source": [
    "def check(arr):\n",
    "    s = 0\n",
    "    if arr.count(0)>1:\n",
    "        return True\n",
    "    for a in arr:\n",
    "        try:\n",
    "            if a!=0:\n",
    "                s = dict[2*a]\n",
    "        except:\n",
    "            continue\n",
    "    print(s)\n",
    "    return s>0"
   ]
  },
  {
   "cell_type": "code",
   "execution_count": 59,
   "metadata": {},
   "outputs": [
    {
     "name": "stdout",
     "output_type": "stream",
     "text": [
      "0\n"
     ]
    },
    {
     "data": {
      "text/plain": [
       "False"
      ]
     },
     "execution_count": 59,
     "metadata": {},
     "output_type": "execute_result"
    }
   ],
   "source": [
    "check(arr)"
   ]
  },
  {
   "cell_type": "code",
   "execution_count": null,
   "metadata": {},
   "outputs": [],
   "source": []
  },
  {
   "cell_type": "code",
   "execution_count": 70,
   "metadata": {},
   "outputs": [],
   "source": [
    "# try to reduce complex\n",
    "def check(arr):\n",
    "    if arr.count(0)>1:\n",
    "        return True\n",
    "    for a in arr:\n",
    "        print(a, arr.count(2*a))\n",
    "        if a!=0 and arr.count(2*a)>=1:\n",
    "            return True\n",
    "\n",
    "    return False"
   ]
  },
  {
   "cell_type": "code",
   "execution_count": 71,
   "metadata": {},
   "outputs": [],
   "source": [
    "arr = [10,20,5,3] # true"
   ]
  },
  {
   "cell_type": "code",
   "execution_count": 72,
   "metadata": {},
   "outputs": [
    {
     "name": "stdout",
     "output_type": "stream",
     "text": [
      "10 1\n"
     ]
    },
    {
     "data": {
      "text/plain": [
       "True"
      ]
     },
     "execution_count": 72,
     "metadata": {},
     "output_type": "execute_result"
    }
   ],
   "source": [
    "check(arr)"
   ]
  },
  {
   "cell_type": "code",
   "execution_count": null,
   "metadata": {},
   "outputs": [],
   "source": []
  }
 ],
 "metadata": {
  "kernelspec": {
   "display_name": "Python 3",
   "language": "python",
   "name": "python3"
  },
  "language_info": {
   "codemirror_mode": {
    "name": "ipython",
    "version": 3
   },
   "file_extension": ".py",
   "mimetype": "text/x-python",
   "name": "python",
   "nbconvert_exporter": "python",
   "pygments_lexer": "ipython3",
   "version": "3.7.5"
  }
 },
 "nbformat": 4,
 "nbformat_minor": 4
}
