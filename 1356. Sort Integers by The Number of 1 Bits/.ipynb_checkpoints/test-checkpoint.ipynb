{
 "cells": [
  {
   "cell_type": "markdown",
   "metadata": {},
   "source": [
    "Given an integer array arr. You have to sort the integers in the array in ascending order by the number of 1's in their binary representation and in case of two or more integers have the same number of 1's you have to sort them in ascending order.\n",
    "\n",
    "Return the sorted array.\n",
    "\n",
    " \n",
    "\n",
    "Example 1:\n",
    "\n",
    "Input: arr = [0,1,2,3,4,5,6,7,8]\n",
    "Output: [0,1,2,4,8,3,5,6,7]\n",
    "Explantion: [0] is the only integer with 0 bits.\n",
    "[1,2,4,8] all have 1 bit.\n",
    "[3,5,6] have 2 bits.\n",
    "[7] has 3 bits.\n",
    "The sorted array by bits is [0,1,2,4,8,3,5,6,7]\n",
    "Example 2:\n",
    "\n",
    "Input: arr = [1024,512,256,128,64,32,16,8,4,2,1]\n",
    "Output: [1,2,4,8,16,32,64,128,256,512,1024]\n",
    "Explantion: All integers have 1 bit in the binary representation, you should just sort them in ascending order.\n",
    "Example 3:\n",
    "\n",
    "Input: arr = [10000,10000]\n",
    "Output: [10000,10000]\n",
    "Example 4:\n",
    "\n",
    "Input: arr = [2,3,5,7,11,13,17,19]\n",
    "Output: [2,3,5,17,7,11,13,19]\n",
    "Example 5:\n",
    "\n",
    "Input: arr = [10,100,1000,10000]\n",
    "Output: [10,100,10000,1000]\n",
    " \n",
    "\n",
    "Constraints:\n",
    "\n",
    "1 <= arr.length <= 500\n",
    "0 <= arr[i] <= 10^4"
   ]
  },
  {
   "cell_type": "code",
   "execution_count": 71,
   "metadata": {},
   "outputs": [],
   "source": [
    "def sortByBits(arr):\n",
    "    lst = []\n",
    "    for a in arr:\n",
    "        lst.append((a, bin(a).count(\"1\")))\n",
    "        \n",
    "    lst.sort(key=lambda x: [x[1], x[0]])\n",
    "    return [num for num,_ in lst]"
   ]
  },
  {
   "cell_type": "code",
   "execution_count": 72,
   "metadata": {},
   "outputs": [],
   "source": [
    "arr = [0,1,2,3,4,5,6,7,8]\n",
    "# Output: [0,1,2,4,8,3,5,6,7]\n",
    "\n",
    "# arr = [1024,512,256,128,64,32,16,8,4,2,1]\n",
    "# # Output: [1,2,4,8,16,32,64,128,256,512,1024]\n",
    "\n",
    "# arr = [10000,10000]\n",
    "# # Output: [10000,10000]\n",
    "\n",
    "# arr = [2,3,5,7,11,13,17,19]\n",
    "# # Output: [2,3,5,17,7,11,13,19]\n",
    "\n",
    "# arr = [10,100,1000,10000]\n",
    "# # Output: [10,100,10000,1000]"
   ]
  },
  {
   "cell_type": "code",
   "execution_count": 73,
   "metadata": {},
   "outputs": [
    {
     "data": {
      "text/plain": [
       "[0, 1, 2, 4, 8, 3, 5, 6, 7]"
      ]
     },
     "execution_count": 73,
     "metadata": {},
     "output_type": "execute_result"
    }
   ],
   "source": [
    "sortByBits(arr)"
   ]
  },
  {
   "cell_type": "code",
   "execution_count": null,
   "metadata": {},
   "outputs": [],
   "source": []
  }
 ],
 "metadata": {
  "kernelspec": {
   "display_name": "Python 3",
   "language": "python",
   "name": "python3"
  },
  "language_info": {
   "codemirror_mode": {
    "name": "ipython",
    "version": 3
   },
   "file_extension": ".py",
   "mimetype": "text/x-python",
   "name": "python",
   "nbconvert_exporter": "python",
   "pygments_lexer": "ipython3",
   "version": "3.7.5"
  }
 },
 "nbformat": 4,
 "nbformat_minor": 4
}
