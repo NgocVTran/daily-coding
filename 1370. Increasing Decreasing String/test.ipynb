{
 "cells": [
  {
   "cell_type": "markdown",
   "metadata": {},
   "source": [
    "Given a string s. You should re-order the string using the following algorithm:\n",
    "\n",
    "Pick the smallest character from s and append it to the result.\n",
    "Pick the smallest character from s which is greater than the last appended character to the result and append it.\n",
    "Repeat step 2 until you cannot pick more characters.\n",
    "Pick the largest character from s and append it to the result.\n",
    "Pick the largest character from s which is smaller than the last appended character to the result and append it.\n",
    "Repeat step 5 until you cannot pick more characters.\n",
    "Repeat the steps from 1 to 6 until you pick all characters from s.\n",
    "In each step, If the smallest or the largest character appears more than once you can choose any occurrence and append it to the result.\n",
    "\n",
    "Return the result string after sorting s with this algorithm.\n",
    "\n",
    " \n",
    "\n",
    "Example 1:\n",
    "\n",
    "Input: s = \"aaaabbbbcccc\"\n",
    "Output: \"abccbaabccba\"\n",
    "Explanation: After steps 1, 2 and 3 of the first iteration, result = \"abc\"\n",
    "After steps 4, 5 and 6 of the first iteration, result = \"abccba\"\n",
    "First iteration is done. Now s = \"aabbcc\" and we go back to step 1\n",
    "After steps 1, 2 and 3 of the second iteration, result = \"abccbaabc\"\n",
    "After steps 4, 5 and 6 of the second iteration, result = \"abccbaabccba\"\n",
    "Example 2:\n",
    "\n",
    "Input: s = \"rat\"\n",
    "Output: \"art\"\n",
    "Explanation: The word \"rat\" becomes \"art\" after re-ordering it with the mentioned algorithm.\n",
    "Example 3:\n",
    "\n",
    "Input: s = \"leetcode\"\n",
    "Output: \"cdelotee\"\n",
    "Example 4:\n",
    "\n",
    "Input: s = \"ggggggg\"\n",
    "Output: \"ggggggg\"\n",
    "Example 5:\n",
    "\n",
    "Input: s = \"spo\"\n",
    "Output: \"ops\""
   ]
  },
  {
   "cell_type": "code",
   "execution_count": 166,
   "metadata": {},
   "outputs": [],
   "source": [
    "s = \"caaaaaaabbbbcccccd\"\n",
    "# Output: \"abccbaabccba\"\n",
    "\n",
    "# s = \"rat\" # art"
   ]
  },
  {
   "cell_type": "code",
   "execution_count": 167,
   "metadata": {},
   "outputs": [
    {
     "data": {
      "text/plain": [
       "{'c': 6, 'a': 7, 'b': 4, 'd': 1}"
      ]
     },
     "execution_count": 167,
     "metadata": {},
     "output_type": "execute_result"
    }
   ],
   "source": [
    "dct = {char:s.count(char) for char in s}\n",
    "dct"
   ]
  },
  {
   "cell_type": "code",
   "execution_count": 168,
   "metadata": {},
   "outputs": [],
   "source": [
    "# sort_dct = sorted(dct.items(), key=lambda x: x[0]) \n",
    "# sort_dct"
   ]
  },
  {
   "cell_type": "code",
   "execution_count": 169,
   "metadata": {},
   "outputs": [
    {
     "data": {
      "text/plain": [
       "['a', 'b', 'c', 'd']"
      ]
     },
     "execution_count": 169,
     "metadata": {},
     "output_type": "execute_result"
    }
   ],
   "source": [
    "sort_dct = sorted(dct)\n",
    "sort_dct"
   ]
  },
  {
   "cell_type": "code",
   "execution_count": 170,
   "metadata": {},
   "outputs": [],
   "source": [
    "# step2 = \"\"\n",
    "# print(sort_dct)\n",
    "\n",
    "# for s in sort_dct:\n",
    "#     print(s)\n",
    "#     step2 = step2 + s\n",
    "#     dct[s] = dct[s]-1\n",
    "#     print(s, dct, sort_dct, sort_dct.index(s))\n",
    "#     if dct[s] == 0:\n",
    "#         sort_dct.pop(sort_dct.index(s))\n",
    "#     print(s, dct, sort_dct)\n",
    "#     print()"
   ]
  },
  {
   "cell_type": "code",
   "execution_count": 171,
   "metadata": {},
   "outputs": [],
   "source": [
    "step2 = \"\"\n",
    "\n",
    "i = 0\n",
    "while i<len(sort_dct):\n",
    "    step2 = step2 + sort_dct[i]\n",
    "    s = sort_dct[i]\n",
    "    dct[s] = dct[s]-1\n",
    "    \n",
    "    if dct[s] == 0:\n",
    "        sort_dct.pop(sort_dct.index(s))\n",
    "        i = i-1\n",
    "    # print(sort_dct.index(s), s)\n",
    "    \n",
    "    i = i+1"
   ]
  },
  {
   "cell_type": "code",
   "execution_count": 172,
   "metadata": {},
   "outputs": [
    {
     "data": {
      "text/plain": [
       "'abcd'"
      ]
     },
     "execution_count": 172,
     "metadata": {},
     "output_type": "execute_result"
    }
   ],
   "source": [
    "step2"
   ]
  },
  {
   "cell_type": "code",
   "execution_count": 173,
   "metadata": {},
   "outputs": [],
   "source": [
    "step5 = \"\"\n",
    "\n",
    "i = 0\n",
    "while i<len(sort_dct):\n",
    "    step5 = step5 + sort_dct[::-1][i]\n",
    "    s = sort_dct[::-1][i]\n",
    "    dct[s] = dct[s]-1\n",
    "\n",
    "    if dct[s] == 0:\n",
    "        sort_dct.pop(sort_dct.index(s))\n",
    "        i = i-1\n",
    "    i = i+1"
   ]
  },
  {
   "cell_type": "code",
   "execution_count": 174,
   "metadata": {},
   "outputs": [
    {
     "data": {
      "text/plain": [
       "'cba'"
      ]
     },
     "execution_count": 174,
     "metadata": {},
     "output_type": "execute_result"
    }
   ],
   "source": [
    "step5"
   ]
  },
  {
   "cell_type": "code",
   "execution_count": 175,
   "metadata": {},
   "outputs": [
    {
     "data": {
      "text/plain": [
       "['a', 'b', 'c']"
      ]
     },
     "execution_count": 175,
     "metadata": {},
     "output_type": "execute_result"
    }
   ],
   "source": [
    "sort_dct"
   ]
  },
  {
   "cell_type": "markdown",
   "metadata": {},
   "source": [
    "### solution"
   ]
  },
  {
   "cell_type": "code",
   "execution_count": 176,
   "metadata": {},
   "outputs": [],
   "source": [
    "def sortString(s):\n",
    "    dct = {char:s.count(char) for char in s}\n",
    "    sort_dct = sorted(dct)\n",
    "\n",
    "    result = \"\"\n",
    "    while sort_dct:\n",
    "        \n",
    "        step2 = \"\"\n",
    "        i = 0\n",
    "        while i<len(sort_dct):\n",
    "            step2 = step2 + sort_dct[i]\n",
    "            s = sort_dct[i]\n",
    "            dct[s] = dct[s]-1\n",
    "\n",
    "            if dct[s] == 0:\n",
    "                sort_dct.pop(sort_dct.index(s))\n",
    "                i = i-1\n",
    "            i = i+1\n",
    "            \n",
    "        step5 = \"\"\n",
    "        for s in sort_dct[::-1]:\n",
    "            step5 = step5 + s\n",
    "            dct[s] = dct[s]-1\n",
    "            if dct[s] == 0:\n",
    "                sort_dct.pop(sort_dct.index(s))\n",
    "        \n",
    "        result = result + step2 + step5\n",
    "            \n",
    "            \n",
    "    return result"
   ]
  },
  {
   "cell_type": "code",
   "execution_count": 185,
   "metadata": {},
   "outputs": [],
   "source": [
    "s = \"aaaabbbbcccc\"\n",
    "# Output: \"abccbaabccba\"\n",
    "\n",
    "# s = \"leetcode\"\n",
    "# # Output: \"cdelotee\"\n",
    "\n",
    "# s = \"rat\"\n",
    "\n",
    "# s = \"ggggggg\"\n",
    "# # Output: \"ggggggg\"\n",
    "\n",
    "# s = \"spo\"\n",
    "# # Output: \"ops\""
   ]
  },
  {
   "cell_type": "code",
   "execution_count": 186,
   "metadata": {},
   "outputs": [
    {
     "data": {
      "text/plain": [
       "'abccbaabccba'"
      ]
     },
     "execution_count": 186,
     "metadata": {},
     "output_type": "execute_result"
    }
   ],
   "source": [
    "sortString(s)"
   ]
  },
  {
   "cell_type": "code",
   "execution_count": null,
   "metadata": {},
   "outputs": [],
   "source": []
  },
  {
   "cell_type": "markdown",
   "metadata": {},
   "source": [
    "### better solution but more memory use"
   ]
  },
  {
   "cell_type": "code",
   "execution_count": 151,
   "metadata": {},
   "outputs": [],
   "source": [
    "def sortString(s):\n",
    "    unique  = list(set(s))\n",
    "    unique.sort()\n",
    "    dict_ = {}\n",
    "\n",
    "    for i in s:\n",
    "        if(i in dict_):\n",
    "            dict_[i] +=1\n",
    "        else:\n",
    "            dict_[i] = 1\n",
    "\n",
    "    total = len(s)\n",
    "    result = ''\n",
    "\n",
    "    up = 1\n",
    "    while total > 0:\n",
    "        if(up):\n",
    "            for i in unique:\n",
    "                if(dict_[i] > 0):\n",
    "                    dict_[i] -=1\n",
    "                    result += i\n",
    "                    total -=1\n",
    "            up = 0\n",
    "        else:\n",
    "            for i in reversed(unique):\n",
    "                if(dict_[i] > 0):\n",
    "                    dict_[i] -=1\n",
    "                    result += i\n",
    "                    total -=1\n",
    "            up = 1\n",
    "\n",
    "    return result"
   ]
  },
  {
   "cell_type": "code",
   "execution_count": null,
   "metadata": {},
   "outputs": [],
   "source": []
  }
 ],
 "metadata": {
  "kernelspec": {
   "display_name": "Python 3",
   "language": "python",
   "name": "python3"
  },
  "language_info": {
   "codemirror_mode": {
    "name": "ipython",
    "version": 3
   },
   "file_extension": ".py",
   "mimetype": "text/x-python",
   "name": "python",
   "nbconvert_exporter": "python",
   "pygments_lexer": "ipython3",
   "version": "3.7.5"
  }
 },
 "nbformat": 4,
 "nbformat_minor": 4
}
