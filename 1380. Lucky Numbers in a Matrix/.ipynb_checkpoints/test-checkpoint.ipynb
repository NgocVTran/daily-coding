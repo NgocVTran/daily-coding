{
 "cells": [
  {
   "cell_type": "markdown",
   "metadata": {},
   "source": [
    "Given a m * n matrix of distinct numbers, return all lucky numbers in the matrix in any order.\n",
    "\n",
    "A lucky number is an element of the matrix such that it is the minimum element in its row and maximum in its column.\n",
    "\n",
    " \n",
    "\n",
    "Example 1:\n",
    "\n",
    "Input: matrix = [[3,7,8],[9,11,13],[15,16,17]]\n",
    "Output: [15]\n",
    "Explanation: 15 is the only lucky number since it is the minimum in its row and the maximum in its column\n",
    "Example 2:\n",
    "\n",
    "Input: matrix = [[1,10,4,2],[9,3,8,7],[15,16,17,12]]\n",
    "Output: [12]\n",
    "Explanation: 12 is the only lucky number since it is the minimum in its row and the maximum in its column.\n",
    "Example 3:\n",
    "\n",
    "Input: matrix = [[7,8],[1,2]]\n",
    "Output: [7]"
   ]
  },
  {
   "cell_type": "code",
   "execution_count": 78,
   "metadata": {},
   "outputs": [],
   "source": [
    "# Input: \n",
    "matrix = [[3,7,8],[9,11,13],[15,16,17]] # Output: [15]\n",
    "# matrix = [[36376,85652,21002,4510],[68246,64237,42962,9974],[32768,97721,47338,5841],[55103,18179,79062,46542]] #[]"
   ]
  },
  {
   "cell_type": "code",
   "execution_count": null,
   "metadata": {},
   "outputs": [],
   "source": [
    "# [\n",
    "#     [36376, 85652, 21002, 4510],\n",
    "#     [68246, 64237, 42962, 9974],\n",
    "#     [32768, 97721, 47338, 5841],\n",
    "#     [55103, 18179, 79062, 46542]\n",
    "# ]"
   ]
  },
  {
   "cell_type": "code",
   "execution_count": null,
   "metadata": {},
   "outputs": [],
   "source": []
  },
  {
   "cell_type": "code",
   "execution_count": 23,
   "metadata": {},
   "outputs": [
    {
     "name": "stdout",
     "output_type": "stream",
     "text": [
      "[36376, 85652, 21002, 4510] 4510 3\n",
      "[68246, 64237, 42962, 9974] 9974 3\n",
      "[32768, 97721, 47338, 5841] 5841 3\n",
      "[55103, 18179, 79062, 46542] 18179 1\n"
     ]
    }
   ],
   "source": [
    "for m in matrix:\n",
    "    print(m, min(m), m.index(min(m)))"
   ]
  },
  {
   "cell_type": "code",
   "execution_count": 76,
   "metadata": {},
   "outputs": [
    {
     "data": {
      "text/plain": [
       "(3, 9, 15)"
      ]
     },
     "execution_count": 76,
     "metadata": {},
     "output_type": "execute_result"
    }
   ],
   "source": [
    "# min_row = tuple((min(r), r.index(min(r))) for ite,r in enumerate(matrix))\n",
    "min_row = tuple(min(r) for r in matrix)\n",
    "min_row"
   ]
  },
  {
   "cell_type": "code",
   "execution_count": 48,
   "metadata": {},
   "outputs": [
    {
     "data": {
      "text/plain": [
       "True"
      ]
     },
     "execution_count": 48,
     "metadata": {},
     "output_type": "execute_result"
    }
   ],
   "source": [
    "(4510, 3) in min_row"
   ]
  },
  {
   "cell_type": "code",
   "execution_count": 31,
   "metadata": {},
   "outputs": [
    {
     "data": {
      "text/plain": [
       "{1, 3}"
      ]
     },
     "execution_count": 31,
     "metadata": {},
     "output_type": "execute_result"
    }
   ],
   "source": [
    "# s = set([m[0] for m in min_row])\n",
    "# s"
   ]
  },
  {
   "cell_type": "code",
   "execution_count": 79,
   "metadata": {},
   "outputs": [
    {
     "data": {
      "text/plain": [
       "[(3, 9, 15), (7, 11, 16), (8, 13, 17)]"
      ]
     },
     "execution_count": 79,
     "metadata": {},
     "output_type": "execute_result"
    }
   ],
   "source": [
    "transposed= list(zip(*matrix))\n",
    "transposed"
   ]
  },
  {
   "cell_type": "code",
   "execution_count": 80,
   "metadata": {},
   "outputs": [
    {
     "data": {
      "text/plain": [
       "(15, 16, 17)"
      ]
     },
     "execution_count": 80,
     "metadata": {},
     "output_type": "execute_result"
    }
   ],
   "source": [
    "# max_col = tuple(max(c) for ite,c in enumerate(transposed))\n",
    "max_col = tuple(max(c) for c in transposed)\n",
    "max_col"
   ]
  },
  {
   "cell_type": "code",
   "execution_count": 82,
   "metadata": {},
   "outputs": [
    {
     "name": "stdout",
     "output_type": "stream",
     "text": [
      "15\n"
     ]
    }
   ],
   "source": [
    "for m in max_col:\n",
    "    if m in min_row:\n",
    "        print(m)"
   ]
  },
  {
   "cell_type": "code",
   "execution_count": 34,
   "metadata": {},
   "outputs": [
    {
     "data": {
      "text/plain": [
       "<zip at 0x7fb27e921690>"
      ]
     },
     "execution_count": 34,
     "metadata": {},
     "output_type": "execute_result"
    }
   ],
   "source": []
  },
  {
   "cell_type": "code",
   "execution_count": 85,
   "metadata": {},
   "outputs": [],
   "source": [
    "def luckyNumber(matrix):\n",
    "    transposed = list(zip(*matrix))\n",
    "    \n",
    "    min_row = tuple(min(r) for r in matrix)\n",
    "    max_col = tuple(max(c) for c in transposed)\n",
    "    \n",
    "    for m in max_col:\n",
    "        if m in min_row:\n",
    "            return [m]\n",
    "    return []"
   ]
  },
  {
   "cell_type": "code",
   "execution_count": null,
   "metadata": {},
   "outputs": [],
   "source": []
  },
  {
   "cell_type": "code",
   "execution_count": 86,
   "metadata": {},
   "outputs": [
    {
     "data": {
      "text/plain": [
       "15"
      ]
     },
     "execution_count": 86,
     "metadata": {},
     "output_type": "execute_result"
    }
   ],
   "source": [
    "luckyNumber(matrix)"
   ]
  },
  {
   "cell_type": "markdown",
   "metadata": {},
   "source": [
    "### faster with list"
   ]
  },
  {
   "cell_type": "code",
   "execution_count": null,
   "metadata": {},
   "outputs": [],
   "source": [
    "# # faster and save 95% memories if use list\n",
    "# min_row = [min(r) for r in matrix]\n",
    "# max_col = [max(c) for c in transposed]"
   ]
  }
 ],
 "metadata": {
  "kernelspec": {
   "display_name": "Python 3",
   "language": "python",
   "name": "python3"
  },
  "language_info": {
   "codemirror_mode": {
    "name": "ipython",
    "version": 3
   },
   "file_extension": ".py",
   "mimetype": "text/x-python",
   "name": "python",
   "nbconvert_exporter": "python",
   "pygments_lexer": "ipython3",
   "version": "3.7.5"
  }
 },
 "nbformat": 4,
 "nbformat_minor": 4
}
