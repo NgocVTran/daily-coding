{
 "cells": [
  {
   "cell_type": "markdown",
   "metadata": {},
   "source": [
    "Given two integer arrays arr1 and arr2, and the integer d, return the distance value between the two arrays.\n",
    "\n",
    "The distance value is defined as the number of elements arr1[i] such that there is not any element arr2[j] where |arr1[i]-arr2[j]| <= d.\n",
    "\n",
    " \n",
    "\n",
    "Example 1:\n",
    "\n",
    "Input: arr1 = [4,5,8], arr2 = [10,9,1,8], d = 2\n",
    "Output: 2\n",
    "Explanation: \n",
    "For arr1[0]=4 we have: \n",
    "|4-10|=6 > d=2 \n",
    "|4-9|=5 > d=2 \n",
    "|4-1|=3 > d=2 \n",
    "|4-8|=4 > d=2 \n",
    "For arr1[1]=5 we have: \n",
    "|5-10|=5 > d=2 \n",
    "|5-9|=4 > d=2 \n",
    "|5-1|=4 > d=2 \n",
    "|5-8|=3 > d=2\n",
    "For arr1[2]=8 we have:\n",
    "|8-10|=2 <= d=2\n",
    "|8-9|=1 <= d=2\n",
    "|8-1|=7 > d=2\n",
    "|8-8|=0 <= d=2\n",
    "Example 2:\n",
    "\n",
    "Input: arr1 = [1,4,2,3], arr2 = [-4,-3,6,10,20,30], d = 3\n",
    "Output: 2\n",
    "Example 3:\n",
    "\n",
    "Input: arr1 = [2,1,100,3], arr2 = [-5,-2,10,-3,7], d = 6\n",
    "Output: 1"
   ]
  },
  {
   "cell_type": "code",
   "execution_count": 2,
   "metadata": {},
   "outputs": [],
   "source": [
    "# two pointers\n",
    "def findTheDistanceValue(arr1, arr2, d):\n",
    "    arr1.sort()\n",
    "    arr2.sort()\n",
    "    i = j = 0\n",
    "    ret = 0\n",
    "    while i < len(arr1) and j < len(arr2):\n",
    "        if (abs(arr1[i]  -  arr2[j])) <= d:\n",
    "            i += 1\n",
    "            ret += 1\n",
    "        elif arr1[i] < arr2[j]:\n",
    "            i += 1\n",
    "        else:\n",
    "            j += 1\n",
    "    return len(arr1) - ret"
   ]
  },
  {
   "cell_type": "code",
   "execution_count": null,
   "metadata": {},
   "outputs": [],
   "source": []
  },
  {
   "cell_type": "code",
   "execution_count": null,
   "metadata": {},
   "outputs": [],
   "source": []
  },
  {
   "cell_type": "code",
   "execution_count": null,
   "metadata": {},
   "outputs": [],
   "source": []
  },
  {
   "cell_type": "code",
   "execution_count": null,
   "metadata": {},
   "outputs": [],
   "source": []
  }
 ],
 "metadata": {
  "kernelspec": {
   "display_name": "Python 3",
   "language": "python",
   "name": "python3"
  },
  "language_info": {
   "codemirror_mode": {
    "name": "ipython",
    "version": 3
   },
   "file_extension": ".py",
   "mimetype": "text/x-python",
   "name": "python",
   "nbconvert_exporter": "python",
   "pygments_lexer": "ipython3",
   "version": "3.7.5"
  }
 },
 "nbformat": 4,
 "nbformat_minor": 4
}
