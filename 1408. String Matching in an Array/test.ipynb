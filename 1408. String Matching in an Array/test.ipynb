{
 "cells": [
  {
   "cell_type": "markdown",
   "metadata": {},
   "source": [
    "Given an array of string words. Return all strings in words which is substring of another word in any order. \n",
    "\n",
    "String words[i] is substring of words[j], if can be obtained removing some characters to left and/or right side of words[j].\n",
    "\n",
    " \n",
    "\n",
    "Example 1:\n",
    "\n",
    "Input: words = [\"mass\",\"as\",\"hero\",\"superhero\"]\n",
    "Output: [\"as\",\"hero\"]\n",
    "Explanation: \"as\" is substring of \"mass\" and \"hero\" is substring of \"superhero\".\n",
    "[\"hero\",\"as\"] is also a valid answer.\n",
    "Example 2:\n",
    "\n",
    "Input: words = [\"leetcode\",\"et\",\"code\"]\n",
    "Output: [\"et\",\"code\"]\n",
    "Explanation: \"et\", \"code\" are substring of \"leetcode\".\n",
    "Example 3:\n",
    "\n",
    "Input: words = [\"blue\",\"green\",\"bu\"]\n",
    "Output: []\n",
    " \n",
    "\n",
    "Constraints:\n",
    "\n",
    "1 <= words.length <= 100\n",
    "1 <= words[i].length <= 30\n",
    "words[i] contains only lowercase English letters.\n",
    "It's guaranteed that words[i] will be unique."
   ]
  },
  {
   "cell_type": "code",
   "execution_count": 10,
   "metadata": {},
   "outputs": [],
   "source": [
    "def stringMatching(words):\n",
    "    sort_words = sorted(words, key=len)\n",
    "    print(sort_words)\n",
    "    result = []\n",
    "    for i in range(len(words)-1):\n",
    "        for j in range(i+1, len(words)):\n",
    "            if sort_words[i] in sort_words[j]:\n",
    "                result.append(sort_words[i])\n",
    "                break\n",
    "    return result"
   ]
  },
  {
   "cell_type": "code",
   "execution_count": 11,
   "metadata": {},
   "outputs": [],
   "source": [
    "# words = [\"mass\",\"as\",\"hero\",\"superhero\"]\n",
    "# # Output: [\"as\",\"hero\"]\n",
    "\n",
    "words = [\"leetcoder\",\"leetcode\",\"od\",\"hamlet\",\"am\"]\n",
    "# [\"leetcode\",\"od\",\"am\"]"
   ]
  },
  {
   "cell_type": "code",
   "execution_count": 12,
   "metadata": {},
   "outputs": [
    {
     "name": "stdout",
     "output_type": "stream",
     "text": [
      "['od', 'am', 'hamlet', 'leetcode', 'leetcoder']\n"
     ]
    },
    {
     "data": {
      "text/plain": [
       "['od', 'am', 'leetcode']"
      ]
     },
     "execution_count": 12,
     "metadata": {},
     "output_type": "execute_result"
    }
   ],
   "source": [
    "stringMatching(words)"
   ]
  },
  {
   "cell_type": "code",
   "execution_count": null,
   "metadata": {},
   "outputs": [],
   "source": []
  },
  {
   "cell_type": "code",
   "execution_count": null,
   "metadata": {},
   "outputs": [],
   "source": []
  },
  {
   "cell_type": "code",
   "execution_count": null,
   "metadata": {},
   "outputs": [],
   "source": []
  }
 ],
 "metadata": {
  "kernelspec": {
   "display_name": "Python 3",
   "language": "python",
   "name": "python3"
  },
  "language_info": {
   "codemirror_mode": {
    "name": "ipython",
    "version": 3
   },
   "file_extension": ".py",
   "mimetype": "text/x-python",
   "name": "python",
   "nbconvert_exporter": "python",
   "pygments_lexer": "ipython3",
   "version": "3.7.5"
  }
 },
 "nbformat": 4,
 "nbformat_minor": 4
}
