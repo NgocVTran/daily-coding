{
 "cells": [
  {
   "cell_type": "markdown",
   "metadata": {},
   "source": [
    "You are given the array paths, where paths[i] = [cityAi, cityBi] means there exists a direct path going from cityAi to cityBi. Return the destination city, that is, the city without any path outgoing to another city.\n",
    "\n",
    "It is guaranteed that the graph of paths forms a line without any loop, therefore, there will be exactly one destination city.\n",
    "\n",
    " \n",
    "\n",
    "Example 1:\n",
    "\n",
    "Input: paths = [[\"London\",\"New York\"],[\"New York\",\"Lima\"],[\"Lima\",\"Sao Paulo\"]]\n",
    "Output: \"Sao Paulo\" \n",
    "Explanation: Starting at \"London\" city you will reach \"Sao Paulo\" city which is the destination city. Your trip consist of: \"London\" -> \"New York\" -> \"Lima\" -> \"Sao Paulo\".\n",
    "Example 2:\n",
    "\n",
    "Input: paths = [[\"B\",\"C\"],[\"D\",\"B\"],[\"C\",\"A\"]]\n",
    "Output: \"A\"\n",
    "Explanation: All possible trips are: \n",
    "\"D\" -> \"B\" -> \"C\" -> \"A\". \n",
    "\"B\" -> \"C\" -> \"A\". \n",
    "\"C\" -> \"A\". \n",
    "\"A\". \n",
    "Clearly the destination city is \"A\".\n",
    "Example 3:\n",
    "\n",
    "Input: paths = [[\"A\",\"Z\"]]\n",
    "Output: \"Z\"\n",
    " \n",
    "\n",
    "Constraints:\n",
    "\n",
    "1 <= paths.length <= 100\n",
    "paths[i].length == 2\n",
    "1 <= cityAi.length, cityBi.length <= 10\n",
    "cityAi != cityBi\n",
    "All strings consist of lowercase and uppercase English letters and the space character."
   ]
  },
  {
   "cell_type": "code",
   "execution_count": 8,
   "metadata": {},
   "outputs": [],
   "source": [
    "def destCity(paths):\n",
    "    dest = {}\n",
    "    for p in paths:\n",
    "        dest[p[0]] = p[1]\n",
    "    \n",
    "    for k,v in dest.items():\n",
    "        try:\n",
    "            destination = dest[v]\n",
    "        except:\n",
    "            return v"
   ]
  },
  {
   "cell_type": "code",
   "execution_count": 9,
   "metadata": {},
   "outputs": [],
   "source": [
    "paths = [[\"B\",\"C\"],[\"D\",\"B\"],[\"C\",\"A\"]]\n",
    "# Output: \"A\""
   ]
  },
  {
   "cell_type": "code",
   "execution_count": 10,
   "metadata": {},
   "outputs": [
    {
     "data": {
      "text/plain": [
       "'A'"
      ]
     },
     "execution_count": 10,
     "metadata": {},
     "output_type": "execute_result"
    }
   ],
   "source": [
    "destCity(paths)"
   ]
  },
  {
   "cell_type": "code",
   "execution_count": null,
   "metadata": {},
   "outputs": [],
   "source": []
  },
  {
   "cell_type": "code",
   "execution_count": null,
   "metadata": {},
   "outputs": [],
   "source": []
  },
  {
   "cell_type": "code",
   "execution_count": null,
   "metadata": {},
   "outputs": [],
   "source": []
  }
 ],
 "metadata": {
  "kernelspec": {
   "display_name": "Python 3",
   "language": "python",
   "name": "python3"
  },
  "language_info": {
   "codemirror_mode": {
    "name": "ipython",
    "version": 3
   },
   "file_extension": ".py",
   "mimetype": "text/x-python",
   "name": "python",
   "nbconvert_exporter": "python",
   "pygments_lexer": "ipython3",
   "version": "3.7.5"
  }
 },
 "nbformat": 4,
 "nbformat_minor": 4
}
