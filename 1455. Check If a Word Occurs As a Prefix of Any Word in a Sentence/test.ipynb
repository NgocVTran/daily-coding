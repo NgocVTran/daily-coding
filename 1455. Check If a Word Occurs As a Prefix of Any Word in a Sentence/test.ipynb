{
 "cells": [
  {
   "cell_type": "markdown",
   "metadata": {},
   "source": [
    "Given a sentence that consists of some words separated by a single space, and a searchWord.\n",
    "\n",
    "You have to check if searchWord is a prefix of any word in sentence.\n",
    "\n",
    "Return the index of the word in sentence where searchWord is a prefix of this word (1-indexed).\n",
    "\n",
    "If searchWord is a prefix of more than one word, return the index of the first word (minimum index). If there is no such word return -1.\n",
    "\n",
    "A prefix of a string S is any leading contiguous substring of S.\n",
    "\n",
    " \n",
    "\n",
    "Example 1:\n",
    "\n",
    "Input: sentence = \"i love eating burger\", searchWord = \"burg\"\n",
    "Output: 4\n",
    "Explanation: \"burg\" is prefix of \"burger\" which is the 4th word in the sentence.\n",
    "Example 2:\n",
    "\n",
    "Input: sentence = \"this problem is an easy problem\", searchWord = \"pro\"\n",
    "Output: 2\n",
    "Explanation: \"pro\" is prefix of \"problem\" which is the 2nd and the 6th word in the sentence, but we return 2 as it's the minimal index.\n",
    "Example 3:\n",
    "\n",
    "Input: sentence = \"i am tired\", searchWord = \"you\"\n",
    "Output: -1\n",
    "Explanation: \"you\" is not a prefix of any word in the sentence.\n",
    "Example 4:\n",
    "\n",
    "Input: sentence = \"i use triple pillow\", searchWord = \"pill\"\n",
    "Output: 4\n",
    "Example 5:\n",
    "\n",
    "Input: sentence = \"hello from the other side\", searchWord = \"they\"\n",
    "Output: -1"
   ]
  },
  {
   "cell_type": "code",
   "execution_count": 1,
   "metadata": {},
   "outputs": [],
   "source": [
    "def isPrefixOfWord(sentence, searchWord):\n",
    "    for ite,word in enumerate(sentence.split(\" \")):\n",
    "        if searchWord in word and searchWord[0] == word[0]:\n",
    "            return ite+1\n",
    "    return -1"
   ]
  },
  {
   "cell_type": "code",
   "execution_count": 4,
   "metadata": {},
   "outputs": [],
   "source": [
    "sentence = \"i am tired\"\n",
    "searchWord = \"you\""
   ]
  },
  {
   "cell_type": "code",
   "execution_count": 6,
   "metadata": {},
   "outputs": [
    {
     "data": {
      "text/plain": [
       "-1"
      ]
     },
     "execution_count": 6,
     "metadata": {},
     "output_type": "execute_result"
    }
   ],
   "source": [
    "isPrefixOfWord(sentence, searchWord)"
   ]
  },
  {
   "cell_type": "code",
   "execution_count": null,
   "metadata": {},
   "outputs": [],
   "source": []
  }
 ],
 "metadata": {
  "kernelspec": {
   "display_name": "Python 3",
   "language": "python",
   "name": "python3"
  },
  "language_info": {
   "codemirror_mode": {
    "name": "ipython",
    "version": 3
   },
   "file_extension": ".py",
   "mimetype": "text/x-python",
   "name": "python",
   "nbconvert_exporter": "python",
   "pygments_lexer": "ipython3",
   "version": "3.7.5"
  }
 },
 "nbformat": 4,
 "nbformat_minor": 4
}
