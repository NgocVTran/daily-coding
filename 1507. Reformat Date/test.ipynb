{
 "cells": [
  {
   "cell_type": "markdown",
   "metadata": {},
   "source": [
    "Given a date string in the form Day Month Year, where:\n",
    "\n",
    "Day is in the set {\"1st\", \"2nd\", \"3rd\", \"4th\", ..., \"30th\", \"31st\"}.\n",
    "Month is in the set {\"Jan\", \"Feb\", \"Mar\", \"Apr\", \"May\", \"Jun\", \"Jul\", \"Aug\", \"Sep\", \"Oct\", \"Nov\", \"Dec\"}.\n",
    "Year is in the range [1900, 2100].\n",
    "Convert the date string to the format YYYY-MM-DD, where:\n",
    "\n",
    "YYYY denotes the 4 digit year.\n",
    "MM denotes the 2 digit month.\n",
    "DD denotes the 2 digit day.\n",
    " \n",
    "\n",
    "Example 1:\n",
    "\n",
    "Input: date = \"20th Oct 2052\"\n",
    "Output: \"2052-10-20\"\n",
    "Example 2:\n",
    "\n",
    "Input: date = \"6th Jun 1933\"\n",
    "Output: \"1933-06-06\"\n",
    "Example 3:\n",
    "\n",
    "Input: date = \"26th May 1960\"\n",
    "Output: \"1960-05-26\"\n",
    " \n",
    "\n",
    "Constraints:\n",
    "\n",
    "The given dates are guaranteed to be valid, so no error handling is necessary.\n",
    "Accepted\n",
    "21,736\n",
    "Submissions\n",
    "36,033"
   ]
  },
  {
   "cell_type": "code",
   "execution_count": 1,
   "metadata": {},
   "outputs": [],
   "source": [
    "def reformatDate(date):\n",
    "    dict_month = {\"Jan\": \"01\", \"Feb\": \"02\", \"Mar\": \"03\", \"Apr\": \"04\", \n",
    "              \"May\": \"05\", \"Jun\": \"06\", \"Jul\": \"07\", \"Aug\": \"08\", \n",
    "              \"Sep\": \"09\", \"Oct\": \"10\", \"Nov\": \"11\", \"Dec\": \"12\"}\n",
    "    d = date.split(\" \")\n",
    "    result = \"\"\n",
    "\n",
    "    day = d[0]\n",
    "    if \"st\" in d[0]:\n",
    "        day = d[0].replace(\"st\", \"\")\n",
    "    if \"nd\" in d[0]:\n",
    "        day = day.replace(\"nd\", \"\")\n",
    "    if \"rd\" in d[0]:\n",
    "        day = d[0].replace(\"rd\", \"\")\n",
    "    if \"th\" in d[0]:\n",
    "        day = d[0].replace(\"th\", \"\")\n",
    "    if len(day)==1:\n",
    "        day = \"0\" + day\n",
    "\n",
    "    result = d[2] + \"-\" + dict_month[d[1]] + \"-\" + day\n",
    "\n",
    "    return result"
   ]
  },
  {
   "cell_type": "code",
   "execution_count": null,
   "metadata": {},
   "outputs": [],
   "source": []
  },
  {
   "cell_type": "code",
   "execution_count": null,
   "metadata": {},
   "outputs": [],
   "source": []
  },
  {
   "cell_type": "code",
   "execution_count": null,
   "metadata": {},
   "outputs": [],
   "source": []
  },
  {
   "cell_type": "code",
   "execution_count": null,
   "metadata": {},
   "outputs": [],
   "source": []
  },
  {
   "cell_type": "code",
   "execution_count": null,
   "metadata": {},
   "outputs": [],
   "source": []
  }
 ],
 "metadata": {
  "kernelspec": {
   "display_name": "Python 3",
   "language": "python",
   "name": "python3"
  },
  "language_info": {
   "codemirror_mode": {
    "name": "ipython",
    "version": 3
   },
   "file_extension": ".py",
   "mimetype": "text/x-python",
   "name": "python",
   "nbconvert_exporter": "python",
   "pygments_lexer": "ipython3",
   "version": "3.7.5"
  }
 },
 "nbformat": 4,
 "nbformat_minor": 4
}
