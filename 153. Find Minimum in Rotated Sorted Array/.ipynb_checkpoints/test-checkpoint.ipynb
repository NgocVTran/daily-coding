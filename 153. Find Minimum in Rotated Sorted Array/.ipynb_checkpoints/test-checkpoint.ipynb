{
 "cells": [
  {
   "cell_type": "markdown",
   "metadata": {},
   "source": [
    "Suppose an array sorted in ascending order is rotated at some pivot unknown to you beforehand.\n",
    "\n",
    "(i.e.,  [0,1,2,4,5,6,7] might become  [4,5,6,7,0,1,2]).\n",
    "\n",
    "Find the minimum element.\n",
    "\n",
    "You may assume no duplicate exists in the array.\n",
    "\n",
    "Example 1:\n",
    "\n",
    "Input: [3,4,5,1,2] \n",
    "Output: 1\n",
    "Example 2:\n",
    "\n",
    "Input: [4,5,6,7,0,1,2]\n",
    "Output: 0"
   ]
  },
  {
   "cell_type": "code",
   "execution_count": 13,
   "metadata": {},
   "outputs": [],
   "source": [
    "def findMin(nums):\n",
    "    # 26.55%\n",
    "    min = nums[0]\n",
    "    for n in nums:\n",
    "        if n < min:\n",
    "            min = n\n",
    "            break\n",
    "    return min\n",
    "    # return sorted(nums)[0] # 14.23%"
   ]
  },
  {
   "cell_type": "markdown",
   "metadata": {},
   "source": [
    " the array was initially [2, 3 ,4 ,5 ,6 ,7]. But after the rotation the smaller elements[2,3] go at the back. i.e. [4, 5, 6, 7, 2, 3]. Because of this the first element [4] in the rotated array becomes greater than the last element.\n",
    "\n",
    "This means there is a point in the array at which you would notice a change. This is the point which would help us in this question. We call this the Inflection Point.\n",
    "\n",
    "\n",
    "In this modified version of binary search algorithm, we are looking for this point. In the above example notice the Inflection Point .\n",
    "\n",
    "- All the elements to the left of inflection point > first element of the array.\n",
    "- All the elements to the right of inflection point < first element of the array."
   ]
  },
  {
   "cell_type": "code",
   "execution_count": 33,
   "metadata": {},
   "outputs": [],
   "source": [
    "# binary search\n",
    "def findMin(nums):\n",
    "    if len(nums) == 1:\n",
    "        return nums[0]\n",
    "    if nums[-1] > nums[0]:\n",
    "        return nums[0]\n",
    "    \n",
    "    start = 0\n",
    "    end = len(nums)-1\n",
    "    \n",
    "    while start<=end:\n",
    "        mid = (start + end) // 2    \n",
    "        \n",
    "        if nums[mid] > nums[mid+1]:\n",
    "            return nums[mid+1]\n",
    "        if nums[mid-1] > nums[mid]:\n",
    "            return nums[mid]\n",
    "        \n",
    "        if nums[mid] > nums[start]:\n",
    "            start = mid+1\n",
    "        elif nums[mid] < nums[start]:\n",
    "            end = mid-1            "
   ]
  },
  {
   "cell_type": "code",
   "execution_count": 36,
   "metadata": {},
   "outputs": [],
   "source": [
    "# nums = [3,4,5,0,1,2] # 0\n",
    "nums = [4,5,6,7,2,3] # 2"
   ]
  },
  {
   "cell_type": "code",
   "execution_count": 37,
   "metadata": {},
   "outputs": [
    {
     "name": "stdout",
     "output_type": "stream",
     "text": [
      "2\n",
      "4\n"
     ]
    },
    {
     "data": {
      "text/plain": [
       "2"
      ]
     },
     "execution_count": 37,
     "metadata": {},
     "output_type": "execute_result"
    }
   ],
   "source": [
    "findMin(nums)"
   ]
  },
  {
   "cell_type": "markdown",
   "metadata": {},
   "source": [
    "### Solution"
   ]
  },
  {
   "cell_type": "code",
   "execution_count": 22,
   "metadata": {},
   "outputs": [],
   "source": [
    "def findMin(nums):\n",
    "    # If the list has just one element then return that element.\n",
    "    if len(nums) == 1:\n",
    "        return nums[0]\n",
    "\n",
    "    # left pointer\n",
    "    left = 0\n",
    "    # right pointer\n",
    "    right = len(nums) - 1\n",
    "\n",
    "    # if the last element is greater than the first element then there is no rotation.\n",
    "    # e.g. 1 < 2 < 3 < 4 < 5 < 7. Already sorted array.\n",
    "    # Hence the smallest element is first element. A[0]\n",
    "    if nums[right] > nums[0]:\n",
    "        return nums[0]\n",
    "\n",
    "    # Binary search way\n",
    "    while right >= left:\n",
    "        # Find the mid element\n",
    "        mid = left + (right - left) // 2\n",
    "        # if the mid element is greater than its next element then mid+1 element is the smallest\n",
    "        # This point would be the point of change. From higher to lower value.\n",
    "        if nums[mid] > nums[mid + 1]:\n",
    "            return nums[mid + 1]\n",
    "        # if the mid element is lesser than its previous element then mid element is the smallest\n",
    "        if nums[mid - 1] > nums[mid]:\n",
    "            return nums[mid]\n",
    "\n",
    "        # if the mid elements value is greater than the 0th element this means\n",
    "        # the least value is still somewhere to the right as we are still dealing with elements greater than nums[0]\n",
    "        if nums[mid] > nums[0]:\n",
    "            left = mid + 1\n",
    "        # if nums[0] is greater than the mid value then this means the smallest value is somewhere to the left\n",
    "        else:\n",
    "            right = mid - 1\n",
    "    \n",
    "    return nums[mid]"
   ]
  },
  {
   "cell_type": "code",
   "execution_count": 23,
   "metadata": {},
   "outputs": [
    {
     "data": {
      "text/plain": [
       "0"
      ]
     },
     "execution_count": 23,
     "metadata": {},
     "output_type": "execute_result"
    }
   ],
   "source": [
    "findMin(nums)"
   ]
  },
  {
   "cell_type": "code",
   "execution_count": null,
   "metadata": {},
   "outputs": [],
   "source": []
  }
 ],
 "metadata": {
  "kernelspec": {
   "display_name": "Python 3",
   "language": "python",
   "name": "python3"
  },
  "language_info": {
   "codemirror_mode": {
    "name": "ipython",
    "version": 3
   },
   "file_extension": ".py",
   "mimetype": "text/x-python",
   "name": "python",
   "nbconvert_exporter": "python",
   "pygments_lexer": "ipython3",
   "version": "3.7.5"
  }
 },
 "nbformat": 4,
 "nbformat_minor": 4
}
