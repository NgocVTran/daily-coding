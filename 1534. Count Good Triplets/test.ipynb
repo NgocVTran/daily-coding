{
 "cells": [
  {
   "cell_type": "markdown",
   "metadata": {},
   "source": [
    "Given an array of integers arr, and three integers a, b and c. You need to find the number of good triplets.\n",
    "\n",
    "A triplet (arr[i], arr[j], arr[k]) is good if the following conditions are true:\n",
    "\n",
    "0 <= i < j < k < arr.length\n",
    "|arr[i] - arr[j]| <= a\n",
    "|arr[j] - arr[k]| <= b\n",
    "|arr[i] - arr[k]| <= c\n",
    "Where |x| denotes the absolute value of x.\n",
    "\n",
    "Return the number of good triplets.\n",
    "\n",
    " \n",
    "\n",
    "Example 1:\n",
    "\n",
    "Input: arr = [3,0,1,1,9,7], a = 7, b = 2, c = 3\n",
    "Output: 4\n",
    "Explanation: There are 4 good triplets: [(3,0,1), (3,0,1), (3,1,1), (0,1,1)].\n",
    "Example 2:\n",
    "\n",
    "Input: arr = [1,1,2,2,3], a = 0, b = 0, c = 1\n",
    "Output: 0\n",
    "Explanation: No triplet satisfies all conditions.\n",
    " \n",
    "\n",
    "Constraints:\n",
    "\n",
    "3 <= arr.length <= 100\n",
    "0 <= arr[i] <= 1000\n",
    "0 <= a, b, c <= 1000"
   ]
  },
  {
   "cell_type": "code",
   "execution_count": 1,
   "metadata": {},
   "outputs": [],
   "source": [
    "def countGoodTriplets(arr, a, b, c):\n",
    "    return"
   ]
  },
  {
   "cell_type": "code",
   "execution_count": 2,
   "metadata": {},
   "outputs": [],
   "source": [
    "arr = [3,0,1,1,9,7]\n",
    "a = 7\n",
    "b = 2\n",
    "c = 3\n",
    "# Output: 4\n",
    "# Explanation: There are 4 good triplets: [(3,0,1), (3,0,1), (3,1,1), (0,1,1)].\n",
    "\n",
    "# arr = [1,1,2,2,3]\n",
    "# a = 0\n",
    "# b = 0\n",
    "# c = 1\n",
    "# # Output: 0"
   ]
  },
  {
   "cell_type": "code",
   "execution_count": 18,
   "metadata": {},
   "outputs": [],
   "source": [
    "lst = []"
   ]
  },
  {
   "cell_type": "code",
   "execution_count": 19,
   "metadata": {},
   "outputs": [],
   "source": [
    "for i in range(len(arr)-1):\n",
    "    for j in range(i+1,len(arr)):\n",
    "        if abs(arr[i] - arr[j])<a:\n",
    "            lst.append([arr[i], arr[j]])"
   ]
  },
  {
   "cell_type": "code",
   "execution_count": 20,
   "metadata": {
    "scrolled": true
   },
   "outputs": [
    {
     "data": {
      "text/plain": [
       "[[3, 0],\n",
       " [3, 1],\n",
       " [3, 1],\n",
       " [3, 9],\n",
       " [3, 7],\n",
       " [0, 1],\n",
       " [0, 1],\n",
       " [1, 1],\n",
       " [1, 7],\n",
       " [1, 7],\n",
       " [9, 7]]"
      ]
     },
     "execution_count": 20,
     "metadata": {},
     "output_type": "execute_result"
    }
   ],
   "source": [
    "lst"
   ]
  },
  {
   "cell_type": "code",
   "execution_count": 17,
   "metadata": {},
   "outputs": [
    {
     "name": "stdout",
     "output_type": "stream",
     "text": [
      "[3, 3]\n",
      "[3, 0]\n",
      "[3, 1]\n",
      "[3, 1]\n",
      "[3, 9]\n",
      "[3, 7]\n",
      "[0, 3]\n",
      "[0, 0]\n",
      "[0, 1]\n",
      "[0, 1]\n",
      "[1, 3]\n",
      "[1, 0]\n",
      "[1, 1]\n",
      "[1, 1]\n",
      "[1, 7]\n",
      "[1, 3]\n",
      "[1, 0]\n",
      "[1, 1]\n",
      "[1, 1]\n",
      "[1, 7]\n",
      "[9, 3]\n",
      "[9, 9]\n",
      "[9, 7]\n"
     ]
    }
   ],
   "source": [
    "for l in lst:\n",
    "    print(l)\n",
    "    for k in arr:\n",
    "        if l[1]!=k and abs(l[1] - k)<b:\n",
    "#             l.append(k)"
   ]
  },
  {
   "cell_type": "code",
   "execution_count": 12,
   "metadata": {},
   "outputs": [
    {
     "data": {
      "text/plain": [
       "[[3, 3],\n",
       " [3, 0, 1, 1],\n",
       " [3, 1, 0],\n",
       " [3, 1, 0],\n",
       " [3, 9],\n",
       " [3, 7],\n",
       " [0, 3],\n",
       " [0, 0, 1, 1],\n",
       " [0, 1, 0],\n",
       " [0, 1, 0],\n",
       " [1, 3],\n",
       " [1, 0, 1, 1],\n",
       " [1, 1, 0],\n",
       " [1, 1, 0],\n",
       " [1, 7],\n",
       " [1, 3],\n",
       " [1, 0, 1, 1],\n",
       " [1, 1, 0],\n",
       " [1, 1, 0],\n",
       " [1, 7],\n",
       " [9, 3],\n",
       " [9, 9],\n",
       " [9, 7]]"
      ]
     },
     "execution_count": 12,
     "metadata": {},
     "output_type": "execute_result"
    }
   ],
   "source": [
    "lst"
   ]
  },
  {
   "cell_type": "code",
   "execution_count": null,
   "metadata": {},
   "outputs": [],
   "source": []
  },
  {
   "cell_type": "code",
   "execution_count": null,
   "metadata": {},
   "outputs": [],
   "source": []
  },
  {
   "cell_type": "code",
   "execution_count": null,
   "metadata": {},
   "outputs": [],
   "source": []
  }
 ],
 "metadata": {
  "kernelspec": {
   "display_name": "Python 3",
   "language": "python",
   "name": "python3"
  },
  "language_info": {
   "codemirror_mode": {
    "name": "ipython",
    "version": 3
   },
   "file_extension": ".py",
   "mimetype": "text/x-python",
   "name": "python",
   "nbconvert_exporter": "python",
   "pygments_lexer": "ipython3",
   "version": "3.7.5"
  }
 },
 "nbformat": 4,
 "nbformat_minor": 4
}
