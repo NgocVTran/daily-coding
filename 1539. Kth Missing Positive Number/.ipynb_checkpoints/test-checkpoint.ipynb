{
 "cells": [
  {
   "cell_type": "markdown",
   "metadata": {},
   "source": [
    "Given an array arr of positive integers sorted in a strictly increasing order, and an integer k.\n",
    "\n",
    "Find the kth positive integer that is missing from this array.\n",
    "\n",
    " \n",
    "\n",
    "Example 1:\n",
    "\n",
    "Input: arr = [2,3,4,7,11], k = 5\n",
    "Output: 9\n",
    "Explanation: The missing positive integers are [1,5,6,8,9,10,12,13,...]. The 5th missing positive integer is 9.\n",
    "Example 2:\n",
    "\n",
    "Input: arr = [1,2,3,4], k = 2\n",
    "Output: 6\n",
    "Explanation: The missing positive integers are [5,6,7,...]. The 2nd missing positive integer is 6.\n",
    " \n",
    "\n",
    "Constraints:\n",
    "\n",
    "1 <= arr.length <= 1000\n",
    "1 <= arr[i] <= 1000\n",
    "1 <= k <= 1000\n",
    "arr[i] < arr[j] for 1 <= i < j <= arr.length"
   ]
  },
  {
   "cell_type": "code",
   "execution_count": 108,
   "metadata": {},
   "outputs": [],
   "source": [
    "def findKthPositive(arr, k):\n",
    "    arrange = []\n",
    "    arrange.append(arr[0]-0)\n",
    "    for ite in range(1, len(arr)):\n",
    "        arrange.append(arr[ite]-arr[ite-1])\n",
    "    arrange.append(0)\n",
    "    \n",
    "    missing = list(range(1,arr[0]))\n",
    "    for ite,a in enumerate(arr):\n",
    "        missing += list(range(a+1, a+arrange[ite+1]))\n",
    "    \n",
    "    missing += list(range(arr[-1]+1, arr[-1]+k+1))\n",
    "    \n",
    "    return missing[k-1]"
   ]
  },
  {
   "cell_type": "code",
   "execution_count": 111,
   "metadata": {},
   "outputs": [],
   "source": [
    "arr = [2,3,4,7,11]\n",
    "k = 5\n",
    "# Output: 9\n",
    "# Explanation: The missing positive integers are [1,5,6,8,9,10,12,13,...]. The 5th missing positive integer is 9.\n",
    "\n",
    "# arr = [1,2,3,4]\n",
    "# k = 2\n",
    "# # Output: 6\n",
    "# # Explanation: The missing positive integers are [5,6,7,...]. The 2nd missing positive integer is 6."
   ]
  },
  {
   "cell_type": "code",
   "execution_count": 112,
   "metadata": {},
   "outputs": [
    {
     "data": {
      "text/plain": [
       "9"
      ]
     },
     "execution_count": 112,
     "metadata": {},
     "output_type": "execute_result"
    }
   ],
   "source": [
    "findKthPositive(arr,k)"
   ]
  },
  {
   "cell_type": "code",
   "execution_count": 114,
   "metadata": {},
   "outputs": [],
   "source": [
    "# # better code syntax\n",
    "# class Solution:\n",
    "#     def findKthPositive(self, arr: List[int], k: int) -> int:\n",
    "#         last_num = 0\n",
    "#         k_at = 0\n",
    "        \n",
    "#         for num in arr:\n",
    "#             diff = num - last_num - 1\n",
    "#             if k_at + diff >= k:\n",
    "#                 return last_num + (k - k_at)\n",
    "#             last_num = num\n",
    "#             k_at += diff\n",
    "#         return arr[-1] + (k - k_at)"
   ]
  },
  {
   "cell_type": "markdown",
   "metadata": {},
   "source": [
    "### solution"
   ]
  },
  {
   "cell_type": "code",
   "execution_count": 115,
   "metadata": {},
   "outputs": [],
   "source": [
    "def findKthPositive(arr, k):\n",
    "    l, r = 0, len(arr)\n",
    "    while l < r:\n",
    "        m = (l + r) // 2\n",
    "        if arr[m] - 1 - m < k:\n",
    "            l = m + 1\n",
    "        else:\n",
    "            r = m\n",
    "    return l + k"
   ]
  },
  {
   "cell_type": "code",
   "execution_count": null,
   "metadata": {},
   "outputs": [],
   "source": []
  },
  {
   "cell_type": "code",
   "execution_count": null,
   "metadata": {},
   "outputs": [],
   "source": []
  }
 ],
 "metadata": {
  "kernelspec": {
   "display_name": "Python 3",
   "language": "python",
   "name": "python3"
  },
  "language_info": {
   "codemirror_mode": {
    "name": "ipython",
    "version": 3
   },
   "file_extension": ".py",
   "mimetype": "text/x-python",
   "name": "python",
   "nbconvert_exporter": "python",
   "pygments_lexer": "ipython3",
   "version": "3.7.5"
  }
 },
 "nbformat": 4,
 "nbformat_minor": 4
}
