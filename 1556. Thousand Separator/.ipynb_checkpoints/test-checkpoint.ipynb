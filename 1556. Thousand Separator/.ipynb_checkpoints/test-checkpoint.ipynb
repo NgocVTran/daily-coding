{
 "cells": [
  {
   "cell_type": "markdown",
   "metadata": {},
   "source": [
    "Given an integer n, add a dot (\".\") as the thousands separator and return it in string format.\n",
    "\n",
    " \n",
    "\n",
    "Example 1:\n",
    "\n",
    "Input: n = 987\n",
    "Output: \"987\"\n",
    "Example 2:\n",
    "\n",
    "Input: n = 1234\n",
    "Output: \"1.234\"\n",
    "Example 3:\n",
    "\n",
    "Input: n = 123456789\n",
    "Output: \"123.456.789\"\n",
    "Example 4:\n",
    "\n",
    "Input: n = 0\n",
    "Output: \"0\""
   ]
  },
  {
   "cell_type": "code",
   "execution_count": 137,
   "metadata": {},
   "outputs": [],
   "source": [
    "def thousandSeparator(n):\n",
    "    if n == 0:\n",
    "        return \"0\"\n",
    "    \n",
    "    div = 1000\n",
    "    res = n%div\n",
    "    \n",
    "    result = \"\"\n",
    "    while n>0:\n",
    "#         if len(str(res))==2:\n",
    "#             result = \".\" + \"0\" + str(res) + result\n",
    "#             print(result)\n",
    "#         if len(str(res))==1:\n",
    "#             result = \".\" + \"00\" + str(res) + result\n",
    "#         if len(str(res))==0:\n",
    "#             result = \".\" + \"000\" + result\n",
    "#         else:\n",
    "\n",
    "\n",
    "        result = \".\" + str(res) + result \n",
    "        \n",
    "        n = n//div\n",
    "        res = n%div\n",
    "    \n",
    "    return result[1:]"
   ]
  },
  {
   "cell_type": "code",
   "execution_count": 138,
   "metadata": {},
   "outputs": [],
   "source": [
    "n = 123456789\n",
    "# Output: \"123.456.789\"\n",
    "\n",
    "n = 1234567890\n",
    "n = 0\n",
    "n = 51040"
   ]
  },
  {
   "cell_type": "code",
   "execution_count": 139,
   "metadata": {},
   "outputs": [
    {
     "data": {
      "text/plain": [
       "'51.40'"
      ]
     },
     "execution_count": 139,
     "metadata": {},
     "output_type": "execute_result"
    }
   ],
   "source": [
    "thousandSeparator(n)"
   ]
  },
  {
   "cell_type": "markdown",
   "metadata": {},
   "source": [
    "### solution"
   ]
  },
  {
   "cell_type": "code",
   "execution_count": 107,
   "metadata": {},
   "outputs": [],
   "source": [
    "def thousandSeparator(n):\n",
    "    s=\"\"\n",
    "    if n==0:\n",
    "        return '0'\n",
    "    \n",
    "    r=1\n",
    "    while n>0:\n",
    "        d = n%10\n",
    "        if r%3==0:\n",
    "            s='.'+str(d)+s\n",
    "        else:\n",
    "            s=str(d)+s\n",
    "        n=n//10\n",
    "        r+=1\n",
    "    if s!='' and s[0]==\".\":\n",
    "        s=s[1:]\n",
    "    return s"
   ]
  },
  {
   "cell_type": "code",
   "execution_count": 48,
   "metadata": {},
   "outputs": [
    {
     "data": {
      "text/plain": [
       "'123.456.789'"
      ]
     },
     "execution_count": 48,
     "metadata": {},
     "output_type": "execute_result"
    }
   ],
   "source": [
    "thousandSeparator(n)"
   ]
  },
  {
   "cell_type": "code",
   "execution_count": null,
   "metadata": {},
   "outputs": [],
   "source": []
  },
  {
   "cell_type": "code",
   "execution_count": null,
   "metadata": {},
   "outputs": [],
   "source": []
  }
 ],
 "metadata": {
  "kernelspec": {
   "display_name": "Python 3",
   "language": "python",
   "name": "python3"
  },
  "language_info": {
   "codemirror_mode": {
    "name": "ipython",
    "version": 3
   },
   "file_extension": ".py",
   "mimetype": "text/x-python",
   "name": "python",
   "nbconvert_exporter": "python",
   "pygments_lexer": "ipython3",
   "version": "3.7.5"
  }
 },
 "nbformat": 4,
 "nbformat_minor": 4
}
