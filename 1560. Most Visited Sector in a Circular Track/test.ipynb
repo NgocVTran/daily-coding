{
 "cells": [
  {
   "cell_type": "markdown",
   "metadata": {},
   "source": [
    "Given an integer n and an integer array rounds. We have a circular track which consists of n sectors labeled from 1 to n. A marathon will be held on this track, the marathon consists of m rounds. The ith round starts at sector rounds[i - 1] and ends at sector rounds[i]. For example, round 1 starts at sector rounds[0] and ends at sector rounds[1]\n",
    "\n",
    "Return an array of the most visited sectors sorted in ascending order.\n",
    "\n",
    "Notice that you circulate the track in ascending order of sector numbers in the counter-clockwise direction (See the first example).\n",
    "\n",
    " \n",
    "\n",
    "Example 1:\n",
    "\n",
    "\n",
    "Input: n = 4, rounds = [1,3,1,2]\n",
    "Output: [1,2]\n",
    "Explanation: The marathon starts at sector 1. The order of the visited sectors is as follows:\n",
    "1 --> 2 --> 3 (end of round 1) --> 4 --> 1 (end of round 2) --> 2 (end of round 3 and the marathon)\n",
    "We can see that both sectors 1 and 2 are visited twice and they are the most visited sectors. Sectors 3 and 4 are visited only once.\n",
    "Example 2:\n",
    "\n",
    "Input: n = 2, rounds = [2,1,2,1,2,1,2,1,2]\n",
    "Output: [2]\n",
    "Example 3:\n",
    "\n",
    "Input: n = 7, rounds = [1,3,5,7]\n",
    "Output: [1,2,3,4,5,6,7]\n",
    " \n",
    "\n",
    "Constraints:\n",
    "\n",
    "2 <= n <= 100\n",
    "1 <= m <= 100\n",
    "rounds.length == m + 1\n",
    "1 <= rounds[i] <= n\n",
    "rounds[i] != rounds[i + 1] for 0 <= i < m"
   ]
  },
  {
   "cell_type": "code",
   "execution_count": 129,
   "metadata": {},
   "outputs": [],
   "source": [
    "def mostVisited(n, rounds):\n",
    "    \"\"\"\n",
    "    Case 1 :\n",
    "    if rounds[0] <= rounds[-1] in this case if some rounds have been completed \n",
    "    then we just need to count from start(rounds[0]) to end(rounds[1]) as for complete rounds \n",
    "    the count for each sector is same. \n",
    "    and if the round is not complete then that means the count for each sector in between is 1.\n",
    "\n",
    "    Case 2:\n",
    "    rounds[0] > rounds[-1]\n",
    "    In this case also if some rounds have been completed then we just need to count \n",
    "    from start(rounds[0]) to end(rounds[1]) \n",
    "    the only difference is now we first need to count from rounds[0] to n \n",
    "    and then from 1 to rounds[-1] and if the round is not complete then \n",
    "    that means the count for each sector in between is 1.\"\"\"\n",
    "    \n",
    "    x, xx = rounds[0], rounds[-1]\n",
    "    return list(range(x, xx+1)) if x <= xx else list(range(1, xx+1)) + list(range(x, n+1))"
   ]
  },
  {
   "cell_type": "code",
   "execution_count": 130,
   "metadata": {},
   "outputs": [],
   "source": [
    "# n = 4\n",
    "# rounds = [1,3,1,2]\n",
    "# # Output: [1,2]\n",
    "\n",
    "# n = 2\n",
    "# rounds = [2,1,2,1,2,1,2,1,2]\n",
    "# # Output: [2]\n",
    "\n",
    "n = 7\n",
    "rounds = [1,3,5,7]\n",
    "# Output: [1,2,3,4,5,6,7]\n",
    " \n"
   ]
  },
  {
   "cell_type": "code",
   "execution_count": 131,
   "metadata": {},
   "outputs": [
    {
     "data": {
      "text/plain": [
       "[1, 2, 3, 4, 5, 6, 7]"
      ]
     },
     "execution_count": 131,
     "metadata": {},
     "output_type": "execute_result"
    }
   ],
   "source": [
    "mostVisited(n, rounds)"
   ]
  },
  {
   "cell_type": "code",
   "execution_count": null,
   "metadata": {},
   "outputs": [],
   "source": []
  },
  {
   "cell_type": "code",
   "execution_count": null,
   "metadata": {},
   "outputs": [],
   "source": []
  }
 ],
 "metadata": {
  "kernelspec": {
   "display_name": "Python 3",
   "language": "python",
   "name": "python3"
  },
  "language_info": {
   "codemirror_mode": {
    "name": "ipython",
    "version": 3
   },
   "file_extension": ".py",
   "mimetype": "text/x-python",
   "name": "python",
   "nbconvert_exporter": "python",
   "pygments_lexer": "ipython3",
   "version": "3.7.5"
  }
 },
 "nbformat": 4,
 "nbformat_minor": 4
}
