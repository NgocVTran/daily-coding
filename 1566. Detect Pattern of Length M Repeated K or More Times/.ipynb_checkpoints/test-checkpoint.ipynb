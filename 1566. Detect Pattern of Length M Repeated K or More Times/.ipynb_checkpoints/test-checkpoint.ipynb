{
 "cells": [
  {
   "cell_type": "markdown",
   "metadata": {},
   "source": [
    "Given an array of positive integers arr,  find a pattern of length m that is repeated k or more times.\n",
    "\n",
    "A pattern is a subarray (consecutive sub-sequence) that consists of one or more values, repeated multiple times consecutively without overlapping. A pattern is defined by its length and the number of repetitions.\n",
    "\n",
    "Return true if there exists a pattern of length m that is repeated k or more times, otherwise return false.\n",
    "\n",
    " \n",
    "\n",
    "Example 1:\n",
    "\n",
    "Input: arr = [1,2,4,4,4,4], m = 1, k = 3\n",
    "Output: true\n",
    "Explanation: The pattern (4) of length 1 is repeated 4 consecutive times. Notice that pattern can be repeated k or more times but not less.\n",
    "Example 2:\n",
    "\n",
    "Input: arr = [1,2,1,2,1,1,1,3], m = 2, k = 2\n",
    "Output: true\n",
    "Explanation: The pattern (1,2) of length 2 is repeated 2 consecutive times. Another valid pattern (2,1) is also repeated 2 times.\n",
    "Example 3:\n",
    "\n",
    "Input: arr = [1,2,1,2,1,3], m = 2, k = 3\n",
    "Output: false\n",
    "Explanation: The pattern (1,2) is of length 2 but is repeated only 2 times. There is no pattern of length 2 that is repeated 3 or more times.\n",
    "Example 4:\n",
    "\n",
    "Input: arr = [1,2,3,1,2], m = 2, k = 2\n",
    "Output: false\n",
    "Explanation: Notice that the pattern (1,2) exists twice but not consecutively, so it doesn't count.\n",
    "Example 5:\n",
    "\n",
    "Input: arr = [2,2,2,2], m = 2, k = 3\n",
    "Output: false\n",
    "Explanation: The only pattern of length 2 is (2,2) however it's repeated only twice. Notice that we do not count overlapping repetitions."
   ]
  },
  {
   "cell_type": "code",
   "execution_count": 133,
   "metadata": {},
   "outputs": [],
   "source": [
    "def containsPattern(arr, m, k):\n",
    "    strg = \"\".join(str(i) for i in arr)    \n",
    "    elements = [strg[i:i+m] for i in range(len(strg)-m+1)]\n",
    "    \n",
    "    # count\n",
    "    count = {}\n",
    "    for e in elements:\n",
    "        if e in count:\n",
    "            count[e] = count[e]+1\n",
    "        else:\n",
    "            count[e] = 1\n",
    "    print(count)\n",
    "    \n",
    "    for key,val in count.items():\n",
    "        if val >= k:\n",
    "            # find solution\n",
    "            # check if list of solution is consecutive or not\n",
    "            return\n",
    "#     current_position = elements.index(focus)\n",
    "#     for ite in range(current_position+1, len(elements), 1):\n",
    "#         if elements[ite] == focus:\n",
    "#             if ite-current_position == 1:\n",
    "#                 current_position = ite\n",
    "#             else:\n",
    "#                 return False\n",
    "    return True"
   ]
  },
  {
   "cell_type": "code",
   "execution_count": 143,
   "metadata": {},
   "outputs": [],
   "source": [
    "# brilliant\n",
    "def containsPattern(arr, m, k):\n",
    "    for i in range(len(arr) - m * k + 1):\n",
    "        print(i, len(arr) - m * k + 1)\n",
    "        if arr[i: i + m * k] == arr[i: i + m] * k:\n",
    "            return True\n",
    "    return False"
   ]
  },
  {
   "cell_type": "code",
   "execution_count": 140,
   "metadata": {},
   "outputs": [],
   "source": [
    "# arr = [1,2,4,4,4,4]\n",
    "# m = 1\n",
    "# k = 3\n",
    "# # Output: true\n",
    "\n",
    "# arr = [1,2,3,1,2]\n",
    "# m = 2\n",
    "# k = 2\n",
    "# # false\n",
    "\n",
    "arr = [2,2,2,2]\n",
    "m = 2\n",
    "k = 3\n",
    "# Output: false\n",
    "\n",
    "# arr = [1,2,1,2,1,1,1,3]\n",
    "# m = 2\n",
    "# k = 2\n",
    "# # true"
   ]
  },
  {
   "cell_type": "code",
   "execution_count": 141,
   "metadata": {},
   "outputs": [
    {
     "data": {
      "text/plain": [
       "False"
      ]
     },
     "execution_count": 141,
     "metadata": {},
     "output_type": "execute_result"
    }
   ],
   "source": [
    "containsPattern(arr, m, k)"
   ]
  },
  {
   "cell_type": "code",
   "execution_count": 142,
   "metadata": {},
   "outputs": [
    {
     "data": {
      "text/plain": [
       "'2222'"
      ]
     },
     "execution_count": 142,
     "metadata": {},
     "output_type": "execute_result"
    }
   ],
   "source": [
    "strg = \"\".join(str(i) for i in arr)\n",
    "strg"
   ]
  },
  {
   "cell_type": "code",
   "execution_count": null,
   "metadata": {},
   "outputs": [],
   "source": []
  },
  {
   "cell_type": "code",
   "execution_count": 35,
   "metadata": {},
   "outputs": [
    {
     "data": {
      "text/plain": [
       "['12', '23', '31', '12']"
      ]
     },
     "execution_count": 35,
     "metadata": {},
     "output_type": "execute_result"
    }
   ],
   "source": [
    "elements = [strg[i:i+m] for i in range(len(strg)-m+1)]       \n",
    "elements"
   ]
  },
  {
   "cell_type": "code",
   "execution_count": 37,
   "metadata": {},
   "outputs": [
    {
     "name": "stdout",
     "output_type": "stream",
     "text": [
      "12 2\n",
      "23 1\n",
      "31 1\n",
      "12 2\n"
     ]
    }
   ],
   "source": [
    "for e in elements:\n",
    "    print(e, strg.count(e))"
   ]
  },
  {
   "cell_type": "code",
   "execution_count": 38,
   "metadata": {},
   "outputs": [
    {
     "data": {
      "text/plain": [
       "0"
      ]
     },
     "execution_count": 38,
     "metadata": {},
     "output_type": "execute_result"
    }
   ],
   "source": [
    "elements.index(\"12\")"
   ]
  },
  {
   "cell_type": "code",
   "execution_count": 41,
   "metadata": {},
   "outputs": [
    {
     "data": {
      "text/plain": [
       "0"
      ]
     },
     "execution_count": 41,
     "metadata": {},
     "output_type": "execute_result"
    }
   ],
   "source": [
    "strg.index(\"12\")"
   ]
  },
  {
   "cell_type": "code",
   "execution_count": 43,
   "metadata": {},
   "outputs": [
    {
     "data": {
      "text/plain": [
       "'12'"
      ]
     },
     "execution_count": 43,
     "metadata": {},
     "output_type": "execute_result"
    }
   ],
   "source": [
    "elements.pop(0)"
   ]
  },
  {
   "cell_type": "code",
   "execution_count": 44,
   "metadata": {},
   "outputs": [
    {
     "data": {
      "text/plain": [
       "['23', '31', '12']"
      ]
     },
     "execution_count": 44,
     "metadata": {},
     "output_type": "execute_result"
    }
   ],
   "source": [
    "elements"
   ]
  },
  {
   "cell_type": "code",
   "execution_count": 45,
   "metadata": {},
   "outputs": [
    {
     "data": {
      "text/plain": [
       "2"
      ]
     },
     "execution_count": 45,
     "metadata": {},
     "output_type": "execute_result"
    }
   ],
   "source": [
    "elements.index(\"12\")"
   ]
  },
  {
   "cell_type": "code",
   "execution_count": null,
   "metadata": {},
   "outputs": [],
   "source": []
  }
 ],
 "metadata": {
  "kernelspec": {
   "display_name": "Python 3",
   "language": "python",
   "name": "python3"
  },
  "language_info": {
   "codemirror_mode": {
    "name": "ipython",
    "version": 3
   },
   "file_extension": ".py",
   "mimetype": "text/x-python",
   "name": "python",
   "nbconvert_exporter": "python",
   "pygments_lexer": "ipython3",
   "version": "3.7.5"
  }
 },
 "nbformat": 4,
 "nbformat_minor": 4
}
