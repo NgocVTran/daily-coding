{
 "cells": [
  {
   "cell_type": "markdown",
   "metadata": {},
   "source": [
    "1588. Sum of All Odd Length Subarrays\n",
    "Easy\n",
    "\n",
    "132\n",
    "\n",
    "13\n",
    "\n",
    "Add to List\n",
    "\n",
    "Share\n",
    "Given an array of positive integers arr, calculate the sum of all possible odd-length subarrays.\n",
    "\n",
    "A subarray is a contiguous subsequence of the array.\n",
    "\n",
    "Return the sum of all odd-length subarrays of arr.\n",
    "\n",
    " \n",
    "\n",
    "Example 1:\n",
    "\n",
    "Input: arr = [1,4,2,5,3]\n",
    "Output: 58\n",
    "Explanation: The odd-length subarrays of arr and their sums are:\n",
    "[1] = 1\n",
    "[4] = 4\n",
    "[2] = 2\n",
    "[5] = 5\n",
    "[3] = 3\n",
    "[1,4,2] = 7\n",
    "[4,2,5] = 11\n",
    "[2,5,3] = 10\n",
    "[1,4,2,5,3] = 15\n",
    "If we add all these together we get 1 + 4 + 2 + 5 + 3 + 7 + 11 + 10 + 15 = 58\n",
    "Example 2:\n",
    "\n",
    "Input: arr = [1,2]\n",
    "Output: 3\n",
    "Explanation: There are only 2 subarrays of odd length, [1] and [2]. Their sum is 3.\n",
    "Example 3:\n",
    "\n",
    "Input: arr = [10,11,12]\n",
    "Output: 66"
   ]
  },
  {
   "cell_type": "code",
   "execution_count": 25,
   "metadata": {},
   "outputs": [],
   "source": [
    "def sumOddLengthSubarrays(arr):\n",
    "    summ = 0\n",
    "    for i in range(1,len(arr)+1):\n",
    "        if i%2 == 1:\n",
    "            print(i)\n",
    "            for idx,a in enumerate(arr):\n",
    "                if len(arr[idx:idx+i]) == i:\n",
    "                    print(idx,arr[idx:idx+i])\n",
    "                    summ += sum(arr[idx:idx+i])\n",
    "    return summ"
   ]
  },
  {
   "cell_type": "code",
   "execution_count": 26,
   "metadata": {},
   "outputs": [],
   "source": [
    "arr = [1,4,2,5,3]\n",
    "# Output: 58"
   ]
  },
  {
   "cell_type": "code",
   "execution_count": 27,
   "metadata": {},
   "outputs": [
    {
     "name": "stdout",
     "output_type": "stream",
     "text": [
      "1\n",
      "0 [1]\n",
      "1 [4]\n",
      "2 [2]\n",
      "3 [5]\n",
      "4 [3]\n",
      "3\n",
      "0 [1, 4, 2]\n",
      "1 [4, 2, 5]\n",
      "2 [2, 5, 3]\n",
      "5\n",
      "0 [1, 4, 2, 5, 3]\n"
     ]
    },
    {
     "data": {
      "text/plain": [
       "58"
      ]
     },
     "execution_count": 27,
     "metadata": {},
     "output_type": "execute_result"
    }
   ],
   "source": [
    "sumOddLengthSubarrays(arr)"
   ]
  },
  {
   "cell_type": "code",
   "execution_count": 28,
   "metadata": {},
   "outputs": [
    {
     "data": {
      "text/plain": [
       "[1, 4, 2, 5, 3]"
      ]
     },
     "execution_count": 28,
     "metadata": {},
     "output_type": "execute_result"
    }
   ],
   "source": [
    "dp = list(arr)\n",
    "dp"
   ]
  },
  {
   "cell_type": "code",
   "execution_count": null,
   "metadata": {},
   "outputs": [],
   "source": []
  },
  {
   "cell_type": "markdown",
   "metadata": {},
   "source": [
    "dp[i] is the sum of all arrays that end at index i.\n",
    "\n",
    "i // 2 is how many subarrays of odd length end at index i - 2.\n",
    "\n"
   ]
  },
  {
   "cell_type": "code",
   "execution_count": null,
   "metadata": {},
   "outputs": [],
   "source": [
    "def sumOddLengthSubarrays(self, arr: List[int]) -> int:\n",
    "    dp = list(arr)\n",
    "    for i, a in enumerate(arr):\n",
    "        if i > 1: dp[i] += (i // 2) * (arr[i] + arr[i-1]) + dp[i - 2]\n",
    "    return sum(dp)"
   ]
  },
  {
   "cell_type": "code",
   "execution_count": 42,
   "metadata": {},
   "outputs": [
    {
     "data": {
      "text/plain": [
       "[1, 4, 2, 5, 3]"
      ]
     },
     "execution_count": 42,
     "metadata": {},
     "output_type": "execute_result"
    }
   ],
   "source": [
    "dp = list(arr)\n",
    "dp"
   ]
  },
  {
   "cell_type": "code",
   "execution_count": 43,
   "metadata": {},
   "outputs": [
    {
     "name": "stdout",
     "output_type": "stream",
     "text": [
      "[1, 4, 2, 5, 3]\n",
      "[1, 4, 2, 5, 3]\n",
      "[1, 4, 2, 5, 3]\n",
      "2 1 6\n",
      "[1, 4, 9, 5, 3]\n",
      "3 1 7\n",
      "[1, 4, 9, 16, 3]\n",
      "4 2 16\n"
     ]
    }
   ],
   "source": [
    "for i, a in enumerate(arr):\n",
    "    print(dp)\n",
    "    if i > 1: \n",
    "        print(i, (i//2), (i//2)*(arr[i] + arr[i-1]) )\n",
    "        dp[i] += (i // 2) * (arr[i] + arr[i-1]) + dp[i - 2]"
   ]
  },
  {
   "cell_type": "code",
   "execution_count": 44,
   "metadata": {},
   "outputs": [
    {
     "data": {
      "text/plain": [
       "[1, 4, 9, 16, 28]"
      ]
     },
     "execution_count": 44,
     "metadata": {},
     "output_type": "execute_result"
    }
   ],
   "source": [
    "dp"
   ]
  },
  {
   "cell_type": "markdown",
   "metadata": {},
   "source": [
    "https://www.youtube.com/watch?time_continue=5&v=J5IIH35EBVE&feature=emb_logo&ab_channel=NateSantti"
   ]
  },
  {
   "cell_type": "code",
   "execution_count": null,
   "metadata": {},
   "outputs": [],
   "source": []
  }
 ],
 "metadata": {
  "kernelspec": {
   "display_name": "Python 3",
   "language": "python",
   "name": "python3"
  },
  "language_info": {
   "codemirror_mode": {
    "name": "ipython",
    "version": 3
   },
   "file_extension": ".py",
   "mimetype": "text/x-python",
   "name": "python",
   "nbconvert_exporter": "python",
   "pygments_lexer": "ipython3",
   "version": "3.7.5"
  }
 },
 "nbformat": 4,
 "nbformat_minor": 4
}
