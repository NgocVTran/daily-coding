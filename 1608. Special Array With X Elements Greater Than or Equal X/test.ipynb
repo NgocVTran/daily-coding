{
 "cells": [
  {
   "cell_type": "markdown",
   "metadata": {},
   "source": [
    "You are given an array nums of non-negative integers. nums is considered special if there exists a number x such that there are exactly x numbers in nums that are greater than or equal to x.\n",
    "\n",
    "Notice that x does not have to be an element in nums.\n",
    "\n",
    "Return x if the array is special, otherwise, return -1. It can be proven that if nums is special, the value for x is unique.\n",
    "\n",
    " \n",
    "\n",
    "Example 1:\n",
    "\n",
    "Input: nums = [3,5]\n",
    "Output: 2\n",
    "Explanation: There are 2 values (3 and 5) that are greater than or equal to 2.\n",
    "Example 2:\n",
    "\n",
    "Input: nums = [0,0]\n",
    "Output: -1\n",
    "Explanation: No numbers fit the criteria for x.\n",
    "If x = 0, there should be 0 numbers >= x, but there are 2.\n",
    "If x = 1, there should be 1 number >= x, but there are 0.\n",
    "If x = 2, there should be 2 numbers >= x, but there are 0.\n",
    "x cannot be greater since there are only 2 numbers in nums.\n",
    "Example 3:\n",
    "\n",
    "Input: nums = [0,4,3,0,4]\n",
    "Output: 3\n",
    "Explanation: There are 3 values that are greater than or equal to 3.\n",
    "Example 4:\n",
    "\n",
    "Input: nums = [3,6,7,7,0]\n",
    "Output: -1\n",
    " \n",
    "\n",
    "Constraints:\n",
    "\n",
    "1 <= nums.length <= 100\n",
    "0 <= nums[i] <= 1000"
   ]
  },
  {
   "cell_type": "code",
   "execution_count": 1,
   "metadata": {},
   "outputs": [],
   "source": [
    "def specialArray(nums):\n",
    "    n = len(nums)\n",
    "    sort = sorted(nums)\n",
    "    \n",
    "    # \n",
    "    \n",
    "        \n",
    "    return"
   ]
  },
  {
   "cell_type": "code",
   "execution_count": 2,
   "metadata": {},
   "outputs": [],
   "source": [
    "nums = [0,0]\n",
    "# Output: -1"
   ]
  },
  {
   "cell_type": "code",
   "execution_count": 3,
   "metadata": {},
   "outputs": [],
   "source": [
    "specialArray(nums)"
   ]
  },
  {
   "cell_type": "code",
   "execution_count": null,
   "metadata": {},
   "outputs": [],
   "source": []
  },
  {
   "cell_type": "markdown",
   "metadata": {},
   "source": [
    "### solution"
   ]
  },
  {
   "cell_type": "code",
   "execution_count": 4,
   "metadata": {},
   "outputs": [],
   "source": [
    "# Concept is similar to H-index\n",
    "# After while loop, we can get i which indicates there are already i items larger or equal to i.\n",
    "# Meanwhile, if we found i == nums[i], there will be i + 1 items larger or equal to i, which makes array not special.\n",
    "# Time: O(sort), can achieve O(N) if we use counting sort\n",
    "# Space: O(sort)\n",
    "\n",
    "# class Solution:\n",
    "#     def specialArray(self, nums: List[int]) -> int:\n",
    "#         nums.sort(reverse=True)\n",
    "#         i = 0\n",
    "#         while i < len(nums) and nums[i] > i:\n",
    "#             i += 1\n",
    "#         return -1 if i < len(nums) and i == nums[i] else i\n",
    "# it can be faster by using binary search if list is already sorted.\n",
    "\n",
    "# class Solution:\n",
    "#     def specialArray(self, nums: List[int]) -> int:\n",
    "#         nums.sort(reverse=True)\n",
    "#         left, right = 0, len(nums)\n",
    "#         while left < right:\n",
    "#             mid = left + (right - left) // 2\n",
    "#             if mid < nums[mid]:\n",
    "#                 left = mid + 1\n",
    "#             else:\n",
    "#                 right = mid       \n",
    "#         return -1 if left < len(nums) and left == nums[left] else left"
   ]
  },
  {
   "cell_type": "code",
   "execution_count": null,
   "metadata": {},
   "outputs": [],
   "source": []
  },
  {
   "cell_type": "code",
   "execution_count": null,
   "metadata": {},
   "outputs": [],
   "source": []
  }
 ],
 "metadata": {
  "kernelspec": {
   "display_name": "Python 3",
   "language": "python",
   "name": "python3"
  },
  "language_info": {
   "codemirror_mode": {
    "name": "ipython",
    "version": 3
   },
   "file_extension": ".py",
   "mimetype": "text/x-python",
   "name": "python",
   "nbconvert_exporter": "python",
   "pygments_lexer": "ipython3",
   "version": "3.7.5"
  }
 },
 "nbformat": 4,
 "nbformat_minor": 4
}
