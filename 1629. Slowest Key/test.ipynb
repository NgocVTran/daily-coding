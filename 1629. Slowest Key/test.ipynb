{
 "cells": [
  {
   "cell_type": "markdown",
   "metadata": {},
   "source": [
    "A newly designed keypad was tested, where a tester pressed a sequence of n keys, one at a time.\n",
    "\n",
    "You are given a string keysPressed of length n, where keysPressed[i] was the ith key pressed in the testing sequence, and a sorted list releaseTimes, where releaseTimes[i] was the time the ith key was released. Both arrays are 0-indexed. The 0th key was pressed at the time 0, and every subsequent key was pressed at the exact time the previous key was released.\n",
    "\n",
    "The tester wants to know the key of the keypress that had the longest duration. The ith keypress had a duration of releaseTimes[i] - releaseTimes[i - 1], and the 0th keypress had a duration of releaseTimes[0].\n",
    "\n",
    "Note that the same key could have been pressed multiple times during the test, and these multiple presses of the same key may not have had the same duration.\n",
    "\n",
    "Return the key of the keypress that had the longest duration. If there are multiple such keypresses, return the lexicographically largest key of the keypresses.\n",
    "\n",
    " \n",
    "\n",
    "Example 1:\n",
    "\n",
    "Input: releaseTimes = [9,29,49,50], keysPressed = \"cbcd\"\n",
    "Output: \"c\"\n",
    "Explanation: The keypresses were as follows:\n",
    "Keypress for 'c' had a duration of 9 (pressed at time 0 and released at time 9).\n",
    "Keypress for 'b' had a duration of 29 - 9 = 20 (pressed at time 9 right after the release of the previous character and released at time 29).\n",
    "Keypress for 'c' had a duration of 49 - 29 = 20 (pressed at time 29 right after the release of the previous character and released at time 49).\n",
    "Keypress for 'd' had a duration of 50 - 49 = 1 (pressed at time 49 right after the release of the previous character and released at time 50).\n",
    "The longest of these was the keypress for 'b' and the second keypress for 'c', both with duration 20.\n",
    "'c' is lexicographically larger than 'b', so the answer is 'c'.\n",
    "Example 2:\n",
    "\n",
    "Input: releaseTimes = [12,23,36,46,62], keysPressed = \"spuda\"\n",
    "Output: \"a\"\n",
    "Explanation: The keypresses were as follows:\n",
    "Keypress for 's' had a duration of 12.\n",
    "Keypress for 'p' had a duration of 23 - 12 = 11.\n",
    "Keypress for 'u' had a duration of 36 - 23 = 13.\n",
    "Keypress for 'd' had a duration of 46 - 36 = 10.\n",
    "Keypress for 'a' had a duration of 62 - 46 = 16.\n",
    "The longest of these was the keypress for 'a' with duration 16.\n",
    " \n",
    "\n",
    "Constraints:\n",
    "\n",
    "releaseTimes.length == n\n",
    "keysPressed.length == n\n",
    "2 <= n <= 1000\n",
    "1 <= releaseTimes[i] <= 109\n",
    "releaseTimes[i] < releaseTimes[i+1]\n",
    "keysPressed contains only lowercase English letters."
   ]
  },
  {
   "cell_type": "code",
   "execution_count": 1,
   "metadata": {},
   "outputs": [],
   "source": [
    " def slowestKey(releaseTimes, keysPressed):\n",
    "    duration = [releaseTimes[0]]\n",
    "    for ite in range(1,len(releaseTimes), 1):\n",
    "        duration.append(releaseTimes[ite]-releaseTimes[ite-1])\n",
    "\n",
    "    dct = {}\n",
    "    for ite,d in enumerate(duration):\n",
    "        if d in dct:\n",
    "            if ord(keysPressed[ite]) >= ord(dct[d]):\n",
    "                dct[d] = keysPressed[ite]\n",
    "        else:\n",
    "            dct[d] = keysPressed[ite]\n",
    "\n",
    "    return dct[max(dct.keys())]"
   ]
  },
  {
   "cell_type": "code",
   "execution_count": 2,
   "metadata": {},
   "outputs": [],
   "source": [
    "# releaseTimes = [9,29,49,50]\n",
    "# keysPressed = \"cbcd\"\n",
    "# # Output: \"c\"\n",
    "\n",
    "# releaseTimes = [12,23,36,46,62]\n",
    "# keysPressed = \"spuda\"\n",
    "# # Output: \"a\"\n",
    "\n",
    "releaseTimes = [1,2,3]\n",
    "keysPressed = \"aba\"\n",
    "# Output: b"
   ]
  },
  {
   "cell_type": "code",
   "execution_count": 3,
   "metadata": {},
   "outputs": [
    {
     "data": {
      "text/plain": [
       "'b'"
      ]
     },
     "execution_count": 3,
     "metadata": {},
     "output_type": "execute_result"
    }
   ],
   "source": [
    "dct = slowestKey(releaseTimes, keysPressed)\n",
    "dct"
   ]
  },
  {
   "cell_type": "code",
   "execution_count": null,
   "metadata": {},
   "outputs": [],
   "source": []
  },
  {
   "cell_type": "code",
   "execution_count": null,
   "metadata": {},
   "outputs": [],
   "source": []
  },
  {
   "cell_type": "code",
   "execution_count": null,
   "metadata": {},
   "outputs": [],
   "source": []
  },
  {
   "cell_type": "code",
   "execution_count": null,
   "metadata": {},
   "outputs": [],
   "source": []
  }
 ],
 "metadata": {
  "kernelspec": {
   "display_name": "Python 3",
   "language": "python",
   "name": "python3"
  },
  "language_info": {
   "codemirror_mode": {
    "name": "ipython",
    "version": 3
   },
   "file_extension": ".py",
   "mimetype": "text/x-python",
   "name": "python",
   "nbconvert_exporter": "python",
   "pygments_lexer": "ipython3",
   "version": "3.7.5"
  }
 },
 "nbformat": 4,
 "nbformat_minor": 4
}
