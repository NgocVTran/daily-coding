{
 "cells": [
  {
   "cell_type": "markdown",
   "metadata": {},
   "source": [
    "You are given an integer n. An array nums of length n + 1 is generated in the following way:\n",
    "\n",
    "nums[0] = 0\n",
    "nums[1] = 1\n",
    "nums[2 * i] = nums[i] when 2 <= 2 * i <= n\n",
    "nums[2 * i + 1] = nums[i] + nums[i + 1] when 2 <= 2 * i + 1 <= n\n",
    "Return the maximum integer in the array nums​​​.\n",
    "\n",
    " \n",
    "\n",
    "Example 1:\n",
    "\n",
    "Input: n = 7\n",
    "Output: 3\n",
    "Explanation: According to the given rules:\n",
    "  nums[0] = 0\n",
    "  nums[1] = 1\n",
    "  nums[(1 * 2) = 2] = nums[1] = 1\n",
    "  nums[(1 * 2) + 1 = 3] = nums[1] + nums[2] = 1 + 1 = 2\n",
    "  nums[(2 * 2) = 4] = nums[2] = 1\n",
    "  nums[(2 * 2) + 1 = 5] = nums[2] + nums[3] = 1 + 2 = 3\n",
    "  nums[(3 * 2) = 6] = nums[3] = 2\n",
    "  nums[(3 * 2) + 1 = 7] = nums[3] + nums[4] = 2 + 1 = 3\n",
    "Hence, nums = [0,1,1,2,1,3,2,3], and the maximum is 3.\n",
    "Example 2:\n",
    "\n",
    "Input: n = 2\n",
    "Output: 1\n",
    "Explanation: According to the given rules, the maximum between nums[0], nums[1], and nums[2] is 1.\n",
    "Example 3:\n",
    "\n",
    "Input: n = 3\n",
    "Output: 2\n",
    "Explanation: According to the given rules, the maximum between nums[0], nums[1], nums[2], and nums[3] is 2."
   ]
  },
  {
   "cell_type": "code",
   "execution_count": 1,
   "metadata": {},
   "outputs": [],
   "source": [
    "def getMaximumGenerated(n):\n",
    "    if n == 0:\n",
    "        return 0\n",
    "    if n == 1:\n",
    "        return 1\n",
    "\n",
    "    result = [None] * (n+1)\n",
    "    result[0] = 0\n",
    "    result[1] = 1\n",
    "\n",
    "    maxx = result[1]\n",
    "    for i in range(2,n+1):\n",
    "        if i % 2 == 0:\n",
    "            result[i] = result[i//2]\n",
    "        else:\n",
    "            result[i] = result[i//2] + result[i//2+1]\n",
    "        maxx = max(maxx, result[i])\n",
    "\n",
    "    return maxx"
   ]
  },
  {
   "cell_type": "code",
   "execution_count": 2,
   "metadata": {},
   "outputs": [],
   "source": [
    "n = 3\n",
    "# Output: 2"
   ]
  },
  {
   "cell_type": "code",
   "execution_count": 3,
   "metadata": {},
   "outputs": [
    {
     "data": {
      "text/plain": [
       "2"
      ]
     },
     "execution_count": 3,
     "metadata": {},
     "output_type": "execute_result"
    }
   ],
   "source": [
    "getMaximumGenerated(n)"
   ]
  },
  {
   "cell_type": "code",
   "execution_count": null,
   "metadata": {},
   "outputs": [],
   "source": []
  }
 ],
 "metadata": {
  "kernelspec": {
   "display_name": "Python 3",
   "language": "python",
   "name": "python3"
  },
  "language_info": {
   "codemirror_mode": {
    "name": "ipython",
    "version": 3
   },
   "file_extension": ".py",
   "mimetype": "text/x-python",
   "name": "python",
   "nbconvert_exporter": "python",
   "pygments_lexer": "ipython3",
   "version": "3.7.5"
  }
 },
 "nbformat": 4,
 "nbformat_minor": 4
}
