{
 "cells": [
  {
   "cell_type": "markdown",
   "metadata": {},
   "source": [
    "You have a bomb to defuse, and your time is running out! Your informer will provide you with a circular array code of length of n and a key k.\n",
    "\n",
    "To decrypt the code, you must replace every number. All the numbers are replaced simultaneously.\n",
    "\n",
    "If k > 0, replace the ith number with the sum of the next k numbers.\n",
    "If k < 0, replace the ith number with the sum of the previous k numbers.\n",
    "If k == 0, replace the ith number with 0.\n",
    "As code is circular, the next element of code[n-1] is code[0], and the previous element of code[0] is code[n-1].\n",
    "\n",
    "Given the circular array code and an integer key k, return the decrypted code to defuse the bomb!\n",
    "\n",
    " \n",
    "\n",
    "Example 1:\n",
    "\n",
    "Input: code = [5,7,1,4], k = 3\n",
    "Output: [12,10,16,13]\n",
    "Explanation: Each number is replaced by the sum of the next 3 numbers. The decrypted code is [7+1+4, 1+4+5, 4+5+7, 5+7+1]. Notice that the numbers wrap around.\n",
    "Example 2:\n",
    "\n",
    "Input: code = [1,2,3,4], k = 0\n",
    "Output: [0,0,0,0]\n",
    "Explanation: When k is zero, the numbers are replaced by 0. \n",
    "Example 3:\n",
    "\n",
    "Input: code = [2,4,9,3], k = -2\n",
    "Output: [12,5,6,13]\n",
    "Explanation: The decrypted code is [3+9, 2+3, 4+2, 9+4]. Notice that the numbers wrap around again. If k is negative, the sum is of the previous numbers."
   ]
  },
  {
   "cell_type": "code",
   "execution_count": 48,
   "metadata": {},
   "outputs": [],
   "source": [
    "def decrypt(code, k):\n",
    "    l = len(code)\n",
    "    if not k: \n",
    "        return [0] * l\n",
    "\n",
    "    pre_sum = [0] * (2*l)\n",
    "    for i in range(2*l): \n",
    "        pre_sum[i] = pre_sum[i-1] + code[i%l]\n",
    "\n",
    "    if k > 0:\n",
    "        return [pre_sum[k+i] - pre_sum[i] for i in range(l)]\n",
    "    else:\n",
    "        return [pre_sum[i+l-1] - pre_sum[k+i+l-1] for i in range(l)]"
   ]
  },
  {
   "cell_type": "code",
   "execution_count": 46,
   "metadata": {},
   "outputs": [],
   "source": [
    "code = [5,7,1,4]\n",
    "k = 3\n",
    "# Output: [12,10,16,13]\n",
    "\n",
    "# code = [1,2,3,4]\n",
    "# k = 0\n",
    "# # Output: [0,0,0,0]\n",
    "\n",
    "# code = [2,4,9,3]\n",
    "# k = -2\n",
    "# # Output: [12,5,6,13]"
   ]
  },
  {
   "cell_type": "code",
   "execution_count": 47,
   "metadata": {},
   "outputs": [
    {
     "data": {
      "text/plain": [
       "[12, 10, 16, 13]"
      ]
     },
     "execution_count": 47,
     "metadata": {},
     "output_type": "execute_result"
    }
   ],
   "source": [
    "decrypt(code, k)"
   ]
  },
  {
   "cell_type": "code",
   "execution_count": 31,
   "metadata": {},
   "outputs": [],
   "source": [
    "n = len(code)\n",
    "prefix = code * 2"
   ]
  },
  {
   "cell_type": "code",
   "execution_count": 32,
   "metadata": {},
   "outputs": [
    {
     "name": "stdout",
     "output_type": "stream",
     "text": [
      "[5, 7, 1, 4, 5, 7, 1, 4]\n",
      "[5, 12, 1, 4, 5, 7, 1, 4]\n",
      "[5, 12, 13, 4, 5, 7, 1, 4]\n",
      "[5, 12, 13, 17, 5, 7, 1, 4]\n",
      "[5, 12, 13, 17, 22, 7, 1, 4]\n",
      "[5, 12, 13, 17, 22, 29, 1, 4]\n",
      "[5, 12, 13, 17, 22, 29, 30, 4]\n"
     ]
    }
   ],
   "source": [
    "for i in range(1, 2*n):\n",
    "    print(prefix)\n",
    "    prefix[i] += prefix[i-1]"
   ]
  },
  {
   "cell_type": "code",
   "execution_count": 33,
   "metadata": {},
   "outputs": [
    {
     "name": "stdout",
     "output_type": "stream",
     "text": [
      "[5, 7, 1, 4]\n",
      "[12, 7, 1, 4]\n",
      "[12, 10, 1, 4]\n",
      "[12, 10, 16, 4]\n"
     ]
    }
   ],
   "source": [
    "for i in range(n):\n",
    "    print(code)\n",
    "    code[i] = prefix[i+k] - prefix[i]"
   ]
  },
  {
   "cell_type": "code",
   "execution_count": 40,
   "metadata": {},
   "outputs": [
    {
     "data": {
      "text/plain": [
       "[5, 7, 1, 4]"
      ]
     },
     "execution_count": 40,
     "metadata": {},
     "output_type": "execute_result"
    }
   ],
   "source": [
    "code"
   ]
  },
  {
   "cell_type": "code",
   "execution_count": 41,
   "metadata": {},
   "outputs": [],
   "source": [
    "l = len(code)\n",
    "pre_sum = [0] * (2*l)"
   ]
  },
  {
   "cell_type": "code",
   "execution_count": 42,
   "metadata": {},
   "outputs": [
    {
     "name": "stdout",
     "output_type": "stream",
     "text": [
      "[5, 0, 0, 0, 0, 0, 0, 0]\n",
      "[5, 12, 0, 0, 0, 0, 0, 0]\n",
      "[5, 12, 13, 0, 0, 0, 0, 0]\n",
      "[5, 12, 13, 17, 0, 0, 0, 0]\n",
      "[5, 12, 13, 17, 22, 0, 0, 0]\n",
      "[5, 12, 13, 17, 22, 29, 0, 0]\n",
      "[5, 12, 13, 17, 22, 29, 30, 0]\n",
      "[5, 12, 13, 17, 22, 29, 30, 34]\n"
     ]
    }
   ],
   "source": [
    "for i in range(2*l): \n",
    "    pre_sum[i] = pre_sum[i-1] + code[i%l]\n",
    "    print(pre_sum)"
   ]
  },
  {
   "cell_type": "code",
   "execution_count": 43,
   "metadata": {},
   "outputs": [
    {
     "name": "stdout",
     "output_type": "stream",
     "text": [
      "[12, 10, 16, 13]\n"
     ]
    }
   ],
   "source": [
    "if k > 0:\n",
    "    print([pre_sum[k+i] - pre_sum[i] for i in range(l)])\n",
    "else:\n",
    "    print([pre_sum[i+l-1] - pre_sum[k+i+l-1] for i in range(l)])"
   ]
  },
  {
   "cell_type": "code",
   "execution_count": 44,
   "metadata": {},
   "outputs": [
    {
     "data": {
      "text/plain": [
       "3"
      ]
     },
     "execution_count": 44,
     "metadata": {},
     "output_type": "execute_result"
    }
   ],
   "source": [
    "k"
   ]
  },
  {
   "cell_type": "code",
   "execution_count": null,
   "metadata": {},
   "outputs": [],
   "source": []
  }
 ],
 "metadata": {
  "kernelspec": {
   "display_name": "Python 3",
   "language": "python",
   "name": "python3"
  },
  "language_info": {
   "codemirror_mode": {
    "name": "ipython",
    "version": 3
   },
   "file_extension": ".py",
   "mimetype": "text/x-python",
   "name": "python",
   "nbconvert_exporter": "python",
   "pygments_lexer": "ipython3",
   "version": "3.7.5"
  }
 },
 "nbformat": 4,
 "nbformat_minor": 4
}
