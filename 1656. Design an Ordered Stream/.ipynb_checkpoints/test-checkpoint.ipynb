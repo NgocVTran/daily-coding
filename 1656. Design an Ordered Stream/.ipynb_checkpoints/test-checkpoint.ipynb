{
 "cells": [
  {
   "cell_type": "markdown",
   "metadata": {},
   "source": [
    "There is a stream of n (id, value) pairs arriving in an arbitrary order, where id is an integer between 1 and n and value is a string. No two pairs have the same id.\n",
    "\n",
    "Design a stream that returns the values in increasing order of their IDs by returning a chunk (list) of values after each insertion. The concatenation of all the chunks should result in a list of the sorted values.\n",
    "\n",
    "Implement the OrderedStream class:\n",
    "\n",
    "OrderedStream(int n) Constructs the stream to take n values.\n",
    "String[] insert(int id, String value) Inserts the pair (id, value) into the stream, then returns the largest possible chunk of currently inserted values that appear next in the order.\n",
    " \n",
    "\n",
    "Example:\n",
    "\n",
    "\n",
    "\n",
    "Input\n",
    "[\"OrderedStream\", \"insert\", \"insert\", \"insert\", \"insert\", \"insert\"]\n",
    "[[5], [3, \"ccccc\"], [1, \"aaaaa\"], [2, \"bbbbb\"], [5, \"eeeee\"], [4, \"ddddd\"]]\n",
    "Output\n",
    "[null, [], [\"aaaaa\"], [\"bbbbb\", \"ccccc\"], [], [\"ddddd\", \"eeeee\"]]\n",
    "\n",
    "Explanation\n",
    "// Note that the values ordered by ID is [\"aaaaa\", \"bbbbb\", \"ccccc\", \"ddddd\", \"eeeee\"].\n",
    "OrderedStream os = new OrderedStream(5);\n",
    "os.insert(3, \"ccccc\"); // Inserts (3, \"ccccc\"), returns [].\n",
    "os.insert(1, \"aaaaa\"); // Inserts (1, \"aaaaa\"), returns [\"aaaaa\"].\n",
    "os.insert(2, \"bbbbb\"); // Inserts (2, \"bbbbb\"), returns [\"bbbbb\", \"ccccc\"].\n",
    "os.insert(5, \"eeeee\"); // Inserts (5, \"eeeee\"), returns [].\n",
    "os.insert(4, \"ddddd\"); // Inserts (4, \"ddddd\"), returns [\"ddddd\", \"eeeee\"].\n",
    "// Concatentating all the chunks returned:\n",
    "// [] + [\"aaaaa\"] + [\"bbbbb\", \"ccccc\"] + [] + [\"ddddd\", \"eeeee\"] = [\"aaaaa\", \"bbbbb\", \"ccccc\", \"ddddd\", \"eeeee\"]\n",
    "// The resulting order is the same as the order above.\n",
    " \n",
    "\n",
    "Constraints:\n",
    "\n",
    "1 <= n <= 1000\n",
    "1 <= id <= n\n",
    "value.length == 5\n",
    "value consists only of lowercase letters.\n",
    "Each call to insert will have a unique id.\n",
    "Exactly n calls will be made to insert."
   ]
  },
  {
   "cell_type": "code",
   "execution_count": null,
   "metadata": {},
   "outputs": [],
   "source": [
    "class OrderedStream:\n",
    "    def __init__(self, n: int):\n",
    "        self.position = {}\n",
    "        self.current = 1\n",
    "\n",
    "    def insert(self, id: int, value: str):\n",
    "        self.position[id] = value\n",
    "        output = []\n",
    "        while self.current in self.position:\n",
    "            output.append(self.position[self.current])\n",
    "            self.current += 1\n",
    "        return output\n",
    "\n",
    "\n",
    "# Your OrderedStream object will be instantiated and called as such:\n",
    "# obj = OrderedStream(n)\n",
    "# param_1 = obj.insert(id,value)x"
   ]
  },
  {
   "cell_type": "code",
   "execution_count": null,
   "metadata": {},
   "outputs": [],
   "source": []
  },
  {
   "cell_type": "code",
   "execution_count": null,
   "metadata": {},
   "outputs": [],
   "source": []
  },
  {
   "cell_type": "code",
   "execution_count": null,
   "metadata": {},
   "outputs": [],
   "source": []
  }
 ],
 "metadata": {
  "kernelspec": {
   "display_name": "Python 3",
   "language": "python",
   "name": "python3"
  },
  "language_info": {
   "codemirror_mode": {
    "name": "ipython",
    "version": 3
   },
   "file_extension": ".py",
   "mimetype": "text/x-python",
   "name": "python",
   "nbconvert_exporter": "python",
   "pygments_lexer": "ipython3",
   "version": "3.7.5"
  }
 },
 "nbformat": 4,
 "nbformat_minor": 4
}
