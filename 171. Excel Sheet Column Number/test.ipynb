{
 "cells": [
  {
   "cell_type": "markdown",
   "metadata": {},
   "source": [
    "### august explore"
   ]
  },
  {
   "cell_type": "code",
   "execution_count": 1,
   "metadata": {},
   "outputs": [],
   "source": [
    "def titleToNumber(s):\n",
    "    dict = {\n",
    "        'A':1, 'B':2, 'C':3, 'D':4, 'E':5, 'F':6,\n",
    "        'G':7, 'H':8, 'I':9, 'J':10, 'K':11, 'L':12,\n",
    "        'M':13, 'N':14, 'O':15, 'P':16, 'Q':17, 'R':18,\n",
    "        'S':19, 'T':20, 'U':21, 'V':22, 'W':23, 'X':24,\n",
    "        'Y':25, 'Z':26,\n",
    "    }\n",
    "\n",
    "    total = 0\n",
    "    n = len(s)-1\n",
    "    for i in range(n,-1, -1):\n",
    "        total = total + dict[s[i]] * 26**(n-i)\n",
    "    \n",
    "    return total"
   ]
  },
  {
   "cell_type": "code",
   "execution_count": null,
   "metadata": {},
   "outputs": [],
   "source": []
  }
 ],
 "metadata": {
  "kernelspec": {
   "display_name": "Python 3",
   "language": "python",
   "name": "python3"
  },
  "language_info": {
   "codemirror_mode": {
    "name": "ipython",
    "version": 3
   },
   "file_extension": ".py",
   "mimetype": "text/x-python",
   "name": "python",
   "nbconvert_exporter": "python",
   "pygments_lexer": "ipython3",
   "version": "3.7.5"
  }
 },
 "nbformat": 4,
 "nbformat_minor": 4
}
