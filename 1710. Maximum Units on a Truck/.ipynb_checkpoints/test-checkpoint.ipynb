{
 "cells": [
  {
   "cell_type": "markdown",
   "metadata": {},
   "source": [
    "You are assigned to put some amount of boxes onto one truck. You are given a 2D array boxTypes, where boxTypes[i] = [numberOfBoxesi, numberOfUnitsPerBoxi]:\n",
    "\n",
    "numberOfBoxesi is the number of boxes of type i.\n",
    "numberOfUnitsPerBoxi is the number of units in each box of the type i.\n",
    "You are also given an integer truckSize, which is the maximum number of boxes that can be put on the truck. You can choose any boxes to put on the truck as long as the number of boxes does not exceed truckSize.\n",
    "\n",
    "Return the maximum total number of units that can be put on the truck.\n",
    "\n",
    " \n",
    "\n",
    "Example 1:\n",
    "\n",
    "Input: boxTypes = [[1,3],[2,2],[3,1]], truckSize = 4\n",
    "Output: 8\n",
    "Explanation: There are:\n",
    "- 1 box of the first type that contains 3 units.\n",
    "- 2 boxes of the second type that contain 2 units each.\n",
    "- 3 boxes of the third type that contain 1 unit each.\n",
    "You can take all the boxes of the first and second types, and one box of the third type.\n",
    "The total number of units will be = (1 * 3) + (2 * 2) + (1 * 1) = 8.\n",
    "Example 2:\n",
    "\n",
    "Input: boxTypes = [[5,10],[2,5],[4,7],[3,9]], truckSize = 10\n",
    "Output: 91\n",
    " \n",
    "\n",
    "Constraints:\n",
    "\n",
    "1 <= boxTypes.length <= 1000\n",
    "1 <= numberOfBoxesi, numberOfUnitsPerBoxi <= 1000\n",
    "1 <= truckSize <= 106"
   ]
  },
  {
   "cell_type": "code",
   "execution_count": 2,
   "metadata": {},
   "outputs": [],
   "source": [
    "def maximumUnits(boxTypes, truckSize):\n",
    "    dct = {}\n",
    "    for box in boxTypes:\n",
    "        if box[1] in dct:\n",
    "            dct[box[1]] += box[0]\n",
    "        else:\n",
    "            dct[box[1]] = box[0]\n",
    "    sort_dct = sorted(dct.items(), reverse=True)\n",
    "\n",
    "    summ = 0\n",
    "    count_box = 0\n",
    "    for s in sort_dct:\n",
    "        if count_box + s[1] > truckSize:\n",
    "            more_box = truckSize - count_box\n",
    "            summ += more_box * s[0]\n",
    "            break\n",
    "        else:\n",
    "            count_box += s[1]\n",
    "            summ += s[1] * s[0]\n",
    "\n",
    "    return summ"
   ]
  },
  {
   "cell_type": "code",
   "execution_count": null,
   "metadata": {},
   "outputs": [],
   "source": []
  },
  {
   "cell_type": "code",
   "execution_count": null,
   "metadata": {},
   "outputs": [],
   "source": []
  },
  {
   "cell_type": "code",
   "execution_count": null,
   "metadata": {},
   "outputs": [],
   "source": []
  }
 ],
 "metadata": {
  "kernelspec": {
   "display_name": "Python 3",
   "language": "python",
   "name": "python3"
  },
  "language_info": {
   "codemirror_mode": {
    "name": "ipython",
    "version": 3
   },
   "file_extension": ".py",
   "mimetype": "text/x-python",
   "name": "python",
   "nbconvert_exporter": "python",
   "pygments_lexer": "ipython3",
   "version": "3.7.5"
  }
 },
 "nbformat": 4,
 "nbformat_minor": 4
}
