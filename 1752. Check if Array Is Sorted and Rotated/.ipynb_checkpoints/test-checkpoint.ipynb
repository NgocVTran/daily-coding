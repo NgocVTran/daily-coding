{
 "cells": [
  {
   "cell_type": "markdown",
   "metadata": {},
   "source": [
    "1752. Check if Array Is Sorted and Rotated\n",
    "Easy\n",
    "\n",
    "197\n",
    "\n",
    "33\n",
    "\n",
    "Add to List\n",
    "\n",
    "Share\n",
    "Given an array nums, return true if the array was originally sorted in non-decreasing order, then rotated some number of positions (including zero). Otherwise, return false.\n",
    "\n",
    "There may be duplicates in the original array.\n",
    "\n",
    "Note: An array A rotated by x positions results in an array B of the same length such that A[i] == B[(i+x) % A.length], where % is the modulo operation.\n",
    "\n",
    " \n",
    "\n",
    "Example 1:\n",
    "\n",
    "Input: nums = [3,4,5,1,2]\n",
    "Output: true\n",
    "Explanation: [1,2,3,4,5] is the original sorted array.\n",
    "You can rotate the array by x = 3 positions to begin on the the element of value 3: [3,4,5,1,2].\n",
    "Example 2:\n",
    "\n",
    "Input: nums = [2,1,3,4]\n",
    "Output: false\n",
    "Explanation: There is no sorted array once rotated that can make nums.\n",
    "Example 3:\n",
    "\n",
    "Input: nums = [1,2,3]\n",
    "Output: true\n",
    "Explanation: [1,2,3] is the original sorted array.\n",
    "You can rotate the array by x = 0 positions (i.e. no rotation) to make nums.\n",
    "Example 4:\n",
    "\n",
    "Input: nums = [1,1,1]\n",
    "Output: true\n",
    "Explanation: [1,1,1] is the original sorted array.\n",
    "You can rotate any number of positions to make nums.\n",
    "Example 5:\n",
    "\n",
    "Input: nums = [2,1]\n",
    "Output: true\n",
    "Explanation: [1,2] is the original sorted array.\n",
    "You can rotate the array by x = 5 positions to begin on the element of value 2: [2,1].\n",
    " \n",
    "\n",
    "Constraints:\n",
    "\n",
    "1 <= nums.length <= 100\n",
    "1 <= nums[i] <= 100"
   ]
  },
  {
   "cell_type": "code",
   "execution_count": 1,
   "metadata": {},
   "outputs": [],
   "source": [
    "def check(nums):\n",
    "    flag = False\n",
    "    for i in range(1, len(nums)):\n",
    "        if nums[i] < nums[i-1]:\n",
    "            if not flag:\n",
    "                flag = True\n",
    "            else:\n",
    "                return False\n",
    "    return (flag and nums[0] >= nums[-1]) or not flag"
   ]
  },
  {
   "cell_type": "code",
   "execution_count": null,
   "metadata": {},
   "outputs": [],
   "source": []
  },
  {
   "cell_type": "code",
   "execution_count": null,
   "metadata": {},
   "outputs": [],
   "source": []
  }
 ],
 "metadata": {
  "kernelspec": {
   "display_name": "Python 3",
   "language": "python",
   "name": "python3"
  },
  "language_info": {
   "codemirror_mode": {
    "name": "ipython",
    "version": 3
   },
   "file_extension": ".py",
   "mimetype": "text/x-python",
   "name": "python",
   "nbconvert_exporter": "python",
   "pygments_lexer": "ipython3",
   "version": "3.7.5"
  }
 },
 "nbformat": 4,
 "nbformat_minor": 4
}
