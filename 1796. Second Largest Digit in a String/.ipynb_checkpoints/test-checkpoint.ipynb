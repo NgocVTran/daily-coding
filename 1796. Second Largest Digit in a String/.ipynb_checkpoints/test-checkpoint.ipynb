{
 "cells": [
  {
   "cell_type": "markdown",
   "metadata": {},
   "source": [
    "Given an alphanumeric string s, return the second largest numerical digit that appears in s, or -1 if it does not exist.\n",
    "\n",
    "An alphanumeric string is a string consisting of lowercase English letters and digits.\n",
    "\n",
    " \n",
    "\n",
    "Example 1:\n",
    "\n",
    "Input: s = \"dfa12321afd\"\n",
    "Output: 2\n",
    "Explanation: The digits that appear in s are [1, 2, 3]. The second largest digit is 2.\n",
    "Example 2:\n",
    "\n",
    "Input: s = \"abc1111\"\n",
    "Output: -1\n",
    "Explanation: The digits that appear in s are [1]. There is no second largest digit. \n",
    " \n",
    "\n",
    "Constraints:\n",
    "\n",
    "1 <= s.length <= 500\n",
    "s consists of only lowercase English letters and/or digits.\n",
    "Accepted\n",
    "11,678\n",
    "Submissions\n",
    "24,396"
   ]
  },
  {
   "cell_type": "code",
   "execution_count": 1,
   "metadata": {},
   "outputs": [],
   "source": [
    "def secondHighest(s):\n",
    "    nrs = []\n",
    "    for char in s:\n",
    "        try:\n",
    "            nrs.append(int(char))\n",
    "        except:\n",
    "            pass\n",
    "\n",
    "    nrs = list(set(nrs))\n",
    "    if len(nrs)<2:\n",
    "        return -1\n",
    "\n",
    "    m = max(nrs)\n",
    "    current = float(\"-inf\")\n",
    "    for nr in nrs:\n",
    "        if (nr>current) and (nr<m):\n",
    "            current = nr\n",
    "\n",
    "    return current"
   ]
  },
  {
   "cell_type": "code",
   "execution_count": null,
   "metadata": {},
   "outputs": [],
   "source": []
  },
  {
   "cell_type": "code",
   "execution_count": null,
   "metadata": {},
   "outputs": [],
   "source": []
  },
  {
   "cell_type": "code",
   "execution_count": null,
   "metadata": {},
   "outputs": [],
   "source": []
  },
  {
   "cell_type": "code",
   "execution_count": null,
   "metadata": {},
   "outputs": [],
   "source": []
  }
 ],
 "metadata": {
  "kernelspec": {
   "display_name": "Python 3",
   "language": "python",
   "name": "python3"
  },
  "language_info": {
   "codemirror_mode": {
    "name": "ipython",
    "version": 3
   },
   "file_extension": ".py",
   "mimetype": "text/x-python",
   "name": "python",
   "nbconvert_exporter": "python",
   "pygments_lexer": "ipython3",
   "version": "3.7.5"
  }
 },
 "nbformat": 4,
 "nbformat_minor": 4
}
