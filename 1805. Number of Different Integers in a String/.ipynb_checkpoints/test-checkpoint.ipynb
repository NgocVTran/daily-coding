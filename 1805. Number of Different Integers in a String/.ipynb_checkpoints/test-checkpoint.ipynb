{
 "cells": [
  {
   "cell_type": "markdown",
   "metadata": {},
   "source": [
    "You are given a string word that consists of digits and lowercase English letters.\n",
    "\n",
    "You will replace every non-digit character with a space. For example, \"a123bc34d8ef34\" will become \" 123  34 8  34\". Notice that you are left with some integers that are separated by at least one space: \"123\", \"34\", \"8\", and \"34\".\n",
    "\n",
    "Return the number of different integers after performing the replacement operations on word.\n",
    "\n",
    "Two integers are considered different if their decimal representations without any leading zeros are different.\n",
    "\n",
    " \n",
    "\n",
    "Example 1:\n",
    "\n",
    "Input: word = \"a123bc34d8ef34\"\n",
    "Output: 3\n",
    "Explanation: The three different integers are \"123\", \"34\", and \"8\". Notice that \"34\" is only counted once.\n",
    "Example 2:\n",
    "\n",
    "Input: word = \"leet1234code234\"\n",
    "Output: 2\n",
    "Example 3:\n",
    "\n",
    "Input: word = \"a1b01c001\"\n",
    "Output: 1\n",
    "Explanation: The three integers \"1\", \"01\", and \"001\" all represent the same integer because\n",
    "the leading zeros are ignored when comparing their decimal values.\n",
    " \n",
    "\n",
    "Constraints:\n",
    "\n",
    "1 <= word.length <= 1000\n",
    "word consists of digits and lowercase English letters.\n",
    "Accepted\n",
    "17,472\n",
    "Submissions\n",
    "37,930"
   ]
  },
  {
   "cell_type": "code",
   "execution_count": 1,
   "metadata": {},
   "outputs": [],
   "source": [
    "def numDifferentIntegers(word):\n",
    "    remove = \"\"\n",
    "    for char in word:\n",
    "        try:\n",
    "            remove += str(int(char))\n",
    "        except:\n",
    "            remove += \" \"\n",
    "\n",
    "    s = remove.split(\" \")\n",
    "    result = []\n",
    "    for nr in s:\n",
    "        try:\n",
    "            result.append(int(nr))\n",
    "        except:\n",
    "            pass\n",
    "\n",
    "    return len(set(result))"
   ]
  },
  {
   "cell_type": "code",
   "execution_count": null,
   "metadata": {},
   "outputs": [],
   "source": []
  },
  {
   "cell_type": "code",
   "execution_count": null,
   "metadata": {},
   "outputs": [],
   "source": []
  },
  {
   "cell_type": "code",
   "execution_count": null,
   "metadata": {},
   "outputs": [],
   "source": []
  }
 ],
 "metadata": {
  "kernelspec": {
   "display_name": "Python 3",
   "language": "python",
   "name": "python3"
  },
  "language_info": {
   "codemirror_mode": {
    "name": "ipython",
    "version": 3
   },
   "file_extension": ".py",
   "mimetype": "text/x-python",
   "name": "python",
   "nbconvert_exporter": "python",
   "pygments_lexer": "ipython3",
   "version": "3.7.5"
  }
 },
 "nbformat": 4,
 "nbformat_minor": 4
}
