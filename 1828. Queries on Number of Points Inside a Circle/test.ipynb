{
 "cells": [
  {
   "cell_type": "markdown",
   "metadata": {},
   "source": [
    "You are given an array points where points[i] = [xi, yi] is the coordinates of the ith point on a 2D plane. Multiple points can have the same coordinates.\n",
    "\n",
    "You are also given an array queries where queries[j] = [xj, yj, rj] describes a circle centered at (xj, yj) with a radius of rj.\n",
    "\n",
    "For each query queries[j], compute the number of points inside the jth circle. Points on the border of the circle are considered inside.\n",
    "\n",
    "Return an array answer, where answer[j] is the answer to the jth query.\n",
    "\n",
    " \n",
    "\n",
    "Example 1:\n",
    "\n",
    "\n",
    "Input: points = [[1,3],[3,3],[5,3],[2,2]], queries = [[2,3,1],[4,3,1],[1,1,2]]\n",
    "Output: [3,2,2]\n",
    "Explanation: The points and circles are shown above.\n",
    "queries[0] is the green circle, queries[1] is the red circle, and queries[2] is the blue circle.\n",
    "Example 2:\n",
    "\n",
    "\n",
    "Input: points = [[1,1],[2,2],[3,3],[4,4],[5,5]], queries = [[1,2,2],[2,2,2],[4,3,2],[4,3,3]]\n",
    "Output: [2,3,2,4]\n",
    "Explanation: The points and circles are shown above.\n",
    "queries[0] is green, queries[1] is red, queries[2] is blue, and queries[3] is purple."
   ]
  },
  {
   "cell_type": "code",
   "execution_count": 40,
   "metadata": {},
   "outputs": [],
   "source": [
    "# brute force\n",
    "def countPoints(points, queries):\n",
    "    result = [0] * len(queries)\n",
    "    for ite,q in enumerate(queries):\n",
    "        for p in points:\n",
    "            if abstand(q[:2],p) <= q[2]**2:\n",
    "                result[ite] += 1\n",
    "        \n",
    "    return result"
   ]
  },
  {
   "cell_type": "code",
   "execution_count": null,
   "metadata": {},
   "outputs": [],
   "source": [
    "def countPoints(points, queries):\n",
    "    result = [[]] * len(queries)\n",
    "    for ite,q in enumerate(queries):\n",
    "        for p in points:\n",
    "            if abstand(q[:2],p) <= q[2]**2:\n",
    "                result[ite] += 1\n",
    "        \n",
    "    return result"
   ]
  },
  {
   "cell_type": "code",
   "execution_count": 41,
   "metadata": {},
   "outputs": [],
   "source": [
    "def abstand(p1,p2):\n",
    "    return (p1[0]-p2[0])**2 + (p1[1]-p2[1])**2"
   ]
  },
  {
   "cell_type": "code",
   "execution_count": 42,
   "metadata": {},
   "outputs": [],
   "source": [
    "points = [[1,1],[2,2],[3,3],[4,4],[5,5]]\n",
    "queries = [[1,2,2],[2,2,2],[4,3,2],[4,3,3]]\n",
    "# Output: [2,3,2,4]"
   ]
  },
  {
   "cell_type": "code",
   "execution_count": 43,
   "metadata": {},
   "outputs": [
    {
     "data": {
      "text/plain": [
       "[2, 3, 2, 4]"
      ]
     },
     "execution_count": 43,
     "metadata": {},
     "output_type": "execute_result"
    }
   ],
   "source": [
    "countPoints(points, queries)"
   ]
  },
  {
   "cell_type": "code",
   "execution_count": 46,
   "metadata": {},
   "outputs": [
    {
     "data": {
      "text/plain": [
       "[[], [], [], []]"
      ]
     },
     "execution_count": 46,
     "metadata": {},
     "output_type": "execute_result"
    }
   ],
   "source": [
    "[[]] * len(queries)"
   ]
  },
  {
   "cell_type": "code",
   "execution_count": null,
   "metadata": {},
   "outputs": [],
   "source": []
  }
 ],
 "metadata": {
  "kernelspec": {
   "display_name": "Python 3",
   "language": "python",
   "name": "python3"
  },
  "language_info": {
   "codemirror_mode": {
    "name": "ipython",
    "version": 3
   },
   "file_extension": ".py",
   "mimetype": "text/x-python",
   "name": "python",
   "nbconvert_exporter": "python",
   "pygments_lexer": "ipython3",
   "version": "3.7.5"
  }
 },
 "nbformat": 4,
 "nbformat_minor": 4
}
