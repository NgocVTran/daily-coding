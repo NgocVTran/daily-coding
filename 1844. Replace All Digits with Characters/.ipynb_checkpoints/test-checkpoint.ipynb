{
 "cells": [
  {
   "cell_type": "markdown",
   "metadata": {},
   "source": [
    "You are given a 0-indexed string s that has lowercase English letters in its even indices and digits in its odd indices.\n",
    "\n",
    "There is a function shift(c, x), where c is a character and x is a digit, that returns the xth character after c.\n",
    "\n",
    "For example, shift('a', 5) = 'f' and shift('x', 0) = 'x'.\n",
    "For every odd index i, you want to replace the digit s[i] with shift(s[i-1], s[i]).\n",
    "\n",
    "Return s after replacing all digits. It is guaranteed that shift(s[i-1], s[i]) will never exceed 'z'.\n",
    "\n",
    " \n",
    "\n",
    "Example 1:\n",
    "\n",
    "Input: s = \"a1c1e1\"\n",
    "Output: \"abcdef\"\n",
    "Explanation: The digits are replaced as follows:\n",
    "- s[1] -> shift('a',1) = 'b'\n",
    "- s[3] -> shift('c',1) = 'd'\n",
    "- s[5] -> shift('e',1) = 'f'\n",
    "Example 2:\n",
    "\n",
    "Input: s = \"a1b2c3d4e\"\n",
    "Output: \"abbdcfdhe\"\n",
    "Explanation: The digits are replaced as follows:\n",
    "- s[1] -> shift('a',1) = 'b'\n",
    "- s[3] -> shift('b',2) = 'd'\n",
    "- s[5] -> shift('c',3) = 'f'\n",
    "- s[7] -> shift('d',4) = 'h'\n",
    " \n",
    "\n",
    "Constraints:\n",
    "\n",
    "1 <= s.length <= 100\n",
    "s consists only of lowercase English letters and digits.\n",
    "shift(s[i-1], s[i]) <= 'z' for all odd indices i."
   ]
  },
  {
   "cell_type": "code",
   "execution_count": 1,
   "metadata": {},
   "outputs": [],
   "source": [
    "def replaceDigits(s):\n",
    "    def shift(char, pos):\n",
    "        return chr(ord(char) + pos)\n",
    "\n",
    "    result = \"\"\n",
    "    for i in range(len(s)):\n",
    "        if i%2 == 1:\n",
    "            result += shift(s[i-1], int(s[i]))\n",
    "        else:\n",
    "            result += s[i]\n",
    "\n",
    "    return result"
   ]
  },
  {
   "cell_type": "code",
   "execution_count": null,
   "metadata": {},
   "outputs": [],
   "source": []
  },
  {
   "cell_type": "code",
   "execution_count": null,
   "metadata": {},
   "outputs": [],
   "source": []
  },
  {
   "cell_type": "code",
   "execution_count": null,
   "metadata": {},
   "outputs": [],
   "source": []
  },
  {
   "cell_type": "code",
   "execution_count": null,
   "metadata": {},
   "outputs": [],
   "source": []
  },
  {
   "cell_type": "code",
   "execution_count": null,
   "metadata": {},
   "outputs": [],
   "source": []
  },
  {
   "cell_type": "code",
   "execution_count": null,
   "metadata": {},
   "outputs": [],
   "source": []
  },
  {
   "cell_type": "code",
   "execution_count": null,
   "metadata": {},
   "outputs": [],
   "source": []
  },
  {
   "cell_type": "code",
   "execution_count": null,
   "metadata": {},
   "outputs": [],
   "source": []
  },
  {
   "cell_type": "code",
   "execution_count": null,
   "metadata": {},
   "outputs": [],
   "source": []
  }
 ],
 "metadata": {
  "kernelspec": {
   "display_name": "Python 3",
   "language": "python",
   "name": "python3"
  },
  "language_info": {
   "codemirror_mode": {
    "name": "ipython",
    "version": 3
   },
   "file_extension": ".py",
   "mimetype": "text/x-python",
   "name": "python",
   "nbconvert_exporter": "python",
   "pygments_lexer": "ipython3",
   "version": "3.7.5"
  }
 },
 "nbformat": 4,
 "nbformat_minor": 4
}
