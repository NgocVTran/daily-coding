{
 "cells": [
  {
   "cell_type": "markdown",
   "metadata": {},
   "source": [
    "Given an integer array nums (0-indexed) and two integers target and start, find an index i such that nums[i] == target and abs(i - start) is minimized. Note that abs(x) is the absolute value of x.\n",
    "\n",
    "Return abs(i - start).\n",
    "\n",
    "It is guaranteed that target exists in nums.\n",
    "\n",
    " \n",
    "\n",
    "Example 1:\n",
    "\n",
    "Input: nums = [1,2,3,4,5], target = 5, start = 3\n",
    "Output: 1\n",
    "Explanation: nums[4] = 5 is the only value equal to target, so the answer is abs(4 - 3) = 1.\n",
    "Example 2:\n",
    "\n",
    "Input: nums = [1], target = 1, start = 0\n",
    "Output: 0\n",
    "Explanation: nums[0] = 1 is the only value equal to target, so the answer is abs(0 - 0) = 0.\n",
    "Example 3:\n",
    "\n",
    "Input: nums = [1,1,1,1,1,1,1,1,1,1], target = 1, start = 0\n",
    "Output: 0\n",
    "Explanation: Every value of nums is 1, but nums[0] minimizes abs(i - start), which is abs(0 - 0) = 0.\n",
    " \n",
    "\n",
    "Constraints:\n",
    "\n",
    "1 <= nums.length <= 1000\n",
    "1 <= nums[i] <= 104\n",
    "0 <= start < nums.length\n",
    "target is in nums."
   ]
  },
  {
   "cell_type": "code",
   "execution_count": 4,
   "metadata": {},
   "outputs": [],
   "source": [
    "def getMinDistance(nums, target, start):\n",
    "    mi = float(\"inf\")\n",
    "    for ite,nr in enumerate(nums):\n",
    "        if nums[ite] == target:\n",
    "            if abs(ite-start)<mi:\n",
    "                mi = abs(ite-start)\n",
    "    return mi\n",
    "#     if mi!=float(\"inf\"):\n",
    "#         return mi\n",
    "#     else: \n",
    "#         return 0"
   ]
  },
  {
   "cell_type": "code",
   "execution_count": 7,
   "metadata": {},
   "outputs": [],
   "source": [
    "nums = [1,2,3,4,5]\n",
    "target = 5\n",
    "start = 3\n",
    "# Output: 1\n",
    "\n",
    "# nums = [1]\n",
    "# target = 1\n",
    "# start = 0\n",
    "# # Output: 0\n",
    "\n",
    "# nums = [1,1,1,1,1,1,1,1,1,1]\n",
    "# target = 1\n",
    "# start = 0\n",
    "# # Output: 0"
   ]
  },
  {
   "cell_type": "code",
   "execution_count": 8,
   "metadata": {},
   "outputs": [
    {
     "data": {
      "text/plain": [
       "0"
      ]
     },
     "execution_count": 8,
     "metadata": {},
     "output_type": "execute_result"
    }
   ],
   "source": [
    "getMinDistance(nums, target, start)"
   ]
  },
  {
   "cell_type": "code",
   "execution_count": null,
   "metadata": {},
   "outputs": [],
   "source": []
  },
  {
   "cell_type": "code",
   "execution_count": null,
   "metadata": {},
   "outputs": [],
   "source": []
  }
 ],
 "metadata": {
  "kernelspec": {
   "display_name": "Python 3",
   "language": "python",
   "name": "python3"
  },
  "language_info": {
   "codemirror_mode": {
    "name": "ipython",
    "version": 3
   },
   "file_extension": ".py",
   "mimetype": "text/x-python",
   "name": "python",
   "nbconvert_exporter": "python",
   "pygments_lexer": "ipython3",
   "version": "3.7.5"
  }
 },
 "nbformat": 4,
 "nbformat_minor": 4
}
