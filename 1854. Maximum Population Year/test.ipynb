{
 "cells": [
  {
   "cell_type": "markdown",
   "metadata": {},
   "source": [
    "You are given a 2D integer array logs where each logs[i] = [birthi, deathi] indicates the birth and death years of the ith person.\n",
    "\n",
    "The population of some year x is the number of people alive during that year. The ith person is counted in year x's population if x is in the inclusive range [birthi, deathi - 1]. Note that the person is not counted in the year that they die.\n",
    "\n",
    "Return the earliest year with the maximum population.\n",
    "\n",
    " \n",
    "\n",
    "Example 1:\n",
    "\n",
    "Input: logs = [[1993,1999],[2000,2010]]\n",
    "Output: 1993\n",
    "Explanation: The maximum population is 1, and 1993 is the earliest year with this population.\n",
    "Example 2:\n",
    "\n",
    "Input: logs = [[1950,1961],[1960,1971],[1970,1981]]\n",
    "Output: 1960\n",
    "Explanation: \n",
    "The maximum population is 2, and it had happened in years 1960 and 1970.\n",
    "The earlier year between them is 1960.\n",
    " \n",
    "\n",
    "Constraints:\n",
    "\n",
    "1 <= logs.length <= 100\n",
    "1950 <= birthi < deathi <= 2050"
   ]
  },
  {
   "cell_type": "code",
   "execution_count": 2,
   "metadata": {},
   "outputs": [],
   "source": [
    "def maximumPopulation(logs):\n",
    "    year_pop = {}\n",
    "\n",
    "    for i in logs:\n",
    "        for year in range(i[0],i[1]):\n",
    "            if year in year_pop:\n",
    "                year_pop[year] += 1\n",
    "            else:\n",
    "                year_pop[year] = 1\n",
    "\n",
    "    sort = sorted([k for k,v in year_pop.items() if v==max(year_pop.values())])\n",
    "    return sort[0]"
   ]
  },
  {
   "cell_type": "code",
   "execution_count": null,
   "metadata": {},
   "outputs": [],
   "source": []
  }
 ],
 "metadata": {
  "kernelspec": {
   "display_name": "Python 3",
   "language": "python",
   "name": "python3"
  },
  "language_info": {
   "codemirror_mode": {
    "name": "ipython",
    "version": 3
   },
   "file_extension": ".py",
   "mimetype": "text/x-python",
   "name": "python",
   "nbconvert_exporter": "python",
   "pygments_lexer": "ipython3",
   "version": "3.7.5"
  }
 },
 "nbformat": 4,
 "nbformat_minor": 4
}
