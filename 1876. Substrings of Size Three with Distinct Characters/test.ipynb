{
 "cells": [
  {
   "cell_type": "markdown",
   "metadata": {},
   "source": [
    "A string is good if there are no repeated characters.\n",
    "\n",
    "Given a string s​​​​​, return the number of good substrings of length three in s​​​​​​.\n",
    "\n",
    "Note that if there are multiple occurrences of the same substring, every occurrence should be counted.\n",
    "\n",
    "A substring is a contiguous sequence of characters in a string.\n",
    "\n",
    " \n",
    "\n",
    "Example 1:\n",
    "\n",
    "Input: s = \"xyzzaz\"\n",
    "Output: 1\n",
    "Explanation: There are 4 substrings of size 3: \"xyz\", \"yzz\", \"zza\", and \"zaz\". \n",
    "The only good substring of length 3 is \"xyz\".\n",
    "Example 2:\n",
    "\n",
    "Input: s = \"aababcabc\"\n",
    "Output: 4\n",
    "Explanation: There are 7 substrings of size 3: \"aab\", \"aba\", \"bab\", \"abc\", \"bca\", \"cab\", and \"abc\".\n",
    "The good substrings are \"abc\", \"bca\", \"cab\", and \"abc\".\n",
    " \n",
    "\n",
    "Constraints:\n",
    "\n",
    "1 <= s.length <= 100\n",
    "s​​​​​​ consists of lowercase English letters.\n"
   ]
  },
  {
   "cell_type": "code",
   "execution_count": 24,
   "metadata": {},
   "outputs": [],
   "source": [
    "def countGoodSubstrings(s):\n",
    "    count = 0\n",
    "    if len(s)<3:\n",
    "        return 0\n",
    "    \n",
    "    i = 2\n",
    "    while i<len(s):\n",
    "        if (s[i] != s[i-1]) and (s[i] != s[i-2]) and (s[i-1] != s[i-2]):\n",
    "            count += 1\n",
    "            print(s[i], i)\n",
    "#         else: \n",
    "#             i += 1\n",
    "        i += 1\n",
    "    \n",
    "    return count"
   ]
  },
  {
   "cell_type": "code",
   "execution_count": 25,
   "metadata": {},
   "outputs": [],
   "source": [
    "# s = \"xyzzaz\"\n",
    "# # Output: 1\n",
    "\n",
    "s = \"aababcabc\"\n",
    "# Output: 4"
   ]
  },
  {
   "cell_type": "code",
   "execution_count": 26,
   "metadata": {},
   "outputs": [
    {
     "name": "stdout",
     "output_type": "stream",
     "text": [
      "c 5\n",
      "a 6\n",
      "b 7\n",
      "c 8\n"
     ]
    },
    {
     "data": {
      "text/plain": [
       "4"
      ]
     },
     "execution_count": 26,
     "metadata": {},
     "output_type": "execute_result"
    }
   ],
   "source": [
    "countGoodSubstrings(s)"
   ]
  },
  {
   "cell_type": "code",
   "execution_count": null,
   "metadata": {},
   "outputs": [],
   "source": []
  }
 ],
 "metadata": {
  "kernelspec": {
   "display_name": "Python 3",
   "language": "python",
   "name": "python3"
  },
  "language_info": {
   "codemirror_mode": {
    "name": "ipython",
    "version": 3
   },
   "file_extension": ".py",
   "mimetype": "text/x-python",
   "name": "python",
   "nbconvert_exporter": "python",
   "pygments_lexer": "ipython3",
   "version": "3.7.5"
  }
 },
 "nbformat": 4,
 "nbformat_minor": 4
}
