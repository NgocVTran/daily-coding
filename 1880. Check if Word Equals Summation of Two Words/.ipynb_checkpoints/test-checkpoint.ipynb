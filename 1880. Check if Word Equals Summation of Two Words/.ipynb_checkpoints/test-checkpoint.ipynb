{
 "cells": [
  {
   "cell_type": "markdown",
   "metadata": {},
   "source": [
    "The letter value of a letter is its position in the alphabet starting from 0 (i.e. 'a' -> 0, 'b' -> 1, 'c' -> 2, etc.).\n",
    "\n",
    "The numerical value of some string of lowercase English letters s is the concatenation of the letter values of each letter in s, which is then converted into an integer.\n",
    "\n",
    "For example, if s = \"acb\", we concatenate each letter's letter value, resulting in \"021\". After converting it, we get 21.\n",
    "You are given three strings firstWord, secondWord, and targetWord, each consisting of lowercase English letters 'a' through 'j' inclusive.\n",
    "\n",
    "Return true if the summation of the numerical values of firstWord and secondWord equals the numerical value of targetWord, or false otherwise.\n",
    "\n",
    " \n",
    "\n",
    "Example 1:\n",
    "\n",
    "Input: firstWord = \"acb\", secondWord = \"cba\", targetWord = \"cdb\"\n",
    "Output: true\n",
    "Explanation:\n",
    "The numerical value of firstWord is \"acb\" -> \"021\" -> 21.\n",
    "The numerical value of secondWord is \"cba\" -> \"210\" -> 210.\n",
    "The numerical value of targetWord is \"cdb\" -> \"231\" -> 231.\n",
    "We return true because 21 + 210 == 231.\n",
    "Example 2:\n",
    "\n",
    "Input: firstWord = \"aaa\", secondWord = \"a\", targetWord = \"aab\"\n",
    "Output: false\n",
    "Explanation: \n",
    "The numerical value of firstWord is \"aaa\" -> \"000\" -> 0.\n",
    "The numerical value of secondWord is \"a\" -> \"0\" -> 0.\n",
    "The numerical value of targetWord is \"aab\" -> \"001\" -> 1.\n",
    "We return false because 0 + 0 != 1.\n",
    "Example 3:\n",
    "\n",
    "Input: firstWord = \"aaa\", secondWord = \"a\", targetWord = \"aaaa\"\n",
    "Output: true\n",
    "Explanation: \n",
    "The numerical value of firstWord is \"aaa\" -> \"000\" -> 0.\n",
    "The numerical value of secondWord is \"a\" -> \"0\" -> 0.\n",
    "The numerical value of targetWord is \"aaaa\" -> \"0000\" -> 0.\n",
    "We return true because 0 + 0 == 0.\n",
    " \n",
    "\n",
    "Constraints:\n",
    "\n",
    "1 <= firstWord.length, secondWord.length, targetWord.length <= 8\n",
    "firstWord, secondWord, and targetWord consist of lowercase English letters from 'a' to 'j' inclusive."
   ]
  },
  {
   "cell_type": "code",
   "execution_count": 26,
   "metadata": {},
   "outputs": [],
   "source": [
    "def isSumEqual(firstWord, secondWord, targetWord):\n",
    "    \n",
    "    matching = {chr(i):str(i-97) for i in range(97,123,1)}\n",
    "    firstNr = \"\".join(matching[i] for i in firstWord)\n",
    "    secondNr = \"\".join(matching[i] for i in secondWord)\n",
    "    targetNr = \"\".join(matching[i] for i in targetWord)\n",
    "\n",
    "    print(firstNr, secondNr, targetNr)\n",
    "    \n",
    "    return int(firstNr) + int(secondNr) == int(targetNr)"
   ]
  },
  {
   "cell_type": "code",
   "execution_count": 27,
   "metadata": {},
   "outputs": [],
   "source": [
    "firstWord = \"acb\"\n",
    "secondWord = \"cba\"\n",
    "targetWord = \"cdb\"\n",
    "# Output: true\n",
    "\n",
    "# firstWord = \"aaa\"\n",
    "# secondWord = \"a\"\n",
    "# targetWord = \"aab\"\n",
    "# # Output: false\n",
    "\n",
    "# firstWord = \"aaa\"\n",
    "# secondWord = \"a\"\n",
    "# targetWord = \"aaaa\"\n",
    "# # Output: true"
   ]
  },
  {
   "cell_type": "code",
   "execution_count": 28,
   "metadata": {},
   "outputs": [
    {
     "name": "stdout",
     "output_type": "stream",
     "text": [
      "021 210 231\n"
     ]
    },
    {
     "data": {
      "text/plain": [
       "True"
      ]
     },
     "execution_count": 28,
     "metadata": {},
     "output_type": "execute_result"
    }
   ],
   "source": [
    "isSumEqual(firstWord, secondWord, targetWord)"
   ]
  },
  {
   "cell_type": "code",
   "execution_count": 10,
   "metadata": {},
   "outputs": [
    {
     "data": {
      "text/plain": [
       "'z'"
      ]
     },
     "execution_count": 10,
     "metadata": {},
     "output_type": "execute_result"
    }
   ],
   "source": [
    "# chr(97)\n",
    "chr(122)"
   ]
  },
  {
   "cell_type": "code",
   "execution_count": 7,
   "metadata": {},
   "outputs": [
    {
     "data": {
      "text/plain": [
       "97"
      ]
     },
     "execution_count": 7,
     "metadata": {},
     "output_type": "execute_result"
    }
   ],
   "source": [
    "ord(\"a\")"
   ]
  },
  {
   "cell_type": "code",
   "execution_count": null,
   "metadata": {},
   "outputs": [],
   "source": []
  }
 ],
 "metadata": {
  "kernelspec": {
   "display_name": "Python 3",
   "language": "python",
   "name": "python3"
  },
  "language_info": {
   "codemirror_mode": {
    "name": "ipython",
    "version": 3
   },
   "file_extension": ".py",
   "mimetype": "text/x-python",
   "name": "python",
   "nbconvert_exporter": "python",
   "pygments_lexer": "ipython3",
   "version": "3.7.5"
  }
 },
 "nbformat": 4,
 "nbformat_minor": 4
}
