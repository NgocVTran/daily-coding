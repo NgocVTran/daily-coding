{
 "cells": [
  {
   "cell_type": "markdown",
   "metadata": {},
   "source": [
    "Given a 0-indexed integer array nums, return true if it can be made strictly increasing after removing exactly one element, or false otherwise. If the array is already strictly increasing, return true.\n",
    "\n",
    "The array nums is strictly increasing if nums[i - 1] < nums[i] for each index (1 <= i < nums.length).\n",
    "\n",
    " \n",
    "\n",
    "Example 1:\n",
    "\n",
    "Input: nums = [1,2,10,5,7]\n",
    "Output: true\n",
    "Explanation: By removing 10 at index 2 from nums, it becomes [1,2,5,7].\n",
    "[1,2,5,7] is strictly increasing, so return true.\n",
    "Example 2:\n",
    "\n",
    "Input: nums = [2,3,1,2]\n",
    "Output: false\n",
    "Explanation:\n",
    "[3,1,2] is the result of removing the element at index 0.\n",
    "[2,1,2] is the result of removing the element at index 1.\n",
    "[2,3,2] is the result of removing the element at index 2.\n",
    "[2,3,1] is the result of removing the element at index 3.\n",
    "No resulting array is strictly increasing, so return false.\n",
    "Example 3:\n",
    "\n",
    "Input: nums = [1,1,1]\n",
    "Output: false\n",
    "Explanation: The result of removing any element is [1,1].\n",
    "[1,1] is not strictly increasing, so return false.\n",
    "Example 4:\n",
    "\n",
    "Input: nums = [1,2,3]\n",
    "Output: true\n",
    "Explanation: [1,2,3] is already strictly increasing, so return true.\n",
    " \n",
    "\n",
    "Constraints:\n",
    "\n",
    "2 <= nums.length <= 1000\n",
    "1 <= nums[i] <= 1000\n"
   ]
  },
  {
   "cell_type": "code",
   "execution_count": 4,
   "metadata": {},
   "outputs": [],
   "source": [
    "def canBeIncreasing(nums):\n",
    "    n = len(nums)\n",
    "    if n < 3:\n",
    "        return True\n",
    "    \n",
    "    count = 0\n",
    "    for i in range(n-2):\n",
    "        if nums[i] > nums[i+1]:\n",
    "            # if nums[itk]\n",
    "        \n",
    "    return count == 1"
   ]
  },
  {
   "cell_type": "code",
   "execution_count": 5,
   "metadata": {},
   "outputs": [],
   "source": [
    "nums = [1,2,10,5,7]\n",
    "# Output: true\n",
    "\n",
    "# nums = [2,3,1,2]\n",
    "# # Output: false\n",
    "\n",
    "# nums = [1,1,1]\n",
    "# # Output: false\n",
    "\n",
    "# nums = [1,1]\n",
    "# # Output: true\n",
    "\n",
    "# nums = [100,21,100]\n",
    "# # Output: true\n",
    "\n",
    "# nums = [105,924,32,968]\n",
    "# # Output: true"
   ]
  },
  {
   "cell_type": "code",
   "execution_count": 6,
   "metadata": {},
   "outputs": [
    {
     "data": {
      "text/plain": [
       "True"
      ]
     },
     "execution_count": 6,
     "metadata": {},
     "output_type": "execute_result"
    }
   ],
   "source": [
    "canBeIncreasing(nums)"
   ]
  },
  {
   "cell_type": "code",
   "execution_count": null,
   "metadata": {},
   "outputs": [],
   "source": []
  },
  {
   "cell_type": "code",
   "execution_count": null,
   "metadata": {},
   "outputs": [],
   "source": []
  }
 ],
 "metadata": {
  "kernelspec": {
   "display_name": "Python 3",
   "language": "python",
   "name": "python3"
  },
  "language_info": {
   "codemirror_mode": {
    "name": "ipython",
    "version": 3
   },
   "file_extension": ".py",
   "mimetype": "text/x-python",
   "name": "python",
   "nbconvert_exporter": "python",
   "pygments_lexer": "ipython3",
   "version": "3.7.5"
  }
 },
 "nbformat": 4,
 "nbformat_minor": 4
}
