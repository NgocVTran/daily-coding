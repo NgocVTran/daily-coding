{
 "cells": [
  {
   "cell_type": "markdown",
   "metadata": {},
   "source": [
    "The product difference between two pairs (a, b) and (c, d) is defined as (a * b) - (c * d).\n",
    "\n",
    "For example, the product difference between (5, 6) and (2, 7) is (5 * 6) - (2 * 7) = 16.\n",
    "Given an integer array nums, choose four distinct indices w, x, y, and z such that the product difference between pairs (nums[w], nums[x]) and (nums[y], nums[z]) is maximized.\n",
    "\n",
    "Return the maximum such product difference.\n",
    "\n",
    " \n",
    "\n",
    "Example 1:\n",
    "\n",
    "Input: nums = [5,6,2,7,4]\n",
    "Output: 34\n",
    "Explanation: We can choose indices 1 and 3 for the first pair (6, 7) and indices 2 and 4 for the second pair (2, 4).\n",
    "The product difference is (6 * 7) - (2 * 4) = 34.\n",
    "Example 2:\n",
    "\n",
    "Input: nums = [4,2,5,9,7,4,8]\n",
    "Output: 64\n",
    "Explanation: We can choose indices 3 and 6 for the first pair (9, 8) and indices 1 and 5 for the second pair (2, 4).\n",
    "The product difference is (9 * 8) - (2 * 4) = 64.\n",
    " \n",
    "\n",
    "Constraints:\n",
    "\n",
    "4 <= nums.length <= 104\n",
    "1 <= nums[i] <= 104"
   ]
  },
  {
   "cell_type": "code",
   "execution_count": 3,
   "metadata": {},
   "outputs": [],
   "source": [
    "def maxProductDifference(nums):\n",
    "#     sort = sorted(nums)\n",
    "#     return sort[-1]*sort[-2] - sort[0]*sort[1]\n",
    "\n",
    "    # O(n) solution\n",
    "    min1 = min2 = float('inf')\n",
    "    max1 = max2 = float('-inf')\n",
    "    for n in nums:\n",
    "        if n <= min1:\n",
    "            min1, min2, = n, min1\n",
    "        elif n < min2:\n",
    "            min2 = n\n",
    "        if n >= max1:\n",
    "            max1, max2 = n, max1\n",
    "        elif n > max2:\n",
    "            max2 = n\n",
    "    return max1*max2-min1*min2"
   ]
  },
  {
   "cell_type": "code",
   "execution_count": 6,
   "metadata": {},
   "outputs": [],
   "source": [
    "nums = [5,6,2,7,4]\n",
    "# Output: 34\n",
    "\n",
    "# nums = [4,2,5,9,7,4,8]\n",
    "# # Output: 64"
   ]
  },
  {
   "cell_type": "code",
   "execution_count": 7,
   "metadata": {},
   "outputs": [
    {
     "data": {
      "text/plain": [
       "34"
      ]
     },
     "execution_count": 7,
     "metadata": {},
     "output_type": "execute_result"
    }
   ],
   "source": [
    "maxProductDifference(nums)"
   ]
  },
  {
   "cell_type": "code",
   "execution_count": null,
   "metadata": {},
   "outputs": [],
   "source": []
  }
 ],
 "metadata": {
  "kernelspec": {
   "display_name": "Python 3",
   "language": "python",
   "name": "python3"
  },
  "language_info": {
   "codemirror_mode": {
    "name": "ipython",
    "version": 3
   },
   "file_extension": ".py",
   "mimetype": "text/x-python",
   "name": "python",
   "nbconvert_exporter": "python",
   "pygments_lexer": "ipython3",
   "version": "3.7.5"
  }
 },
 "nbformat": 4,
 "nbformat_minor": 4
}
