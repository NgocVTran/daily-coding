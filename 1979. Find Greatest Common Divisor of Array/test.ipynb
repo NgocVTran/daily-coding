{
 "cells": [
  {
   "cell_type": "markdown",
   "id": "40c58b63",
   "metadata": {},
   "source": [
    "Given an integer array nums, return the greatest common divisor of the smallest number and largest number in nums.\n",
    "\n",
    "The greatest common divisor of two numbers is the largest positive integer that evenly divides both numbers.\n",
    "\n",
    " \n",
    "\n",
    "Example 1:\n",
    "\n",
    "Input: nums = [2,5,6,9,10]\n",
    "Output: 2\n",
    "Explanation:\n",
    "The smallest number in nums is 2.\n",
    "The largest number in nums is 10.\n",
    "The greatest common divisor of 2 and 10 is 2.\n",
    "Example 2:\n",
    "\n",
    "Input: nums = [7,5,6,8,3]\n",
    "Output: 1\n",
    "Explanation:\n",
    "The smallest number in nums is 3.\n",
    "The largest number in nums is 8.\n",
    "The greatest common divisor of 3 and 8 is 1.\n",
    "Example 3:\n",
    "\n",
    "Input: nums = [3,3]\n",
    "Output: 3\n",
    "Explanation:\n",
    "The smallest number in nums is 3.\n",
    "The largest number in nums is 3.\n",
    "The greatest common divisor of 3 and 3 is 3."
   ]
  },
  {
   "cell_type": "code",
   "execution_count": 1,
   "id": "34c2ae88",
   "metadata": {},
   "outputs": [],
   "source": [
    "def findGCD(nums):\n",
    "    min_nr = float(\"inf\")\n",
    "    max_nr = -float(\"inf\")\n",
    "    for nr in nums:\n",
    "        if nr>max_nr:\n",
    "            max_nr = nr\n",
    "        if nr<min_nr:\n",
    "            min_nr = nr\n",
    "    \n",
    "    \n",
    "    while min_nr != 0:\n",
    "        (max_nr, min_nr) = (min_nr, max_nr % min_nr)\n",
    "\n",
    "        \n",
    "        \n",
    "    return max_nr"
   ]
  },
  {
   "cell_type": "code",
   "execution_count": 4,
   "id": "1dadbeb8",
   "metadata": {},
   "outputs": [],
   "source": [
    "# nums = [2,5,6,9,10]\n",
    "# # Output: 2\n",
    "\n",
    "# nums = [7,5,6,8,3]\n",
    "# # Output: 1\n",
    "\n",
    "# nums = [3,3]\n",
    "# # Output: 3"
   ]
  },
  {
   "cell_type": "code",
   "execution_count": 5,
   "id": "6bcc278b",
   "metadata": {},
   "outputs": [
    {
     "data": {
      "text/plain": [
       "1"
      ]
     },
     "execution_count": 5,
     "metadata": {},
     "output_type": "execute_result"
    }
   ],
   "source": [
    "findGCD(nums)"
   ]
  },
  {
   "cell_type": "code",
   "execution_count": null,
   "id": "b36f35c0",
   "metadata": {},
   "outputs": [],
   "source": []
  }
 ],
 "metadata": {
  "kernelspec": {
   "display_name": "Python 3 (ipykernel)",
   "language": "python",
   "name": "python3"
  },
  "language_info": {
   "codemirror_mode": {
    "name": "ipython",
    "version": 3
   },
   "file_extension": ".py",
   "mimetype": "text/x-python",
   "name": "python",
   "nbconvert_exporter": "python",
   "pygments_lexer": "ipython3",
   "version": "3.9.7"
  }
 },
 "nbformat": 4,
 "nbformat_minor": 5
}
