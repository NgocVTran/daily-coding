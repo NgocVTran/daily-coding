{
 "cells": [
  {
   "cell_type": "markdown",
   "id": "9b3237e4",
   "metadata": {},
   "source": [
    "Given an integer array nums and an integer k, return the number of pairs (i, j) where i < j such that |nums[i] - nums[j]| == k.\n",
    "\n",
    "The value of |x| is defined as:\n",
    "\n",
    "x if x >= 0.\n",
    "-x if x < 0.\n",
    " \n",
    "\n",
    "Example 1:\n",
    "\n",
    "Input: nums = [1,2,2,1], k = 1\n",
    "Output: 4\n",
    "Explanation: The pairs with an absolute difference of 1 are:\n",
    "- [1,2,2,1]\n",
    "- [1,2,2,1]\n",
    "- [1,2,2,1]\n",
    "- [1,2,2,1]\n",
    "Example 2:\n",
    "\n",
    "Input: nums = [1,3], k = 3\n",
    "Output: 0\n",
    "Explanation: There are no pairs with an absolute difference of 3.\n",
    "Example 3:\n",
    "\n",
    "Input: nums = [3,2,1,5,4], k = 2\n",
    "Output: 3\n",
    "Explanation: The pairs with an absolute difference of 2 are:\n",
    "- [3,2,1,5,4]\n",
    "- [3,2,1,5,4]\n",
    "- [3,2,1,5,4]\n",
    " \n",
    "\n",
    "Constraints:\n",
    "\n",
    "1 <= nums.length <= 200\n",
    "1 <= nums[i] <= 100\n",
    "1 <= k <= 99\n",
    "Accepted\n",
    "17,203\n",
    "Submissions\n",
    "20,415"
   ]
  },
  {
   "cell_type": "code",
   "execution_count": 4,
   "id": "2b42a10e",
   "metadata": {},
   "outputs": [],
   "source": [
    "def countKDifference(nums, k):\n",
    "    count = 0\n",
    "    for i in range(len(nums)):\n",
    "        for j in range(i+1, len(nums)):\n",
    "            if abs(nums[i] - nums[j]) == k:\n",
    "                count += 1\n",
    "    return count"
   ]
  },
  {
   "cell_type": "code",
   "execution_count": 33,
   "id": "fd66bc22",
   "metadata": {},
   "outputs": [],
   "source": [
    "def countKDifference(nums, k):\n",
    "    count = 0\n",
    "    \n",
    "    dct = {}\n",
    "    for i in nums:\n",
    "        if i in dct:\n",
    "            dct[i] += 1\n",
    "        else:\n",
    "            dct[i] = 1\n",
    "    \n",
    "    for key,v in dct.items():\n",
    "        if key+k in dct:\n",
    "            count += dct[key] * dct[key+k]\n",
    "    return count"
   ]
  },
  {
   "cell_type": "code",
   "execution_count": 38,
   "id": "4bb8d7d3",
   "metadata": {},
   "outputs": [],
   "source": [
    "# nums = [1,2,2,1]\n",
    "# k = 1\n",
    "# # Output: 4\n",
    "\n",
    "# nums = [1,3]\n",
    "# k = 3\n",
    "# # Output: 0\n",
    "\n",
    "nums = [3,2,1,5,4]\n",
    "k = 2\n",
    "# Output: 3"
   ]
  },
  {
   "cell_type": "code",
   "execution_count": 39,
   "id": "ed593f5b",
   "metadata": {},
   "outputs": [
    {
     "name": "stdout",
     "output_type": "stream",
     "text": [
      "{3: 1, 2: 1, 1: 1, 5: 1, 4: 1}\n",
      "3 ok\n",
      "2 ok\n",
      "1 ok\n"
     ]
    },
    {
     "data": {
      "text/plain": [
       "3"
      ]
     },
     "execution_count": 39,
     "metadata": {},
     "output_type": "execute_result"
    }
   ],
   "source": [
    "countKDifference(nums, k)"
   ]
  },
  {
   "cell_type": "code",
   "execution_count": null,
   "id": "9b8b1a69",
   "metadata": {},
   "outputs": [],
   "source": []
  },
  {
   "cell_type": "code",
   "execution_count": null,
   "id": "46b36d19",
   "metadata": {},
   "outputs": [],
   "source": []
  },
  {
   "cell_type": "code",
   "execution_count": null,
   "id": "fbd11014",
   "metadata": {},
   "outputs": [],
   "source": []
  }
 ],
 "metadata": {
  "kernelspec": {
   "display_name": "Python 3 (ipykernel)",
   "language": "python",
   "name": "python3"
  },
  "language_info": {
   "codemirror_mode": {
    "name": "ipython",
    "version": 3
   },
   "file_extension": ".py",
   "mimetype": "text/x-python",
   "name": "python",
   "nbconvert_exporter": "python",
   "pygments_lexer": "ipython3",
   "version": "3.9.7"
  }
 },
 "nbformat": 4,
 "nbformat_minor": 5
}
