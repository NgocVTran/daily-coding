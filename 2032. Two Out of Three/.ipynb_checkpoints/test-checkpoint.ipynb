{
 "cells": [
  {
   "cell_type": "markdown",
   "id": "6d9f25f7",
   "metadata": {},
   "source": [
    "Given three integer arrays nums1, nums2, and nums3, return a distinct array containing all the values that are present in at least two out of the three arrays. You may return the values in any order.\n",
    " \n",
    "\n",
    "Example 1:\n",
    "\n",
    "Input: nums1 = [1,1,3,2], nums2 = [2,3], nums3 = [3]\n",
    "Output: [3,2]\n",
    "Explanation: The values that are present in at least two arrays are:\n",
    "- 3, in all three arrays.\n",
    "- 2, in nums1 and nums2.\n",
    "Example 2:\n",
    "\n",
    "Input: nums1 = [3,1], nums2 = [2,3], nums3 = [1,2]\n",
    "Output: [2,3,1]\n",
    "Explanation: The values that are present in at least two arrays are:\n",
    "- 2, in nums2 and nums3.\n",
    "- 3, in nums1 and nums2.\n",
    "- 1, in nums1 and nums3.\n",
    "Example 3:\n",
    "\n",
    "Input: nums1 = [1,2,2], nums2 = [4,3,3], nums3 = [5]\n",
    "Output: []\n",
    "Explanation: No value is present in at least two arrays.\n",
    " \n",
    "\n",
    "Constraints:\n",
    "\n",
    "1 <= nums1.length, nums2.length, nums3.length <= 100\n",
    "1 <= nums1[i], nums2[j], nums3[k] <= 100\n"
   ]
  },
  {
   "cell_type": "code",
   "execution_count": 31,
   "id": "1ee3a51f",
   "metadata": {},
   "outputs": [],
   "source": [
    "def twoOutOfThree(nums1, nums2, nums3):\n",
    "    nums = set(nums1 + nums2 + nums3)\n",
    "    \n",
    "    result = []\n",
    "    for nr in nums:\n",
    "        if (nr in set(nums1) and nr in set(nums2)) or (nr in set(nums2) and nr in set(nums3)) or (nr in set(nums1) and nr in set(nums3)):\n",
    "            result.append(nr)\n",
    "    \n",
    "    return result"
   ]
  },
  {
   "cell_type": "code",
   "execution_count": 46,
   "id": "1b97a393",
   "metadata": {},
   "outputs": [],
   "source": [
    "def twoOutOfThree(nums1, nums2, nums3):\n",
    "    result = []\n",
    "    for nr in nums1:\n",
    "        if nr in set(nums2) or nr in set(nums3):\n",
    "            result.append(nr)\n",
    "    \n",
    "    for nr in nums2:\n",
    "        if nr in set(nums3):\n",
    "            result.append(nr)\n",
    "    \n",
    "    for nr in nums3:\n",
    "        if nr in set(nums1):\n",
    "            result.append(nr)\n",
    "    \n",
    "    \n",
    "    return list(set(result))"
   ]
  },
  {
   "cell_type": "code",
   "execution_count": 47,
   "id": "75c4dd16",
   "metadata": {},
   "outputs": [],
   "source": [
    "nums1 = [1,1,3,2]\n",
    "nums2 = [2,3]\n",
    "nums3 = [3]\n",
    "# Output: [3,2]\n",
    "\n",
    "nums1 = [3,1]\n",
    "nums2 = [2,3]\n",
    "nums3 = [1,2]\n",
    "# Output: [2,3,1]\n",
    "\n",
    "# nums1 = [1,2,2]\n",
    "# nums2 = [4,3,3]\n",
    "# nums3 = [5]\n",
    "# # Output: []"
   ]
  },
  {
   "cell_type": "code",
   "execution_count": 48,
   "id": "e266a880",
   "metadata": {},
   "outputs": [
    {
     "data": {
      "text/plain": [
       "[1, 2, 3]"
      ]
     },
     "execution_count": 48,
     "metadata": {},
     "output_type": "execute_result"
    }
   ],
   "source": [
    "twoOutOfThree(nums1, nums2, nums3)"
   ]
  },
  {
   "cell_type": "code",
   "execution_count": null,
   "id": "c6d7907a",
   "metadata": {},
   "outputs": [],
   "source": []
  },
  {
   "cell_type": "code",
   "execution_count": null,
   "id": "e7d6a777",
   "metadata": {},
   "outputs": [],
   "source": []
  }
 ],
 "metadata": {
  "kernelspec": {
   "display_name": "Python 3 (ipykernel)",
   "language": "python",
   "name": "python3"
  },
  "language_info": {
   "codemirror_mode": {
    "name": "ipython",
    "version": 3
   },
   "file_extension": ".py",
   "mimetype": "text/x-python",
   "name": "python",
   "nbconvert_exporter": "python",
   "pygments_lexer": "ipython3",
   "version": "3.9.7"
  }
 },
 "nbformat": 4,
 "nbformat_minor": 5
}
