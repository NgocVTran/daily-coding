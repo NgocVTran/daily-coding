{
 "cells": [
  {
   "cell_type": "markdown",
   "metadata": {},
   "source": [
    "Given an integer n, return an array ans of length n + 1 such that for each i (0 <= i <= n), ans[i] is the number of 1's in the binary representation of i.\n",
    "\n",
    " \n",
    "\n",
    "Example 1:\n",
    "\n",
    "Input: n = 2\n",
    "Output: [0,1,1]\n",
    "Explanation:\n",
    "0 --> 0\n",
    "1 --> 1\n",
    "2 --> 10\n",
    "Example 2:\n",
    "\n",
    "Input: n = 5\n",
    "Output: [0,1,1,2,1,2]\n",
    "Explanation:\n",
    "0 --> 0\n",
    "1 --> 1\n",
    "2 --> 10\n",
    "3 --> 11\n",
    "4 --> 100\n",
    "5 --> 101\n",
    " \n",
    "\n",
    "Constraints:\n",
    "\n",
    "0 <= n <= 105\n",
    " \n",
    "\n",
    "Follow up:\n",
    "\n",
    "It is very easy to come up with a solution with a runtime of O(n log n). Can you do it in linear time O(n) and possibly in a single pass?\n",
    "Can you do it without using any built-in function (i.e., like __builtin_popcount in C++)?"
   ]
  },
  {
   "cell_type": "code",
   "execution_count": 63,
   "metadata": {},
   "outputs": [],
   "source": [
    "def countBits(n):\n",
    "    res = [0]\n",
    "    while len(res) <= n:\n",
    "        print(res)\n",
    "        res += [i+1 for i in res]\n",
    "    print(res)\n",
    "    return res[:n+1]"
   ]
  },
  {
   "cell_type": "code",
   "execution_count": null,
   "metadata": {},
   "outputs": [],
   "source": [
    "def countBits(n):\n",
    "    setBits = [0] * (num+1)\n",
    "    # (i & (i -1)) is actually Brian Kernighan’s Algorithm, so always keep it handy for counting ones\n",
    "    for i in range(1 ,num+1):\n",
    "        setBits[i] = setBits[i & (i-1)] + 1\n",
    "    return setBits"
   ]
  },
  {
   "cell_type": "code",
   "execution_count": null,
   "metadata": {},
   "outputs": [],
   "source": [
    "# i= 1 ( 1 &  0 =  0)     1 &     0 =     0  n_ones =  1\n",
    "# i= 2 ( 2 &  1 =  0)    10 &     1 =     0  n_ones =  1\n",
    "# i= 3 ( 3 &  2 =  2)    11 &    10 =    10  n_ones =  2\n",
    "# i= 4 ( 4 &  3 =  0)   100 &    11 =     0  n_ones =  1\n",
    "# i= 5 ( 5 &  4 =  4)   101 &   100 =   100  n_ones =  2\n",
    "# i= 6 ( 6 &  5 =  4)   110 &   101 =   100  n_ones =  2\n",
    "# i= 7 ( 7 &  6 =  6)   111 &   110 =   110  n_ones =  3\n",
    "# i= 8 ( 8 &  7 =  0)  1000 &   111 =     0  n_ones =  1\n",
    "# i= 9 ( 9 &  8 =  8)  1001 &  1000 =  1000  n_ones =  2\n",
    "# i=10 (10 &  9 =  8)  1010 &  1001 =  1000  n_ones =  2\n",
    "# i=11 (11 & 10 = 10)  1011 &  1010 =  1010  n_ones =  3\n",
    "# i=12 (12 & 11 =  8)  1100 &  1011 =  1000  n_ones =  2\n",
    "# i=13 (13 & 12 = 12)  1101 &  1100 =  1100  n_ones =  3\n",
    "# i=14 (14 & 13 = 12)  1110 &  1101 =  1100  n_ones =  3\n",
    "# i=15 (15 & 14 = 14)  1111 &  1110 =  1110  n_ones =  4\n",
    "# i=16 (16 & 15 =  0) 10000 &  1111 =     0  n_ones =  1\n",
    "# i=17 (17 & 16 = 16) 10001 & 10000 = 10000  n_ones =  2\n",
    "# i=18 (18 & 17 = 16) 10010 & 10001 = 10000  n_ones =  2\n",
    "# i=19 (19 & 18 = 18) 10011 & 10010 = 10010  n_ones =  3\n",
    "# i=20 (20 & 19 = 16) 10100 & 10011 = 10000  n_ones =  2\n",
    "# Simple Observation\n",
    "\n",
    "# What is the meaning of (i & (i-1))? We are doing a bit-wise-and (masking) of i versus the previous number i-1. Since these two numbers are exactly off by 1, they will always have different 1-bits. 1 & 0 or 0 & 1 is always 0. So the masking will throw out the one-bit, which means we will always calculate an even number for our lookup.\n",
    "\n",
    "# Why does Kernighan's Algorithm work?\n",
    "\n",
    "# For the purpose of this discussion, let's define stable bits as the upper bits that don't change and unstable bits as the lower bits that do change as we go from i-1 to i. By definition, we will see all 1's in the stable bits. By observation, we see all 0's in the unstable bits, except one 1 (this is why we add one to the stable bits lookup to find our answer). This is the nature of addition. It's a consequence of the carry bit as you add one to any number. You will end up with zero or more upper bits that don't change (stable bits) and at least one unstable lower bit.\n",
    "\n",
    "# For example, let's observe what happens when we go from i - 1 = 13 to i = 14. 13 is 0b1101. When we add 1 to it to get 14 or 0b1110. There are two upper stable bits 0b11. In the unstable lower bits, we go from 01 to 10 due to one carry. We can observe that there is always exactly one 1 in the unstable lower bits.\n",
    "\n",
    "# This is why we use the upper stable bits for our lookup and then add one to get our answer. This is true for all numbers - you can try with other examples in the table to convince yourself.\n",
    "\n",
    "# Now, there's no way you can figure this out in an exam or an interview. It takes some time just to understand and appreciate why this works. To actually invent this DP algorithm, you might have to be god-like - we're talking about Kernighan, after all!"
   ]
  },
  {
   "cell_type": "code",
   "execution_count": 66,
   "metadata": {},
   "outputs": [],
   "source": [
    "n = 2\n",
    "# Output: [0,1,1]\n",
    "    \n",
    "n = 5\n",
    "# Output: [0,1,1,2,1,2]"
   ]
  },
  {
   "cell_type": "code",
   "execution_count": 67,
   "metadata": {},
   "outputs": [
    {
     "name": "stdout",
     "output_type": "stream",
     "text": [
      "[0]\n",
      "[0, 1]\n",
      "[0, 1, 1, 2]\n",
      "[0, 1, 1, 2, 1, 2, 2, 3]\n"
     ]
    },
    {
     "data": {
      "text/plain": [
       "[0, 1, 1, 2, 1, 2]"
      ]
     },
     "execution_count": 67,
     "metadata": {},
     "output_type": "execute_result"
    }
   ],
   "source": [
    "countBits(n)"
   ]
  },
  {
   "cell_type": "code",
   "execution_count": 16,
   "metadata": {},
   "outputs": [
    {
     "data": {
      "text/plain": [
       "[0, 0, 1, 0]"
      ]
     },
     "execution_count": 16,
     "metadata": {},
     "output_type": "execute_result"
    }
   ],
   "source": [
    "n = 4\n",
    "[(n>>k)&1 for k in range(0,n)]"
   ]
  },
  {
   "cell_type": "code",
   "execution_count": 25,
   "metadata": {},
   "outputs": [
    {
     "data": {
      "text/plain": [
       "[0, 0, 0, 0]"
      ]
     },
     "execution_count": 25,
     "metadata": {},
     "output_type": "execute_result"
    }
   ],
   "source": [
    "n = 4\n",
    "[(n>>k)&1 for k in range(0,n)]"
   ]
  },
  {
   "cell_type": "code",
   "execution_count": 29,
   "metadata": {},
   "outputs": [
    {
     "data": {
      "text/plain": [
       "1"
      ]
     },
     "execution_count": 29,
     "metadata": {},
     "output_type": "execute_result"
    }
   ],
   "source": [
    "(n>>2)&1"
   ]
  },
  {
   "cell_type": "code",
   "execution_count": 30,
   "metadata": {},
   "outputs": [
    {
     "data": {
      "text/plain": [
       "1"
      ]
     },
     "execution_count": 30,
     "metadata": {},
     "output_type": "execute_result"
    }
   ],
   "source": [
    "n>>2"
   ]
  },
  {
   "cell_type": "code",
   "execution_count": 44,
   "metadata": {},
   "outputs": [
    {
     "name": "stdout",
     "output_type": "stream",
     "text": [
      "4 2\n",
      "4 2\n",
      "4 2\n",
      "4 2\n"
     ]
    }
   ],
   "source": [
    "n = 4\n",
    "for k in range(n):\n",
    "    print(n, n//2)\n",
    "    n = n//2*2"
   ]
  },
  {
   "cell_type": "code",
   "execution_count": 35,
   "metadata": {},
   "outputs": [],
   "source": [
    "n=4"
   ]
  },
  {
   "cell_type": "code",
   "execution_count": null,
   "metadata": {},
   "outputs": [],
   "source": []
  }
 ],
 "metadata": {
  "kernelspec": {
   "display_name": "Python 3",
   "language": "python",
   "name": "python3"
  },
  "language_info": {
   "codemirror_mode": {
    "name": "ipython",
    "version": 3
   },
   "file_extension": ".py",
   "mimetype": "text/x-python",
   "name": "python",
   "nbconvert_exporter": "python",
   "pygments_lexer": "ipython3",
   "version": "3.7.5"
  }
 },
 "nbformat": 4,
 "nbformat_minor": 4
}
