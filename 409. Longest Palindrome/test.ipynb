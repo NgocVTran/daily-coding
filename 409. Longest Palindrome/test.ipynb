{
 "cells": [
  {
   "cell_type": "markdown",
   "metadata": {},
   "source": [
    "Given a string which consists of lowercase or uppercase letters, find the length of the longest palindromes that can be built with those letters.\n",
    "\n",
    "This is case sensitive, for example \"Aa\" is not considered a palindrome here.\n",
    "\n",
    "Note:\n",
    "Assume the length of given string will not exceed 1,010.\n",
    "\n",
    "Example:\n",
    "\n",
    "Input:\n",
    "\"abccccdd\"\n",
    "\n",
    "Output:\n",
    "7\n",
    "\n",
    "Explanation:\n",
    "One longest palindrome that can be built is \"dccaccd\", whose length is 7."
   ]
  },
  {
   "cell_type": "code",
   "execution_count": 56,
   "metadata": {},
   "outputs": [],
   "source": [
    "def longestPalindrome(s):\n",
    "    count = {}\n",
    "    for i in s:\n",
    "        if i in count:\n",
    "            count[i] += 1\n",
    "        else:\n",
    "            count[i] = 1\n",
    "    print(count)\n",
    "    \n",
    "    result = 0\n",
    "    max_odd = 0\n",
    "    for k,v in count.items():\n",
    "        if v%2 == 0:\n",
    "            result += v\n",
    "            print(k,v)\n",
    "        if v%2 != 0 and v>max_odd:\n",
    "            max_odd = v\n",
    "            \n",
    "    print(max_odd)\n",
    "    return result + max_odd"
   ]
  },
  {
   "cell_type": "code",
   "execution_count": 57,
   "metadata": {},
   "outputs": [],
   "source": [
    "# s = \"abccccdd\"\n",
    "# # Output: 7\n",
    "\n",
    "# s = \"ccc\" # 3\n",
    "\n",
    "s = \"civilwartestingwhetherthatnaptionoranynartionsoconceivedandsodedicatedcanlongendureWeareqmetonagreatbattlefiemldoftzhatwarWehavecometodedicpateaportionofthatfieldasafinalrestingplaceforthosewhoheregavetheirlivesthatthatnationmightliveItisaltogetherfangandproperthatweshoulddothisButinalargersensewecannotdedicatewecannotconsecratewecannothallowthisgroundThebravelmenlivinganddeadwhostruggledherehaveconsecrateditfaraboveourpoorponwertoaddordetractTgheworldadswfilllittlenotlenorlongrememberwhatwesayherebutitcanneverforgetwhattheydidhereItisforusthelivingrathertobededicatedheretotheulnfinishedworkwhichtheywhofoughtherehavethusfarsonoblyadvancedItisratherforustobeherededicatedtothegreattdafskremainingbeforeusthatfromthesehonoreddeadwetakeincreaseddevotiontothatcauseforwhichtheygavethelastpfullmeasureofdevotionthatweherehighlyresolvethatthesedeadshallnothavediedinvainthatthisnationunsderGodshallhaveanewbirthoffreedomandthatgovernmentofthepeoplebythepeopleforthepeopleshallnotperishfromtheearth\"\n",
    "# 983"
   ]
  },
  {
   "cell_type": "code",
   "execution_count": 58,
   "metadata": {},
   "outputs": [
    {
     "name": "stdout",
     "output_type": "stream",
     "text": [
      "{'c': 25, 'i': 53, 'v': 22, 'l': 41, 'w': 23, 'a': 87, 'r': 67, 't': 106, 'e': 142, 's': 40, 'n': 61, 'g': 23, 'h': 74, 'p': 16, 'o': 78, 'y': 8, 'd': 52, 'u': 17, 'W': 2, 'q': 1, 'm': 13, 'b': 11, 'f': 26, 'z': 1, 'I': 3, 'B': 1, 'T': 2, 'k': 3, 'G': 1}\n",
      "v 22\n",
      "t 106\n",
      "e 142\n",
      "s 40\n",
      "h 74\n",
      "p 16\n",
      "o 78\n",
      "y 8\n",
      "d 52\n",
      "W 2\n",
      "f 26\n",
      "T 2\n",
      "87\n"
     ]
    },
    {
     "data": {
      "text/plain": [
       "655"
      ]
     },
     "execution_count": 58,
     "metadata": {},
     "output_type": "execute_result"
    }
   ],
   "source": [
    "longestPalindrome(s)"
   ]
  },
  {
   "cell_type": "markdown",
   "metadata": {},
   "source": [
    "### solution"
   ]
  },
  {
   "cell_type": "markdown",
   "metadata": {},
   "source": [
    "if the number of chars is odd, then we can use (number-1) of this char"
   ]
  },
  {
   "cell_type": "code",
   "execution_count": 40,
   "metadata": {},
   "outputs": [],
   "source": [
    "def longestPalindrome(s):\n",
    "#     dic = collections.Counter(s)\n",
    "    count = {}\n",
    "    for i in s:\n",
    "        if i in count:\n",
    "            count[i] += 1\n",
    "        else:\n",
    "            count[i] = 1\n",
    "    print(count)\n",
    "    \n",
    "    res = 0\n",
    "    flag = False\n",
    "    for key, val in count.items():\n",
    "        if val % 2 == 0:\n",
    "            res += val\n",
    "        else:\n",
    "            \n",
    "            if flag:\n",
    "                res += val-1\n",
    "                print(key,val, \"true\")\n",
    "            else:\n",
    "                flag = True\n",
    "                res += val\n",
    "                print(key,val, \"false\")\n",
    "    return res"
   ]
  },
  {
   "cell_type": "code",
   "execution_count": 41,
   "metadata": {},
   "outputs": [
    {
     "name": "stdout",
     "output_type": "stream",
     "text": [
      "{'c': 25, 'i': 53, 'v': 22, 'l': 41, 'w': 23, 'a': 87, 'r': 67, 't': 106, 'e': 142, 's': 40, 'n': 61, 'g': 23, 'h': 74, 'p': 16, 'o': 78, 'y': 8, 'd': 52, 'u': 17, 'W': 2, 'q': 1, 'm': 13, 'b': 11, 'f': 26, 'z': 1, 'I': 3, 'B': 1, 'T': 2, 'k': 3, 'G': 1}\n",
      "c 25 false\n",
      "i 53 true\n",
      "l 41 true\n",
      "w 23 true\n",
      "a 87 true\n",
      "r 67 true\n",
      "n 61 true\n",
      "g 23 true\n",
      "u 17 true\n",
      "q 1 true\n",
      "m 13 true\n",
      "b 11 true\n",
      "z 1 true\n",
      "I 3 true\n",
      "B 1 true\n",
      "k 3 true\n",
      "G 1 true\n"
     ]
    },
    {
     "data": {
      "text/plain": [
       "983"
      ]
     },
     "execution_count": 41,
     "metadata": {},
     "output_type": "execute_result"
    }
   ],
   "source": [
    "longestPalindrome(s)"
   ]
  },
  {
   "cell_type": "code",
   "execution_count": 50,
   "metadata": {},
   "outputs": [],
   "source": [
    "import collections\n",
    "def test(s):\n",
    "    print(collections.Counter(s).values())\n",
    "    for v in collections.Counter(s).values():\n",
    "        print(v & 1)\n",
    "    odds = sum(v & 1 for v in collections.Counter(s).values())\n",
    "    return len(s) - odds + bool(odds)"
   ]
  },
  {
   "cell_type": "code",
   "execution_count": 51,
   "metadata": {},
   "outputs": [
    {
     "name": "stdout",
     "output_type": "stream",
     "text": [
      "dict_values([25, 53, 22, 41, 23, 87, 67, 106, 142, 40, 61, 23, 74, 16, 78, 8, 52, 17, 2, 1, 13, 11, 26, 1, 3, 1, 2, 3, 1])\n",
      "1\n",
      "1\n",
      "0\n",
      "1\n",
      "1\n",
      "1\n",
      "1\n",
      "0\n",
      "0\n",
      "0\n",
      "1\n",
      "1\n",
      "0\n",
      "0\n",
      "0\n",
      "0\n",
      "0\n",
      "1\n",
      "0\n",
      "1\n",
      "1\n",
      "1\n",
      "0\n",
      "1\n",
      "1\n",
      "1\n",
      "0\n",
      "1\n",
      "1\n"
     ]
    },
    {
     "data": {
      "text/plain": [
       "983"
      ]
     },
     "execution_count": 51,
     "metadata": {},
     "output_type": "execute_result"
    }
   ],
   "source": [
    "test(s)"
   ]
  },
  {
   "cell_type": "code",
   "execution_count": 52,
   "metadata": {},
   "outputs": [
    {
     "data": {
      "text/plain": [
       "1"
      ]
     },
     "execution_count": 52,
     "metadata": {},
     "output_type": "execute_result"
    }
   ],
   "source": [
    "53 & 1"
   ]
  },
  {
   "cell_type": "code",
   "execution_count": null,
   "metadata": {},
   "outputs": [],
   "source": []
  },
  {
   "cell_type": "code",
   "execution_count": null,
   "metadata": {},
   "outputs": [],
   "source": []
  }
 ],
 "metadata": {
  "kernelspec": {
   "display_name": "Python 3",
   "language": "python",
   "name": "python3"
  },
  "language_info": {
   "codemirror_mode": {
    "name": "ipython",
    "version": 3
   },
   "file_extension": ".py",
   "mimetype": "text/x-python",
   "name": "python",
   "nbconvert_exporter": "python",
   "pygments_lexer": "ipython3",
   "version": "3.7.5"
  }
 },
 "nbformat": 4,
 "nbformat_minor": 4
}
