{
 "cells": [
  {
   "cell_type": "markdown",
   "metadata": {},
   "source": [
    "Winter is coming! Your first job during the contest is to design a standard heater with fixed warm radius to warm all the houses.\n",
    "\n",
    "Now, you are given positions of houses and heaters on a horizontal line, find out minimum radius of heaters so that all houses could be covered by those heaters.\n",
    "\n",
    "So, your input will be the positions of houses and heaters seperately, and your expected output will be the minimum radius standard of heaters.\n",
    "\n",
    "Note:\n",
    "\n",
    "Numbers of houses and heaters you are given are non-negative and will not exceed 25000.\n",
    "Positions of houses and heaters you are given are non-negative and will not exceed 10^9.\n",
    "As long as a house is in the heaters' warm radius range, it can be warmed.\n",
    "All the heaters follow your radius standard and the warm radius will the same.\n",
    " \n",
    "\n",
    "Example 1:\n",
    "\n",
    "Input: [1,2,3],[2]\n",
    "Output: 1\n",
    "Explanation: The only heater was placed in the position 2, and if we use the radius 1 standard, then all the houses can be warmed.\n",
    " \n",
    "\n",
    "Example 2:\n",
    "\n",
    "Input: [1,2,3,4],[1,4]\n",
    "Output: 1\n",
    "Explanation: The two heater was placed in the position 1 and 4. We need to use radius 1 standard, then all the houses can be warmed."
   ]
  },
  {
   "cell_type": "code",
   "execution_count": 1,
   "metadata": {},
   "outputs": [],
   "source": [
    "def findRadius(houses, heaters):\n",
    "    houses.sort()\n",
    "    heaters.sort()\n",
    "    j,radius = 0,0\n",
    "    for house in houses:\n",
    "        while j+1 < len(heaters) and abs(heaters[j+1]-house) <= abs(heaters[j]-house):\n",
    "            j += 1\n",
    "        radius = max(radius,abs(heaters[j]-house))\n",
    "    return radius\n",
    "    \n",
    "    return"
   ]
  },
  {
   "cell_type": "markdown",
   "metadata": {},
   "source": [
    "Intuitively, we want to figure out the closest heater for each house. And then we collect those distance and pick the maximum.\n",
    "\n",
    "So if we sorted the heaters first, then we can use binary search each house on heaters array to find the closest heaters. We can add two pivots (-∞, +∞) at two ends to handle border issue."
   ]
  },
  {
   "cell_type": "code",
   "execution_count": null,
   "metadata": {},
   "outputs": [],
   "source": [
    "def findRadius(houses, heaters):\n",
    "    houses.sort()\n",
    "    return"
   ]
  },
  {
   "cell_type": "code",
   "execution_count": null,
   "metadata": {},
   "outputs": [],
   "source": [
    "house = [1,2,3]\n",
    "heaters = [2]\n",
    "# Output: 1\n",
    "    \n",
    "# house = [1,2,3,4]\n",
    "# heater = [1,4]\n",
    "# # Output: 1"
   ]
  },
  {
   "cell_type": "code",
   "execution_count": null,
   "metadata": {},
   "outputs": [],
   "source": []
  },
  {
   "cell_type": "code",
   "execution_count": null,
   "metadata": {},
   "outputs": [],
   "source": []
  }
 ],
 "metadata": {
  "kernelspec": {
   "display_name": "Python 3",
   "language": "python",
   "name": "python3"
  },
  "language_info": {
   "codemirror_mode": {
    "name": "ipython",
    "version": 3
   },
   "file_extension": ".py",
   "mimetype": "text/x-python",
   "name": "python",
   "nbconvert_exporter": "python",
   "pygments_lexer": "ipython3",
   "version": "3.7.5"
  }
 },
 "nbformat": 4,
 "nbformat_minor": 4
}
