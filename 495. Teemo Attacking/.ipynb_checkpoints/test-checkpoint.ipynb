{
 "cells": [
  {
   "cell_type": "markdown",
   "metadata": {},
   "source": [
    "Our hero Teemo is attacking an enemy Ashe with poison attacks! When Teemo attacks Ashe, Ashe gets poisoned for a exactly duration seconds. More formally, an attack at second t will mean Ashe is poisoned during the inclusive time interval [t, t + duration - 1]. If Teemo attacks again before the poison effect ends, the timer for it is reset, and the poison effect will end duration seconds after the new attack.\n",
    "\n",
    "You are given a non-decreasing integer array timeSeries, where timeSeries[i] denotes that Teemo attacks Ashe at second timeSeries[i], and an integer duration.\n",
    "\n",
    "Return the total number of seconds that Ashe is poisoned.\n",
    "\n",
    " \n",
    "\n",
    "Example 1:\n",
    "\n",
    "Input: timeSeries = [1,4], duration = 2\n",
    "Output: 4\n",
    "Explanation: Teemo's attacks on Ashe go as follows:\n",
    "- At second 1, Teemo attacks, and Ashe is poisoned for seconds 1 and 2.\n",
    "- At second 4, Teemo attacks, and Ashe is poisoned for seconds 4 and 5.\n",
    "Ashe is poisoned for seconds 1, 2, 4, and 5, which is 4 seconds in total.\n",
    "Example 2:\n",
    "\n",
    "Input: timeSeries = [1,2], duration = 2\n",
    "Output: 3\n",
    "Explanation: Teemo's attacks on Ashe go as follows:\n",
    "- At second 1, Teemo attacks, and Ashe is poisoned for seconds 1 and 2.\n",
    "- At second 2 however, Teemo attacks again and resets the poison timer. Ashe is poisoned for seconds 2 and 3.\n",
    "Ashe is poisoned for seconds 1, 2, and 3, which is 3 seconds in total."
   ]
  },
  {
   "cell_type": "code",
   "execution_count": 41,
   "metadata": {},
   "outputs": [],
   "source": [
    "def findPoisonedDuration(timeSeries, duration):\n",
    "    total_time = 0\n",
    "    for ite,nr in enumerate(timeSeries):\n",
    "        if ite<len(timeSeries)-1:\n",
    "            if nr + duration >= timeSeries[ite+1]:\n",
    "                total_time += timeSeries[ite+1] - nr\n",
    "            else:\n",
    "                total_time += duration \n",
    "        else:\n",
    "            total_time += duration \n",
    "    return total_time"
   ]
  },
  {
   "cell_type": "code",
   "execution_count": 44,
   "metadata": {},
   "outputs": [],
   "source": [
    "# timeSeries = [1,4]\n",
    "# duration = 2\n",
    "# # Output: 4\n",
    "\n",
    "timeSeries = [1,2]\n",
    "duration = 2\n",
    "# Output: 3"
   ]
  },
  {
   "cell_type": "code",
   "execution_count": 45,
   "metadata": {},
   "outputs": [
    {
     "data": {
      "text/plain": [
       "3"
      ]
     },
     "execution_count": 45,
     "metadata": {},
     "output_type": "execute_result"
    }
   ],
   "source": [
    "findPoisonedDuration(timeSeries, duration)"
   ]
  },
  {
   "cell_type": "code",
   "execution_count": 21,
   "metadata": {},
   "outputs": [],
   "source": [
    "a = [1,2]\n",
    "b = [3,4,5]"
   ]
  },
  {
   "cell_type": "code",
   "execution_count": 22,
   "metadata": {},
   "outputs": [
    {
     "data": {
      "text/plain": [
       "[1, 2, 3, 4, 5]"
      ]
     },
     "execution_count": 22,
     "metadata": {},
     "output_type": "execute_result"
    }
   ],
   "source": [
    "a+b"
   ]
  },
  {
   "cell_type": "code",
   "execution_count": 25,
   "metadata": {},
   "outputs": [
    {
     "data": {
      "text/plain": [
       "[2, 3]"
      ]
     },
     "execution_count": 25,
     "metadata": {},
     "output_type": "execute_result"
    }
   ],
   "source": [
    "c = list(range(2,4,1))\n",
    "c"
   ]
  },
  {
   "cell_type": "code",
   "execution_count": null,
   "metadata": {},
   "outputs": [],
   "source": []
  },
  {
   "cell_type": "code",
   "execution_count": null,
   "metadata": {},
   "outputs": [],
   "source": []
  }
 ],
 "metadata": {
  "kernelspec": {
   "display_name": "Python 3",
   "language": "python",
   "name": "python3"
  },
  "language_info": {
   "codemirror_mode": {
    "name": "ipython",
    "version": 3
   },
   "file_extension": ".py",
   "mimetype": "text/x-python",
   "name": "python",
   "nbconvert_exporter": "python",
   "pygments_lexer": "ipython3",
   "version": "3.7.5"
  }
 },
 "nbformat": 4,
 "nbformat_minor": 4
}
