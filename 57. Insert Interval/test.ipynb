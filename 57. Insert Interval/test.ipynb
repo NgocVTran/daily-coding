{
 "cells": [
  {
   "cell_type": "markdown",
   "metadata": {},
   "source": [
    "Given a set of non-overlapping intervals, insert a new interval into the intervals (merge if necessary).\n",
    "\n",
    "You may assume that the intervals were initially sorted according to their start times.\n",
    "\n",
    "Example 1:\n",
    "\n",
    "Input: intervals = [[1,3],[6,9]], newInterval = [2,5]\n",
    "Output: [[1,5],[6,9]]\n",
    "Example 2:\n",
    "\n",
    "Input: intervals = [[1,2],[3,5],[6,7],[8,10],[12,16]], newInterval = [4,8]\n",
    "Output: [[1,2],[3,10],[12,16]]\n",
    "Explanation: Because the new interval [4,8] overlaps with [3,5],[6,7],[8,10]."
   ]
  },
  {
   "cell_type": "code",
   "execution_count": 88,
   "metadata": {},
   "outputs": [],
   "source": [
    "def insert(intervals, newInterval):\n",
    "    res, i = [], -1\n",
    "    for i, (x, y) in enumerate(intervals):\n",
    "        if y < newInterval[0]:\n",
    "            res.append([x, y])\n",
    "        elif newInterval[1] < x:\n",
    "            i -= 1\n",
    "            break\n",
    "        else:\n",
    "            newInterval[0] = min(newInterval[0], x)\n",
    "            newInterval[1] = max(newInterval[1], y)\n",
    "\n",
    "    return res + [newInterval] + intervals[i+1:]"
   ]
  },
  {
   "cell_type": "code",
   "execution_count": 89,
   "metadata": {},
   "outputs": [],
   "source": [
    "# intervals = [[1,2],[3,5],[6,7],[8,10],[12,16]]\n",
    "# newInterval = [4,8]\n",
    "# # Output: [[1,2],[3,10],[12,16]]\n",
    "\n",
    "intervals = [[1,3],[6,9]]\n",
    "newInterval = [2,5]\n",
    "# Output: [[1,5],[6,9]]\n",
    "\n",
    "# intervals = [[]]\n",
    "# newInterval = [5,7]\n",
    "# # output: [[5,7]]\n",
    "\n",
    "# intervals = []\n",
    "# newInterval = [5,7]\n",
    "# # output: [[5,7]]\n",
    "\n",
    "# intervals = [[1,5]]\n",
    "# newInterval = [2,3]\n",
    "# # Output: [[1,5]]\n",
    "\n",
    "# intervals = [[1,5]]\n",
    "# newInterval = [6,8]\n",
    "# # Output: [[1,5],[6,8]]"
   ]
  },
  {
   "cell_type": "code",
   "execution_count": 90,
   "metadata": {},
   "outputs": [
    {
     "data": {
      "text/plain": [
       "[[1, 5], [6, 9]]"
      ]
     },
     "execution_count": 90,
     "metadata": {},
     "output_type": "execute_result"
    }
   ],
   "source": [
    "insert(intervals, newInterval)"
   ]
  },
  {
   "cell_type": "code",
   "execution_count": 93,
   "metadata": {},
   "outputs": [],
   "source": [
    "def insert(intervals, newInterval):\n",
    "    result = []\n",
    "    ite = -1\n",
    "    \n",
    "    for ite, (x,y) in enumerate(intervals):\n",
    "        if y < newInterval[0]:\n",
    "            result.append([x,y])\n",
    "        elif newInterval[1] < x:\n",
    "            ite = ite-1\n",
    "            break\n",
    "        else:\n",
    "            newInterval[0] = min(newInterval[0], x)\n",
    "            newInterval[1] = max(newInterval[1], y)\n",
    "    return result + [newInterval] + intervals[ite+1:]"
   ]
  },
  {
   "cell_type": "code",
   "execution_count": 94,
   "metadata": {},
   "outputs": [
    {
     "data": {
      "text/plain": [
       "[[1, 5], [6, 9]]"
      ]
     },
     "execution_count": 94,
     "metadata": {},
     "output_type": "execute_result"
    }
   ],
   "source": [
    "insert(intervals, newInterval)"
   ]
  },
  {
   "cell_type": "code",
   "execution_count": null,
   "metadata": {},
   "outputs": [],
   "source": []
  },
  {
   "cell_type": "code",
   "execution_count": null,
   "metadata": {},
   "outputs": [],
   "source": []
  }
 ],
 "metadata": {
  "kernelspec": {
   "display_name": "Python 3",
   "language": "python",
   "name": "python3"
  },
  "language_info": {
   "codemirror_mode": {
    "name": "ipython",
    "version": 3
   },
   "file_extension": ".py",
   "mimetype": "text/x-python",
   "name": "python",
   "nbconvert_exporter": "python",
   "pygments_lexer": "ipython3",
   "version": "3.7.5"
  }
 },
 "nbformat": 4,
 "nbformat_minor": 4
}
