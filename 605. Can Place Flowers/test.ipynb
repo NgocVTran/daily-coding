{
 "cells": [
  {
   "cell_type": "markdown",
   "metadata": {},
   "source": [
    "Suppose you have a long flowerbed in which some of the plots are planted and some are not. However, flowers cannot be planted in adjacent plots - they would compete for water and both would die.\n",
    "\n",
    "Given a flowerbed (represented as an array containing 0 and 1, where 0 means empty and 1 means not empty), and a number n, return if n new flowers can be planted in it without violating the no-adjacent-flowers rule.\n",
    "\n",
    "Example 1:\n",
    "Input: flowerbed = [1,0,0,0,1], n = 1\n",
    "Output: True\n",
    "Example 2:\n",
    "Input: flowerbed = [1,0,0,0,1], n = 2\n",
    "Output: False"
   ]
  },
  {
   "cell_type": "code",
   "execution_count": null,
   "metadata": {},
   "outputs": [],
   "source": [
    "# flowerbed = [1,0,0,0,1]\n",
    "# n = 1\n",
    "# # Output: True\n",
    "\n",
    "# flowerbed = [1,0,0,0,1]\n",
    "# n = 2\n",
    "# # Output: False\n",
    "\n",
    "# flowerbed = [1,0,0,0,1,0,0,0,0,0,1,0,1,0,0,1]\n",
    "# n = 1\n",
    "# # Output: True\n",
    "\n",
    "# flowerbed = [0,0,1,0,1,0,0,0,0,0]\n",
    "# n = 1\n",
    "# # Output: True\n",
    "\n",
    "# flowerbed = [1,0,0,0,1,0,0]\n",
    "# n = 2\n",
    "# # true\n",
    "\n",
    "flowerbed = [0]\n",
    "n = 1\n",
    "# true"
   ]
  },
  {
   "cell_type": "code",
   "execution_count": null,
   "metadata": {},
   "outputs": [],
   "source": [
    "plan = 0\n",
    "\n",
    "if flowerbed[0]==0 and flowerbed[1]==0:\n",
    "    flowerbed[0] = 1\n",
    "    plan = plan+1\n",
    "if flowerbed[-1]==0 and flowerbed[-2]==0:\n",
    "    flowerbed[-1] = 1\n",
    "    plan = plan+1\n",
    "\n",
    "for ite in range(len(flowerbed)-3):\n",
    "    if (flowerbed[ite+1]==0) and (flowerbed[ite+2]==0) and (flowerbed[ite+3]==0):\n",
    "        print(ite)\n",
    "        flowerbed[ite+2] = 1\n",
    "        plan = plan+1"
   ]
  },
  {
   "cell_type": "code",
   "execution_count": null,
   "metadata": {},
   "outputs": [],
   "source": [
    "flowerbed"
   ]
  },
  {
   "cell_type": "code",
   "execution_count": null,
   "metadata": {},
   "outputs": [],
   "source": [
    "plan"
   ]
  },
  {
   "cell_type": "code",
   "execution_count": null,
   "metadata": {},
   "outputs": [],
   "source": [
    "flowerbed[-2]"
   ]
  },
  {
   "cell_type": "code",
   "execution_count": 9,
   "metadata": {},
   "outputs": [],
   "source": [
    "# flowerbed = [0,0,1,0,0]\n",
    "# n = 1\n",
    "flowerbed = [1,0,0,0,1]\n",
    "n = 1"
   ]
  },
  {
   "cell_type": "code",
   "execution_count": 7,
   "metadata": {},
   "outputs": [],
   "source": [
    "def canPlaceFlowers(flowerbed, n):\n",
    "    plan = 0\n",
    "\n",
    "    if len(flowerbed)>=2:\n",
    "        if flowerbed[0]==0 and flowerbed[1]==0:\n",
    "            flowerbed[0] = 1\n",
    "            plan = plan+1\n",
    "        if flowerbed[-1]==0 and flowerbed[-2]==0:\n",
    "            flowerbed[-1] = 1\n",
    "            plan = plan+1\n",
    "    else:\n",
    "        if flowerbed[0]==0:\n",
    "            flowerbed[0] = 1\n",
    "            plan = plan+1\n",
    "\n",
    "    for ite in range(len(flowerbed)-3):\n",
    "        if (flowerbed[ite+1]==0) and (flowerbed[ite+2]==0) and (flowerbed[ite+3]==0):\n",
    "            flowerbed[ite+2] = 1\n",
    "            plan = plan+1\n",
    "                \n",
    "    print(flowerbed, plan, n)\n",
    "    \n",
    "    if plan>=n:\n",
    "        return True\n",
    "    else:\n",
    "        return False"
   ]
  },
  {
   "cell_type": "code",
   "execution_count": 8,
   "metadata": {},
   "outputs": [
    {
     "name": "stdout",
     "output_type": "stream",
     "text": [
      "[1, 0, 1, 0, 1] 1 1\n"
     ]
    },
    {
     "data": {
      "text/plain": [
       "True"
      ]
     },
     "execution_count": 8,
     "metadata": {},
     "output_type": "execute_result"
    }
   ],
   "source": [
    "canPlaceFlowers(flowerbed, n)"
   ]
  },
  {
   "cell_type": "code",
   "execution_count": null,
   "metadata": {},
   "outputs": [],
   "source": []
  },
  {
   "cell_type": "markdown",
   "metadata": {},
   "source": [
    "### solution\n",
    "\n",
    "try to syntax"
   ]
  },
  {
   "cell_type": "markdown",
   "metadata": {},
   "source": [
    "count number of 0s by 'slots'.\n",
    "\n",
    "number of flowers could be places between two 1s is (slots - 1) // 2 for the middle,\n",
    "\n",
    "and slots // 2 for the two ends (the boundaries are indeed viewed as 0)"
   ]
  },
  {
   "cell_type": "code",
   "execution_count": null,
   "metadata": {},
   "outputs": [],
   "source": [
    "# flowerbed = [0,0,1,0,0]\n",
    "# n = 1\n",
    "flowerbed = [1,0,0,0,1]\n",
    "n = 1"
   ]
  },
  {
   "cell_type": "code",
   "execution_count": null,
   "metadata": {},
   "outputs": [],
   "source": [
    "def canPlaceFlowers(flowerbed, n):\n",
    "    slots = 1\n",
    "    for x in flowerbed:\n",
    "        if x == 1:\n",
    "            n -= max(0, (slots - 1)) // 2\n",
    "            slots = 0\n",
    "            if n <= 0: return True\n",
    "        else:\n",
    "            slots += 1\n",
    "\n",
    "    return n - slots // 2 <= 0        "
   ]
  },
  {
   "cell_type": "code",
   "execution_count": null,
   "metadata": {},
   "outputs": [],
   "source": [
    "canPlaceFlowers(flowerbed, n)"
   ]
  },
  {
   "cell_type": "code",
   "execution_count": null,
   "metadata": {},
   "outputs": [],
   "source": []
  }
 ],
 "metadata": {
  "kernelspec": {
   "display_name": "Python 3",
   "language": "python",
   "name": "python3"
  },
  "language_info": {
   "codemirror_mode": {
    "name": "ipython",
    "version": 3
   },
   "file_extension": ".py",
   "mimetype": "text/x-python",
   "name": "python",
   "nbconvert_exporter": "python",
   "pygments_lexer": "ipython3",
   "version": "3.7.5"
  }
 },
 "nbformat": 4,
 "nbformat_minor": 4
}
