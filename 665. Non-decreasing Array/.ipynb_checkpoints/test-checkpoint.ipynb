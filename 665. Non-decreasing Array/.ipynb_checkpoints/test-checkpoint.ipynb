{
 "cells": [
  {
   "cell_type": "markdown",
   "metadata": {},
   "source": [
    "Given an array nums with n integers, your task is to check if it could become non-decreasing by modifying at most 1 element.\n",
    "\n",
    "We define an array is non-decreasing if nums[i] <= nums[i + 1] holds for every i (0-based) such that (0 <= i <= n - 2).\n",
    "\n",
    " \n",
    "\n",
    "Example 1:\n",
    "\n",
    "Input: nums = [4,2,3]\n",
    "Output: true\n",
    "Explanation: You could modify the first 4 to 1 to get a non-decreasing array.\n",
    "Example 2:\n",
    "\n",
    "Input: nums = [4,2,1]\n",
    "Output: false\n",
    "Explanation: You can't get a non-decreasing array by modify at most one element."
   ]
  },
  {
   "cell_type": "code",
   "execution_count": 100,
   "metadata": {},
   "outputs": [],
   "source": [
    "# nums = [4,2,3]\n",
    "# nums = [4,2,1] # Output: false\n",
    "\n",
    "nums = [3,4,2,3] # Output: false\n",
    "# nums = [2,3,3,2,4] # true"
   ]
  },
  {
   "cell_type": "code",
   "execution_count": 101,
   "metadata": {},
   "outputs": [],
   "source": [
    "def checkPossibility(nums):\n",
    "    pos1 = True\n",
    "    pos2 = True\n",
    "    \n",
    "    temp = nums.copy()\n",
    "    i = 0\n",
    "    while i<len(nums)-1:\n",
    "        if nums[i]>nums[i+1]:\n",
    "            nums[i] = nums[i+1]\n",
    "            temp[i+1] = temp[i]\n",
    "            break\n",
    "        i += 1\n",
    "    print(nums)\n",
    "    print(temp)\n",
    "    \n",
    "    for i in range(len(nums)-1):\n",
    "        if nums[i]>nums[i+1]:\n",
    "            pos1 = False\n",
    "            break\n",
    "            \n",
    "    for i in range(len(temp)-1):\n",
    "        if temp[i]>temp[i+1]:\n",
    "            pos2 = False\n",
    "            break\n",
    "        \n",
    "    \n",
    "    return pos1 or pos2"
   ]
  },
  {
   "cell_type": "code",
   "execution_count": 102,
   "metadata": {},
   "outputs": [
    {
     "name": "stdout",
     "output_type": "stream",
     "text": [
      "[3, 2, 2, 3]\n",
      "[3, 4, 4, 3]\n"
     ]
    },
    {
     "data": {
      "text/plain": [
       "False"
      ]
     },
     "execution_count": 102,
     "metadata": {},
     "output_type": "execute_result"
    }
   ],
   "source": [
    "checkPossibility(nums)"
   ]
  },
  {
   "cell_type": "code",
   "execution_count": 84,
   "metadata": {},
   "outputs": [
    {
     "data": {
      "text/plain": [
       "True"
      ]
     },
     "execution_count": 84,
     "metadata": {},
     "output_type": "execute_result"
    }
   ],
   "source": []
  },
  {
   "cell_type": "code",
   "execution_count": null,
   "metadata": {},
   "outputs": [],
   "source": []
  }
 ],
 "metadata": {
  "kernelspec": {
   "display_name": "Python 3",
   "language": "python",
   "name": "python3"
  },
  "language_info": {
   "codemirror_mode": {
    "name": "ipython",
    "version": 3
   },
   "file_extension": ".py",
   "mimetype": "text/x-python",
   "name": "python",
   "nbconvert_exporter": "python",
   "pygments_lexer": "ipython3",
   "version": "3.7.5"
  }
 },
 "nbformat": 4,
 "nbformat_minor": 4
}
