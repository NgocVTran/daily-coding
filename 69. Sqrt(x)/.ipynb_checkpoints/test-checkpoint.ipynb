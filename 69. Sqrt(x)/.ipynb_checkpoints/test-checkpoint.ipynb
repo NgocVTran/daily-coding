{
 "cells": [
  {
   "cell_type": "markdown",
   "metadata": {},
   "source": [
    "Implement int sqrt(int x).\n",
    "\n",
    "Compute and return the square root of x, where x is guaranteed to be a non-negative integer.\n",
    "\n",
    "Since the return type is an integer, the decimal digits are truncated and only the integer part of the result is returned.\n",
    "\n",
    "Example 1:\n",
    "\n",
    "Input: 4\n",
    "Output: 2\n",
    "Example 2:\n",
    "\n",
    "Input: 8\n",
    "Output: 2\n",
    "Explanation: The square root of 8 is 2.82842..., and since \n",
    "             the decimal part is truncated, 2 is returned."
   ]
  },
  {
   "cell_type": "code",
   "execution_count": 155,
   "metadata": {},
   "outputs": [],
   "source": [
    "def mySqrt(x):\n",
    "    start = 0\n",
    "    end = x\n",
    "    \n",
    "    while start<=end:\n",
    "        mid = (start + end) / 2\n",
    "        print(mid)\n",
    "        if mid**2 < x and abs(x-mid**2)>0.1:\n",
    "            start = mid\n",
    "        elif mid**2 > x and abs(x-mid**2)>0.1:\n",
    "            end = mid\n",
    "        else:\n",
    "            if round(mid)**2 == x:\n",
    "                return round(mid)\n",
    "            elif round(mid**2) > x:\n",
    "                return round(mid)-1\n",
    "            else:\n",
    "                return int(mid)"
   ]
  },
  {
   "cell_type": "code",
   "execution_count": 171,
   "metadata": {},
   "outputs": [],
   "source": [
    "# x = 4 # 2\n",
    "# x = 8 # 2 - 2.828\n",
    "# x = 16\n",
    "# x = 36\n",
    "# x = 55\n",
    "# x = 64\n",
    "# x = 70\n",
    "x = 80"
   ]
  },
  {
   "cell_type": "code",
   "execution_count": 172,
   "metadata": {},
   "outputs": [
    {
     "name": "stdout",
     "output_type": "stream",
     "text": [
      "40.0\n",
      "20.0\n",
      "10.0\n",
      "5.0\n",
      "7.5\n",
      "8.75\n",
      "9.375\n",
      "9.0625\n",
      "8.90625\n",
      "8.984375\n",
      "8.9453125\n"
     ]
    },
    {
     "data": {
      "text/plain": [
       "8"
      ]
     },
     "execution_count": 172,
     "metadata": {},
     "output_type": "execute_result"
    }
   ],
   "source": [
    "mySqrt(x)"
   ]
  },
  {
   "cell_type": "code",
   "execution_count": 154,
   "metadata": {},
   "outputs": [
    {
     "data": {
      "text/plain": [
       "7.91015625"
      ]
     },
     "execution_count": 154,
     "metadata": {},
     "output_type": "execute_result"
    }
   ],
   "source": [
    "2.8125**2"
   ]
  },
  {
   "cell_type": "code",
   "execution_count": 166,
   "metadata": {},
   "outputs": [
    {
     "data": {
      "text/plain": [
       "54.93936538696289"
      ]
     },
     "execution_count": 166,
     "metadata": {},
     "output_type": "execute_result"
    }
   ],
   "source": [
    "7.412109375**2"
   ]
  },
  {
   "cell_type": "code",
   "execution_count": null,
   "metadata": {},
   "outputs": [],
   "source": []
  }
 ],
 "metadata": {
  "kernelspec": {
   "display_name": "Python 3",
   "language": "python",
   "name": "python3"
  },
  "language_info": {
   "codemirror_mode": {
    "name": "ipython",
    "version": 3
   },
   "file_extension": ".py",
   "mimetype": "text/x-python",
   "name": "python",
   "nbconvert_exporter": "python",
   "pygments_lexer": "ipython3",
   "version": "3.7.5"
  }
 },
 "nbformat": 4,
 "nbformat_minor": 4
}
