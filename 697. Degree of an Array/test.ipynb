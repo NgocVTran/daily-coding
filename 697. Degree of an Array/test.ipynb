{
 "cells": [
  {
   "cell_type": "markdown",
   "metadata": {},
   "source": [
    "Given a non-empty array of non-negative integers nums, the degree of this array is defined as the maximum frequency of any one of its elements.\n",
    "\n",
    "Your task is to find the smallest possible length of a (contiguous) subarray of nums, that has the same degree as nums."
   ]
  },
  {
   "cell_type": "code",
   "execution_count": 112,
   "metadata": {},
   "outputs": [],
   "source": [
    "def findShortestSubArray(nums):\n",
    "    dict = {}\n",
    "    maxx = 0\n",
    "    for n in nums:\n",
    "        if n in dict:\n",
    "            dict[n] = dict[n]+1\n",
    "        else:\n",
    "            dict[n] = 1\n",
    "        if dict[n]>maxx:\n",
    "            maxx = dict[n]\n",
    "\n",
    "    maxx_nr = {}\n",
    "    for k,v in dict.items():\n",
    "        if v == maxx:\n",
    "            maxx_nr.update({\n",
    "                k: []\n",
    "            })\n",
    "    \n",
    "    for i,val in enumerate(nums):\n",
    "        if dict[val] == maxx:\n",
    "            maxx_nr[val].append(i)\n",
    "    \n",
    "    \n",
    "    for k,v in maxx_nr.items():\n",
    "        subtract = v[-1] - v[0]\n",
    "        maxx_nr.update({\n",
    "            k: subtract+1\n",
    "        })\n",
    "    b = sorted(maxx_nr.values())\n",
    "    return b[0]"
   ]
  },
  {
   "cell_type": "code",
   "execution_count": 117,
   "metadata": {},
   "outputs": [],
   "source": [
    "nums = [1,2,2,3,1]\n",
    "# Output: 2\n",
    "\n",
    "# nums = [1,2,2,3,1,4,2]\n",
    "# # Output: 6\n",
    "\n",
    "# nums = [1]\n",
    "# # Output: 1"
   ]
  },
  {
   "cell_type": "code",
   "execution_count": 118,
   "metadata": {},
   "outputs": [
    {
     "data": {
      "text/plain": [
       "2"
      ]
     },
     "execution_count": 118,
     "metadata": {},
     "output_type": "execute_result"
    }
   ],
   "source": [
    "findShortestSubArray(nums)"
   ]
  },
  {
   "cell_type": "code",
   "execution_count": null,
   "metadata": {},
   "outputs": [],
   "source": []
  },
  {
   "cell_type": "code",
   "execution_count": null,
   "metadata": {},
   "outputs": [],
   "source": []
  }
 ],
 "metadata": {
  "kernelspec": {
   "display_name": "Python 3",
   "language": "python",
   "name": "python3"
  },
  "language_info": {
   "codemirror_mode": {
    "name": "ipython",
    "version": 3
   },
   "file_extension": ".py",
   "mimetype": "text/x-python",
   "name": "python",
   "nbconvert_exporter": "python",
   "pygments_lexer": "ipython3",
   "version": "3.7.5"
  }
 },
 "nbformat": 4,
 "nbformat_minor": 4
}
