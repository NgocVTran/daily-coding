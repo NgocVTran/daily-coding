{
 "cells": [
  {
   "cell_type": "markdown",
   "metadata": {},
   "source": [
    "Given a sorted (in ascending order) integer array nums of n elements and a target value, write a function to search target in nums. If target exists, then return its index, otherwise return -1.\n",
    "\n",
    "\n",
    "Example 1:\n",
    "\n",
    "Input: nums = [-1,0,3,5,9,12], target = 9\n",
    "Output: 4\n",
    "Explanation: 9 exists in nums and its index is 4\n",
    "\n",
    "Example 2:\n",
    "\n",
    "Input: nums = [-1,0,3,5,9,12], target = 2\n",
    "Output: -1\n",
    "Explanation: 2 does not exist in nums so return -1"
   ]
  },
  {
   "cell_type": "code",
   "execution_count": 156,
   "metadata": {},
   "outputs": [],
   "source": [
    "def search(nums, target):\n",
    "    start = 0\n",
    "    end = len(nums)-1\n",
    "    \n",
    "    while start<=end:\n",
    "        middle = (start + end)//2\n",
    "        if nums[middle] < target:\n",
    "            start = middle+1\n",
    "        elif nums[middle] > target:\n",
    "            end = middle-1\n",
    "        else:\n",
    "            return middle\n",
    "    return -1"
   ]
  },
  {
   "cell_type": "code",
   "execution_count": 159,
   "metadata": {},
   "outputs": [],
   "source": [
    "# nums = [-1,0,3,5,9,12]\n",
    "# target = 9\n",
    "# # Output: 4\n",
    "\n",
    "# nums = [-1,0,3,5,9,12]\n",
    "# target = 2\n",
    "# # Output: -1\n",
    "\n",
    "# nums = [5]\n",
    "# target = 5\n",
    "# # Output: 0\n",
    "\n",
    "# nums = [2,5]\n",
    "# target = 2\n",
    "# # Output: 0\n",
    "\n",
    "nums = [-1,0,3,5,9,12]\n",
    "target = 0\n",
    "# Output: -1\n",
    "\n",
    "# nums = [2,5]\n",
    "# target = 5\n",
    "# # Output: 1"
   ]
  },
  {
   "cell_type": "code",
   "execution_count": 160,
   "metadata": {},
   "outputs": [
    {
     "data": {
      "text/plain": [
       "1"
      ]
     },
     "execution_count": 160,
     "metadata": {},
     "output_type": "execute_result"
    }
   ],
   "source": [
    "search(nums, target)"
   ]
  },
  {
   "cell_type": "code",
   "execution_count": null,
   "metadata": {},
   "outputs": [],
   "source": []
  },
  {
   "cell_type": "code",
   "execution_count": null,
   "metadata": {},
   "outputs": [],
   "source": []
  },
  {
   "cell_type": "code",
   "execution_count": null,
   "metadata": {},
   "outputs": [],
   "source": []
  }
 ],
 "metadata": {
  "kernelspec": {
   "display_name": "Python 3",
   "language": "python",
   "name": "python3"
  },
  "language_info": {
   "codemirror_mode": {
    "name": "ipython",
    "version": 3
   },
   "file_extension": ".py",
   "mimetype": "text/x-python",
   "name": "python",
   "nbconvert_exporter": "python",
   "pygments_lexer": "ipython3",
   "version": "3.7.5"
  }
 },
 "nbformat": 4,
 "nbformat_minor": 4
}
