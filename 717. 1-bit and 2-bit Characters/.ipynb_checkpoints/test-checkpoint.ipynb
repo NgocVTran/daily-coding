{
 "cells": [
  {
   "cell_type": "markdown",
   "metadata": {},
   "source": [
    "We have two special characters. The first character can be represented by one bit 0. The second character can be represented by two bits (10 or 11).\n",
    "\n",
    "Now given a string represented by several bits. Return whether the last character must be a one-bit character or not. The given string will always end with a zero.\n",
    "\n",
    "Example 1:\n",
    "Input: \n",
    "bits = [1, 0, 0]\n",
    "Output: True\n",
    "Explanation: \n",
    "The only way to decode it is two-bit character and one-bit character. So the last character is one-bit character.\n",
    "Example 2:\n",
    "Input: \n",
    "bits = [1, 1, 1, 0]\n",
    "Output: False\n",
    "Explanation: \n",
    "The only way to decode it is two-bit character and two-bit character. So the last character is NOT one-bit character."
   ]
  },
  {
   "cell_type": "code",
   "execution_count": null,
   "metadata": {},
   "outputs": [],
   "source": []
  },
  {
   "cell_type": "code",
   "execution_count": 5,
   "metadata": {},
   "outputs": [],
   "source": [
    "def isOneBitCharacter(bits):\n",
    "    for b in bits:\n",
    "        del bits[:b]\n",
    "    return not b"
   ]
  },
  {
   "cell_type": "code",
   "execution_count": 6,
   "metadata": {},
   "outputs": [],
   "source": [
    "bits = [1,0,0]"
   ]
  },
  {
   "cell_type": "code",
   "execution_count": 7,
   "metadata": {},
   "outputs": [
    {
     "data": {
      "text/plain": [
       "True"
      ]
     },
     "execution_count": 7,
     "metadata": {},
     "output_type": "execute_result"
    }
   ],
   "source": [
    "isOneBitCharacter(bits)"
   ]
  },
  {
   "cell_type": "code",
   "execution_count": 2,
   "metadata": {},
   "outputs": [],
   "source": [
    "def isOneBitCharacter(bits):\n",
    "    length = len(bits)\n",
    "    i = 0\n",
    "\n",
    "    while i < length-1:\n",
    "        if bits[i] == 1:\n",
    "            i += 2\n",
    "        else:\n",
    "            i += 1\n",
    "\n",
    "    i += 1\n",
    "\n",
    "    return i == length"
   ]
  },
  {
   "cell_type": "code",
   "execution_count": null,
   "metadata": {},
   "outputs": [],
   "source": []
  }
 ],
 "metadata": {
  "kernelspec": {
   "display_name": "Python 3",
   "language": "python",
   "name": "python3"
  },
  "language_info": {
   "codemirror_mode": {
    "name": "ipython",
    "version": 3
   },
   "file_extension": ".py",
   "mimetype": "text/x-python",
   "name": "python",
   "nbconvert_exporter": "python",
   "pygments_lexer": "ipython3",
   "version": "3.7.5"
  }
 },
 "nbformat": 4,
 "nbformat_minor": 4
}
