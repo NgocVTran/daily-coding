{
 "cells": [
  {
   "cell_type": "markdown",
   "metadata": {},
   "source": [
    "Given a list of sorted characters letters containing only lowercase letters, and given a target letter target, find the smallest element in the list that is larger than the given target.\n",
    "\n",
    "Letters also wrap around. For example, if the target is target = 'z' and letters = ['a', 'b'], the answer is 'a'.\n",
    "\n",
    "Examples:\n",
    "Input:\n",
    "letters = [\"c\", \"f\", \"j\"]\n",
    "target = \"a\"\n",
    "Output: \"c\"\n",
    "\n",
    "Input:\n",
    "letters = [\"c\", \"f\", \"j\"]\n",
    "target = \"c\"\n",
    "Output: \"f\"\n",
    "\n",
    "Input:\n",
    "letters = [\"c\", \"f\", \"j\"]\n",
    "target = \"d\"\n",
    "Output: \"f\"\n",
    "\n",
    "Input:\n",
    "letters = [\"c\", \"f\", \"j\"]\n",
    "target = \"g\"\n",
    "Output: \"j\"\n",
    "\n",
    "Input:\n",
    "letters = [\"c\", \"f\", \"j\"]\n",
    "target = \"j\"\n",
    "Output: \"c\"\n",
    "\n",
    "Input:\n",
    "letters = [\"c\", \"f\", \"j\"]\n",
    "target = \"k\"\n",
    "Output: \"c\"\n",
    "Note:\n",
    "letters has a length in range [2, 10000].\n",
    "letters consists of lowercase letters, and contains at least 2 unique letters.\n",
    "target is a lowercase letter."
   ]
  },
  {
   "cell_type": "code",
   "execution_count": null,
   "metadata": {},
   "outputs": [],
   "source": []
  },
  {
   "cell_type": "code",
   "execution_count": null,
   "metadata": {},
   "outputs": [],
   "source": []
  },
  {
   "cell_type": "code",
   "execution_count": 149,
   "metadata": {},
   "outputs": [],
   "source": [
    "def nextGreatestLetter(letters, target):\n",
    "    start, end = 0, len(letters)\n",
    "    while start < end:\n",
    "        mid = (start + end) // 2\n",
    "        if letters[mid] <= target:\n",
    "            start = mid + 1\n",
    "        else:\n",
    "            end = mid\n",
    "    print(start, end)\n",
    "    if start < len(letters):\n",
    "        return letters[start]\n",
    "    else:\n",
    "        return letters[0]"
   ]
  },
  {
   "cell_type": "code",
   "execution_count": 150,
   "metadata": {},
   "outputs": [],
   "source": [
    "# letters = [\"c\", \"f\", \"j\"]\n",
    "# target = \"a\"\n",
    "# # Output: \"c\"\n",
    "\n",
    "letters = [\"c\", \"f\", \"j\"]\n",
    "target = \"c\"\n",
    "# Output: \"f\"\n",
    "\n",
    "# letters = [\"c\", \"f\", \"j\"]\n",
    "# target = \"d\"\n",
    "# # Output: \"f\"\n",
    "\n",
    "# letters = [\"c\", \"f\", \"j\"]\n",
    "# target = \"g\"\n",
    "# # Output: \"j\"\n",
    "\n",
    "# Input:\n",
    "# letters = [\"c\", \"f\", \"j\"]\n",
    "# target = \"j\"\n",
    "# Output: \"c\"\n",
    "\n",
    "# Input:\n",
    "# letters = [\"c\", \"f\", \"j\"]\n",
    "# target = \"k\"\n",
    "# Output: \"c\""
   ]
  },
  {
   "cell_type": "code",
   "execution_count": 151,
   "metadata": {},
   "outputs": [
    {
     "name": "stdout",
     "output_type": "stream",
     "text": [
      "1 1\n"
     ]
    },
    {
     "data": {
      "text/plain": [
       "'f'"
      ]
     },
     "execution_count": 151,
     "metadata": {},
     "output_type": "execute_result"
    }
   ],
   "source": [
    "nextGreatestLetter(letters, target)"
   ]
  },
  {
   "cell_type": "markdown",
   "metadata": {},
   "source": [
    "### explaination"
   ]
  },
  {
   "cell_type": "markdown",
   "metadata": {},
   "source": [
    "The letters[l % len(letters)] is really just a shortcut for the case where there's a wraparound for the next smallest letter larger than target. Like [c, f, g] with target h, solution is c, so with this binary search approach, we'd evaluate g last, and see that it's <= target, leading us to l = r = len(letters). You could also have done, return letters[l] if l < len(letters) else letters[0], but it would be same thing as (l % len(letters))."
   ]
  },
  {
   "cell_type": "code",
   "execution_count": null,
   "metadata": {},
   "outputs": [],
   "source": []
  },
  {
   "cell_type": "code",
   "execution_count": null,
   "metadata": {},
   "outputs": [],
   "source": []
  }
 ],
 "metadata": {
  "kernelspec": {
   "display_name": "Python 3",
   "language": "python",
   "name": "python3"
  },
  "language_info": {
   "codemirror_mode": {
    "name": "ipython",
    "version": 3
   },
   "file_extension": ".py",
   "mimetype": "text/x-python",
   "name": "python",
   "nbconvert_exporter": "python",
   "pygments_lexer": "ipython3",
   "version": "3.7.5"
  }
 },
 "nbformat": 4,
 "nbformat_minor": 4
}
