{
 "cells": [
  {
   "cell_type": "markdown",
   "metadata": {},
   "source": [
    "On a staircase, the i-th step has some non-negative cost cost[i] assigned (0 indexed).\n",
    "\n",
    "Once you pay the cost, you can either climb one or two steps. You need to find minimum cost to reach the top of the floor, and you can either start from the step with index 0, or the step with index 1.\n",
    "\n",
    "Example 1:\n",
    "Input: cost = [10, 15, 20]\n",
    "Output: 15\n",
    "Explanation: Cheapest is start on cost[1], pay that cost and go to the top.\n",
    "Example 2:\n",
    "Input: cost = [1, 100, 1, 1, 1, 100, 1, 1, 100, 1]\n",
    "Output: 6\n",
    "Explanation: Cheapest is start on cost[0], and only step on 1s, skipping cost[3].\n",
    "Note:\n",
    "cost will have a length in the range [2, 1000].\n",
    "Every cost[i] will be an integer in the range [0, 999]."
   ]
  },
  {
   "cell_type": "code",
   "execution_count": 113,
   "metadata": {},
   "outputs": [],
   "source": [
    "def minCostClimbingStairs(cost):\n",
    "    n = len(cost) + 1\n",
    "    min_cost = [None] * n\n",
    "    \n",
    "    cost.append(0)\n",
    "\n",
    "    min_cost[0] = cost[0]\n",
    "    min_cost[1] = min(cost[0]+cost[1], cost[1])\n",
    "    \n",
    "    for i in range(2, n):\n",
    "        min_cost[i] = min( min_cost[i-1]+cost[i], min_cost[i-2]+cost[i]) \n",
    "    return min(min_cost[-1], min_cost[-2])"
   ]
  },
  {
   "cell_type": "code",
   "execution_count": 114,
   "metadata": {},
   "outputs": [],
   "source": [
    "# cost = [10, 15, 20]\n",
    "# # Output: 15\n",
    "\n",
    "cost = [1, 100, 1, 1, 1, 100, 1, 1, 100, 1]\n",
    "# Output: 6\n",
    "# Explanation: Cheapest is start on cost[0], and only step on 1s, skipping cost[3]."
   ]
  },
  {
   "cell_type": "code",
   "execution_count": 115,
   "metadata": {},
   "outputs": [
    {
     "data": {
      "text/plain": [
       "6"
      ]
     },
     "execution_count": 115,
     "metadata": {},
     "output_type": "execute_result"
    }
   ],
   "source": [
    "minCostClimbingStairs(cost)"
   ]
  },
  {
   "cell_type": "code",
   "execution_count": null,
   "metadata": {},
   "outputs": [],
   "source": []
  }
 ],
 "metadata": {
  "kernelspec": {
   "display_name": "Python 3",
   "language": "python",
   "name": "python3"
  },
  "language_info": {
   "codemirror_mode": {
    "name": "ipython",
    "version": 3
   },
   "file_extension": ".py",
   "mimetype": "text/x-python",
   "name": "python",
   "nbconvert_exporter": "python",
   "pygments_lexer": "ipython3",
   "version": "3.7.5"
  }
 },
 "nbformat": 4,
 "nbformat_minor": 4
}
