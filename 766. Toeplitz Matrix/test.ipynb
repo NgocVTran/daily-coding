{
 "cells": [
  {
   "cell_type": "markdown",
   "metadata": {},
   "source": [
    "A matrix is Toeplitz if every diagonal from top-left to bottom-right has the same element.\n",
    "\n",
    "Now given an M x N matrix, return True if and only if the matrix is Toeplitz.\n",
    " \n",
    "\n",
    "Example 1:\n",
    "\n",
    "Input:\n",
    "matrix = [\n",
    "  [1,2,3,4],\n",
    "  [5,1,2,3],\n",
    "  [9,5,1,2]\n",
    "]\n",
    "Output: True\n",
    "Explanation:\n",
    "In the above grid, the diagonals are:\n",
    "\"[9]\", \"[5, 5]\", \"[1, 1, 1]\", \"[2, 2, 2]\", \"[3, 3]\", \"[4]\".\n",
    "In each diagonal all elements are the same, so the answer is True.\n",
    "Example 2:\n",
    "\n",
    "Input:\n",
    "matrix = [\n",
    "  [1,2],\n",
    "  [2,2]\n",
    "]\n",
    "Output: False\n",
    "Explanation:\n",
    "The diagonal \"[1, 2]\" has different elements."
   ]
  },
  {
   "cell_type": "code",
   "execution_count": 53,
   "metadata": {},
   "outputs": [],
   "source": [
    "# matrix = [[1,2,3,4], [5,1,2,3], [9,5,1,2]] # true\n",
    "# matrix = [[58],[46],[15],[55],[55],[25]] # true\n",
    "matrix = [[41,45],[81,41],[73,81],[47,73],[76,47],[79,76]] # true"
   ]
  },
  {
   "cell_type": "code",
   "execution_count": null,
   "metadata": {},
   "outputs": [],
   "source": [
    "# [1,2,3,4], [5,1,2,3], [9,5,1,2]\n",
    "\n",
    "# [1,2,3,4], \n",
    "# [5,1,2,3], \n",
    "# [9,5,1,2]"
   ]
  },
  {
   "cell_type": "code",
   "execution_count": 54,
   "metadata": {},
   "outputs": [
    {
     "data": {
      "text/plain": [
       "6"
      ]
     },
     "execution_count": 54,
     "metadata": {},
     "output_type": "execute_result"
    }
   ],
   "source": [
    "row = len(matrix)\n",
    "row"
   ]
  },
  {
   "cell_type": "code",
   "execution_count": 55,
   "metadata": {},
   "outputs": [
    {
     "data": {
      "text/plain": [
       "2"
      ]
     },
     "execution_count": 55,
     "metadata": {},
     "output_type": "execute_result"
    }
   ],
   "source": [
    "col = len(matrix[0])\n",
    "col"
   ]
  },
  {
   "cell_type": "code",
   "execution_count": 56,
   "metadata": {},
   "outputs": [
    {
     "data": {
      "text/plain": [
       "[41, 45, 81, 41, 73, 81, 47, 73, 76, 47, 79, 76]"
      ]
     },
     "execution_count": 56,
     "metadata": {},
     "output_type": "execute_result"
    }
   ],
   "source": [
    "flatten = []\n",
    "for m in matrix:\n",
    "    flatten = flatten + m \n",
    "flatten"
   ]
  },
  {
   "cell_type": "code",
   "execution_count": 51,
   "metadata": {},
   "outputs": [],
   "source": [
    "def isToeplitzMatrix(matrix):\n",
    "    row = len(matrix)\n",
    "    col = len(matrix[0])\n",
    "\n",
    "    flatten = []\n",
    "    for m in matrix:\n",
    "        flatten = flatten + m\n",
    "\n",
    "    j = 0\n",
    "    while j<(row-1)*col+1:\n",
    "        if j != col-1:\n",
    "            if len(set([flatten[i] for i in range(j, len(flatten), col+1)]))>1:\n",
    "                return False\n",
    "        j = j+1\n",
    "    return True"
   ]
  },
  {
   "cell_type": "code",
   "execution_count": 52,
   "metadata": {},
   "outputs": [
    {
     "data": {
      "text/plain": [
       "False"
      ]
     },
     "execution_count": 52,
     "metadata": {},
     "output_type": "execute_result"
    }
   ],
   "source": [
    "isToeplitzMatrix(matrix)"
   ]
  },
  {
   "cell_type": "code",
   "execution_count": null,
   "metadata": {},
   "outputs": [],
   "source": []
  },
  {
   "cell_type": "markdown",
   "metadata": {},
   "source": [
    "### solution"
   ]
  },
  {
   "cell_type": "markdown",
   "metadata": {},
   "source": [
    "Runtime: 84 ms, faster than 91.97% of Python3 online submissions for Toeplitz Matrix.\n",
    "\n",
    "\n",
    "Memory Usage: 13.9 MB, less than 49.72% of Python3 online submissions for Toeplitz Matrix."
   ]
  },
  {
   "cell_type": "code",
   "execution_count": 128,
   "metadata": {},
   "outputs": [],
   "source": [
    "matrix = [[1,2,3,4], [5,1,2,3], [9,5,1,2]] # true\n",
    "# matrix = [[41,45],[81,41],[73,81],[47,73],[76,47],[79,76]]"
   ]
  },
  {
   "cell_type": "code",
   "execution_count": 129,
   "metadata": {},
   "outputs": [],
   "source": [
    "row = len(matrix)\n",
    "col = len(matrix[0])"
   ]
  },
  {
   "cell_type": "code",
   "execution_count": 130,
   "metadata": {},
   "outputs": [
    {
     "name": "stdout",
     "output_type": "stream",
     "text": [
      "3\n",
      "4\n"
     ]
    }
   ],
   "source": [
    "print(row)\n",
    "print(col)"
   ]
  },
  {
   "cell_type": "code",
   "execution_count": 132,
   "metadata": {},
   "outputs": [
    {
     "name": "stdout",
     "output_type": "stream",
     "text": [
      "1 1\n",
      "5 5\n",
      "2 2\n",
      "1 1\n",
      "3 3\n",
      "2 2\n"
     ]
    }
   ],
   "source": [
    "for i in range(col-1):\n",
    "    j = 0\n",
    "    \n",
    "    while j<row-1:\n",
    "        print(matrix[j][i], matrix[j+1][i+1])\n",
    "        j = j+1\n",
    "    "
   ]
  },
  {
   "cell_type": "code",
   "execution_count": 133,
   "metadata": {},
   "outputs": [],
   "source": [
    "def isToeplitzMatrix(matrix):\n",
    "    row = len(matrix)\n",
    "    col = len(matrix[0])\n",
    "\n",
    "    for i in range(col-1):\n",
    "        j = 0\n",
    "\n",
    "        while j<row-1:\n",
    "            if matrix[j][i] != matrix[j+1][i+1]:\n",
    "                return False\n",
    "            j = j+1\n",
    "    return True"
   ]
  },
  {
   "cell_type": "code",
   "execution_count": null,
   "metadata": {},
   "outputs": [],
   "source": [
    "# [41,45],\n",
    "# [81,41],\n",
    "# [73,81],\n",
    "# [47,73],\n",
    "# [76,47],\n",
    "# [79,76]"
   ]
  },
  {
   "cell_type": "code",
   "execution_count": 108,
   "metadata": {},
   "outputs": [
    {
     "data": {
      "text/plain": [
       "[(41, 81, 73, 47, 76, 79), (45, 41, 81, 73, 47, 76)]"
      ]
     },
     "execution_count": 108,
     "metadata": {},
     "output_type": "execute_result"
    }
   ],
   "source": [
    "reverse = list(zip(*matrix))\n",
    "reverse"
   ]
  },
  {
   "cell_type": "code",
   "execution_count": null,
   "metadata": {},
   "outputs": [],
   "source": [
    "(41, 81, 73, 47, 76, 79), \n",
    "(45, 41, 81, 73, 47, 76)"
   ]
  },
  {
   "cell_type": "code",
   "execution_count": 134,
   "metadata": {},
   "outputs": [],
   "source": [
    "# another better solution\n",
    "def isToeplitzMatrix(matrix):\n",
    "    if not matrix:\n",
    "        return False\n",
    "    rows = len(matrix)\n",
    "    cols = len(matrix[0])\n",
    "\n",
    "    for y in range(rows-1):\n",
    "        for x in range(cols-1):\n",
    "            if matrix[y][x] != matrix[y+1][x+1]:\n",
    "                return False\n",
    "    return True"
   ]
  },
  {
   "cell_type": "code",
   "execution_count": null,
   "metadata": {},
   "outputs": [],
   "source": []
  },
  {
   "cell_type": "code",
   "execution_count": null,
   "metadata": {},
   "outputs": [],
   "source": []
  }
 ],
 "metadata": {
  "kernelspec": {
   "display_name": "Python 3",
   "language": "python",
   "name": "python3"
  },
  "language_info": {
   "codemirror_mode": {
    "name": "ipython",
    "version": 3
   },
   "file_extension": ".py",
   "mimetype": "text/x-python",
   "name": "python",
   "nbconvert_exporter": "python",
   "pygments_lexer": "ipython3",
   "version": "3.7.5"
  }
 },
 "nbformat": 4,
 "nbformat_minor": 4
}
