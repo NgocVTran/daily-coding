{
 "cells": [
  {
   "cell_type": "markdown",
   "metadata": {},
   "source": [
    "Given a string s and an array of strings words, return the number of words[i] that is a subsequence of s.\n",
    "\n",
    "A subsequence of a string is a new string generated from the original string with some characters (can be none) deleted without changing the relative order of the remaining characters.\n",
    "\n",
    "For example, \"ace\" is a subsequence of \"abcde\".\n",
    " \n",
    "\n",
    "Example 1:\n",
    "\n",
    "Input: s = \"abcde\", words = [\"a\",\"bb\",\"acd\",\"ace\"]\n",
    "Output: 3\n",
    "Explanation: There are three strings in words that are a subsequence of s: \"a\", \"acd\", \"ace\".\n",
    "Example 2:\n",
    "\n",
    "Input: s = \"dsahjpjauf\", words = [\"ahjpjau\",\"ja\",\"ahbwzgqnuk\",\"tnmlanowax\"]\n",
    "Output: 2\n",
    " \n",
    "\n",
    "Constraints:\n",
    "\n",
    "1 <= s.length <= 5 * 104\n",
    "1 <= words.length <= 5000\n",
    "1 <= words[i].length <= 50\n",
    "s and words[i] consist of only lowercase English letters."
   ]
  },
  {
   "cell_type": "code",
   "execution_count": 57,
   "metadata": {},
   "outputs": [],
   "source": [
    "# fail but good idea\n",
    "def numMatchingSubseq(s, words):\n",
    "    count = 0\n",
    "    for word in words:\n",
    "        print(word)\n",
    "        si = 0\n",
    "        wi = 0\n",
    "        while (si<len(s)) and (wi<len(word)):\n",
    "            if s[si] == word[wi]:\n",
    "                si += 1\n",
    "                wi += 1\n",
    "            else:\n",
    "                si += 1\n",
    "        if wi == len(word):\n",
    "            count += 1\n",
    "        \n",
    "    return count"
   ]
  },
  {
   "cell_type": "code",
   "execution_count": 66,
   "metadata": {},
   "outputs": [],
   "source": [
    "def numMatchingSubseq(s, words):\n",
    "    pos = {}\n",
    "    for ite,char in enumerate(s):\n",
    "        if char in pos:\n",
    "            pos[char].append(ite)\n",
    "        else:\n",
    "            pos[char] = [ite]\n",
    "    \n",
    "    for word in words:\n",
    "        for ch in word:\n",
    "            \n",
    "            \n",
    "    \n",
    "    return pos"
   ]
  },
  {
   "cell_type": "code",
   "execution_count": 67,
   "metadata": {},
   "outputs": [],
   "source": [
    "s = \"abcdea\"\n",
    "words = [\"bb\",\"acd\",\"ace\", \"a\"]\n",
    "# Output: 3\n",
    "\n",
    "# s = \"dsahjpjauf\"\n",
    "# words = [\"ahjpjau\",\"ja\",\"ahbwzgqnuk\",\"tnmlanowax\"]\n",
    "# # Output: 2"
   ]
  },
  {
   "cell_type": "code",
   "execution_count": 68,
   "metadata": {},
   "outputs": [
    {
     "data": {
      "text/plain": [
       "{'a': [0, 5], 'b': [1], 'c': [2], 'd': [3], 'e': [4]}"
      ]
     },
     "execution_count": 68,
     "metadata": {},
     "output_type": "execute_result"
    }
   ],
   "source": [
    "numMatchingSubseq(s, words)"
   ]
  },
  {
   "cell_type": "code",
   "execution_count": null,
   "metadata": {},
   "outputs": [],
   "source": []
  },
  {
   "cell_type": "code",
   "execution_count": null,
   "metadata": {},
   "outputs": [],
   "source": []
  }
 ],
 "metadata": {
  "kernelspec": {
   "display_name": "Python 3",
   "language": "python",
   "name": "python3"
  },
  "language_info": {
   "codemirror_mode": {
    "name": "ipython",
    "version": 3
   },
   "file_extension": ".py",
   "mimetype": "text/x-python",
   "name": "python",
   "nbconvert_exporter": "python",
   "pygments_lexer": "ipython3",
   "version": "3.7.5"
  }
 },
 "nbformat": 4,
 "nbformat_minor": 4
}
