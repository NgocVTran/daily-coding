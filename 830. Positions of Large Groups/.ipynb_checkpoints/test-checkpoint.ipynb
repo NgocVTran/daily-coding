{
 "cells": [
  {
   "cell_type": "markdown",
   "metadata": {},
   "source": [
    "In a string S of lowercase letters, these letters form consecutive groups of the same character.\n",
    "\n",
    "For example, a string like S = \"abbxxxxzyy\" has the groups \"a\", \"bb\", \"xxxx\", \"z\" and \"yy\".\n",
    "\n",
    "Call a group large if it has 3 or more characters.  We would like the starting and ending positions of every large group.\n",
    "\n",
    "The final answer should be in lexicographic order.\n",
    "\n",
    " \n",
    "\n",
    "Example 1:\n",
    "\n",
    "Input: \"abbxxxxzzy\"\n",
    "Output: [[3,6]]\n",
    "Explanation: \"xxxx\" is the single large group with starting  3 and ending positions 6.\n",
    "Example 2:\n",
    "\n",
    "Input: \"abc\"\n",
    "Output: []\n",
    "Explanation: We have \"a\",\"b\" and \"c\" but no large group.\n",
    "Example 3:\n",
    "\n",
    "Input: \"abcdddeeeeaabbbcd\"\n",
    "Output: [[3,5],[6,9],[12,14]]"
   ]
  },
  {
   "cell_type": "code",
   "execution_count": 56,
   "metadata": {},
   "outputs": [],
   "source": [
    "def largeGroupPositions(S):\n",
    "    S = S + \"0\"\n",
    "    result = []\n",
    "    \n",
    "    start = 0\n",
    "    for i in range(len(S)-1):\n",
    "        if S[i+1]!=S[i]:\n",
    "            if (i+1 - start) >= 3:\n",
    "                result.append([start, i])\n",
    "            start = i+1\n",
    "            \n",
    "    if len(S[start:]) > 3:\n",
    "        result.append([start, len(S)-1])\n",
    "            \n",
    "    return result"
   ]
  },
  {
   "cell_type": "code",
   "execution_count": 2,
   "metadata": {},
   "outputs": [],
   "source": [
    "S = \"abbxxxxzzy\"\n",
    "# Output: [[3,6]]\n",
    "\n",
    "# S = \"abc\"\n",
    "# # Output: []\n",
    "\n",
    "# S = \"abcdddeeeeaabbbcd\"\n",
    "# Output: [[3,5],[6,9],[12,14]]\n",
    "# S = \"abcdddeeeeaabbbcdddd\"\n",
    "\n",
    "# S = \"aaa\"\n",
    "# # Output: [[0,2]]"
   ]
  },
  {
   "cell_type": "code",
   "execution_count": 60,
   "metadata": {},
   "outputs": [
    {
     "data": {
      "text/plain": [
       "[[3, 6]]"
      ]
     },
     "execution_count": 60,
     "metadata": {},
     "output_type": "execute_result"
    }
   ],
   "source": [
    "largeGroupPositions(S)"
   ]
  },
  {
   "cell_type": "code",
   "execution_count": 48,
   "metadata": {},
   "outputs": [],
   "source": [
    "result = []"
   ]
  },
  {
   "cell_type": "code",
   "execution_count": 53,
   "metadata": {},
   "outputs": [],
   "source": [
    "S = S + \"0\""
   ]
  },
  {
   "cell_type": "code",
   "execution_count": 54,
   "metadata": {},
   "outputs": [
    {
     "name": "stdout",
     "output_type": "stream",
     "text": [
      "2 aaa 3\n"
     ]
    }
   ],
   "source": [
    "start = 0\n",
    "for i in range(len(S)-1):\n",
    "    if S[i+1]!=S[i]:\n",
    "        print(i, S[start:i+1], i+1 - start)\n",
    "        if (i+1 - start) >= 3:\n",
    "            result.append([start, i])\n",
    "        start = i+1"
   ]
  },
  {
   "cell_type": "code",
   "execution_count": 55,
   "metadata": {},
   "outputs": [
    {
     "data": {
      "text/plain": [
       "[[0, 2]]"
      ]
     },
     "execution_count": 55,
     "metadata": {},
     "output_type": "execute_result"
    }
   ],
   "source": [
    "result"
   ]
  },
  {
   "cell_type": "code",
   "execution_count": 51,
   "metadata": {},
   "outputs": [],
   "source": [
    "if len(S[start:]) > 3:\n",
    "    result.append([start, len(S)-1])\n",
    "    print(S[start:])"
   ]
  },
  {
   "cell_type": "code",
   "execution_count": 41,
   "metadata": {},
   "outputs": [
    {
     "data": {
      "text/plain": [
       "[]"
      ]
     },
     "execution_count": 41,
     "metadata": {},
     "output_type": "execute_result"
    }
   ],
   "source": [
    "result"
   ]
  },
  {
   "cell_type": "markdown",
   "metadata": {},
   "source": [
    "### solution"
   ]
  },
  {
   "cell_type": "code",
   "execution_count": 1,
   "metadata": {},
   "outputs": [],
   "source": [
    "def largeGroupPositions(S):\n",
    "    res = []\n",
    "    prevCh = \"\"\n",
    "    counter = 0\n",
    "    for idx, ch in enumerate(S):\n",
    "        if(ch == prevCh):\n",
    "            counter += 1\n",
    "        else:\n",
    "            if(counter >= 3):\n",
    "                res.append([idx-counter, idx-1])\n",
    "            counter = 1\n",
    "            prevCh = ch\n",
    "\n",
    "    if(counter >= 3):\n",
    "        res.append([len(S)-counter, len(S)-1])\n",
    "\n",
    "    return res"
   ]
  },
  {
   "cell_type": "code",
   "execution_count": 3,
   "metadata": {},
   "outputs": [
    {
     "data": {
      "text/plain": [
       "[[3, 6]]"
      ]
     },
     "execution_count": 3,
     "metadata": {},
     "output_type": "execute_result"
    }
   ],
   "source": [
    "largeGroupPositions(S)"
   ]
  },
  {
   "cell_type": "code",
   "execution_count": null,
   "metadata": {},
   "outputs": [],
   "source": []
  },
  {
   "cell_type": "code",
   "execution_count": null,
   "metadata": {},
   "outputs": [],
   "source": []
  },
  {
   "cell_type": "code",
   "execution_count": null,
   "metadata": {},
   "outputs": [],
   "source": []
  },
  {
   "cell_type": "code",
   "execution_count": null,
   "metadata": {},
   "outputs": [],
   "source": []
  },
  {
   "cell_type": "code",
   "execution_count": null,
   "metadata": {},
   "outputs": [],
   "source": []
  },
  {
   "cell_type": "code",
   "execution_count": null,
   "metadata": {},
   "outputs": [],
   "source": []
  },
  {
   "cell_type": "code",
   "execution_count": null,
   "metadata": {},
   "outputs": [],
   "source": []
  },
  {
   "cell_type": "code",
   "execution_count": null,
   "metadata": {},
   "outputs": [],
   "source": []
  },
  {
   "cell_type": "code",
   "execution_count": null,
   "metadata": {},
   "outputs": [],
   "source": []
  },
  {
   "cell_type": "code",
   "execution_count": null,
   "metadata": {},
   "outputs": [],
   "source": []
  }
 ],
 "metadata": {
  "kernelspec": {
   "display_name": "Python 3",
   "language": "python",
   "name": "python3"
  },
  "language_info": {
   "codemirror_mode": {
    "name": "ipython",
    "version": 3
   },
   "file_extension": ".py",
   "mimetype": "text/x-python",
   "name": "python",
   "nbconvert_exporter": "python",
   "pygments_lexer": "ipython3",
   "version": "3.7.5"
  }
 },
 "nbformat": 4,
 "nbformat_minor": 4
}
