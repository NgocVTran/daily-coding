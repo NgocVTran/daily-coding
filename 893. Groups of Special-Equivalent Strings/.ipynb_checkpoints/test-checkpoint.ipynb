{
 "cells": [
  {
   "cell_type": "markdown",
   "metadata": {},
   "source": [
    "You are given an array A of strings.\n",
    "\n",
    "A move onto S consists of swapping any two even indexed characters of S, or any two odd indexed characters of S.\n",
    "\n",
    "Two strings S and T are special-equivalent if after any number of moves onto S, S == T.\n",
    "\n",
    "For example, S = \"zzxy\" and T = \"xyzz\" are special-equivalent because we may make the moves \"zzxy\" -> \"xzzy\" -> \"xyzz\" that swap S[0] and S[2], then S[1] and S[3].\n",
    "\n",
    "Now, a group of special-equivalent strings from A is a non-empty subset of A such that:\n",
    "\n",
    "Every pair of strings in the group are special equivalent, and;\n",
    "The group is the largest size possible (ie., there isn't a string S not in the group such that S is special equivalent to every string in the group)\n",
    "Return the number of groups of special-equivalent strings from A.\n",
    "\n",
    " \n",
    "Example 1:\n",
    "\n",
    "Input: [\"abcd\",\"cdab\",\"cbad\",\"xyzz\",\"zzxy\",\"zzyx\"]\n",
    "Output: 3\n",
    "Explanation: \n",
    "One group is [\"abcd\", \"cdab\", \"cbad\"], since they are all pairwise special equivalent, and none of the other strings are all pairwise special equivalent to these.\n",
    "\n",
    "The other two groups are [\"xyzz\", \"zzxy\"] and [\"zzyx\"].  Note that in particular, \"zzxy\" is not special equivalent to \"zzyx\".\n",
    "Example 2:\n",
    "\n",
    "Input: [\"abc\",\"acb\",\"bac\",\"bca\",\"cab\",\"cba\"]\n",
    "Output: 3"
   ]
  },
  {
   "cell_type": "code",
   "execution_count": 1,
   "metadata": {},
   "outputs": [],
   "source": [
    "def numSpecialEquivGroups(A):\n",
    "    return len({''.join(sorted(a[::2]) + sorted(a[1::2])) for a in A})"
   ]
  },
  {
   "cell_type": "code",
   "execution_count": null,
   "metadata": {},
   "outputs": [],
   "source": []
  }
 ],
 "metadata": {
  "kernelspec": {
   "display_name": "Python 3",
   "language": "python",
   "name": "python3"
  },
  "language_info": {
   "codemirror_mode": {
    "name": "ipython",
    "version": 3
   },
   "file_extension": ".py",
   "mimetype": "text/x-python",
   "name": "python",
   "nbconvert_exporter": "python",
   "pygments_lexer": "ipython3",
   "version": "3.7.5"
  }
 },
 "nbformat": 4,
 "nbformat_minor": 4
}
