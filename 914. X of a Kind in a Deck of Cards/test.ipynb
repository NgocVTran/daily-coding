{
 "cells": [
  {
   "cell_type": "markdown",
   "metadata": {},
   "source": [
    "In a deck of cards, each card has an integer written on it.\n",
    "\n",
    "Return true if and only if you can choose X >= 2 such that it is possible to split the entire deck into 1 or more groups of cards, where:\n",
    "\n",
    "Each group has exactly X cards.\n",
    "All the cards in each group have the same integer.\n",
    " \n",
    "\n",
    "Example 1:\n",
    "\n",
    "Input: deck = [1,2,3,4,4,3,2,1]\n",
    "Output: true\n",
    "Explanation: Possible partition [1,1],[2,2],[3,3],[4,4].\n",
    "Example 2:\n",
    "\n",
    "Input: deck = [1,1,1,2,2,2,3,3]\n",
    "Output: false´\n",
    "Explanation: No possible partition.\n",
    "Example 3:\n",
    "\n",
    "Input: deck = [1]\n",
    "Output: false\n",
    "Explanation: No possible partition.\n",
    "Example 4:\n",
    "\n",
    "Input: deck = [1,1]\n",
    "Output: true\n",
    "Explanation: Possible partition [1,1].\n",
    "Example 5:\n",
    "\n",
    "Input: deck = [1,1,2,2,2,2]\n",
    "Output: true\n",
    "Explanation: Possible partition [1,1],[2,2],[2,2]."
   ]
  },
  {
   "cell_type": "code",
   "execution_count": 23,
   "metadata": {},
   "outputs": [],
   "source": [
    "def hasGroupsSizeX(deck):\n",
    "    count = {}\n",
    "    for d in deck:\n",
    "        if d in count:\n",
    "            count[d] += 1\n",
    "        else: \n",
    "            count[d] = 1\n",
    "\n",
    "    mini = min(count.values())\n",
    "    \n",
    "    for i in range(mini+1,1,-1):\n",
    "        res = all(value % i ==0 for value in count.values())\n",
    "    \n",
    "        if res: \n",
    "            return True\n",
    "        \n",
    "    return False "
   ]
  },
  {
   "cell_type": "code",
   "execution_count": 24,
   "metadata": {},
   "outputs": [],
   "source": [
    "deck = [1,2,3,4,4,3,2,1]\n",
    "# Output: true\n",
    "\n",
    "# deck = [1,1,1,2,2,2,3,3]\n",
    "# # Output: false\n",
    "\n",
    "# deck = [1,1,1,2,2,2,3,3,3]\n",
    "# # Output: true\n",
    "\n",
    "# deck = [1]\n",
    "# # Output: false\n",
    "\n",
    "# deck = [1,1]\n",
    "# # Output: true"
   ]
  },
  {
   "cell_type": "code",
   "execution_count": 25,
   "metadata": {},
   "outputs": [
    {
     "data": {
      "text/plain": [
       "True"
      ]
     },
     "execution_count": 25,
     "metadata": {},
     "output_type": "execute_result"
    }
   ],
   "source": [
    "hasGroupsSizeX(deck)"
   ]
  },
  {
   "cell_type": "code",
   "execution_count": null,
   "metadata": {},
   "outputs": [],
   "source": [
    "if mini < 2:\n",
    "    return False\n",
    "for i in range(mini+1,1,-1):\n",
    "    res = all(value % i ==0 for value in count.values())\n",
    "    if res: return True\n",
    "return False "
   ]
  },
  {
   "cell_type": "code",
   "execution_count": null,
   "metadata": {},
   "outputs": [],
   "source": []
  },
  {
   "cell_type": "code",
   "execution_count": null,
   "metadata": {},
   "outputs": [],
   "source": []
  },
  {
   "cell_type": "code",
   "execution_count": null,
   "metadata": {},
   "outputs": [],
   "source": []
  }
 ],
 "metadata": {
  "kernelspec": {
   "display_name": "Python 3",
   "language": "python",
   "name": "python3"
  },
  "language_info": {
   "codemirror_mode": {
    "name": "ipython",
    "version": 3
   },
   "file_extension": ".py",
   "mimetype": "text/x-python",
   "name": "python",
   "nbconvert_exporter": "python",
   "pygments_lexer": "ipython3",
   "version": "3.7.5"
  }
 },
 "nbformat": 4,
 "nbformat_minor": 4
}
