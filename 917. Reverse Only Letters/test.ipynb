{
 "cells": [
  {
   "cell_type": "markdown",
   "metadata": {},
   "source": [
    "Given a string S, return the \"reversed\" string where all characters that are not a letter stay in the same place, and all letters reverse their positions.\n",
    "\n",
    " \n",
    "\n",
    "Example 1:\n",
    "\n",
    "Input: \"ab-cd\"\n",
    "Output: \"dc-ba\"\n",
    "Example 2:\n",
    "\n",
    "Input: \"a-bC-dEf-ghIj\"\n",
    "Output: \"j-Ih-gfE-dCba\"\n",
    "Example 3:\n",
    "\n",
    "Input: \"Test1ng-Leet=code-Q!\"\n",
    "Output: \"Qedo1ct-eeLg=ntse-T!\""
   ]
  },
  {
   "cell_type": "code",
   "execution_count": 122,
   "metadata": {},
   "outputs": [],
   "source": [
    "def reverseOnlyLetters(S):\n",
    "    s = (\"a\", \"A\", \"b\", \"B\", \"C\", \"c\", \"D\", \"d\", \n",
    "         \"E\", \"e\", \"F\", \"f\", \"G\", \"g\", \"H\", \"h\", \n",
    "         \"I\", \"i\", \"J\", \"j\", \"K\", \"k\", \"L\", \"l\", \n",
    "         \"M\", \"m\", \"N\", \"n\", \"O\", \"o\", \"P\", \"p\", \n",
    "         \"Q\", \"q\", \"R\", \"r\", \"S\", \"s\", \"T\", \"t\",\n",
    "         \"U\", \"u\", \"V\", \"v\", \"W\", \"w\", \"X\", \"x\",\n",
    "         \"Y\", \"y\", \"Z\", \"z\")\n",
    "    position = []\n",
    "    pure_S = \"\"\n",
    "    for idx, char in enumerate(S):\n",
    "        if char not in s:\n",
    "            position.append(idx)\n",
    "        else:\n",
    "            pure_S = pure_S + char\n",
    "    pure_S = pure_S[::-1]\n",
    "    position = tuple(position)\n",
    "    \n",
    "    result = \"\"\n",
    "    current = 0\n",
    "    for i in position:\n",
    "        result = result + pure_S[current:(i-position.index(i))] + S[i]\n",
    "        current = i-position.index(i)\n",
    "        \n",
    "    result = result + pure_S[current:]\n",
    "    return result"
   ]
  },
  {
   "cell_type": "code",
   "execution_count": 123,
   "metadata": {},
   "outputs": [],
   "source": [
    "S = \"a-bC-dEf-ghIj\"\n",
    "# Output: \"j-Ih-gfE-dCba\""
   ]
  },
  {
   "cell_type": "code",
   "execution_count": 124,
   "metadata": {},
   "outputs": [
    {
     "data": {
      "text/plain": [
       "'j-Ih-gfE-dCba'"
      ]
     },
     "execution_count": 124,
     "metadata": {},
     "output_type": "execute_result"
    }
   ],
   "source": [
    "reverseOnlyLetters(S)"
   ]
  },
  {
   "cell_type": "code",
   "execution_count": 128,
   "metadata": {},
   "outputs": [],
   "source": [
    "# two pointer\n",
    "def reverseOnlyLetters(S):\n",
    "    S = [i for i in S]\n",
    "    i,j = 0,len(S)-1\n",
    "    while j > i:\n",
    "        if ord(S[i]) < 65 or (ord(S[i]) > 90 and ord(S[i]) < 97):\n",
    "            i += 1\n",
    "        elif ord(S[j]) < 65 or (ord(S[j]) > 90 and ord(S[j]) < 97):\n",
    "            j -= 1\n",
    "        else:\n",
    "            S[i],S[j] = S[j],S[i]\n",
    "            i += 1\n",
    "            j -= 1\n",
    "    return \"\".join(S)"
   ]
  },
  {
   "cell_type": "code",
   "execution_count": 129,
   "metadata": {},
   "outputs": [
    {
     "data": {
      "text/plain": [
       "'j-Ih-gfE-dCba'"
      ]
     },
     "execution_count": 129,
     "metadata": {},
     "output_type": "execute_result"
    }
   ],
   "source": [
    "reverseOnlyLetters(S)"
   ]
  },
  {
   "cell_type": "code",
   "execution_count": null,
   "metadata": {},
   "outputs": [],
   "source": []
  },
  {
   "cell_type": "code",
   "execution_count": null,
   "metadata": {},
   "outputs": [],
   "source": []
  },
  {
   "cell_type": "code",
   "execution_count": null,
   "metadata": {},
   "outputs": [],
   "source": []
  },
  {
   "cell_type": "code",
   "execution_count": null,
   "metadata": {},
   "outputs": [],
   "source": []
  },
  {
   "cell_type": "code",
   "execution_count": null,
   "metadata": {},
   "outputs": [],
   "source": []
  },
  {
   "cell_type": "code",
   "execution_count": null,
   "metadata": {},
   "outputs": [],
   "source": []
  },
  {
   "cell_type": "code",
   "execution_count": null,
   "metadata": {},
   "outputs": [],
   "source": []
  },
  {
   "cell_type": "code",
   "execution_count": null,
   "metadata": {},
   "outputs": [],
   "source": []
  }
 ],
 "metadata": {
  "kernelspec": {
   "display_name": "Python 3",
   "language": "python",
   "name": "python3"
  },
  "language_info": {
   "codemirror_mode": {
    "name": "ipython",
    "version": 3
   },
   "file_extension": ".py",
   "mimetype": "text/x-python",
   "name": "python",
   "nbconvert_exporter": "python",
   "pygments_lexer": "ipython3",
   "version": "3.7.5"
  }
 },
 "nbformat": 4,
 "nbformat_minor": 4
}
