{
 "cells": [
  {
   "cell_type": "markdown",
   "metadata": {},
   "source": [
    "Given an array A of non-negative integers, half of the integers in A are odd, and half of the integers are even.\n",
    "\n",
    "Sort the array so that whenever A[i] is odd, i is odd; and whenever A[i] is even, i is even.\n",
    "\n",
    "You may return any answer array that satisfies this condition.\n",
    "\n",
    " \n",
    "\n",
    "Example 1:\n",
    "\n",
    "Input: [4,2,5,7]\n",
    "Output: [4,5,2,7]\n",
    "Explanation: [4,7,2,5], [2,5,4,7], [2,7,4,5] would also have been accepted."
   ]
  },
  {
   "cell_type": "code",
   "execution_count": 56,
   "metadata": {},
   "outputs": [],
   "source": [
    "# A = [4,2,5,7]\n",
    "# A = [2,3]\n",
    "# A = [4,1,2,1] # [4,1,2,1]\n",
    "# A = [1,4,4,3,0,3]\n",
    "A = [4,1,1,0,1,0]"
   ]
  },
  {
   "cell_type": "code",
   "execution_count": 63,
   "metadata": {},
   "outputs": [],
   "source": [
    "def sortArrayByParityII(A):\n",
    "    # first, start with sort to array with first half is even, \n",
    "    # then second half is odd\n",
    "    # by using sortArrayByParityI\n",
    "    i = 0\n",
    "    j = len(A)-1\n",
    "\n",
    "    while i<j:\n",
    "        if A[i]%2==0 and A[j]%2==1:\n",
    "            i = i+1\n",
    "\n",
    "        if A[i]%2==1 and A[j]%2==0:\n",
    "            A[i], A[j] = A[j], A[i]\n",
    "            j = j-1\n",
    "\n",
    "        if A[i]%2==0 and A[j]%2==0:\n",
    "            i = i+1\n",
    "        else:\n",
    "            j = j-1\n",
    "    \n",
    "    # then switch position  \n",
    "    ite = 1\n",
    "    jte = len(A)-2\n",
    "    while ite<jte:\n",
    "        A[ite], A[jte] = A[jte], A[ite]\n",
    "        ite = ite+2\n",
    "        jte = jte-2\n",
    "    \n",
    "    return A"
   ]
  },
  {
   "cell_type": "code",
   "execution_count": 64,
   "metadata": {},
   "outputs": [
    {
     "data": {
      "text/plain": [
       "[4, 1, 0, 1, 0, 1]"
      ]
     },
     "execution_count": 64,
     "metadata": {},
     "output_type": "execute_result"
    }
   ],
   "source": [
    "sortArrayByParityII(A)"
   ]
  },
  {
   "cell_type": "code",
   "execution_count": null,
   "metadata": {},
   "outputs": [],
   "source": []
  }
 ],
 "metadata": {
  "kernelspec": {
   "display_name": "Python 3",
   "language": "python",
   "name": "python3"
  },
  "language_info": {
   "codemirror_mode": {
    "name": "ipython",
    "version": 3
   },
   "file_extension": ".py",
   "mimetype": "text/x-python",
   "name": "python",
   "nbconvert_exporter": "python",
   "pygments_lexer": "ipython3",
   "version": "3.7.5"
  }
 },
 "nbformat": 4,
 "nbformat_minor": 4
}
