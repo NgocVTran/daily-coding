{
 "cells": [
  {
   "cell_type": "markdown",
   "metadata": {},
   "source": [
    "Your friend is typing his name into a keyboard.  Sometimes, when typing a character c, the key might get long pressed, and the character will be typed 1 or more times.\n",
    "\n",
    "You examine the typed characters of the keyboard.  Return True if it is possible that it was your friends name, with some characters (possibly none) being long pressed.\n",
    "\n",
    " \n",
    "\n",
    "Example 1:\n",
    "\n",
    "Input: name = \"alex\", typed = \"aaleex\"\n",
    "Output: true\n",
    "Explanation: 'a' and 'e' in 'alex' were long pressed.\n",
    "Example 2:\n",
    "\n",
    "Input: name = \"saeed\", typed = \"ssaaedd\"\n",
    "Output: false\n",
    "Explanation: 'e' must have been pressed twice, but it wasn't in the typed output.\n",
    "Example 3:\n",
    "\n",
    "Input: name = \"leelee\", typed = \"lleeelee\"\n",
    "Output: true\n",
    "Example 4:\n",
    "\n",
    "Input: name = \"laiden\", typed = \"laiden\"\n",
    "Output: true\n",
    "Explanation: It's not necessary to long press any character."
   ]
  },
  {
   "cell_type": "code",
   "execution_count": null,
   "metadata": {},
   "outputs": [],
   "source": []
  },
  {
   "cell_type": "code",
   "execution_count": 46,
   "metadata": {},
   "outputs": [],
   "source": [
    "def isLongPressedName(name, typed):\n",
    "#     i = 0\n",
    "#     j = 0\n",
    "    \n",
    "#     while i<len(name) and j<len(typed):\n",
    "#         if name[i] == typed[j]:\n",
    "#             i = i+1\n",
    "#             j = j+1\n",
    "#         elif typed[j] == name[i-1]:\n",
    "#             j = j+1\n",
    "#         else:\n",
    "#             return False\n",
    "    \n",
    "#     print(i,j)\n",
    "    \n",
    "#     return i == len(name)\n",
    "\n",
    "    #to determine if name is contained in typed.(equal by reduce some duplicate letters without reduce all)\n",
    "    #two pointer,when not match,check if j is same as last letter.\n",
    "#     i = 0\n",
    "#     j = 0\n",
    "    \n",
    "#     m = len(name)\n",
    "#     n = len(typed)\n",
    "    \n",
    "#     while j<n:\n",
    "#         if i<m and name[i]==typed[j]:\n",
    "#             i+=1\n",
    "#             j+=1\n",
    "#         elif typed[j]==name[i-1]:\n",
    "#             j+=1\n",
    "#         else:\n",
    "#             return False \n",
    "#     return i==m"
   ]
  },
  {
   "cell_type": "code",
   "execution_count": null,
   "metadata": {},
   "outputs": [],
   "source": []
  },
  {
   "cell_type": "markdown",
   "metadata": {},
   "source": [
    "The idea is to iterate through the typed string, because it's longer, checking against a particular location in name as you go. There are only a couple of possibilities:\n",
    "\n",
    "There is a match (name[i] == typed[j]). In this case you want to increment both pointers.\n",
    "There isn't a match and (given by else condition to case 1) there also isn't a match to the previous character in name (not name[i-1] == typed[j]), in which case it's clear the strings don't meet the condition.\n",
    "Note you also have to be careful with the pointer i in to name, because it starts off not large enough to index name at i-1, and it can keep growing so long as there are matches. So ensure it's greater than zero before entering the second condition, and cap it at len(name) for the cases like ['vtkgn', 'vttkgnn']: i ends up being 5 at the end there while j keeps running along the extra 'n's, so we fall in to the second condition and check name[i-1] against typed[j].\n",
    "\n",
    "If we violate both conditions, we know the things don't match, so we can return False immediately. If we meet both conditions for the duration of typed, then we only have to make sure we've also gotten entirely through the name so we catch cases like ['pyplrz', 'ppyypllr'].\n",
    "\n",
    "    i = 0\n",
    "    for j in range(len(typed)):\n",
    "        if i < len(name) and name[i] == typed[j]:\n",
    "            i += 1\n",
    "        elif not i > 0 and name[i-1] == typed[j]:\n",
    "            return False\n",
    "    return i == len(name)"
   ]
  },
  {
   "cell_type": "code",
   "execution_count": 55,
   "metadata": {},
   "outputs": [],
   "source": [
    "def isLongPressedName(name, typed):\n",
    "    i,j,l1,l2 = 0,0,len(name),len(typed)\n",
    "    while (j<l2):\n",
    "        if i<l1 and typed[j]==name[i]: i,j = i+1,j+1\n",
    "        elif j>0 and typed[j]==typed[j-1]: j+=1\n",
    "        else: return False\n",
    "    return False if i<l1 else True"
   ]
  },
  {
   "cell_type": "code",
   "execution_count": 58,
   "metadata": {},
   "outputs": [],
   "source": [
    "def isLongPressedName(name, typed):\n",
    "    i, j = 0, 0\n",
    "    while j < len(typed):\n",
    "        if i < len(name) and name[i] == typed[j]:\n",
    "            i += 1\n",
    "            j += 1\n",
    "        elif j != 0 and typed[j] == typed[j-1]:\n",
    "            j += 1\n",
    "        else:\n",
    "            return False\n",
    "    return i == len(name) and j == len(typed)"
   ]
  },
  {
   "cell_type": "code",
   "execution_count": 59,
   "metadata": {},
   "outputs": [],
   "source": [
    "# name = \"alex\"\n",
    "# typed = \"aaleex\"\n",
    "\n",
    "# name = \"saeed\"\n",
    "# typed = \"ssaaedd\"\n",
    "# # False\n",
    "\n",
    "# name = \"leelee\"\n",
    "# typed = \"lleeelee\"\n",
    "\n",
    "# name = \"laiden\"\n",
    "# typed = \"laiden\"\n",
    "\n",
    "# name = \"alex\"\n",
    "# typed = \"aaleelx\"\n",
    "# # False\n",
    "\n",
    "name = \"alex\"\n",
    "typed = \"alexxr\"\n",
    "# False"
   ]
  },
  {
   "cell_type": "code",
   "execution_count": 60,
   "metadata": {},
   "outputs": [
    {
     "data": {
      "text/plain": [
       "False"
      ]
     },
     "execution_count": 60,
     "metadata": {},
     "output_type": "execute_result"
    }
   ],
   "source": [
    "isLongPressedName(name, typed)"
   ]
  },
  {
   "cell_type": "code",
   "execution_count": null,
   "metadata": {},
   "outputs": [],
   "source": []
  },
  {
   "cell_type": "code",
   "execution_count": null,
   "metadata": {},
   "outputs": [],
   "source": []
  },
  {
   "cell_type": "code",
   "execution_count": null,
   "metadata": {},
   "outputs": [],
   "source": []
  },
  {
   "cell_type": "code",
   "execution_count": null,
   "metadata": {},
   "outputs": [],
   "source": []
  }
 ],
 "metadata": {
  "kernelspec": {
   "display_name": "Python 3",
   "language": "python",
   "name": "python3"
  },
  "language_info": {
   "codemirror_mode": {
    "name": "ipython",
    "version": 3
   },
   "file_extension": ".py",
   "mimetype": "text/x-python",
   "name": "python",
   "nbconvert_exporter": "python",
   "pygments_lexer": "ipython3",
   "version": "3.7.5"
  }
 },
 "nbformat": 4,
 "nbformat_minor": 4
}
