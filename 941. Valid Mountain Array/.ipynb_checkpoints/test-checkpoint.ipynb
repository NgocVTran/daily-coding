{
 "cells": [
  {
   "cell_type": "markdown",
   "metadata": {},
   "source": [
    "Given an array A of integers, return true if and only if it is a valid mountain array.\n",
    "\n",
    "Recall that A is a mountain array if and only if:\n",
    "\n",
    "A.length >= 3\n",
    "There exists some i with 0 < i < A.length - 1 such that:\n",
    "A[0] < A[1] < ... A[i-1] < A[i]\n",
    "A[i] > A[i+1] > ... > A[A.length - 1]\n",
    "\n",
    "\n",
    "Example 1:\n",
    "\n",
    "Input: [2,1]\n",
    "Output: false\n",
    "Example 2:\n",
    "\n",
    "Input: [3,5,5]\n",
    "Output: false\n",
    "Example 3:\n",
    "\n",
    "Input: [0,3,2,1]\n",
    "Output: true"
   ]
  },
  {
   "cell_type": "code",
   "execution_count": 81,
   "metadata": {},
   "outputs": [],
   "source": [
    "def validMountainArray(A):\n",
    "    if len(A)<3:\n",
    "        return False\n",
    "    \n",
    "    i=1 \n",
    "    while i<len(A) and A[i-1]<A[i]:\n",
    "        i+=1\n",
    "    if i==1 or i == len(A):\n",
    "        return False\n",
    "    while i<len(A) and A[i-1]>A[i]:\n",
    "        i+=1\n",
    "    \n",
    "    return i==len(A)"
   ]
  },
  {
   "cell_type": "code",
   "execution_count": 82,
   "metadata": {},
   "outputs": [],
   "source": [
    "# A = [2,1]\n",
    "# # Output: false\n",
    "\n",
    "A = [3,5,5]\n",
    "# Output: false\n",
    "\n",
    "# # A = [0,3,2,1]\n",
    "# # # Output: true\n",
    "\n",
    "# A = [] # false\n",
    "\n",
    "# A = [0,1,2,3,4,5,6,7,8,9] # false\n",
    "\n",
    "# A = [1,7,9,5,4,1,2] # false"
   ]
  },
  {
   "cell_type": "code",
   "execution_count": 83,
   "metadata": {},
   "outputs": [
    {
     "data": {
      "text/plain": [
       "False"
      ]
     },
     "execution_count": 83,
     "metadata": {},
     "output_type": "execute_result"
    }
   ],
   "source": [
    "validMountainArray(A)"
   ]
  },
  {
   "cell_type": "code",
   "execution_count": 66,
   "metadata": {},
   "outputs": [
    {
     "data": {
      "text/plain": [
       "0"
      ]
     },
     "execution_count": 66,
     "metadata": {},
     "output_type": "execute_result"
    }
   ],
   "source": [
    "len([])"
   ]
  },
  {
   "cell_type": "code",
   "execution_count": null,
   "metadata": {},
   "outputs": [],
   "source": []
  }
 ],
 "metadata": {
  "kernelspec": {
   "display_name": "Python 3",
   "language": "python",
   "name": "python3"
  },
  "language_info": {
   "codemirror_mode": {
    "name": "ipython",
    "version": 3
   },
   "file_extension": ".py",
   "mimetype": "text/x-python",
   "name": "python",
   "nbconvert_exporter": "python",
   "pygments_lexer": "ipython3",
   "version": "3.7.5"
  }
 },
 "nbformat": 4,
 "nbformat_minor": 4
}
