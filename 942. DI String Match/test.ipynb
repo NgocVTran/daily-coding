{
 "cells": [
  {
   "cell_type": "markdown",
   "id": "c30eb6ef",
   "metadata": {},
   "source": [
    "A permutation perm of n + 1 integers of all the integers in the range [0, n] can be represented as a string s of length n where:\n",
    "\n",
    "s[i] == 'I' if perm[i] < perm[i + 1], and\n",
    "s[i] == 'D' if perm[i] > perm[i + 1].\n",
    "Given a string s, reconstruct the permutation perm and return it. If there are multiple valid permutations perm, return any of them.\n",
    "\n",
    " \n",
    "\n",
    "Example 1:\n",
    "\n",
    "Input: s = \"IDID\"\n",
    "Output: [0,4,1,3,2]\n",
    "Example 2:\n",
    "\n",
    "Input: s = \"III\"\n",
    "Output: [0,1,2,3]\n",
    "Example 3:\n",
    "\n",
    "Input: s = \"DDI\"\n",
    "Output: [3,2,0,1]\n",
    " \n",
    "\n",
    "Constraints:\n",
    "\n",
    "1 <= s.length <= 105\n",
    "s[i] is either 'I' or 'D'."
   ]
  },
  {
   "cell_type": "code",
   "execution_count": 4,
   "id": "b7e0d997",
   "metadata": {},
   "outputs": [],
   "source": [
    "def diStringMatch(s):\n",
    "    res = []\n",
    "    top = len(s)\n",
    "    low = 0\n",
    "    for c in s:\n",
    "        if c == 'I':\n",
    "            res.append(low)\n",
    "            low += 1\n",
    "        if c == 'D':\n",
    "            res.append(top)\n",
    "            top -= 1\n",
    "    return res + [top]\n",
    "    return"
   ]
  },
  {
   "cell_type": "code",
   "execution_count": 5,
   "id": "3d0211f5",
   "metadata": {},
   "outputs": [],
   "source": [
    "s = \"IDID\"\n",
    "# Output: [0,4,1,3,2]\n",
    "\n",
    "# s = \"III\"\n",
    "# # Output: [0,1,2,3]\n",
    "\n",
    "# Input: s = \"DDI\"\n",
    "# # Output: [3,2,0,1]"
   ]
  },
  {
   "cell_type": "code",
   "execution_count": 6,
   "id": "f91ca213",
   "metadata": {},
   "outputs": [
    {
     "data": {
      "text/plain": [
       "[0, 4, 1, 3, 2]"
      ]
     },
     "execution_count": 6,
     "metadata": {},
     "output_type": "execute_result"
    }
   ],
   "source": [
    "# Intuition\n",
    "\n",
    "# If we see say S[0] == 'I', we can always put 0 as the first element; similarly,\n",
    "# if we see S[0] == 'D', we can always put N as the first element.\n",
    "\n",
    "# Say we have a match for the rest of the string S[1], S[2], ... using N distinct\n",
    "# elements. Notice it doesn't matter what the elements are, only that they are \n",
    "# distinct and totally ordered. Then, putting 0 or N at the first character \n",
    "# will match, and the rest of the elements (1, 2, ..., N or 0, 1, ..., N-1) \n",
    "# can use the matching we have.\n",
    "\n",
    "# Algorithm\n",
    "\n",
    "# Keep track of the smallest and largest element we haven't placed. If we see \n",
    "# an 'I', place the small element; otherwise place the large element.\n",
    "\n",
    "diStringMatch(s)"
   ]
  },
  {
   "cell_type": "code",
   "execution_count": null,
   "id": "7d774e64",
   "metadata": {},
   "outputs": [],
   "source": []
  },
  {
   "cell_type": "code",
   "execution_count": null,
   "id": "aee8da44",
   "metadata": {},
   "outputs": [],
   "source": []
  }
 ],
 "metadata": {
  "kernelspec": {
   "display_name": "Python 3 (ipykernel)",
   "language": "python",
   "name": "python3"
  },
  "language_info": {
   "codemirror_mode": {
    "name": "ipython",
    "version": 3
   },
   "file_extension": ".py",
   "mimetype": "text/x-python",
   "name": "python",
   "nbconvert_exporter": "python",
   "pygments_lexer": "ipython3",
   "version": "3.9.7"
  }
 },
 "nbformat": 4,
 "nbformat_minor": 5
}
