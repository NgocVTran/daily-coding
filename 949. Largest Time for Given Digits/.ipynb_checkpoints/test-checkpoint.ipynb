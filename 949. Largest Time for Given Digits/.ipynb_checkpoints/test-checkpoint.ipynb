{
 "cells": [
  {
   "cell_type": "markdown",
   "metadata": {},
   "source": [
    "Given an array of 4 digits, return the largest 24 hour time that can be made.\n",
    "\n",
    "The smallest 24 hour time is 00:00, and the largest is 23:59.  Starting from 00:00, a time is larger if more time has elapsed since midnight.\n",
    "\n",
    "Return the answer as a string of length 5.  If no valid time can be made, return an empty string.\n",
    "\n",
    " \n",
    "\n",
    "Example 1:\n",
    "\n",
    "Input: [1,2,3,4]\n",
    "Output: \"23:41\"\n",
    "Example 2:\n",
    "\n",
    "Input: [5,5,5,5]\n",
    "Output: \"\""
   ]
  },
  {
   "cell_type": "code",
   "execution_count": 1,
   "metadata": {},
   "outputs": [],
   "source": [
    "# format {1}{2}:{3}{4}\n",
    "# max number in {1} can be 2\n",
    "# max number in {2} can go upto 9 if {1} is 0 or 1 else can be upto 3 if {1} is 2\n",
    "# max number in {3} can go upto 5\n",
    "# max number in {4} can go upto 9"
   ]
  },
  {
   "cell_type": "code",
   "execution_count": 3,
   "metadata": {},
   "outputs": [],
   "source": [
    "\"\"\"\n",
    "if 2 is there in digits then we need to check how many digits are greater than 5\n",
    "if there are two digits > 5 then we cannot set 2 as first digit in hour\n",
    "\n",
    "e.g. if digits are [2,1,6,6]\n",
    "now in this we cannot select 2 as first digit in hour because doing so according \n",
    "to below code we would end up selecting second digit as 1 as it cannot exceed 3 \n",
    "if 2 is set as first digit thus now minutes cannot exceed 59 thus we would end\n",
    "up getting \"\" string as output which is not correct. As correct answer is 16:26.\n",
    "Thus, in this particular case we will restrict first digit to be max 1 and then \n",
    "follow the below logic to choose max time if valid time could be made.\n",
    "\n",
    "\"\"\""
   ]
  },
  {
   "cell_type": "code",
   "execution_count": 1,
   "metadata": {},
   "outputs": [],
   "source": [
    "def largestTimeFromDigits(A):\n",
    "#     m = max(A)\n",
    "#     n = len(A)\n",
    "#     sensitive = {0,1,3}\n",
    "    \n",
    "    result = [0,0,0,0]\n",
    "    \n",
    "    bigger = [i for i in A if i>=6]\n",
    "    if len(bigger)>=2 or len(A)<4:\n",
    "        return \"\"\n",
    "    else:\n",
    "        result[3] = bigger[0]\n",
    "        \n",
    "    \n",
    "    \n",
    "#     if 2 in A:\n",
    "#         if n>1:\n",
    "#             if m!=2:\n",
    "                \n",
    "    \n",
    "    return"
   ]
  },
  {
   "cell_type": "code",
   "execution_count": 2,
   "metadata": {},
   "outputs": [],
   "source": [
    "A = [1,2,3,4]\n",
    "# Output: \"23:41\"\n",
    "    \n",
    "# [5,5,5,5]\n",
    "# Output: \"\"    "
   ]
  },
  {
   "cell_type": "code",
   "execution_count": 3,
   "metadata": {},
   "outputs": [],
   "source": [
    "largestTimeFromDigits(A)"
   ]
  },
  {
   "cell_type": "code",
   "execution_count": 6,
   "metadata": {},
   "outputs": [],
   "source": [
    "def largestTimeFromDigits(arr):\n",
    "    # format {1}{2}:{3}{4}\n",
    "    # max number in {1} can be 2\n",
    "    # max number in {2} can go upto 9 if {1} is 0 or 1 else can be upto 3 if {1} is 2\n",
    "    # max number in {3} can go upto 5\n",
    "    # max number in {4} can go upto 9\n",
    "\n",
    "\n",
    "    \"\"\"\n",
    "        if 2 is there in digits then we need to check how many digits are greater than 5\n",
    "        if there are two digits > 5 then we cannot set 2 as first digit in hour\n",
    "\n",
    "        e.g. if digits are [2,1,6,6]\n",
    "        now in this we cannot select 2 as first digit in hour because doing so according \n",
    "        to below code we would end up selecting second digit as 1 as it cannot exceed 3 \n",
    "        if 2 is set as first digit thus now minutes cannot exceed 59 thus we would end\n",
    "        up getting \"\" string as output which is not correct. As correct answer is 16:26.\n",
    "        Thus, in this particular case we will restrict first digit to be max 1 and then \n",
    "        follow the below logic to choose max time if valid time could be made.\n",
    "\n",
    "    \"\"\"\n",
    "    is_2_present = False\n",
    "    # calculate how many numbers are greater than 5\n",
    "    c5 = 0\n",
    "\n",
    "    max_possible_h1 = 2\n",
    "\n",
    "    for num in arr:\n",
    "        if num == 2:\n",
    "            is_2_present = True\n",
    "        if num > 5:\n",
    "            c5 += 1\n",
    "\n",
    "    if c5 > 2:\n",
    "        return \"\"\n",
    "    if is_2_present and c5 == 2:\n",
    "        max_possible_h1 = 1\n",
    "\n",
    "    # get max possible {1}\n",
    "    h1 = -1\n",
    "    h1_idx = -1\n",
    "    for idx, num in enumerate(arr):\n",
    "        if num <= max_possible_h1 and num > h1:\n",
    "            h1 = num\n",
    "            h1_idx = idx\n",
    "\n",
    "    if h1 == -1:\n",
    "        return \"\"\n",
    "    # get max possible {2}\n",
    "    h2 = -1\n",
    "    h2_idx = -1\n",
    "    max_possible_h2 = 9 if h1 < 2 else 3\n",
    "    # then max possible is 9\n",
    "    for idx, num in enumerate(arr):\n",
    "        if num <= max_possible_h2 and idx != h1_idx and num > h2:\n",
    "            h2 = num\n",
    "            h2_idx = idx\n",
    "    if h2 == -1:\n",
    "        return \"\"\n",
    "\n",
    "    # get max possible {3}\n",
    "    m1 = -1\n",
    "    m1_idx = -1\n",
    "    for idx, num in enumerate(arr):\n",
    "        if num <= 5 and idx != h1_idx and idx != h2_idx and num > m1:\n",
    "            m1 = num\n",
    "            m1_idx = idx\n",
    "    if m1 == -1:\n",
    "        return \"\"\n",
    "\n",
    "    m2 = -1\n",
    "    for idx, num in enumerate(arr):\n",
    "        if idx != h1_idx and idx != h2_idx and idx != m1_idx:\n",
    "            m2 = num\n",
    "    if m2 == -1:\n",
    "        return \"\"\n",
    "\n",
    "    return str(h1) + str(h2) + \":\" + str(m1) + str(m2)"
   ]
  },
  {
   "cell_type": "code",
   "execution_count": null,
   "metadata": {},
   "outputs": [],
   "source": []
  },
  {
   "cell_type": "code",
   "execution_count": null,
   "metadata": {},
   "outputs": [],
   "source": []
  },
  {
   "cell_type": "code",
   "execution_count": null,
   "metadata": {},
   "outputs": [],
   "source": []
  }
 ],
 "metadata": {
  "kernelspec": {
   "display_name": "Python 3",
   "language": "python",
   "name": "python3"
  },
  "language_info": {
   "codemirror_mode": {
    "name": "ipython",
    "version": 3
   },
   "file_extension": ".py",
   "mimetype": "text/x-python",
   "name": "python",
   "nbconvert_exporter": "python",
   "pygments_lexer": "ipython3",
   "version": "3.7.5"
  }
 },
 "nbformat": 4,
 "nbformat_minor": 4
}
