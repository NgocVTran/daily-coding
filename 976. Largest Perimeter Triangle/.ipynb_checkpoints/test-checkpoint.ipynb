{
 "cells": [
  {
   "cell_type": "markdown",
   "metadata": {},
   "source": [
    "Given an array A of positive lengths, return the largest perimeter of a triangle with non-zero area, formed from 3 of these lengths.\n",
    "\n",
    "If it is impossible to form any triangle of non-zero area, return 0.\n",
    "\n",
    " \n",
    "\n",
    "Example 1:\n",
    "\n",
    "Input: [2,1,2]\n",
    "Output: 5\n",
    "Example 2:\n",
    "\n",
    "Input: [1,2,1]\n",
    "Output: 0\n",
    "Example 3:\n",
    "\n",
    "Input: [3,2,3,4]\n",
    "Output: 10\n",
    "Example 4:\n",
    "\n",
    "Input: [3,6,2,3]\n",
    "Output: 8"
   ]
  },
  {
   "cell_type": "code",
   "execution_count": 15,
   "metadata": {},
   "outputs": [],
   "source": [
    "def largestPerimeter(A):\n",
    "    A = sorted(A, reverse=True)\n",
    "    a,b,c = A[:3]\n",
    "    \n",
    "    i = 3\n",
    "    while b+c<=a and i<len(A):\n",
    "        a,b,c = b,c,A[i]\n",
    "        i = i+1\n",
    "    \n",
    "    if b+c>a:\n",
    "        return a+b+c\n",
    "    else:\n",
    "        return 0"
   ]
  },
  {
   "cell_type": "code",
   "execution_count": 16,
   "metadata": {},
   "outputs": [],
   "source": [
    "# A = [2,1,2]\n",
    "# # Output: 5\n",
    "\n",
    "# A = [1,2,1]\n",
    "# # Output: 0\n",
    "\n",
    "A = [3,2,3,4]\n",
    "# Output: 10\n",
    "\n",
    "# A = [3,6,2,3]\n",
    "# # Output: 8"
   ]
  },
  {
   "cell_type": "code",
   "execution_count": 17,
   "metadata": {},
   "outputs": [
    {
     "data": {
      "text/plain": [
       "10"
      ]
     },
     "execution_count": 17,
     "metadata": {},
     "output_type": "execute_result"
    }
   ],
   "source": [
    "largestPerimeter(A)"
   ]
  },
  {
   "cell_type": "markdown",
   "metadata": {},
   "source": [
    "### explaination"
   ]
  },
  {
   "cell_type": "markdown",
   "metadata": {},
   "source": [
    "The mental model that I have is we keep a set of three elements\n",
    "    and determine if the set is valid to make a triangular.\n",
    "\n",
    "    One can find all possible combinations but a better way would be\n",
    "    sorting everyone first and then start with longer sides.\n",
    "    \n",
    "    more specifically, we start_ with_ the longest three sides, and_ if_\n",
    "    that does not_ work_, we pop the biggest one and_ replace_ that one\n",
    "    with the next biggest one in the array_ (the fourth largest if\n",
    "    you are still following_ my logic).\n",
    "\n",
    "    Implementation detail:\n",
    "    Update all three elements would be both less error prone and elegant\n",
    "        a, b, c = b, c, A[i]"
   ]
  },
  {
   "cell_type": "code",
   "execution_count": null,
   "metadata": {},
   "outputs": [],
   "source": []
  }
 ],
 "metadata": {
  "kernelspec": {
   "display_name": "Python 3",
   "language": "python",
   "name": "python3"
  },
  "language_info": {
   "codemirror_mode": {
    "name": "ipython",
    "version": 3
   },
   "file_extension": ".py",
   "mimetype": "text/x-python",
   "name": "python",
   "nbconvert_exporter": "python",
   "pygments_lexer": "ipython3",
   "version": "3.7.5"
  }
 },
 "nbformat": 4,
 "nbformat_minor": 4
}
