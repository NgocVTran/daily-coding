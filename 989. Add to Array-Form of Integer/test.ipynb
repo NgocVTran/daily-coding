{
 "cells": [
  {
   "cell_type": "markdown",
   "metadata": {},
   "source": [
    "For a non-negative integer X, the array-form of X is an array of its digits in left to right order.  For example, if X = 1231, then the array form is [1,2,3,1].\n",
    "\n",
    "Given the array-form A of a non-negative integer X, return the array-form of the integer X+K.\n",
    "\n",
    " \n",
    "\n",
    "Example 1:\n",
    "\n",
    "Input: A = [1,2,0,0], K = 34\n",
    "Output: [1,2,3,4]\n",
    "Explanation: 1200 + 34 = 1234\n",
    "Example 2:\n",
    "\n",
    "Input: A = [2,7,4], K = 181\n",
    "Output: [4,5,5]\n",
    "Explanation: 274 + 181 = 455\n",
    "Example 3:\n",
    "\n",
    "Input: A = [2,1,5], K = 806\n",
    "Output: [1,0,2,1]\n",
    "Explanation: 215 + 806 = 1021\n",
    "Example 4:\n",
    "\n",
    "Input: A = [9,9,9,9,9,9,9,9,9,9], K = 1\n",
    "Output: [1,0,0,0,0,0,0,0,0,0,0]\n",
    "Explanation: 9999999999 + 1 = 10000000000\n",
    " \n",
    "\n",
    "Note：\n",
    "\n",
    "1 <= A.length <= 10000\n",
    "0 <= A[i] <= 9\n",
    "0 <= K <= 10000\n",
    "If A.length > 1, then A[0] != 0"
   ]
  },
  {
   "cell_type": "code",
   "execution_count": 15,
   "metadata": {},
   "outputs": [],
   "source": [
    "def addToArrayForm(A, K):\n",
    "    a = int(\"\".join(str(i) for i in A))\n",
    "    return [i for i in str(a + K)]"
   ]
  },
  {
   "cell_type": "code",
   "execution_count": 22,
   "metadata": {},
   "outputs": [],
   "source": [
    "# another solution\n",
    "def addToArrayForm(A, K):\n",
    "    A.reverse()\n",
    "    i = 0\n",
    "\n",
    "    while K != 0:\n",
    "        if i == len(A):\n",
    "            A.append(0)\n",
    "        A[i] = A[i] + K % 10\n",
    "        K //= 10\n",
    "        i += 1\n",
    "\n",
    "    for i in range(len(A) - 1):\n",
    "        if A[i] > 9:\n",
    "            A[i] %= 10\n",
    "            A[i + 1] += 1\n",
    "\n",
    "    if A[-1] > 9:\n",
    "        A.append(0)\n",
    "        A[-2] %= 10\n",
    "        A[-1] = 1\n",
    "\n",
    "    A.reverse()\n",
    "    return A"
   ]
  },
  {
   "cell_type": "code",
   "execution_count": 20,
   "metadata": {},
   "outputs": [],
   "source": [
    "# A = [1,2,0,0]\n",
    "# K = 34\n",
    "# # Output: [1,2,3,4]\n",
    "\n",
    "# A = [2,7,4]\n",
    "# K = 181\n",
    "# # Output: [4,5,5]\n",
    "\n",
    "# A = [2,1,5]\n",
    "# K = 806\n",
    "# # Output: [1,0,2,1]\n",
    "\n",
    "A = [9,9,9,9,9,9,9,9,9,9]\n",
    "K = 1\n",
    "# Output: [1,0,0,0,0,0,0,0,0,0,0]"
   ]
  },
  {
   "cell_type": "code",
   "execution_count": 21,
   "metadata": {},
   "outputs": [
    {
     "data": {
      "text/plain": [
       "['1', '0', '0', '0', '0', '0', '0', '0', '0', '0', '0']"
      ]
     },
     "execution_count": 21,
     "metadata": {},
     "output_type": "execute_result"
    }
   ],
   "source": [
    "addToArrayForm(A, K)"
   ]
  },
  {
   "cell_type": "code",
   "execution_count": null,
   "metadata": {},
   "outputs": [],
   "source": []
  },
  {
   "cell_type": "code",
   "execution_count": null,
   "metadata": {},
   "outputs": [],
   "source": []
  }
 ],
 "metadata": {
  "kernelspec": {
   "display_name": "Python 3",
   "language": "python",
   "name": "python3"
  },
  "language_info": {
   "codemirror_mode": {
    "name": "ipython",
    "version": 3
   },
   "file_extension": ".py",
   "mimetype": "text/x-python",
   "name": "python",
   "nbconvert_exporter": "python",
   "pygments_lexer": "ipython3",
   "version": "3.7.5"
  }
 },
 "nbformat": 4,
 "nbformat_minor": 4
}
