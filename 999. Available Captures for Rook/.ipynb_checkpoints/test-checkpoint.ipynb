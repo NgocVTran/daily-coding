{
 "cells": [
  {
   "cell_type": "markdown",
   "metadata": {},
   "source": [
    "On an 8 x 8 chessboard, there is one white rook.  There also may be empty squares, white bishops, and black pawns.  These are given as characters 'R', '.', 'B', and 'p' respectively. Uppercase characters represent white pieces, and lowercase characters represent black pieces.\n",
    "\n",
    "The rook moves as in the rules of Chess: it chooses one of four cardinal directions (north, east, west, and south), then moves in that direction until it chooses to stop, reaches the edge of the board, or captures an opposite colored pawn by moving to the same square it occupies.  Also, rooks cannot move into the same square as other friendly bishops.\n",
    "\n",
    "Return the number of pawns the rook can capture in one move.\n",
    "\n",
    " \n",
    "\n",
    "Example 1:\n",
    "\n",
    "\n",
    "\n",
    "Input: [[\".\",\".\",\".\",\".\",\".\",\".\",\".\",\".\"],[\".\",\".\",\".\",\"p\",\".\",\".\",\".\",\".\"],[\".\",\".\",\".\",\"R\",\".\",\".\",\".\",\"p\"],[\".\",\".\",\".\",\".\",\".\",\".\",\".\",\".\"],[\".\",\".\",\".\",\".\",\".\",\".\",\".\",\".\"],[\".\",\".\",\".\",\"p\",\".\",\".\",\".\",\".\"],[\".\",\".\",\".\",\".\",\".\",\".\",\".\",\".\"],[\".\",\".\",\".\",\".\",\".\",\".\",\".\",\".\"]]\n",
    "Output: 3\n",
    "Explanation: \n",
    "In this example the rook is able to capture all the pawns.\n",
    "Example 2:\n",
    "\n",
    "\n",
    "\n",
    "Input: [[\".\",\".\",\".\",\".\",\".\",\".\",\".\",\".\"],[\".\",\"p\",\"p\",\"p\",\"p\",\"p\",\".\",\".\"],[\".\",\"p\",\"p\",\"B\",\"p\",\"p\",\".\",\".\"],[\".\",\"p\",\"B\",\"R\",\"B\",\"p\",\".\",\".\"],[\".\",\"p\",\"p\",\"B\",\"p\",\"p\",\".\",\".\"],[\".\",\"p\",\"p\",\"p\",\"p\",\"p\",\".\",\".\"],[\".\",\".\",\".\",\".\",\".\",\".\",\".\",\".\"],[\".\",\".\",\".\",\".\",\".\",\".\",\".\",\".\"]]\n",
    "Output: 0\n",
    "Explanation: \n",
    "Bishops are blocking the rook to capture any pawn.\n",
    "Example 3:\n",
    "\n",
    "\n",
    "\n",
    "Input: [[\".\",\".\",\".\",\".\",\".\",\".\",\".\",\".\"],[\".\",\".\",\".\",\"p\",\".\",\".\",\".\",\".\"],[\".\",\".\",\".\",\"p\",\".\",\".\",\".\",\".\"],[\"p\",\"p\",\".\",\"R\",\".\",\"p\",\"B\",\".\"],[\".\",\".\",\".\",\".\",\".\",\".\",\".\",\".\"],[\".\",\".\",\".\",\"B\",\".\",\".\",\".\",\".\"],[\".\",\".\",\".\",\"p\",\".\",\".\",\".\",\".\"],[\".\",\".\",\".\",\".\",\".\",\".\",\".\",\".\"]]\n",
    "Output: 3\n",
    "Explanation: \n",
    "The rook can capture the pawns at positions b5, d6 and f5.\n",
    " \n",
    "\n",
    "Note:\n",
    "\n",
    "board.length == board[i].length == 8\n",
    "board[i][j] is either 'R', '.', 'B', or 'p'\n",
    "There is exactly one cell with board[i][j] == 'R'"
   ]
  },
  {
   "cell_type": "code",
   "execution_count": 67,
   "metadata": {},
   "outputs": [],
   "source": [
    "def numRookCaptures(board):\n",
    "    height = len(board)\n",
    "    width = len(board[0])\n",
    "    (x,y) = next((x,y) for x in range(width) for y in range(height) if board[x][y]==\"R\")\n",
    "    print(x,y)\n",
    "    \n",
    "    result = 0\n",
    "    # left side of the line of Rook\n",
    "    for i in range(y-1,-1, -1):\n",
    "        if board[x][i] == \"p\":\n",
    "            result = result+1\n",
    "            break\n",
    "        elif board[x][i] != \".\":\n",
    "            break\n",
    "    print(result)\n",
    "    \n",
    "    # right side of the line of Rook\n",
    "    for i in range(y+1, width):\n",
    "        if board[x][i] == \"p\":\n",
    "            result = result+1\n",
    "            break\n",
    "        elif board[x][i] != \".\":\n",
    "            break\n",
    "    print(result)\n",
    "    \n",
    "    # upper\n",
    "    for i in range(x-1,-1, -1):\n",
    "        if board[i][y] == \"p\":\n",
    "            result = result+1\n",
    "            break\n",
    "        elif board[i][y] != \".\":\n",
    "            break\n",
    "    print(result)\n",
    "    \n",
    "    # lower\n",
    "    for i in range(x+1,height):\n",
    "        if board[i][y] == \"p\":\n",
    "            result = result+1\n",
    "            break\n",
    "        elif board[i][y] != \".\":\n",
    "            break\n",
    "    print(result)\n",
    "            \n",
    "    \n",
    "    return result"
   ]
  },
  {
   "cell_type": "code",
   "execution_count": 72,
   "metadata": {},
   "outputs": [],
   "source": [
    "# board = [\n",
    "#     [\".\",\".\",\".\",\".\",\".\",\".\",\".\",\".\"],\n",
    "#     [\".\",\".\",\".\",\"p\",\".\",\".\",\".\",\".\"],\n",
    "#     [\".\",\".\",\".\",\"R\",\".\",\".\",\".\",\"p\"],\n",
    "#     [\".\",\".\",\".\",\".\",\".\",\".\",\".\",\".\"],\n",
    "#     [\".\",\".\",\".\",\".\",\".\",\".\",\".\",\".\"],\n",
    "#     [\".\",\".\",\".\",\"p\",\".\",\".\",\".\",\".\"],\n",
    "#     [\".\",\".\",\".\",\".\",\".\",\".\",\".\",\".\"],\n",
    "#     [\".\",\".\",\".\",\".\",\".\",\".\",\".\",\".\"]\n",
    "# ]\n",
    "# # Output: 3\n",
    "\n",
    "# board = [\n",
    "#     [\".\",\".\",\".\",\".\",\".\",\".\",\".\",\".\"],\n",
    "#     [\".\",\"p\",\"p\",\"p\",\"p\",\"p\",\".\",\".\"],\n",
    "#     [\".\",\"p\",\"p\",\"B\",\"p\",\"p\",\".\",\".\"],\n",
    "#     [\".\",\"p\",\"B\",\"R\",\"B\",\"p\",\".\",\".\"],\n",
    "#     [\".\",\"p\",\"p\",\"B\",\"p\",\"p\",\".\",\".\"],\n",
    "#     [\".\",\"p\",\"p\",\"p\",\"p\",\"p\",\".\",\".\"],\n",
    "#     [\".\",\".\",\".\",\".\",\".\",\".\",\".\",\".\"],\n",
    "#     [\".\",\".\",\".\",\".\",\".\",\".\",\".\",\".\"]\n",
    "# ]\n",
    "# # Output: 0\n",
    "\n",
    "board = [\n",
    "    [\".\",\".\",\".\",\".\",\".\",\".\",\".\",\".\"],\n",
    "    [\".\",\".\",\".\",\"p\",\".\",\".\",\".\",\".\"],\n",
    "    [\".\",\".\",\".\",\"p\",\".\",\".\",\".\",\".\"],\n",
    "    [\"p\",\"p\",\".\",\"R\",\".\",\"p\",\"B\",\".\"],\n",
    "    [\".\",\".\",\".\",\".\",\".\",\".\",\".\",\".\"],\n",
    "    [\".\",\".\",\".\",\"B\",\".\",\".\",\".\",\".\"],\n",
    "    [\".\",\".\",\".\",\"p\",\".\",\".\",\".\",\".\"],\n",
    "    [\".\",\".\",\".\",\".\",\".\",\".\",\".\",\".\"]\n",
    "]\n",
    "# Output: 3"
   ]
  },
  {
   "cell_type": "code",
   "execution_count": 73,
   "metadata": {},
   "outputs": [
    {
     "name": "stdout",
     "output_type": "stream",
     "text": [
      "3 3\n",
      "1\n",
      "2\n",
      "3\n",
      "3\n"
     ]
    },
    {
     "data": {
      "text/plain": [
       "3"
      ]
     },
     "execution_count": 73,
     "metadata": {},
     "output_type": "execute_result"
    }
   ],
   "source": [
    "numRookCaptures(board)"
   ]
  },
  {
   "cell_type": "code",
   "execution_count": 17,
   "metadata": {},
   "outputs": [],
   "source": [
    "height = len(board)\n",
    "width = len(board[0])"
   ]
  },
  {
   "cell_type": "code",
   "execution_count": 20,
   "metadata": {},
   "outputs": [
    {
     "data": {
      "text/plain": [
       "(2, 3)"
      ]
     },
     "execution_count": 20,
     "metadata": {},
     "output_type": "execute_result"
    }
   ],
   "source": [
    "next((x,y) for x in range(width) for y in range(height) if board[x][y]==\"R\")"
   ]
  },
  {
   "cell_type": "code",
   "execution_count": null,
   "metadata": {},
   "outputs": [],
   "source": []
  },
  {
   "cell_type": "code",
   "execution_count": null,
   "metadata": {},
   "outputs": [],
   "source": []
  },
  {
   "cell_type": "code",
   "execution_count": null,
   "metadata": {},
   "outputs": [],
   "source": []
  },
  {
   "cell_type": "code",
   "execution_count": null,
   "metadata": {},
   "outputs": [],
   "source": []
  }
 ],
 "metadata": {
  "kernelspec": {
   "display_name": "Python 3",
   "language": "python",
   "name": "python3"
  },
  "language_info": {
   "codemirror_mode": {
    "name": "ipython",
    "version": 3
   },
   "file_extension": ".py",
   "mimetype": "text/x-python",
   "name": "python",
   "nbconvert_exporter": "python",
   "pygments_lexer": "ipython3",
   "version": "3.7.5"
  }
 },
 "nbformat": 4,
 "nbformat_minor": 4
}
