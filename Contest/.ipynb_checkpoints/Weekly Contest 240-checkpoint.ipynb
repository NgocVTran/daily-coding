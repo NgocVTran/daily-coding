{
 "cells": [
  {
   "cell_type": "code",
   "execution_count": null,
   "metadata": {},
   "outputs": [],
   "source": []
  },
  {
   "cell_type": "code",
   "execution_count": 68,
   "metadata": {},
   "outputs": [],
   "source": [
    "def maximumPopulation(logs):\n",
    "    year_pop = {}\n",
    "    \n",
    "    for i in logs:\n",
    "        for year in range(i[0],i[1]):\n",
    "            if year in year_pop:\n",
    "                year_pop[year] += 1\n",
    "            else:\n",
    "                year_pop[year] = 1\n",
    "                \n",
    "    sort = sorted([k for k,v in year_pop.items() if v==max(year_pop.values())])\n",
    "#     sort_year = sorted(year_pop.items(), key=lambda x: x[1], reverse=True) \n",
    "    return sort[0]\n",
    "    "
   ]
  },
  {
   "cell_type": "code",
   "execution_count": 69,
   "metadata": {},
   "outputs": [],
   "source": [
    "# logs = [[1993,1999],[2000,2010]]\n",
    "# # Output: 1993\n",
    "\n",
    "logs = [[1950,1961],[1960,1971],[1970,1981]]\n",
    "# Output: 1960\n",
    "\n",
    "logs = [[2033,2034],[2039,2047],[1998,2042],[2047,2048],[2025,2029],[2005,2044],[1990,1992],[1952,1956],[1984,2014]]\n",
    "# 2005"
   ]
  },
  {
   "cell_type": "code",
   "execution_count": 70,
   "metadata": {},
   "outputs": [
    {
     "data": {
      "text/plain": [
       "2005"
      ]
     },
     "execution_count": 70,
     "metadata": {},
     "output_type": "execute_result"
    }
   ],
   "source": [
    "maximumPopulation(logs)"
   ]
  },
  {
   "cell_type": "code",
   "execution_count": null,
   "metadata": {},
   "outputs": [],
   "source": []
  },
  {
   "cell_type": "code",
   "execution_count": 128,
   "metadata": {},
   "outputs": [],
   "source": [
    "# def maxDistance(nums1, nums2):\n",
    "#     valid = []\n",
    "#     current_max = 0\n",
    "#     for ite1,nr1 in enumerate(nums1):\n",
    "#         \"\"\"\n",
    "# #         val_ite1 = [ite2 for ite2,nr2 in enumerate(nums2) if (ite1<=ite2) and (nr1<=nr2)]\n",
    "#         dist_ite1 = [abs(ite2-ite1) for ite2,nr2 in enumerate(nums2) if (ite1<=ite2) and (nr1<=nr2)]\n",
    "# #         print(val_ite1)\n",
    "        \n",
    "#         if dist_ite1 and max(dist_ite1)>current_max:\n",
    "#             current_max =max(dist_ite1)\n",
    "#             \"\"\"\n",
    "#         for ite2,nr2 in enumerate(nums2):\n",
    "#             if ite1<=ite2 and nr1<=nr2:\n",
    "#                 valid.append((ite1,ite2))\n",
    "#     dist = [abs(i[0]-i[1]) for i in valid]\n",
    "#     if dist:\n",
    "#         return max(dist)\n",
    "#     return 0\n",
    "# #     return current_max"
   ]
  },
  {
   "cell_type": "code",
   "execution_count": null,
   "metadata": {},
   "outputs": [],
   "source": []
  },
  {
   "cell_type": "code",
   "execution_count": 160,
   "metadata": {},
   "outputs": [],
   "source": [
    "def maxDistance(nums1, nums2):\n",
    "    hm1 = {}\n",
    "    for ite,i in enumerate(nums1):\n",
    "        if i in hm1:\n",
    "            hm1[ite].append(ite)\n",
    "        else:\n",
    "            hm1[ite] = []\n",
    "            hm1[ite].append(ite)\n",
    "    \n",
    "    \n",
    "    return hm1, hm2"
   ]
  },
  {
   "cell_type": "code",
   "execution_count": 161,
   "metadata": {},
   "outputs": [],
   "source": [
    "nums1 = [55,30,5,4,2]\n",
    "nums2 = [100,20,10,10,5]\n",
    "# Output: 2\n",
    "\n",
    "# nums1 = [2,2,2]\n",
    "# nums2 = [10,10,1]\n",
    "# # Output: 1\n",
    "\n",
    "# nums1 = [30,29,19,5]\n",
    "# nums2 = [25,25,25,25,25]\n",
    "# # Output: 2\n",
    "\n",
    "# nums1 = [5,4]\n",
    "# nums2 = [3,2]\n",
    "# # Output: 0"
   ]
  },
  {
   "cell_type": "code",
   "execution_count": 162,
   "metadata": {},
   "outputs": [
    {
     "ename": "KeyError",
     "evalue": "4",
     "output_type": "error",
     "traceback": [
      "\u001b[0;31m---------------------------------------------------------------------------\u001b[0m",
      "\u001b[0;31mKeyError\u001b[0m                                  Traceback (most recent call last)",
      "\u001b[0;32m<ipython-input-162-a81e33d4ae3e>\u001b[0m in \u001b[0;36m<module>\u001b[0;34m\u001b[0m\n\u001b[0;32m----> 1\u001b[0;31m \u001b[0mmaxDistance\u001b[0m\u001b[0;34m(\u001b[0m\u001b[0mnums1\u001b[0m\u001b[0;34m,\u001b[0m \u001b[0mnums2\u001b[0m\u001b[0;34m)\u001b[0m\u001b[0;34m\u001b[0m\u001b[0;34m\u001b[0m\u001b[0m\n\u001b[0m",
      "\u001b[0;32m<ipython-input-160-4b56acca565f>\u001b[0m in \u001b[0;36mmaxDistance\u001b[0;34m(nums1, nums2)\u001b[0m\n\u001b[1;32m      3\u001b[0m     \u001b[0;32mfor\u001b[0m \u001b[0mite\u001b[0m\u001b[0;34m,\u001b[0m\u001b[0mi\u001b[0m \u001b[0;32min\u001b[0m \u001b[0menumerate\u001b[0m\u001b[0;34m(\u001b[0m\u001b[0mnums1\u001b[0m\u001b[0;34m)\u001b[0m\u001b[0;34m:\u001b[0m\u001b[0;34m\u001b[0m\u001b[0;34m\u001b[0m\u001b[0m\n\u001b[1;32m      4\u001b[0m         \u001b[0;32mif\u001b[0m \u001b[0mi\u001b[0m \u001b[0;32min\u001b[0m \u001b[0mhm1\u001b[0m\u001b[0;34m:\u001b[0m\u001b[0;34m\u001b[0m\u001b[0;34m\u001b[0m\u001b[0m\n\u001b[0;32m----> 5\u001b[0;31m             \u001b[0mhm1\u001b[0m\u001b[0;34m[\u001b[0m\u001b[0mite\u001b[0m\u001b[0;34m]\u001b[0m\u001b[0;34m.\u001b[0m\u001b[0mappend\u001b[0m\u001b[0;34m(\u001b[0m\u001b[0mite\u001b[0m\u001b[0;34m)\u001b[0m\u001b[0;34m\u001b[0m\u001b[0;34m\u001b[0m\u001b[0m\n\u001b[0m\u001b[1;32m      6\u001b[0m         \u001b[0;32melse\u001b[0m\u001b[0;34m:\u001b[0m\u001b[0;34m\u001b[0m\u001b[0;34m\u001b[0m\u001b[0m\n\u001b[1;32m      7\u001b[0m             \u001b[0mhm1\u001b[0m\u001b[0;34m[\u001b[0m\u001b[0mite\u001b[0m\u001b[0;34m]\u001b[0m \u001b[0;34m=\u001b[0m \u001b[0;34m[\u001b[0m\u001b[0;34m]\u001b[0m\u001b[0;34m\u001b[0m\u001b[0;34m\u001b[0m\u001b[0m\n",
      "\u001b[0;31mKeyError\u001b[0m: 4"
     ]
    }
   ],
   "source": [
    "maxDistance(nums1, nums2)"
   ]
  },
  {
   "cell_type": "code",
   "execution_count": null,
   "metadata": {},
   "outputs": [],
   "source": []
  },
  {
   "cell_type": "code",
   "execution_count": null,
   "metadata": {},
   "outputs": [],
   "source": []
  },
  {
   "cell_type": "code",
   "execution_count": null,
   "metadata": {},
   "outputs": [],
   "source": []
  },
  {
   "cell_type": "code",
   "execution_count": null,
   "metadata": {},
   "outputs": [],
   "source": []
  },
  {
   "cell_type": "code",
   "execution_count": null,
   "metadata": {},
   "outputs": [],
   "source": []
  },
  {
   "cell_type": "code",
   "execution_count": null,
   "metadata": {},
   "outputs": [],
   "source": []
  },
  {
   "cell_type": "code",
   "execution_count": null,
   "metadata": {},
   "outputs": [],
   "source": []
  }
 ],
 "metadata": {
  "kernelspec": {
   "display_name": "Python 3",
   "language": "python",
   "name": "python3"
  },
  "language_info": {
   "codemirror_mode": {
    "name": "ipython",
    "version": 3
   },
   "file_extension": ".py",
   "mimetype": "text/x-python",
   "name": "python",
   "nbconvert_exporter": "python",
   "pygments_lexer": "ipython3",
   "version": "3.7.5"
  }
 },
 "nbformat": 4,
 "nbformat_minor": 4
}
