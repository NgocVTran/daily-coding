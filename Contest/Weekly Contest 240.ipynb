{
 "cells": [
  {
   "cell_type": "code",
   "execution_count": null,
   "metadata": {},
   "outputs": [],
   "source": []
  },
  {
   "cell_type": "code",
   "execution_count": 68,
   "metadata": {},
   "outputs": [],
   "source": [
    "def maximumPopulation(logs):\n",
    "    year_pop = {}\n",
    "    \n",
    "    for i in logs:\n",
    "        for year in range(i[0],i[1]):\n",
    "            if year in year_pop:\n",
    "                year_pop[year] += 1\n",
    "            else:\n",
    "                year_pop[year] = 1\n",
    "                \n",
    "    sort = sorted([k for k,v in year_pop.items() if v==max(year_pop.values())])\n",
    "#     sort_year = sorted(year_pop.items(), key=lambda x: x[1], reverse=True) \n",
    "    return sort[0]\n",
    "    "
   ]
  },
  {
   "cell_type": "code",
   "execution_count": 69,
   "metadata": {},
   "outputs": [],
   "source": [
    "# logs = [[1993,1999],[2000,2010]]\n",
    "# # Output: 1993\n",
    "\n",
    "logs = [[1950,1961],[1960,1971],[1970,1981]]\n",
    "# Output: 1960\n",
    "\n",
    "logs = [[2033,2034],[2039,2047],[1998,2042],[2047,2048],[2025,2029],[2005,2044],[1990,1992],[1952,1956],[1984,2014]]\n",
    "# 2005"
   ]
  },
  {
   "cell_type": "code",
   "execution_count": 70,
   "metadata": {},
   "outputs": [
    {
     "data": {
      "text/plain": [
       "2005"
      ]
     },
     "execution_count": 70,
     "metadata": {},
     "output_type": "execute_result"
    }
   ],
   "source": [
    "maximumPopulation(logs)"
   ]
  },
  {
   "cell_type": "code",
   "execution_count": null,
   "metadata": {},
   "outputs": [],
   "source": []
  },
  {
   "cell_type": "code",
   "execution_count": 128,
   "metadata": {},
   "outputs": [],
   "source": [
    "# def maxDistance(nums1, nums2):\n",
    "#     valid = []\n",
    "#     current_max = 0\n",
    "#     for ite1,nr1 in enumerate(nums1):\n",
    "#         \"\"\"\n",
    "# #         val_ite1 = [ite2 for ite2,nr2 in enumerate(nums2) if (ite1<=ite2) and (nr1<=nr2)]\n",
    "#         dist_ite1 = [abs(ite2-ite1) for ite2,nr2 in enumerate(nums2) if (ite1<=ite2) and (nr1<=nr2)]\n",
    "# #         print(val_ite1)\n",
    "        \n",
    "#         if dist_ite1 and max(dist_ite1)>current_max:\n",
    "#             current_max =max(dist_ite1)\n",
    "#             \"\"\"\n",
    "#         for ite2,nr2 in enumerate(nums2):\n",
    "#             if ite1<=ite2 and nr1<=nr2:\n",
    "#                 valid.append((ite1,ite2))\n",
    "#     dist = [abs(i[0]-i[1]) for i in valid]\n",
    "#     if dist:\n",
    "#         return max(dist)\n",
    "#     return 0\n",
    "# #     return current_max"
   ]
  },
  {
   "cell_type": "code",
   "execution_count": 187,
   "metadata": {},
   "outputs": [],
   "source": [
    "def maxDistance(nums1, nums2):\n",
    "    valid = []\n",
    "    current_max = 0\n",
    "    for ite1,nr1 in enumerate(nums1):\n",
    "        for ite2,nr2 in enumerate(nums2):\n",
    "            if ite1<=ite2 and nr1<=nr2:\n",
    "                current_max = max(current_max, abs(ite1-ite2))\n",
    "                \n",
    "    return current_max"
   ]
  },
  {
   "cell_type": "code",
   "execution_count": 206,
   "metadata": {},
   "outputs": [],
   "source": [
    "def maxDistance(nums1, nums2):\n",
    "    match = []\n",
    "    for ite1,nr1 in enumerate(nums1):\n",
    "        for ite2,nr2 in enumerate(nums2):\n",
    "            if ite1<=ite2 and nr1<=nr2:\n",
    "                match.append(abs(ite1-ite2))\n",
    "    print(match)\n",
    "    if match:\n",
    "        return max(match)\n",
    "    else: \n",
    "        return 0"
   ]
  },
  {
   "cell_type": "code",
   "execution_count": 207,
   "metadata": {},
   "outputs": [],
   "source": [
    "# nums1 = [55,30,5,4,2]\n",
    "# nums2 = [100,20,10,10,5]\n",
    "# # Output: 2\n",
    "\n",
    "# nums1 = [2,2,2]\n",
    "# nums2 = [10,10,1]\n",
    "# # Output: 1\n",
    "\n",
    "# nums1 = [30,29,19,5]\n",
    "# nums2 = [25,25,25,25,25]\n",
    "# # Output: 2\n",
    "\n",
    "nums1 = [5,4]\n",
    "nums2 = [3,2]\n",
    "# Output: 0"
   ]
  },
  {
   "cell_type": "code",
   "execution_count": 208,
   "metadata": {},
   "outputs": [
    {
     "name": "stdout",
     "output_type": "stream",
     "text": [
      "[]\n"
     ]
    },
    {
     "data": {
      "text/plain": [
       "0"
      ]
     },
     "execution_count": 208,
     "metadata": {},
     "output_type": "execute_result"
    }
   ],
   "source": [
    "maxDistance(nums1, nums2)"
   ]
  },
  {
   "cell_type": "code",
   "execution_count": null,
   "metadata": {},
   "outputs": [],
   "source": []
  },
  {
   "cell_type": "code",
   "execution_count": null,
   "metadata": {},
   "outputs": [],
   "source": []
  },
  {
   "cell_type": "code",
   "execution_count": null,
   "metadata": {},
   "outputs": [],
   "source": []
  },
  {
   "cell_type": "code",
   "execution_count": null,
   "metadata": {},
   "outputs": [],
   "source": []
  },
  {
   "cell_type": "code",
   "execution_count": null,
   "metadata": {},
   "outputs": [],
   "source": []
  },
  {
   "cell_type": "code",
   "execution_count": null,
   "metadata": {},
   "outputs": [],
   "source": []
  },
  {
   "cell_type": "code",
   "execution_count": null,
   "metadata": {},
   "outputs": [],
   "source": []
  }
 ],
 "metadata": {
  "kernelspec": {
   "display_name": "Python 3",
   "language": "python",
   "name": "python3"
  },
  "language_info": {
   "codemirror_mode": {
    "name": "ipython",
    "version": 3
   },
   "file_extension": ".py",
   "mimetype": "text/x-python",
   "name": "python",
   "nbconvert_exporter": "python",
   "pygments_lexer": "ipython3",
   "version": "3.7.5"
  }
 },
 "nbformat": 4,
 "nbformat_minor": 4
}
