{
 "cells": [
  {
   "cell_type": "code",
   "execution_count": null,
   "metadata": {},
   "outputs": [],
   "source": []
  },
  {
   "cell_type": "code",
   "execution_count": 60,
   "metadata": {},
   "outputs": [],
   "source": [
    "def checkZeroOnes(s):\n",
    "    if len(s) == 0:\n",
    "        return False\n",
    "    if len(s) == 1:\n",
    "        return s.count(\"1\")>s.count(\"0\")\n",
    "    \n",
    "    count_1 = 0\n",
    "    count_0 = 0\n",
    "    \n",
    "    max_1 = 0\n",
    "    max_0 = 0\n",
    "    \n",
    "    for ite,char in enumerate(s):\n",
    "        \n",
    "        if ite < len(s)-1:\n",
    "            \n",
    "            if s[ite+1] == \"1\" and s[ite] == \"1\":\n",
    "                count_1 += 1\n",
    "                if max_1 < count_1:\n",
    "                    max_1 = count_1\n",
    "            else:\n",
    "                count_1 = 0\n",
    "            \n",
    "            if s[ite+1] == \"0\" and s[ite] == \"0\":\n",
    "                count_0 += 1\n",
    "                if max_0 < count_0:\n",
    "                    max_0 = count_0\n",
    "            else:\n",
    "                count_0 = 0\n",
    "                    \n",
    "    print(max_0+1, max_1+1)     \n",
    "    return max_0+1 < max_1+1"
   ]
  },
  {
   "cell_type": "code",
   "execution_count": 61,
   "metadata": {},
   "outputs": [],
   "source": [
    "s = \"1101\"\n",
    "# Output: true\n",
    "\n",
    "s = \"111000\"\n",
    "# Output: false\n",
    "\n",
    "s = \"110100010\"\n",
    "# Output: false\n",
    "\n",
    "s = \"1\"\n",
    "# Output: true\n",
    "\n",
    "s = \"011000111\"\n",
    "# Output: false"
   ]
  },
  {
   "cell_type": "code",
   "execution_count": 62,
   "metadata": {},
   "outputs": [
    {
     "name": "stdout",
     "output_type": "stream",
     "text": [
      "3 3\n"
     ]
    },
    {
     "data": {
      "text/plain": [
       "False"
      ]
     },
     "execution_count": 62,
     "metadata": {},
     "output_type": "execute_result"
    }
   ],
   "source": [
    "checkZeroOnes(s)"
   ]
  },
  {
   "cell_type": "code",
   "execution_count": null,
   "metadata": {},
   "outputs": [],
   "source": []
  },
  {
   "cell_type": "code",
   "execution_count": null,
   "metadata": {},
   "outputs": [],
   "source": []
  },
  {
   "cell_type": "code",
   "execution_count": null,
   "metadata": {},
   "outputs": [],
   "source": []
  },
  {
   "cell_type": "code",
   "execution_count": null,
   "metadata": {},
   "outputs": [],
   "source": []
  },
  {
   "cell_type": "code",
   "execution_count": null,
   "metadata": {},
   "outputs": [],
   "source": []
  },
  {
   "cell_type": "code",
   "execution_count": null,
   "metadata": {},
   "outputs": [],
   "source": []
  },
  {
   "cell_type": "code",
   "execution_count": null,
   "metadata": {},
   "outputs": [],
   "source": []
  },
  {
   "cell_type": "code",
   "execution_count": null,
   "metadata": {},
   "outputs": [],
   "source": []
  },
  {
   "cell_type": "code",
   "execution_count": null,
   "metadata": {},
   "outputs": [],
   "source": []
  },
  {
   "cell_type": "code",
   "execution_count": null,
   "metadata": {},
   "outputs": [],
   "source": []
  }
 ],
 "metadata": {
  "kernelspec": {
   "display_name": "Python 3",
   "language": "python",
   "name": "python3"
  },
  "language_info": {
   "codemirror_mode": {
    "name": "ipython",
    "version": 3
   },
   "file_extension": ".py",
   "mimetype": "text/x-python",
   "name": "python",
   "nbconvert_exporter": "python",
   "pygments_lexer": "ipython3",
   "version": "3.7.5"
  }
 },
 "nbformat": 4,
 "nbformat_minor": 4
}
