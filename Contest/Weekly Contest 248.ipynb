{
 "cells": [
  {
   "cell_type": "code",
   "execution_count": null,
   "metadata": {},
   "outputs": [],
   "source": []
  },
  {
   "cell_type": "code",
   "execution_count": null,
   "metadata": {},
   "outputs": [],
   "source": []
  },
  {
   "cell_type": "code",
   "execution_count": 13,
   "metadata": {},
   "outputs": [],
   "source": [
    "def buildArray(nums):\n",
    "    ans = [0] * len(nums)\n",
    "    for ite,nr in enumerate(nums):\n",
    "        print(nr, nums[nr], nums[nums[nr]])\n",
    "        ans[ite] = nums[nr]\n",
    "    return ans"
   ]
  },
  {
   "cell_type": "code",
   "execution_count": 16,
   "metadata": {},
   "outputs": [],
   "source": [
    "# nums = [0,2,1,5,3,4]\n",
    "# # Output: [0,1,2,4,5,3]\n",
    "\n",
    "nums = [5,0,1,2,3,4]\n",
    "# Output: [4,5,0,1,2,3]"
   ]
  },
  {
   "cell_type": "code",
   "execution_count": 17,
   "metadata": {},
   "outputs": [
    {
     "name": "stdout",
     "output_type": "stream",
     "text": [
      "5 4 3\n",
      "0 5 4\n",
      "1 0 5\n",
      "2 1 0\n",
      "3 2 1\n",
      "4 3 2\n"
     ]
    },
    {
     "data": {
      "text/plain": [
       "[4, 5, 0, 1, 2, 3]"
      ]
     },
     "execution_count": 17,
     "metadata": {},
     "output_type": "execute_result"
    }
   ],
   "source": [
    "buildArray(nums)"
   ]
  },
  {
   "cell_type": "code",
   "execution_count": null,
   "metadata": {},
   "outputs": [],
   "source": []
  },
  {
   "cell_type": "code",
   "execution_count": 46,
   "metadata": {},
   "outputs": [],
   "source": [
    "def eliminateMaximum(dist, speed):\n",
    "    result = [0] * len(dist)\n",
    "    \n",
    "    count = 0\n",
    "    \n",
    "    for i in range(len(dist)):\n",
    "        current_count = 0\n",
    "        result[i] = dist[i] - speed[i]\n",
    "        print(result)\n",
    "        if result[i] <= 0:\n",
    "            count += 1\n",
    "        if count > current_count+1:\n",
    "            break\n",
    "            \n",
    "            \n",
    "    return count"
   ]
  },
  {
   "cell_type": "code",
   "execution_count": 47,
   "metadata": {},
   "outputs": [],
   "source": [
    "dist = [1,1,2,3]\n",
    "speed = [1,1,1,1]\n",
    "# Output: 1\n",
    "\n",
    "# dist = [1,3,4]\n",
    "# speed = [1,1,1]\n",
    "# # Output: 3"
   ]
  },
  {
   "cell_type": "code",
   "execution_count": 48,
   "metadata": {},
   "outputs": [
    {
     "name": "stdout",
     "output_type": "stream",
     "text": [
      "[0, 0, 0, 0]\n",
      "[0, 0, 0, 0]\n"
     ]
    },
    {
     "data": {
      "text/plain": [
       "2"
      ]
     },
     "execution_count": 48,
     "metadata": {},
     "output_type": "execute_result"
    }
   ],
   "source": [
    "eliminateMaximum(dist, speed)"
   ]
  },
  {
   "cell_type": "code",
   "execution_count": null,
   "metadata": {},
   "outputs": [],
   "source": []
  },
  {
   "cell_type": "code",
   "execution_count": null,
   "metadata": {},
   "outputs": [],
   "source": []
  },
  {
   "cell_type": "code",
   "execution_count": null,
   "metadata": {},
   "outputs": [],
   "source": []
  }
 ],
 "metadata": {
  "kernelspec": {
   "display_name": "Python 3",
   "language": "python",
   "name": "python3"
  },
  "language_info": {
   "codemirror_mode": {
    "name": "ipython",
    "version": 3
   },
   "file_extension": ".py",
   "mimetype": "text/x-python",
   "name": "python",
   "nbconvert_exporter": "python",
   "pygments_lexer": "ipython3",
   "version": "3.7.5"
  }
 },
 "nbformat": 4,
 "nbformat_minor": 4
}
