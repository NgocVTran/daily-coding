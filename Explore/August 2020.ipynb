{
 "cells": [
  {
   "cell_type": "markdown",
   "metadata": {},
   "source": [
    "#### 1. Detect Capital\n",
    "\n",
    "\n",
    "Given a word, you need to judge whether the usage of capitals in it is right or not.\n",
    "\n",
    "We define the usage of capitals in a word to be right when one of the following cases holds:\n",
    "\n",
    "All letters in this word are capitals, like \"USA\".\n",
    "All letters in this word are not capitals, like \"leetcode\".\n",
    "Only the first letter in this word is capital, like \"Google\".\n",
    "Otherwise, we define that this word doesn't use capitals in a right way.\n",
    " \n",
    "\n",
    "Example 1:\n",
    "\n",
    "Input: \"USA\"\n",
    "Output: True\n",
    " \n",
    "\n",
    "Example 2:\n",
    "\n",
    "Input: \"FlaG\"\n",
    "Output: False\n",
    " \n",
    "\n",
    "Note: The input will be a non-empty word consisting of uppercase and lowercase latin letters."
   ]
  },
  {
   "cell_type": "code",
   "execution_count": 23,
   "metadata": {},
   "outputs": [],
   "source": [
    "def detectCapitalUse(word):\n",
    "    n = len(word)    \n",
    "    if n==1 or n==0:\n",
    "        return True\n",
    "    \n",
    "    first = ord(word[0])\n",
    "    second = ord(word[1])\n",
    "    \n",
    "    if first>=65 and first<=90:\n",
    "        if second>=65 and second<=90:\n",
    "            for i in range(1,n):\n",
    "                if ord(word[i])>=97 and ord(word[i])<=122:\n",
    "                    return False\n",
    "        else:\n",
    "            for i in range(1,n):\n",
    "                if ord(word[i])>=65 and ord(word[i])<=90:\n",
    "                    return False\n",
    "    else:\n",
    "        for i in range(1,n):\n",
    "            if ord(word[i])>=65 and ord(word[i])<=90:\n",
    "                return False\n",
    "    return True"
   ]
  },
  {
   "cell_type": "code",
   "execution_count": 28,
   "metadata": {},
   "outputs": [],
   "source": [
    "# word = \"USA\" # true\n",
    "word = \"FlaG\" # false\n",
    "# word = \"\""
   ]
  },
  {
   "cell_type": "code",
   "execution_count": 29,
   "metadata": {},
   "outputs": [
    {
     "data": {
      "text/plain": [
       "False"
      ]
     },
     "execution_count": 29,
     "metadata": {},
     "output_type": "execute_result"
    }
   ],
   "source": [
    "detectCapitalUse(word)"
   ]
  },
  {
   "cell_type": "code",
   "execution_count": 9,
   "metadata": {},
   "outputs": [
    {
     "data": {
      "text/plain": [
       "97"
      ]
     },
     "execution_count": 9,
     "metadata": {},
     "output_type": "execute_result"
    }
   ],
   "source": [
    "ord(\"a\")"
   ]
  },
  {
   "cell_type": "code",
   "execution_count": 10,
   "metadata": {},
   "outputs": [
    {
     "data": {
      "text/plain": [
       "122"
      ]
     },
     "execution_count": 10,
     "metadata": {},
     "output_type": "execute_result"
    }
   ],
   "source": [
    "ord(\"z\")"
   ]
  },
  {
   "cell_type": "code",
   "execution_count": null,
   "metadata": {},
   "outputs": [],
   "source": []
  },
  {
   "cell_type": "code",
   "execution_count": null,
   "metadata": {},
   "outputs": [],
   "source": []
  },
  {
   "cell_type": "code",
   "execution_count": null,
   "metadata": {},
   "outputs": [],
   "source": []
  },
  {
   "cell_type": "markdown",
   "metadata": {},
   "source": [
    "### 4. Four Power"
   ]
  },
  {
   "cell_type": "markdown",
   "metadata": {},
   "source": [
    "Given an integer (signed 32 bits), write a function to check whether it is a power of 4.\n",
    "\n",
    "Example 1:\n",
    "\n",
    "Input: 16\n",
    "Output: true\n",
    "Example 2:\n",
    "\n",
    "Input: 5\n",
    "Output: false\n",
    "Follow up: Could you solve it without loops/recursion?"
   ]
  },
  {
   "cell_type": "markdown",
   "metadata": {},
   "source": [
    "### ----\n",
    "A number n is a power of 4 if following conditions are met.\n",
    "a) There is only one bit set in the binary representation of n (or n is a power of 2)\n",
    "b) The count of zero bits before the (only) set bit is even.\n",
    "\n",
    "For example: 16 (10000) is power of 4 because there is only one bit set and count of 0s before the set bit is 4 which is even.\n",
    "\n",
    "Thanks to Geek4u for suggesting the approach and providing the code."
   ]
  },
  {
   "cell_type": "code",
   "execution_count": 23,
   "metadata": {},
   "outputs": [],
   "source": [
    "def isPowerOfFour(num):\n",
    "    count = 0\n",
    "      \n",
    "    # Check if there is only one  \n",
    "    # bit set in num\n",
    "    if (num and (not(num & (num - 1)))): \n",
    "          \n",
    "        # count 0 bits before set bit  \n",
    "        while(num > 1): \n",
    "            num >>= 1\n",
    "            count += 1\n",
    "          \n",
    "        # If count is even then return \n",
    "        # true else false \n",
    "        if(count % 2 == 0): \n",
    "            return True\n",
    "        else: \n",
    "            return False\n",
    "        \n",
    "    return False"
   ]
  },
  {
   "cell_type": "code",
   "execution_count": 24,
   "metadata": {},
   "outputs": [
    {
     "data": {
      "text/plain": [
       "False"
      ]
     },
     "execution_count": 24,
     "metadata": {},
     "output_type": "execute_result"
    }
   ],
   "source": [
    "isPowerOfFour(5)"
   ]
  },
  {
   "cell_type": "code",
   "execution_count": 25,
   "metadata": {},
   "outputs": [
    {
     "data": {
      "text/plain": [
       "False"
      ]
     },
     "execution_count": 25,
     "metadata": {},
     "output_type": "execute_result"
    }
   ],
   "source": [
    "isPowerOfFour(-2147483648)"
   ]
  },
  {
   "cell_type": "code",
   "execution_count": null,
   "metadata": {},
   "outputs": [],
   "source": []
  },
  {
   "cell_type": "code",
   "execution_count": null,
   "metadata": {},
   "outputs": [],
   "source": []
  }
 ],
 "metadata": {
  "kernelspec": {
   "display_name": "Python 3",
   "language": "python",
   "name": "python3"
  },
  "language_info": {
   "codemirror_mode": {
    "name": "ipython",
    "version": 3
   },
   "file_extension": ".py",
   "mimetype": "text/x-python",
   "name": "python",
   "nbconvert_exporter": "python",
   "pygments_lexer": "ipython3",
   "version": "3.7.5"
  }
 },
 "nbformat": 4,
 "nbformat_minor": 4
}
