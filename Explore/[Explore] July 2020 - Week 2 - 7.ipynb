{
 "cells": [
  {
   "cell_type": "markdown",
   "metadata": {},
   "source": [
    "Angle Between Hands of a Clock\n",
    "Given two numbers, hour and minutes. Return the smaller angle (in degrees) formed between the hour and the minute hand.\n",
    "\n",
    " \n",
    "\n",
    "Example 1:\n",
    "\n",
    "\n",
    "\n",
    "Input: hour = 12, minutes = 30\n",
    "Output: 165\n",
    "Example 2:\n",
    "\n",
    "\n",
    "\n",
    "Input: hour = 3, minutes = 30\n",
    "Output: 75\n",
    "Example 3:\n",
    "\n",
    "\n",
    "\n",
    "Input: hour = 3, minutes = 15\n",
    "Output: 7.5\n",
    "Example 4:\n",
    "\n",
    "Input: hour = 4, minutes = 50\n",
    "Output: 155\n",
    "Example 5:\n",
    "\n",
    "Input: hour = 12, minutes = 0\n",
    "Output: 0"
   ]
  },
  {
   "cell_type": "code",
   "execution_count": 43,
   "metadata": {},
   "outputs": [],
   "source": [
    "def angleClock(hour, minutes):\n",
    "    hour_hand = hour + minutes/60\n",
    "    if hour_hand>12:\n",
    "        hour_hand = hour_hand - 12\n",
    "    minutes_hand = minutes/5\n",
    "\n",
    "    subs = abs(hour_hand - minutes_hand) * 30\n",
    "    \n",
    "    if subs > 180:\n",
    "        return round(360-subs,1)\n",
    "    else:\n",
    "        return subs"
   ]
  },
  {
   "cell_type": "code",
   "execution_count": 60,
   "metadata": {},
   "outputs": [],
   "source": [
    "# hour = 12\n",
    "# minutes = 30\n",
    "# # Output: 165\n",
    "\n",
    "# hour = 3\n",
    "# minutes = 30\n",
    "# # Output: 75\n",
    "\n",
    "# hour = 3\n",
    "# minutes = 15\n",
    "# # Output: 7.5\n",
    "\n",
    "# hour = 4\n",
    "# minutes = 50\n",
    "# # Output: 155\n",
    "\n",
    "# hour = 12\n",
    "# minutes = 0\n",
    "# # Output: 0\n",
    "\n",
    "hour = 1\n",
    "minutes = 57\n",
    "# Output: 76.50000"
   ]
  },
  {
   "cell_type": "code",
   "execution_count": 61,
   "metadata": {},
   "outputs": [
    {
     "data": {
      "text/plain": [
       "76.5"
      ]
     },
     "execution_count": 61,
     "metadata": {},
     "output_type": "execute_result"
    }
   ],
   "source": [
    "angleClock(hour, minutes)"
   ]
  },
  {
   "cell_type": "code",
   "execution_count": 83,
   "metadata": {},
   "outputs": [],
   "source": [
    "# try to optimize code\n",
    "# 52.48%\n",
    "def angleClock(hour, minutes):\n",
    "    subs = abs(max(hour + minutes/60, hour + minutes/60 -12) - minutes/5) * 30\n",
    "    return min(subs, round(360-subs,1))"
   ]
  },
  {
   "cell_type": "code",
   "execution_count": 84,
   "metadata": {},
   "outputs": [],
   "source": [
    "# hour = 12\n",
    "# minutes = 30\n",
    "# # Output: 165\n",
    "\n",
    "# hour = 3\n",
    "# minutes = 30\n",
    "# # Output: 75\n",
    "\n",
    "# hour = 3\n",
    "# minutes = 15\n",
    "# # Output: 7.5\n",
    "\n",
    "# hour = 4\n",
    "# minutes = 50\n",
    "# # Output: 155\n",
    "\n",
    "# hour = 12\n",
    "# minutes = 0\n",
    "# # Output: 0\n",
    "\n",
    "hour = 1\n",
    "minutes = 57\n",
    "# Output: 76.50000"
   ]
  },
  {
   "cell_type": "code",
   "execution_count": 85,
   "metadata": {},
   "outputs": [
    {
     "data": {
      "text/plain": [
       "76.5"
      ]
     },
     "execution_count": 85,
     "metadata": {},
     "output_type": "execute_result"
    }
   ],
   "source": [
    "angleClock(hour, minutes)"
   ]
  },
  {
   "cell_type": "code",
   "execution_count": null,
   "metadata": {},
   "outputs": [],
   "source": []
  }
 ],
 "metadata": {
  "kernelspec": {
   "display_name": "Python 3",
   "language": "python",
   "name": "python3"
  },
  "language_info": {
   "codemirror_mode": {
    "name": "ipython",
    "version": 3
   },
   "file_extension": ".py",
   "mimetype": "text/x-python",
   "name": "python",
   "nbconvert_exporter": "python",
   "pygments_lexer": "ipython3",
   "version": "3.7.5"
  }
 },
 "nbformat": 4,
 "nbformat_minor": 4
}
