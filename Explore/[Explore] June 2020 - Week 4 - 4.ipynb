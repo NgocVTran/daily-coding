{
 "cells": [
  {
   "cell_type": "markdown",
   "metadata": {},
   "source": [
    "Find the Duplicate Number\n",
    "Given an array nums containing n + 1 integers where each integer is between 1 and n (inclusive), prove that at least one duplicate number must exist. Assume that there is only one duplicate number, find the duplicate one.\n",
    "\n",
    "Example 1:\n",
    "\n",
    "Input: [1,3,4,2,2]\n",
    "Output: 2\n",
    "Example 2:\n",
    "\n",
    "Input: [3,1,3,4,2]\n",
    "Output: 3\n",
    "\n",
    "Note:\n",
    "\n",
    "You must not modify the array (assume the array is read only).\n",
    "You must use only constant, O(1) extra space.\n",
    "Your runtime complexity should be less than O(n2).\n",
    "There is only one duplicate number in the array, but it could be repeated more than once."
   ]
  },
  {
   "cell_type": "code",
   "execution_count": 14,
   "metadata": {},
   "outputs": [],
   "source": [
    "nums = [1,3,4,2,2]\n",
    "# Output: 2"
   ]
  },
  {
   "cell_type": "code",
   "execution_count": null,
   "metadata": {},
   "outputs": [],
   "source": []
  },
  {
   "cell_type": "code",
   "execution_count": null,
   "metadata": {},
   "outputs": [],
   "source": []
  },
  {
   "cell_type": "code",
   "execution_count": 15,
   "metadata": {},
   "outputs": [],
   "source": [
    "def findDuplicate(nums):\n",
    "    seen = set()\n",
    "\n",
    "    for n in nums:\n",
    "        if n in seen:\n",
    "            return n\n",
    "        else:\n",
    "            seen.add(n)"
   ]
  },
  {
   "cell_type": "code",
   "execution_count": 16,
   "metadata": {},
   "outputs": [
    {
     "data": {
      "text/plain": [
       "2"
      ]
     },
     "execution_count": 16,
     "metadata": {},
     "output_type": "execute_result"
    }
   ],
   "source": [
    "findDuplicate(nums)"
   ]
  },
  {
   "cell_type": "code",
   "execution_count": 17,
   "metadata": {},
   "outputs": [
    {
     "data": {
      "text/plain": [
       "[1, 3, 4, 2, 2]"
      ]
     },
     "execution_count": 17,
     "metadata": {},
     "output_type": "execute_result"
    }
   ],
   "source": [
    "nums"
   ]
  },
  {
   "cell_type": "code",
   "execution_count": 10,
   "metadata": {},
   "outputs": [
    {
     "name": "stdout",
     "output_type": "stream",
     "text": [
      "[-1, 3, 4, 2, 2]\n",
      "[-1, 3, -4, 2, 2]\n",
      "[-1, 3, -4, -2, 2]\n",
      "[-1, -3, -4, -2, 2]\n",
      "2\n",
      "[-1, 3, -4, -2, 2]\n"
     ]
    }
   ],
   "source": [
    "# idea: The proble states that element be out of [1,n], \n",
    "# so we can mark the array in a unique way \n",
    "# that we can understand weather we have visited this element\n",
    "\n",
    "# I will reduce 1 from the element and use this \n",
    "# as the index for marking it and mark it by multiplying it with -1.\n",
    "for i in nums:\n",
    "    if nums[abs(i)-1] <0:\n",
    "        # return abs(i)\n",
    "        print(abs(i))\n",
    "    nums[abs(i)-1]  *= -1\n",
    "    print(nums)"
   ]
  },
  {
   "cell_type": "code",
   "execution_count": null,
   "metadata": {},
   "outputs": [],
   "source": []
  },
  {
   "cell_type": "markdown",
   "metadata": {},
   "source": [
    "### solution"
   ]
  },
  {
   "cell_type": "markdown",
   "metadata": {},
   "source": [
    "https://leetcode.com/articles/find-the-duplicate-number/"
   ]
  },
  {
   "cell_type": "code",
   "execution_count": null,
   "metadata": {},
   "outputs": [],
   "source": [
    "def findDuplicate(nums):\n",
    "    ## RC ##\n",
    "    ## APPROACH : INDEX AS HASH KEY ## (in - place modification)\n",
    "    ## LOGIC : NEGATE VALUES AT THAT INDEX, IF WE FIND VALUE AT THAT INDEX IS ALREADY NEGATIVE, WE RETURN THAT ##\n",
    "\n",
    "    ## TIME COMPLEXITY : O(N) ##\n",
    "    ## SPACE COMPLEXITY : O(1) ##\n",
    "\n",
    "    for idx, num in enumerate(nums):\n",
    "        num = abs(num)          # making positive if the number is already made negative by previous index\n",
    "        if(nums[num - 1] < 0):\n",
    "            return num\n",
    "        nums[num - 1] = -1 * nums[num - 1]\n",
    "\n",
    "    ## APPROACH : SLOW - FAST POINTERS ##\n",
    "    ## Similar to Leetcode: 147. Linked List Cycle II ##\n",
    "    slow = fast = nums[0]\n",
    "    while True:\n",
    "        slow = nums[slow]\n",
    "        fast = nums[nums[fast]]\n",
    "        if slow == fast:            # initially slow = fast = nums[0], using break here, instead of declaring in the while condition\n",
    "            break\n",
    "\n",
    "    slow = nums[0]\n",
    "    while slow != fast:\n",
    "        slow = nums[slow]\n",
    "        fast = nums[fast]\n",
    "    return fast"
   ]
  },
  {
   "cell_type": "code",
   "execution_count": null,
   "metadata": {},
   "outputs": [],
   "source": []
  },
  {
   "cell_type": "code",
   "execution_count": null,
   "metadata": {},
   "outputs": [],
   "source": []
  }
 ],
 "metadata": {
  "kernelspec": {
   "display_name": "Python 3",
   "language": "python",
   "name": "python3"
  },
  "language_info": {
   "codemirror_mode": {
    "name": "ipython",
    "version": 3
   },
   "file_extension": ".py",
   "mimetype": "text/x-python",
   "name": "python",
   "nbconvert_exporter": "python",
   "pygments_lexer": "ipython3",
   "version": "3.7.5"
  }
 },
 "nbformat": 4,
 "nbformat_minor": 4
}
