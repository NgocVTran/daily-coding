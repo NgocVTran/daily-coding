{
 "cells": [
  {
   "cell_type": "code",
   "execution_count": null,
   "metadata": {},
   "outputs": [],
   "source": []
  },
  {
   "cell_type": "code",
   "execution_count": null,
   "metadata": {},
   "outputs": [],
   "source": []
  },
  {
   "cell_type": "code",
   "execution_count": 2,
   "metadata": {},
   "outputs": [],
   "source": [
    "class TreeNode:\n",
    "    def __init__(self, val=0, left=None, right=None):\n",
    "        self.val = val\n",
    "        self.left = left\n",
    "        self.right = right"
   ]
  },
  {
   "cell_type": "code",
   "execution_count": 7,
   "metadata": {},
   "outputs": [],
   "source": [
    "def hasPath(root, arr, x): \n",
    "\n",
    "    # if root is None there is no path \n",
    "    if (not root): \n",
    "        return False\n",
    "\n",
    "    # push the node's value in 'arr' \n",
    "    arr.append(root.val)\n",
    "\n",
    "    # if it is the required node \n",
    "    # return true \n",
    "    if (root.val == x):\n",
    "        return True\n",
    "\n",
    "    # else check whether the required node \n",
    "    # lies in the left subtree or right \n",
    "    # subtree of the current node \n",
    "    if (hasPath(root.left, arr, x) or\n",
    "        hasPath(root.right, arr, x)): \n",
    "        return True\n",
    "\n",
    "    # required node does not lie either in \n",
    "    # the left or right subtree of the current \n",
    "    # node. Thus, remove current node's value \n",
    "    # from 'arr'and then return false\t \n",
    "    arr.pop(-1) \n",
    "    return False"
   ]
  },
  {
   "cell_type": "code",
   "execution_count": null,
   "metadata": {},
   "outputs": [],
   "source": []
  },
  {
   "cell_type": "code",
   "execution_count": 59,
   "metadata": {},
   "outputs": [],
   "source": [
    "# function to print the path from root to \n",
    "# the given node if the node lies in \n",
    "# the binary tree \n",
    "def printPath(root, x): \n",
    "    # vector to store the path \n",
    "    arr = [] \n",
    "\n",
    "    str_path = \"\"\n",
    "    # if required node 'x' is present \n",
    "    # then print the path \n",
    "    if (hasPath(root, arr, x)): \n",
    "        for i in range(len(arr) - 1): \n",
    "            # print(arr[i], end = \"->\") \n",
    "            str_path = str_path + str(arr[i])\n",
    "        # print(arr[len(arr) - 1]) \n",
    "        str_path = str_path + str(arr[len(arr) - 1])\n",
    "\n",
    "    # 'x' is not present in the \n",
    "    # binary tree \n",
    "    else: \n",
    "        # print(\"No Path\") \n",
    "        str_path = \"\"\n",
    "        \n",
    "    return str_path"
   ]
  },
  {
   "cell_type": "code",
   "execution_count": 14,
   "metadata": {},
   "outputs": [
    {
     "name": "stdout",
     "output_type": "stream",
     "text": [
      "1->3->7\n"
     ]
    },
    {
     "data": {
      "text/plain": [
       "'137'"
      ]
     },
     "execution_count": 14,
     "metadata": {},
     "output_type": "execute_result"
    }
   ],
   "source": [
    "# x = 5\n",
    "x = 7\n",
    "printPath(root, x) "
   ]
  },
  {
   "cell_type": "code",
   "execution_count": 15,
   "metadata": {},
   "outputs": [],
   "source": []
  },
  {
   "cell_type": "code",
   "execution_count": 16,
   "metadata": {},
   "outputs": [
    {
     "name": "stdout",
     "output_type": "stream",
     "text": [
      "2 1 3 "
     ]
    }
   ],
   "source": []
  },
  {
   "cell_type": "code",
   "execution_count": 75,
   "metadata": {},
   "outputs": [],
   "source": [
    "# [4,9,0,5,1]\n",
    "# # 1026\n",
    "root = TreeNode(4) \n",
    "root.left = TreeNode(9) \n",
    "root.right = TreeNode(0) \n",
    "root.left.left = TreeNode(5) \n",
    "root.left.right = TreeNode(1) "
   ]
  },
  {
   "cell_type": "code",
   "execution_count": 22,
   "metadata": {},
   "outputs": [],
   "source": [
    "root = TreeNode(1) \n",
    "root.left = TreeNode(2) \n",
    "root.right = TreeNode(3) \n",
    "root.left.left = TreeNode(4) \n",
    "root.left.right = TreeNode(5) \n",
    "root.right.left = TreeNode(6) \n",
    "root.right.right = TreeNode(7) "
   ]
  },
  {
   "cell_type": "code",
   "execution_count": null,
   "metadata": {},
   "outputs": [],
   "source": []
  },
  {
   "cell_type": "code",
   "execution_count": 29,
   "metadata": {},
   "outputs": [],
   "source": [
    "def printInorder(root): \n",
    "  \n",
    "    if root: \n",
    "  \n",
    "        # First recur on left child \n",
    "        printInorder(root.left) \n",
    "  \n",
    "        # then print the data of node \n",
    "        print(root.val), \n",
    "  \n",
    "        # now recur on right child \n",
    "        printInorder(root.right) "
   ]
  },
  {
   "cell_type": "code",
   "execution_count": 76,
   "metadata": {},
   "outputs": [
    {
     "name": "stdout",
     "output_type": "stream",
     "text": [
      "5\n",
      "9\n",
      "1\n",
      "4\n",
      "0\n"
     ]
    }
   ],
   "source": [
    "printInorder(root)"
   ]
  },
  {
   "cell_type": "code",
   "execution_count": 77,
   "metadata": {},
   "outputs": [],
   "source": [
    "result = []"
   ]
  },
  {
   "cell_type": "code",
   "execution_count": 78,
   "metadata": {},
   "outputs": [],
   "source": [
    "# A function to do preorder tree traversal \n",
    "def printPreorder(root): \n",
    "    if root: \n",
    "        # First print the data of node \n",
    "        print(root.val), \n",
    "        result.append(root.val)\n",
    "\n",
    "        # Then recur on left child \n",
    "        printPreorder(root.left) \n",
    "\n",
    "        # Finally recur on right child \n",
    "        printPreorder(root.right)\n",
    "        \n",
    "        \n",
    "    return result"
   ]
  },
  {
   "cell_type": "code",
   "execution_count": 79,
   "metadata": {},
   "outputs": [
    {
     "name": "stdout",
     "output_type": "stream",
     "text": [
      "4\n",
      "9\n",
      "5\n",
      "1\n",
      "0\n"
     ]
    },
    {
     "data": {
      "text/plain": [
       "[4, 9, 5, 1, 0]"
      ]
     },
     "execution_count": 79,
     "metadata": {},
     "output_type": "execute_result"
    }
   ],
   "source": [
    "printPreorder(root)"
   ]
  },
  {
   "cell_type": "code",
   "execution_count": 80,
   "metadata": {},
   "outputs": [
    {
     "data": {
      "text/plain": [
       "''"
      ]
     },
     "execution_count": 80,
     "metadata": {},
     "output_type": "execute_result"
    }
   ],
   "source": [
    "printPath(root, 7)"
   ]
  },
  {
   "cell_type": "code",
   "execution_count": 8,
   "metadata": {},
   "outputs": [
    {
     "name": "stdout",
     "output_type": "stream",
     "text": [
      "1->2->5\n"
     ]
    }
   ],
   "source": [
    "x = 5\n",
    "printPath(root, x) "
   ]
  },
  {
   "cell_type": "code",
   "execution_count": 108,
   "metadata": {},
   "outputs": [
    {
     "name": "stdout",
     "output_type": "stream",
     "text": [
      "495\n",
      "491\n",
      "40\n"
     ]
    }
   ],
   "source": [
    "summ = 0\n",
    "\n",
    "for n in result[i:]:\n",
    "    p = printPath(root, n)\n",
    "    print(p)\n",
    "    if not p:\n",
    "        pass\n",
    "    else:\n",
    "        summ = summ + int(p)"
   ]
  },
  {
   "cell_type": "code",
   "execution_count": 109,
   "metadata": {},
   "outputs": [
    {
     "data": {
      "text/plain": [
       "1026"
      ]
     },
     "execution_count": 109,
     "metadata": {},
     "output_type": "execute_result"
    }
   ],
   "source": [
    "summ"
   ]
  },
  {
   "cell_type": "code",
   "execution_count": 133,
   "metadata": {},
   "outputs": [],
   "source": [
    "result = [4,9,0,None,1]"
   ]
  },
  {
   "cell_type": "code",
   "execution_count": 134,
   "metadata": {},
   "outputs": [],
   "source": [
    "# result2 = [1,2,3]"
   ]
  },
  {
   "cell_type": "code",
   "execution_count": 135,
   "metadata": {},
   "outputs": [
    {
     "name": "stdout",
     "output_type": "stream",
     "text": [
      "4\n",
      "9\n"
     ]
    }
   ],
   "source": [
    "i = 0\n",
    "\n",
    "while i<len(result)%2+1:\n",
    "    print(result[i])\n",
    "    i = i+1\n",
    "    "
   ]
  },
  {
   "cell_type": "code",
   "execution_count": 136,
   "metadata": {},
   "outputs": [
    {
     "data": {
      "text/plain": [
       "[0, None, 1]"
      ]
     },
     "execution_count": 136,
     "metadata": {},
     "output_type": "execute_result"
    }
   ],
   "source": [
    "result[i:]"
   ]
  },
  {
   "cell_type": "code",
   "execution_count": 137,
   "metadata": {},
   "outputs": [
    {
     "data": {
      "text/plain": [
       "2"
      ]
     },
     "execution_count": 137,
     "metadata": {},
     "output_type": "execute_result"
    }
   ],
   "source": [
    "i"
   ]
  },
  {
   "cell_type": "code",
   "execution_count": 138,
   "metadata": {},
   "outputs": [
    {
     "data": {
      "text/plain": [
       "[4, 9, 0, None, 1]"
      ]
     },
     "execution_count": 138,
     "metadata": {},
     "output_type": "execute_result"
    }
   ],
   "source": [
    "result"
   ]
  },
  {
   "cell_type": "code",
   "execution_count": 139,
   "metadata": {},
   "outputs": [
    {
     "data": {
      "text/plain": [
       "''"
      ]
     },
     "execution_count": 139,
     "metadata": {},
     "output_type": "execute_result"
    }
   ],
   "source": [
    "printPath(root, None)"
   ]
  },
  {
   "cell_type": "code",
   "execution_count": 141,
   "metadata": {},
   "outputs": [],
   "source": [
    "# int(\"\")"
   ]
  },
  {
   "cell_type": "code",
   "execution_count": 144,
   "metadata": {},
   "outputs": [],
   "source": [
    "def sumNumbers(root):\n",
    "\n",
    "    def hasPath(root, arr, x): \n",
    "        # if root is None there is no path \n",
    "        if (not root): \n",
    "            return False\n",
    "\n",
    "        # push the node's value in 'arr' \n",
    "        arr.append(root.val)\n",
    "\n",
    "        # if it is the required node \n",
    "        # return true \n",
    "        if (root.val == x):\n",
    "            return True\n",
    "\n",
    "        # else check whether the required node \n",
    "        # lies in the left subtree or right \n",
    "        # subtree of the current node \n",
    "        if (hasPath(root.left, arr, x) or\n",
    "            hasPath(root.right, arr, x)): \n",
    "            return True\n",
    "\n",
    "        # required node does not lie either in \n",
    "        # the left or right subtree of the current \n",
    "        # node. Thus, remove current node's value \n",
    "        # from 'arr'and then return false\t \n",
    "        arr.pop(-1) \n",
    "        return False\n",
    "\n",
    "    def printPath(root, x): \n",
    "        # vector to store the path \n",
    "        arr = [] \n",
    "\n",
    "        str_path = \"\"\n",
    "        # if required node 'x' is present \n",
    "        # then print the path \n",
    "        if (hasPath(root, arr, x)): \n",
    "            for i in range(len(arr) - 1): \n",
    "                # print(arr[i], end = \"->\") \n",
    "                str_path = str_path + str(arr[i])\n",
    "            # print(arr[len(arr) - 1]) \n",
    "            str_path = str_path + str(arr[len(arr) - 1])\n",
    "\n",
    "        # 'x' is not present in the \n",
    "        # binary tree \n",
    "        else: \n",
    "            # print(\"No Path\") \n",
    "            str_path = \"\"\n",
    "\n",
    "        return str_path\n",
    "\n",
    "    # A function to do preorder tree traversal \n",
    "    def printPreorder(root): \n",
    "        if root: \n",
    "            # First print the data of node \n",
    "            # print(root.val), \n",
    "            all_nodes.append(root.val)\n",
    "\n",
    "            # Then recur on left child \n",
    "            printPreorder(root.left) \n",
    "            # Finally recur on right child \n",
    "            printPreorder(root.right)\n",
    "        return all_nodes\n",
    "\n",
    "    all_nodes = []\n",
    "    printPreorder(root)\n",
    "\n",
    "    print(all_nodes)\n",
    "    all_nodes = [4,9,0,None,1]\n",
    "    if len(all_nodes)<=3:\n",
    "        if len(all_nodes) == 1:\n",
    "            return root.val\n",
    "        else:\n",
    "            i = 1\n",
    "    else:\n",
    "        i = 0\n",
    "        while i<len(all_nodes)%2+1:\n",
    "            i = i+1\n",
    "\n",
    "    print(\"i =\",i)\n",
    "    summ = 0\n",
    "    for n in all_nodes[i:]:\n",
    "        p = printPath(root, n)\n",
    "        print(p)\n",
    "        try:\n",
    "            v = int(p)\n",
    "        except:\n",
    "            v = 0\n",
    "        summ = summ + v\n",
    "\n",
    "    return summ"
   ]
  },
  {
   "cell_type": "code",
   "execution_count": 145,
   "metadata": {},
   "outputs": [
    {
     "name": "stdout",
     "output_type": "stream",
     "text": [
      "[4, 9, 5, 1, 0]\n",
      "i = 2\n",
      "40\n",
      "\n",
      "491\n"
     ]
    },
    {
     "data": {
      "text/plain": [
       "531"
      ]
     },
     "execution_count": 145,
     "metadata": {},
     "output_type": "execute_result"
    }
   ],
   "source": [
    "sumNumbers(root)"
   ]
  },
  {
   "cell_type": "code",
   "execution_count": 130,
   "metadata": {},
   "outputs": [],
   "source": [
    "try:\n",
    "    v = int(None)\n",
    "except:\n",
    "    v = 0"
   ]
  },
  {
   "cell_type": "code",
   "execution_count": 131,
   "metadata": {},
   "outputs": [
    {
     "data": {
      "text/plain": [
       "0"
      ]
     },
     "execution_count": 131,
     "metadata": {},
     "output_type": "execute_result"
    }
   ],
   "source": [
    "v"
   ]
  },
  {
   "cell_type": "code",
   "execution_count": 132,
   "metadata": {},
   "outputs": [
    {
     "data": {
      "text/plain": [
       "'40'"
      ]
     },
     "execution_count": 132,
     "metadata": {},
     "output_type": "execute_result"
    }
   ],
   "source": [
    "p"
   ]
  },
  {
   "cell_type": "code",
   "execution_count": 128,
   "metadata": {},
   "outputs": [
    {
     "ename": "NameError",
     "evalue": "name 'NULL' is not defined",
     "output_type": "error",
     "traceback": [
      "\u001b[0;31m---------------------------------------------------------------------------\u001b[0m",
      "\u001b[0;31mNameError\u001b[0m                                 Traceback (most recent call last)",
      "\u001b[0;32m<ipython-input-128-37a9388107e3>\u001b[0m in \u001b[0;36m<module>\u001b[0;34m\u001b[0m\n\u001b[0;32m----> 1\u001b[0;31m \u001b[0mresult2\u001b[0m \u001b[0;34m=\u001b[0m \u001b[0;34m[\u001b[0m\u001b[0;36m4\u001b[0m\u001b[0;34m,\u001b[0m\u001b[0;36m9\u001b[0m\u001b[0;34m,\u001b[0m\u001b[0;36m0\u001b[0m\u001b[0;34m,\u001b[0m\u001b[0mNULL\u001b[0m\u001b[0;34m,\u001b[0m\u001b[0;36m1\u001b[0m\u001b[0;34m]\u001b[0m\u001b[0;34m\u001b[0m\u001b[0;34m\u001b[0m\u001b[0m\n\u001b[0m",
      "\u001b[0;31mNameError\u001b[0m: name 'NULL' is not defined"
     ]
    }
   ],
   "source": [
    "result2 = [4,9,0,None,1]"
   ]
  },
  {
   "cell_type": "code",
   "execution_count": 129,
   "metadata": {},
   "outputs": [
    {
     "ename": "TypeError",
     "evalue": "int() argument must be a string, a bytes-like object or a number, not 'NoneType'",
     "output_type": "error",
     "traceback": [
      "\u001b[0;31m---------------------------------------------------------------------------\u001b[0m",
      "\u001b[0;31mTypeError\u001b[0m                                 Traceback (most recent call last)",
      "\u001b[0;32m<ipython-input-129-af2123a46eb2>\u001b[0m in \u001b[0;36m<module>\u001b[0;34m\u001b[0m\n\u001b[0;32m----> 1\u001b[0;31m \u001b[0mint\u001b[0m\u001b[0;34m(\u001b[0m\u001b[0;32mNone\u001b[0m\u001b[0;34m)\u001b[0m\u001b[0;34m\u001b[0m\u001b[0;34m\u001b[0m\u001b[0m\n\u001b[0m",
      "\u001b[0;31mTypeError\u001b[0m: int() argument must be a string, a bytes-like object or a number, not 'NoneType'"
     ]
    }
   ],
   "source": [
    "int(None)"
   ]
  },
  {
   "cell_type": "code",
   "execution_count": null,
   "metadata": {},
   "outputs": [],
   "source": []
  },
  {
   "cell_type": "code",
   "execution_count": null,
   "metadata": {},
   "outputs": [],
   "source": []
  },
  {
   "cell_type": "code",
   "execution_count": null,
   "metadata": {},
   "outputs": [],
   "source": []
  },
  {
   "cell_type": "code",
   "execution_count": null,
   "metadata": {},
   "outputs": [],
   "source": []
  },
  {
   "cell_type": "code",
   "execution_count": null,
   "metadata": {},
   "outputs": [],
   "source": []
  },
  {
   "cell_type": "code",
   "execution_count": null,
   "metadata": {},
   "outputs": [],
   "source": []
  },
  {
   "cell_type": "code",
   "execution_count": null,
   "metadata": {},
   "outputs": [],
   "source": []
  },
  {
   "cell_type": "code",
   "execution_count": null,
   "metadata": {},
   "outputs": [],
   "source": []
  },
  {
   "cell_type": "code",
   "execution_count": null,
   "metadata": {},
   "outputs": [],
   "source": []
  },
  {
   "cell_type": "code",
   "execution_count": null,
   "metadata": {},
   "outputs": [],
   "source": []
  },
  {
   "cell_type": "code",
   "execution_count": null,
   "metadata": {},
   "outputs": [],
   "source": []
  }
 ],
 "metadata": {
  "kernelspec": {
   "display_name": "Python 3",
   "language": "python",
   "name": "python3"
  },
  "language_info": {
   "codemirror_mode": {
    "name": "ipython",
    "version": 3
   },
   "file_extension": ".py",
   "mimetype": "text/x-python",
   "name": "python",
   "nbconvert_exporter": "python",
   "pygments_lexer": "ipython3",
   "version": "3.7.5"
  }
 },
 "nbformat": 4,
 "nbformat_minor": 4
}
