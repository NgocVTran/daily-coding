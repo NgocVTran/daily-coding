{
 "cells": [
  {
   "cell_type": "code",
   "execution_count": null,
   "metadata": {},
   "outputs": [],
   "source": []
  },
  {
   "cell_type": "code",
   "execution_count": null,
   "metadata": {},
   "outputs": [],
   "source": []
  },
  {
   "cell_type": "code",
   "execution_count": 1,
   "metadata": {},
   "outputs": [],
   "source": [
    "A = [[0,2],[5,10],[13,23],[24,25]]\n",
    "B = [[1,5],[8,12],[15,24],[25,26]]\n",
    "# Output = [[1, 2], [5, 5], [8, 10], [15, 23], [24, 24], [25, 25]]\n",
    "\n",
    "# A = [[3,10]]\n",
    "# B = [[5,10]]\n",
    "# Output = [[5,10]]\n",
    "\n",
    "# A = [[0,2],[5,10],[13,23],[24,25]]\n",
    "# B = [[1,5],[8,12],[15,24],[25,26]]\n",
    "# Output = [[1,2],[5,5],[8,10],[15,23],[24,24],[25,25]]"
   ]
  },
  {
   "cell_type": "code",
   "execution_count": 2,
   "metadata": {},
   "outputs": [],
   "source": [
    "# Ouput = [[1,2],[8,10],[15,23],[5,5],[24,24],[25,25]]"
   ]
  },
  {
   "cell_type": "code",
   "execution_count": 15,
   "metadata": {},
   "outputs": [],
   "source": [
    "interval_list = []"
   ]
  },
  {
   "cell_type": "code",
   "execution_count": 16,
   "metadata": {},
   "outputs": [],
   "source": [
    "for a in A:\n",
    "    interval_list.append(a[0])\n",
    "    interval_list.append(a[1])"
   ]
  },
  {
   "cell_type": "code",
   "execution_count": 17,
   "metadata": {},
   "outputs": [],
   "source": [
    "for b in B:\n",
    "    interval_list.append(b[0])\n",
    "    interval_list.append(b[1])"
   ]
  },
  {
   "cell_type": "code",
   "execution_count": 18,
   "metadata": {},
   "outputs": [],
   "source": [
    "# sorted_interval = sorted(interval_list)\n",
    "# sorted_interval"
   ]
  },
  {
   "cell_type": "code",
   "execution_count": 19,
   "metadata": {},
   "outputs": [
    {
     "data": {
      "text/plain": [
       "[0, 1, 2, 5, 8, 10, 12, 13, 15, 23, 24, 25, 26]"
      ]
     },
     "execution_count": 19,
     "metadata": {},
     "output_type": "execute_result"
    }
   ],
   "source": [
    "sorted_list = sorted(set(interval_list))\n",
    "sorted_list"
   ]
  },
  {
   "cell_type": "code",
   "execution_count": 20,
   "metadata": {},
   "outputs": [],
   "source": [
    "result = []"
   ]
  },
  {
   "cell_type": "code",
   "execution_count": 9,
   "metadata": {},
   "outputs": [],
   "source": [
    "for i in range(len(sorted_list)-1):\n",
    "    inside_A = False\n",
    "    inside_B = False\n",
    "    \n",
    "    for a in A:\n",
    "        if (sorted_list[i]>= a[0]) and (sorted_list[i+1]<=a[1]):\n",
    "            inside_A = True\n",
    "            break\n",
    "    \n",
    "    for b in B:\n",
    "        if (sorted_list[i]>= b[0]) and (sorted_list[i+1]<=b[1]):\n",
    "            inside_B = True\n",
    "            break\n",
    "            \n",
    "    if inside_A and inside_B:\n",
    "        result.append([sorted_list[i], sorted_list[i+1]])"
   ]
  },
  {
   "cell_type": "code",
   "execution_count": 10,
   "metadata": {},
   "outputs": [
    {
     "data": {
      "text/plain": [
       "[[1, 2], [8, 10], [15, 23]]"
      ]
     },
     "execution_count": 10,
     "metadata": {},
     "output_type": "execute_result"
    }
   ],
   "source": [
    "result"
   ]
  },
  {
   "cell_type": "code",
   "execution_count": 11,
   "metadata": {},
   "outputs": [],
   "source": [
    "for a in A:\n",
    "    for b in B:\n",
    "        if a[0] == b[1]:\n",
    "            result.append([a[0],b[1]])\n",
    "        if a[1] == b[0]:\n",
    "            result.append([a[1],b[0]])"
   ]
  },
  {
   "cell_type": "code",
   "execution_count": 12,
   "metadata": {},
   "outputs": [
    {
     "data": {
      "text/plain": [
       "[[1, 2], [8, 10], [15, 23], [5, 5], [24, 24], [25, 25]]"
      ]
     },
     "execution_count": 12,
     "metadata": {},
     "output_type": "execute_result"
    }
   ],
   "source": [
    "result"
   ]
  },
  {
   "cell_type": "code",
   "execution_count": 13,
   "metadata": {},
   "outputs": [],
   "source": [
    "# sort list of list\n",
    "result.sort(key=lambda x: x[1])"
   ]
  },
  {
   "cell_type": "code",
   "execution_count": 14,
   "metadata": {},
   "outputs": [
    {
     "data": {
      "text/plain": [
       "[[1, 2], [5, 5], [8, 10], [15, 23], [24, 24], [25, 25]]"
      ]
     },
     "execution_count": 14,
     "metadata": {},
     "output_type": "execute_result"
    }
   ],
   "source": [
    "result"
   ]
  },
  {
   "cell_type": "markdown",
   "metadata": {},
   "source": [
    "### first solution"
   ]
  },
  {
   "cell_type": "code",
   "execution_count": null,
   "metadata": {},
   "outputs": [],
   "source": [
    "A = [[0,2],[5,10],[13,23],[24,25]]\n",
    "B = [[1,5],[8,12],[15,24],[25,26]]"
   ]
  },
  {
   "cell_type": "code",
   "execution_count": null,
   "metadata": {},
   "outputs": [],
   "source": [
    "interval_list = []"
   ]
  },
  {
   "cell_type": "code",
   "execution_count": null,
   "metadata": {},
   "outputs": [],
   "source": [
    "def add_interval(input_list):\n",
    "    for i in input_list:\n",
    "        interval_list.append(i[0])\n",
    "        interval_list.append(i[1])"
   ]
  },
  {
   "cell_type": "code",
   "execution_count": null,
   "metadata": {},
   "outputs": [],
   "source": [
    "add_interval(A)\n",
    "add_interval(B)"
   ]
  },
  {
   "cell_type": "code",
   "execution_count": null,
   "metadata": {},
   "outputs": [],
   "source": [
    "interval_list"
   ]
  },
  {
   "cell_type": "code",
   "execution_count": null,
   "metadata": {},
   "outputs": [],
   "source": [
    "sorted_interval = sorted(interval_list)"
   ]
  },
  {
   "cell_type": "code",
   "execution_count": null,
   "metadata": {},
   "outputs": [],
   "source": [
    "def check_inside_list(input_list, idx):\n",
    "    for inp in input_list:\n",
    "        if (sorted_interval[idx]>= inp[0]) and (sorted_interval[idx+1]<=inp[1]):\n",
    "            return True"
   ]
  },
  {
   "cell_type": "code",
   "execution_count": null,
   "metadata": {},
   "outputs": [],
   "source": [
    "result = []"
   ]
  },
  {
   "cell_type": "code",
   "execution_count": null,
   "metadata": {},
   "outputs": [],
   "source": [
    "for i in range(len(sorted_interval)-1):\n",
    "    inside_A = check_inside_list(A, idx=i)\n",
    "    inside_B = check_inside_list(B, idx=i)\n",
    "    \n",
    "    if inside_A and inside_B:\n",
    "        result.append([sorted_interval[i], sorted_interval[i+1]])"
   ]
  },
  {
   "cell_type": "code",
   "execution_count": null,
   "metadata": {},
   "outputs": [],
   "source": [
    "result"
   ]
  },
  {
   "cell_type": "code",
   "execution_count": null,
   "metadata": {},
   "outputs": [],
   "source": []
  },
  {
   "cell_type": "markdown",
   "metadata": {},
   "source": [
    "### second solution"
   ]
  },
  {
   "cell_type": "code",
   "execution_count": null,
   "metadata": {},
   "outputs": [],
   "source": [
    "A = [[0,2],[5,10],[13,23],[24,25]]\n",
    "B = [[1,5],[8,12],[15,24],[25,26]]"
   ]
  },
  {
   "cell_type": "code",
   "execution_count": null,
   "metadata": {},
   "outputs": [],
   "source": [
    "interval_list = []"
   ]
  },
  {
   "cell_type": "code",
   "execution_count": null,
   "metadata": {},
   "outputs": [],
   "source": [
    "def add_interval(input_list):\n",
    "    for i in input_list:\n",
    "        interval_list.append(i[0])\n",
    "        interval_list.append(i[1])"
   ]
  },
  {
   "cell_type": "code",
   "execution_count": null,
   "metadata": {},
   "outputs": [],
   "source": [
    "add_interval(A)\n",
    "add_interval(B)"
   ]
  },
  {
   "cell_type": "code",
   "execution_count": null,
   "metadata": {},
   "outputs": [],
   "source": [
    "sorted_list = sorted(set(interval_list))"
   ]
  },
  {
   "cell_type": "code",
   "execution_count": null,
   "metadata": {},
   "outputs": [],
   "source": [
    "def check_inside_list(input_list, idx):\n",
    "    for inp in input_list:\n",
    "        if (sorted_list[idx]>= inp[0]) and (sorted_list[idx+1]<=inp[1]):\n",
    "            return True"
   ]
  },
  {
   "cell_type": "code",
   "execution_count": null,
   "metadata": {},
   "outputs": [],
   "source": [
    "result = []"
   ]
  },
  {
   "cell_type": "code",
   "execution_count": null,
   "metadata": {},
   "outputs": [],
   "source": [
    "for i in range(len(sorted_list)-1):\n",
    "    inside_A = check_inside_list(A, idx=i)\n",
    "    inside_B = check_inside_list(B, idx=i)\n",
    "    \n",
    "    if inside_A and inside_B:\n",
    "        result.append([sorted_list[i], sorted_list[i+1]])"
   ]
  },
  {
   "cell_type": "code",
   "execution_count": null,
   "metadata": {},
   "outputs": [],
   "source": [
    "for a in A:\n",
    "    for b in B:\n",
    "        if a[0] == b[1]:\n",
    "            result.append([a[0],b[1]])\n",
    "        if a[1] == b[0]:\n",
    "            result.append([a[1],b[0]])"
   ]
  },
  {
   "cell_type": "code",
   "execution_count": null,
   "metadata": {},
   "outputs": [],
   "source": [
    "result.sort(key=lambda x: x[1])"
   ]
  },
  {
   "cell_type": "code",
   "execution_count": null,
   "metadata": {},
   "outputs": [],
   "source": [
    "result"
   ]
  },
  {
   "cell_type": "code",
   "execution_count": null,
   "metadata": {},
   "outputs": [],
   "source": []
  },
  {
   "cell_type": "markdown",
   "metadata": {},
   "source": [
    "### third solution"
   ]
  },
  {
   "cell_type": "code",
   "execution_count": null,
   "metadata": {},
   "outputs": [],
   "source": [
    "interval_list = []\n",
    "        \n",
    "for a in A:\n",
    "    interval_list.append(a[0])\n",
    "    interval_list.append(a[1])\n",
    "\n",
    "for b in B:\n",
    "    interval_list.append(b[0])\n",
    "    interval_list.append(b[1])\n",
    "\n",
    "sorted_interval = sorted(interval_list)\n",
    "sorted_list = sorted(set(interval_list))\n",
    "\n",
    "result = []\n",
    "for i in range(len(sorted_list)-1):\n",
    "    inside_A = False\n",
    "    inside_B = False\n",
    "\n",
    "    for a in A:\n",
    "        if (sorted_list[i]>= a[0]) and (sorted_list[i+1]<=a[1]):\n",
    "            inside_A = True\n",
    "            break\n",
    "\n",
    "    for b in B:\n",
    "        if (sorted_list[i]>= b[0]) and (sorted_list[i+1]<=b[1]):\n",
    "            inside_B = True\n",
    "            break\n",
    "\n",
    "    if inside_A and inside_B:\n",
    "        result.append([sorted_list[i], sorted_list[i+1]])\n",
    "\n",
    "for a in A:\n",
    "    for b in B:\n",
    "        if a[0] == b[1]:\n",
    "            result.append([a[0],b[1]])\n",
    "        if a[1] == b[0]:\n",
    "            result.append([a[1],b[0]])\n",
    "\n",
    "result.sort(key=lambda x: x[1])\n",
    "\n",
    "return result"
   ]
  },
  {
   "cell_type": "code",
   "execution_count": null,
   "metadata": {},
   "outputs": [],
   "source": []
  },
  {
   "cell_type": "code",
   "execution_count": null,
   "metadata": {},
   "outputs": [],
   "source": []
  },
  {
   "cell_type": "code",
   "execution_count": null,
   "metadata": {},
   "outputs": [],
   "source": []
  },
  {
   "cell_type": "code",
   "execution_count": null,
   "metadata": {},
   "outputs": [],
   "source": []
  },
  {
   "cell_type": "code",
   "execution_count": null,
   "metadata": {},
   "outputs": [],
   "source": []
  },
  {
   "cell_type": "code",
   "execution_count": null,
   "metadata": {},
   "outputs": [],
   "source": []
  }
 ],
 "metadata": {
  "kernelspec": {
   "display_name": "Python 3",
   "language": "python",
   "name": "python3"
  },
  "language_info": {
   "codemirror_mode": {
    "name": "ipython",
    "version": 3
   },
   "file_extension": ".py",
   "mimetype": "text/x-python",
   "name": "python",
   "nbconvert_exporter": "python",
   "pygments_lexer": "ipython3",
   "version": "3.7.5"
  }
 },
 "nbformat": 4,
 "nbformat_minor": 4
}
