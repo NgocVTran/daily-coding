{
 "cells": [
  {
   "cell_type": "code",
   "execution_count": 1,
   "metadata": {},
   "outputs": [],
   "source": [
    "alphabet = {\n",
    "    \"A\":\"a\", \"B\":\"b\", \"C\":\"c\", \"D\":\"d\", \"E\":\"e\",\n",
    "    \"F\":\"f\", \"G\":\"g\", \"H\":\"h\", \"I\":\"i\", \"J\":\"j\",\n",
    "    \"K\":\"k\", \"L\":\"l\", \"M\":\"m\", \"N\":\"n\", \"O\":\"o\",\n",
    "    \"P\":\"p\", \"Q\":\"q\", \"R\":\"r\", \"S\":\"s\", \"T\":\"t\",\n",
    "    \"U\":\"u\", \"V\":\"v\", \"W\":\"w\", \"X\":\"x\", \"Y\":\"y\", \"Z\":\"z\",\n",
    "}"
   ]
  },
  {
   "cell_type": "code",
   "execution_count": null,
   "metadata": {},
   "outputs": [],
   "source": []
  },
  {
   "cell_type": "code",
   "execution_count": null,
   "metadata": {},
   "outputs": [],
   "source": []
  },
  {
   "cell_type": "code",
   "execution_count": null,
   "metadata": {},
   "outputs": [],
   "source": []
  }
 ],
 "metadata": {
  "kernelspec": {
   "display_name": "Python 3",
   "language": "python",
   "name": "python3"
  },
  "language_info": {
   "codemirror_mode": {
    "name": "ipython",
    "version": 3
   },
   "file_extension": ".py",
   "mimetype": "text/x-python",
   "name": "python",
   "nbconvert_exporter": "python",
   "pygments_lexer": "ipython3",
   "version": "3.7.5"
  }
 },
 "nbformat": 4,
 "nbformat_minor": 4
}
