{
 "cells": [
  {
   "cell_type": "markdown",
   "metadata": {},
   "source": [
    "You are given coins of different denominations and a total amount of money. Write a function to compute the number of combinations that make up that amount. You may assume that you have infinite number of each kind of coin.\n",
    "\n",
    " \n",
    "\n",
    "Example 1:\n",
    "\n",
    "Input: amount = 5, coins = [1, 2, 5]\n",
    "Output: 4\n",
    "Explanation: there are four ways to make up the amount:\n",
    "5=5\n",
    "5=2+2+1\n",
    "5=2+1+1+1\n",
    "5=1+1+1+1+1\n",
    "Example 2:\n",
    "\n",
    "Input: amount = 3, coins = [2]\n",
    "Output: 0\n",
    "Explanation: the amount of 3 cannot be made up just with coins of 2.\n",
    "Example 3:\n",
    "\n",
    "Input: amount = 10, coins = [10] \n",
    "Output: 1"
   ]
  },
  {
   "cell_type": "code",
   "execution_count": 1,
   "metadata": {},
   "outputs": [],
   "source": [
    "amount = 5"
   ]
  },
  {
   "cell_type": "code",
   "execution_count": 2,
   "metadata": {},
   "outputs": [],
   "source": [
    "coint = [1,2,5]"
   ]
  },
  {
   "cell_type": "code",
   "execution_count": null,
   "metadata": {},
   "outputs": [],
   "source": []
  },
  {
   "cell_type": "code",
   "execution_count": null,
   "metadata": {},
   "outputs": [],
   "source": []
  },
  {
   "cell_type": "code",
   "execution_count": 3,
   "metadata": {},
   "outputs": [],
   "source": [
    "def change(coins, amount):\n",
    "    result = [amount+1] * (amount+1)\n",
    "    coins_results = [[] for _ in range(amount+1)]\n",
    "\n",
    "    result[0] = 0\n",
    "\n",
    "    for i in range(1, amount+1):\n",
    "        for coin in coins:\n",
    "            if i >= coin and result[i - coin] + 1 < result[i]:\n",
    "                result[i] = result[i-coin] + 1\n",
    "                coins_results[i] = coins_results[i-coin] + [coin]\n",
    "\n",
    "    if result[amount] == amount+1:\n",
    "        return []\n",
    "\n",
    "    return coins_results[amount]"
   ]
  },
  {
   "cell_type": "code",
   "execution_count": 4,
   "metadata": {},
   "outputs": [
    {
     "name": "stdout",
     "output_type": "stream",
     "text": [
      "[5, 2]\n",
      "[2, 2, 2, 2, 2]\n"
     ]
    }
   ],
   "source": [
    "print(change([1, 2, 5, 8], 7))\n",
    "print(change([2], 10))"
   ]
  },
  {
   "cell_type": "code",
   "execution_count": null,
   "metadata": {},
   "outputs": [],
   "source": []
  },
  {
   "cell_type": "code",
   "execution_count": 20,
   "metadata": {},
   "outputs": [],
   "source": [
    "def change(coins, amount):\n",
    "    res = []\n",
    "\n",
    "    def backtrack(end, remain, cur_result):\n",
    "        if end < 0: return\n",
    "        if remain == 0:\n",
    "            res.append(cur_result)\n",
    "            return\n",
    "        if remain >= coins[end]:\n",
    "            backtrack(end, remain - coins[end], cur_result + [coins[end]])\n",
    "        backtrack(end - 1, remain, cur_result)\n",
    "\n",
    "    backtrack(len(coins) - 1, amount, [])\n",
    "    \n",
    "    print(res)\n",
    "    if not res:\n",
    "        if amount == 0: \n",
    "            return 1\n",
    "        else:\n",
    "            return 0\n",
    "\n",
    "    return res"
   ]
  },
  {
   "cell_type": "code",
   "execution_count": 7,
   "metadata": {},
   "outputs": [
    {
     "name": "stdout",
     "output_type": "stream",
     "text": [
      "[[5, 2], [5, 1, 1], [2, 2, 2, 1], [2, 2, 1, 1, 1], [2, 1, 1, 1, 1, 1], [1, 1, 1, 1, 1, 1, 1]]\n"
     ]
    }
   ],
   "source": [
    "print(change([1, 2, 5, 8], 7))"
   ]
  },
  {
   "cell_type": "code",
   "execution_count": 8,
   "metadata": {},
   "outputs": [
    {
     "name": "stdout",
     "output_type": "stream",
     "text": [
      "[[2, 2, 2, 2, 2]]\n"
     ]
    }
   ],
   "source": [
    "print(change([2], 10))"
   ]
  },
  {
   "cell_type": "code",
   "execution_count": 16,
   "metadata": {},
   "outputs": [
    {
     "name": "stdout",
     "output_type": "stream",
     "text": [
      "[[5], [2, 2, 1], [2, 1, 1, 1], [1, 1, 1, 1, 1]]\n"
     ]
    }
   ],
   "source": [
    "print(change([1,2,5], 5))"
   ]
  },
  {
   "cell_type": "code",
   "execution_count": 19,
   "metadata": {},
   "outputs": [
    {
     "name": "stdout",
     "output_type": "stream",
     "text": [
      "1\n"
     ]
    }
   ],
   "source": [
    "print(change([], 0))"
   ]
  },
  {
   "cell_type": "code",
   "execution_count": 21,
   "metadata": {},
   "outputs": [
    {
     "name": "stdout",
     "output_type": "stream",
     "text": [
      "[]\n",
      "1\n"
     ]
    }
   ],
   "source": [
    "print(change([3], 2))"
   ]
  },
  {
   "cell_type": "code",
   "execution_count": 24,
   "metadata": {},
   "outputs": [],
   "source": [
    "# Timeout: \n",
    "# print(change([3,5,7,8,9,10,11], 500))"
   ]
  },
  {
   "cell_type": "code",
   "execution_count": 26,
   "metadata": {},
   "outputs": [],
   "source": [
    "def change(coins, amount):\n",
    "    for i, coin in enumerate(coins):\n",
    "        if coin == amount:\n",
    "            yield (coin,)\n",
    "        elif coin < amount:\n",
    "            yield from ((coin,) + x for x in change(coins[i:], amount - coin))"
   ]
  },
  {
   "cell_type": "code",
   "execution_count": 27,
   "metadata": {},
   "outputs": [
    {
     "name": "stdout",
     "output_type": "stream",
     "text": [
      "[(2, 2, 2, 2, 2)]\n",
      "[(1, 1, 1, 1, 1, 1, 1), (1, 1, 1, 1, 1, 2), (1, 1, 1, 2, 2), (1, 1, 5), (1, 2, 2, 2), (2, 5)]\n"
     ]
    }
   ],
   "source": [
    "print(list(change([2], 10)))  \n",
    "print(list(change([1, 2, 5, 8], 7))) "
   ]
  },
  {
   "cell_type": "code",
   "execution_count": 29,
   "metadata": {},
   "outputs": [],
   "source": [
    "# print(list(change([3,5,7,8,9,10,11], 500)))"
   ]
  },
  {
   "cell_type": "code",
   "execution_count": null,
   "metadata": {},
   "outputs": [],
   "source": []
  },
  {
   "cell_type": "code",
   "execution_count": 33,
   "metadata": {},
   "outputs": [],
   "source": [
    "# Dynamic Programming Python implementation of Coin  \n",
    "# Change problem \n",
    "def count(S, m, n): \n",
    "  \n",
    "    # table[i] will be storing the number of solutions for \n",
    "    # value i. We need n+1 rows as the table is constructed \n",
    "    # in bottom up manner using the base case (n = 0) \n",
    "    # Initialize all table values as 0 \n",
    "    table = [0 for k in range(n+1)] \n",
    "  \n",
    "    # Base case (If given value is 0) \n",
    "    table[0] = 1\n",
    "  \n",
    "    # Pick all coins one by one and update the table[] values \n",
    "    # after the index greater than or equal to the value of the \n",
    "    # picked coin \n",
    "    for i in range(0,m): \n",
    "        for j in range(S[i],n+1): \n",
    "            table[j] += table[j-S[i]] \n",
    "  \n",
    "    return table[n] "
   ]
  },
  {
   "cell_type": "code",
   "execution_count": 34,
   "metadata": {},
   "outputs": [
    {
     "name": "stdout",
     "output_type": "stream",
     "text": [
      "4\n"
     ]
    }
   ],
   "source": [
    "# Driver program to test above function \n",
    "arr = [1, 2, 3] \n",
    "m = len(arr) \n",
    "n = 4\n",
    "x = count(arr, m, n) \n",
    "print (x) "
   ]
  },
  {
   "cell_type": "code",
   "execution_count": 35,
   "metadata": {},
   "outputs": [
    {
     "name": "stdout",
     "output_type": "stream",
     "text": [
      "35502874\n"
     ]
    }
   ],
   "source": [
    "# Driver program to test above function \n",
    "arr = [3,5,7,8,9,10,11]\n",
    "m = len(arr) \n",
    "n = 500\n",
    "x = count(arr, m, n) \n",
    "print (x) "
   ]
  },
  {
   "cell_type": "code",
   "execution_count": null,
   "metadata": {},
   "outputs": [],
   "source": [
    "# print(change([3,5,7,8,9,10,11], 500))"
   ]
  },
  {
   "cell_type": "code",
   "execution_count": null,
   "metadata": {},
   "outputs": [],
   "source": []
  },
  {
   "cell_type": "code",
   "execution_count": 37,
   "metadata": {},
   "outputs": [],
   "source": [
    "class Solution:\n",
    "#     def change(self, amount: int, coins: List[int]) -> int:\n",
    "    def change(self, amount, coins):\n",
    "        \n",
    "        def count(S, m, n): \n",
    "            table = [0 for k in range(n+1)] \n",
    "            table[0] = 1\n",
    "\n",
    "            for i in range(0,m): \n",
    "                for j in range(S[i],n+1): \n",
    "                    table[j] += table[j-S[i]] \n",
    "\n",
    "            return table[n] \n",
    "\n",
    "        # Driver program to test above function \n",
    "        m = len(coins) \n",
    "        x = count(coins, m, amount) \n",
    "        return x\n",
    "        "
   ]
  },
  {
   "cell_type": "code",
   "execution_count": 5,
   "metadata": {},
   "outputs": [],
   "source": [
    "# class Solution:\n",
    "#     def coinChange(self, coins: List[int], amount: int) -> int:\n",
    "#         dp = [float('inf')] * (amount + 1)\n",
    "#         dp[0] = 0\n",
    "        \n",
    "#         for coin in coins:\n",
    "#             for x in range(coin, amount + 1):\n",
    "#                 dp[x] = min(dp[x], dp[x - coin] + 1)\n",
    "#         return dp[amount] if dp[amount] != float('inf') else -1 "
   ]
  },
  {
   "cell_type": "code",
   "execution_count": null,
   "metadata": {},
   "outputs": [],
   "source": []
  },
  {
   "cell_type": "code",
   "execution_count": null,
   "metadata": {},
   "outputs": [],
   "source": []
  },
  {
   "cell_type": "code",
   "execution_count": 38,
   "metadata": {},
   "outputs": [],
   "source": [
    "def test(a,b):\n",
    "    if a>b:\n",
    "        return\n",
    "    c = a+b\n",
    "    print(c)\n"
   ]
  },
  {
   "cell_type": "code",
   "execution_count": 40,
   "metadata": {},
   "outputs": [],
   "source": [
    "test(5,4)"
   ]
  },
  {
   "cell_type": "code",
   "execution_count": null,
   "metadata": {},
   "outputs": [],
   "source": []
  },
  {
   "cell_type": "code",
   "execution_count": null,
   "metadata": {},
   "outputs": [],
   "source": []
  }
 ],
 "metadata": {
  "kernelspec": {
   "display_name": "Python 3",
   "language": "python",
   "name": "python3"
  },
  "language_info": {
   "codemirror_mode": {
    "name": "ipython",
    "version": 3
   },
   "file_extension": ".py",
   "mimetype": "text/x-python",
   "name": "python",
   "nbconvert_exporter": "python",
   "pygments_lexer": "ipython3",
   "version": "3.7.5"
  }
 },
 "nbformat": 4,
 "nbformat_minor": 4
}
